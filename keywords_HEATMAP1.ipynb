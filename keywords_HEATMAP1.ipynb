{
 "cells": [
  {
   "cell_type": "code",
   "execution_count": 56,
   "metadata": {},
   "outputs": [],
   "source": [
    "import pandas as pd\n",
    "import numpy as np\n",
    "import nltk\n",
    "import seaborn as sns\n",
    "#from spellchecker import SpellChecker\n",
    "#import matplotlib.pyplot as plt\n",
    "from collections import Counter #uso para n-gramas\n",
    "#from wordcloud import WordCloud\n",
    "import re # talvez regex vai ajudar na normalizaçao"
   ]
  },
  {
   "cell_type": "markdown",
   "metadata": {},
   "source": [
    "Aqui pretendo verificar a frequência das palavras (devo retirar stopwords) para fazer um heatmap.\n",
    "Desafio extra: subir o texto de insumo, fazer o mesmo pré-processamento e exibir somente heywords que não aparecem no texto de insumo."
   ]
  },
  {
   "cell_type": "code",
   "execution_count": 57,
   "metadata": {},
   "outputs": [],
   "source": [
    "csv_file_path = 'corpus_completo.csv'\n",
    "\n",
    "# Lendo o csv como um df\n",
    "df = pd.read_csv(csv_file_path)\n",
    "\n",
    "#Criando uma cópia\n",
    "df_va = df.copy()"
   ]
  },
  {
   "cell_type": "code",
   "execution_count": 58,
   "metadata": {},
   "outputs": [
    {
     "data": {
      "text/html": [
       "<div>\n",
       "<style scoped>\n",
       "    .dataframe tbody tr th:only-of-type {\n",
       "        vertical-align: middle;\n",
       "    }\n",
       "\n",
       "    .dataframe tbody tr th {\n",
       "        vertical-align: top;\n",
       "    }\n",
       "\n",
       "    .dataframe thead th {\n",
       "        text-align: right;\n",
       "    }\n",
       "</style>\n",
       "<table border=\"1\" class=\"dataframe\">\n",
       "  <thead>\n",
       "    <tr style=\"text-align: right;\">\n",
       "      <th></th>\n",
       "      <th>file_name</th>\n",
       "      <th>content</th>\n",
       "    </tr>\n",
       "    <tr>\n",
       "      <th>nota</th>\n",
       "      <th></th>\n",
       "      <th></th>\n",
       "    </tr>\n",
       "  </thead>\n",
       "  <tbody>\n",
       "    <tr>\n",
       "      <th>0</th>\n",
       "      <td>25</td>\n",
       "      <td>25</td>\n",
       "    </tr>\n",
       "    <tr>\n",
       "      <th>1</th>\n",
       "      <td>211</td>\n",
       "      <td>211</td>\n",
       "    </tr>\n",
       "    <tr>\n",
       "      <th>2</th>\n",
       "      <td>628</td>\n",
       "      <td>628</td>\n",
       "    </tr>\n",
       "    <tr>\n",
       "      <th>3</th>\n",
       "      <td>715</td>\n",
       "      <td>715</td>\n",
       "    </tr>\n",
       "    <tr>\n",
       "      <th>4</th>\n",
       "      <td>477</td>\n",
       "      <td>477</td>\n",
       "    </tr>\n",
       "    <tr>\n",
       "      <th>5</th>\n",
       "      <td>237</td>\n",
       "      <td>237</td>\n",
       "    </tr>\n",
       "  </tbody>\n",
       "</table>\n",
       "</div>"
      ],
      "text/plain": [
       "      file_name  content\n",
       "nota                    \n",
       "0            25       25\n",
       "1           211      211\n",
       "2           628      628\n",
       "3           715      715\n",
       "4           477      477\n",
       "5           237      237"
      ]
     },
     "execution_count": 58,
     "metadata": {},
     "output_type": "execute_result"
    }
   ],
   "source": [
    "df_va.groupby('nota').count()"
   ]
  },
  {
   "cell_type": "code",
   "execution_count": 59,
   "metadata": {},
   "outputs": [
    {
     "name": "stderr",
     "output_type": "stream",
     "text": [
      "[nltk_data] Downloading package stopwords to\n",
      "[nltk_data]     C:\\Users\\Administrator\\AppData\\Roaming\\nltk_data...\n",
      "[nltk_data]   Package stopwords is already up-to-date!\n",
      "[nltk_data] Downloading package punkt to\n",
      "[nltk_data]     C:\\Users\\Administrator\\AppData\\Roaming\\nltk_data...\n",
      "[nltk_data]   Package punkt is already up-to-date!\n",
      "[nltk_data] Downloading package punkt_tab to\n",
      "[nltk_data]     C:\\Users\\Administrator\\AppData\\Roaming\\nltk_data...\n",
      "[nltk_data]   Package punkt_tab is already up-to-date!\n"
     ]
    },
    {
     "data": {
      "text/plain": [
       "True"
      ]
     },
     "execution_count": 59,
     "metadata": {},
     "output_type": "execute_result"
    }
   ],
   "source": [
    "nltk.download('stopwords')\n",
    "nltk.download('punkt') # é um tokenizador, importante para nltk.word_tokenize\n",
    "# nltk.download('rslp') é um stemmer. acho q nao vou usar\n",
    "nltk.download('punkt_tab') # Precisei que devia fazer download desse pacote pq o punkt nao tava funcionando"
   ]
  },
  {
   "cell_type": "code",
   "execution_count": 60,
   "metadata": {},
   "outputs": [],
   "source": [
    "# Pré-processamento\n",
    "\n",
    "# Devo tirar acentos?? Ex: Belém\n",
    "# Retirar números? Na duvida, retirei.\n",
    "# Não fiz stemming visto que poderia perder erros ortográficos\n",
    "\n",
    "#Retirada de sinais gráficos, pontuações e espaços\n",
    "def clean_cp(text):\n",
    "    cleaned = text.lower() #Deixando tudo minúsculo\n",
    "    cleaned = re.sub('[^\\w\\s]', '', cleaned) # Removendo pontuacao\n",
    "    #cleaned = re.sub('[0-9]+', '', cleaned) # Removendo números \n",
    "    cleaned = re.sub('\\d+', '', cleaned) # Removendo números NÃO TÁ FUNCIONANDO AAAAAAAAAAAAAAAAA Começou a funcionar qdo pus o lower como primeiro comando da funçao\n",
    "    cleaned = re.sub('\\s+', ' ', cleaned) # Removendo espaços extras\n",
    "    cleaned = re.sub('\\s+', ' ', cleaned)\n",
    "    return cleaned.strip() # Removendo tabs\n",
    "\n",
    "#Retirada de stopwords.. Essa parte deve ser importante na hora de ver as palavras mais frequentes (heatmap)\n",
    "#def stopwords_cp(text):\n",
    "  #  stopwords = nltk.corpus.stopwords.words('portuguese')\n",
    "   # tokenized = nltk.word_tokenize(text, language='portuguese')\n",
    "   # sem_stopwords = [token for token in tokenized if token not in stopwords]\n",
    "   # return ' '.join(sem_stopwords)\n",
    "\n",
    "df_va['content'] = df_va['content'].apply(clean_cp)\n",
    "#df_va['content'] = df_va['content'].apply(stopwords_cp)"
   ]
  },
  {
   "cell_type": "code",
   "execution_count": 61,
   "metadata": {},
   "outputs": [
    {
     "data": {
      "text/plain": [
       "554     de bibiana cambará morador de belém para prefe...\n",
       "1722    belém de outubro de de bibiana cambará morador...\n",
       "24      terçafeira de outubro de bibiana cambará aveni...\n",
       "626     data de bibiana cambará para prefeitura onde e...\n",
       "663     o senhor prefeito eu como morador de belem e e...\n",
       "Name: content, dtype: object"
      ]
     },
     "execution_count": 61,
     "metadata": {},
     "output_type": "execute_result"
    }
   ],
   "source": [
    "df_va['content'].sample(5)"
   ]
  },
  {
   "cell_type": "code",
   "execution_count": 62,
   "metadata": {},
   "outputs": [],
   "source": [
    "# Tokenizando e retirando stopwords: importante para ver a frequencia das palavras\n",
    "\n",
    "def tokenized_cp(text):\n",
    "   stopwords = nltk.corpus.stopwords.words('portuguese') # Carregando as stopwords do português\n",
    "   tokenized = nltk.word_tokenize(text, language='portuguese') #Transforma o texto em tokens\n",
    "   text_sem_stopwords = [token for token in tokenized if token not in stopwords] # Deixando somente o que nao é stopword no texto\n",
    "   return text_sem_stopwords\n",
    "\n",
    "df_va['tokenized_content'] = df_va['content'].apply(tokenized_cp)"
   ]
  },
  {
   "cell_type": "code",
   "execution_count": 63,
   "metadata": {},
   "outputs": [
    {
     "data": {
      "text/plain": [
       "1373    [carta, aberta, prefeitura, municipal, existe,...\n",
       "1627    [belém, outubro, senhores, prefeitura, municip...\n",
       "1885    [prefeitura, municipal, prezados, senhores, go...\n",
       "2058    [belém, outubro, prefeitura, municipal, nesta,...\n",
       "2040    [belém, outubro, prezado, prefeito, belém, par...\n",
       "Name: tokenized_content, dtype: object"
      ]
     },
     "execution_count": 63,
     "metadata": {},
     "output_type": "execute_result"
    }
   ],
   "source": [
    "df_va['tokenized_content'].sample(5)"
   ]
  },
  {
   "cell_type": "code",
   "execution_count": 64,
   "metadata": {},
   "outputs": [
    {
     "data": {
      "text/plain": [
       "file_name            object\n",
       "content              object\n",
       "nota                  int64\n",
       "tokenized_content    object\n",
       "dtype: object"
      ]
     },
     "execution_count": 64,
     "metadata": {},
     "output_type": "execute_result"
    }
   ],
   "source": [
    "df_va.dtypes"
   ]
  },
  {
   "cell_type": "code",
   "execution_count": 21,
   "metadata": {},
   "outputs": [],
   "source": [
    "# Contando o número de tokens SEM STOPWORDS (diferente do typestokenttr.ipynb) para cada texto: usarei isso para o gráfico 2, que demonstra o número mínimo e número máximo de tokens\n",
    "\n",
    "# Contando tokens sem considerar a nota\n",
    "df_va['num_tokens'] = df_va['tokenized_content'].apply(len)\n",
    "\n",
    "# Agrupando de acordo com cada nota\n",
    "qtde_tokens_nota = df_va.groupby('nota')['num_tokens'].sum()"
   ]
  },
  {
   "cell_type": "code",
   "execution_count": 22,
   "metadata": {},
   "outputs": [
    {
     "data": {
      "text/html": [
       "<div>\n",
       "<style scoped>\n",
       "    .dataframe tbody tr th:only-of-type {\n",
       "        vertical-align: middle;\n",
       "    }\n",
       "\n",
       "    .dataframe tbody tr th {\n",
       "        vertical-align: top;\n",
       "    }\n",
       "\n",
       "    .dataframe thead th {\n",
       "        text-align: right;\n",
       "    }\n",
       "</style>\n",
       "<table border=\"1\" class=\"dataframe\">\n",
       "  <thead>\n",
       "    <tr style=\"text-align: right;\">\n",
       "      <th></th>\n",
       "      <th>file_name</th>\n",
       "      <th>content</th>\n",
       "      <th>nota</th>\n",
       "      <th>tokenized_content</th>\n",
       "      <th>num_tokens</th>\n",
       "    </tr>\n",
       "  </thead>\n",
       "  <tbody>\n",
       "    <tr>\n",
       "      <th>2288</th>\n",
       "      <td>20152t4p936n5r.docx</td>\n",
       "      <td>belem de outubro de senhores prefeitura munici...</td>\n",
       "      <td>5</td>\n",
       "      <td>[belem, outubro, senhores, prefeitura, municip...</td>\n",
       "      <td>100</td>\n",
       "    </tr>\n",
       "    <tr>\n",
       "      <th>2289</th>\n",
       "      <td>20152t4p93r.docx</td>\n",
       "      <td>pará de outubro de ao senhor prefeito municipa...</td>\n",
       "      <td>5</td>\n",
       "      <td>[pará, outubro, senhor, prefeito, municipal, p...</td>\n",
       "      <td>107</td>\n",
       "    </tr>\n",
       "    <tr>\n",
       "      <th>2290</th>\n",
       "      <td>20152t4p953n5r.docx</td>\n",
       "      <td>pilas de outubro de prefeitura municipal de be...</td>\n",
       "      <td>5</td>\n",
       "      <td>[pilas, outubro, prefeitura, municipal, belém,...</td>\n",
       "      <td>94</td>\n",
       "    </tr>\n",
       "    <tr>\n",
       "      <th>2291</th>\n",
       "      <td>20152t4p96r.docx</td>\n",
       "      <td>para a prefeitura municipal de um morador de b...</td>\n",
       "      <td>5</td>\n",
       "      <td>[prefeitura, municipal, morador, belém, senhor...</td>\n",
       "      <td>99</td>\n",
       "    </tr>\n",
       "    <tr>\n",
       "      <th>2292</th>\n",
       "      <td>20152t4p997n5r.docx</td>\n",
       "      <td>cidade do belém dia de outubro de exelentíssim...</td>\n",
       "      <td>5</td>\n",
       "      <td>[cidade, belém, dia, outubro, exelentíssima, p...</td>\n",
       "      <td>145</td>\n",
       "    </tr>\n",
       "  </tbody>\n",
       "</table>\n",
       "</div>"
      ],
      "text/plain": [
       "                file_name                                            content  \\\n",
       "2288  20152t4p936n5r.docx  belem de outubro de senhores prefeitura munici...   \n",
       "2289     20152t4p93r.docx  pará de outubro de ao senhor prefeito municipa...   \n",
       "2290  20152t4p953n5r.docx  pilas de outubro de prefeitura municipal de be...   \n",
       "2291     20152t4p96r.docx  para a prefeitura municipal de um morador de b...   \n",
       "2292  20152t4p997n5r.docx  cidade do belém dia de outubro de exelentíssim...   \n",
       "\n",
       "      nota                                  tokenized_content  num_tokens  \n",
       "2288     5  [belem, outubro, senhores, prefeitura, municip...         100  \n",
       "2289     5  [pará, outubro, senhor, prefeito, municipal, p...         107  \n",
       "2290     5  [pilas, outubro, prefeitura, municipal, belém,...          94  \n",
       "2291     5  [prefeitura, municipal, morador, belém, senhor...          99  \n",
       "2292     5  [cidade, belém, dia, outubro, exelentíssima, p...         145  "
      ]
     },
     "execution_count": 22,
     "metadata": {},
     "output_type": "execute_result"
    }
   ],
   "source": [
    "df_va.tail()"
   ]
  },
  {
   "cell_type": "code",
   "execution_count": 23,
   "metadata": {},
   "outputs": [
    {
     "data": {
      "text/html": [
       "<div>\n",
       "<style scoped>\n",
       "    .dataframe tbody tr th:only-of-type {\n",
       "        vertical-align: middle;\n",
       "    }\n",
       "\n",
       "    .dataframe tbody tr th {\n",
       "        vertical-align: top;\n",
       "    }\n",
       "\n",
       "    .dataframe thead th {\n",
       "        text-align: right;\n",
       "    }\n",
       "</style>\n",
       "<table border=\"1\" class=\"dataframe\">\n",
       "  <thead>\n",
       "    <tr style=\"text-align: right;\">\n",
       "      <th></th>\n",
       "      <th>nota</th>\n",
       "      <th>token</th>\n",
       "      <th>token_frequency</th>\n",
       "    </tr>\n",
       "  </thead>\n",
       "  <tbody>\n",
       "    <tr>\n",
       "      <th>44443</th>\n",
       "      <td>3</td>\n",
       "      <td>azulejos</td>\n",
       "      <td>2531.0</td>\n",
       "    </tr>\n",
       "    <tr>\n",
       "      <th>29648</th>\n",
       "      <td>2</td>\n",
       "      <td>azulejos</td>\n",
       "      <td>2173.0</td>\n",
       "    </tr>\n",
       "    <tr>\n",
       "      <th>44465</th>\n",
       "      <td>3</td>\n",
       "      <td>cidade</td>\n",
       "      <td>1838.0</td>\n",
       "    </tr>\n",
       "    <tr>\n",
       "      <th>59238</th>\n",
       "      <td>4</td>\n",
       "      <td>azulejos</td>\n",
       "      <td>1810.0</td>\n",
       "    </tr>\n",
       "    <tr>\n",
       "      <th>29670</th>\n",
       "      <td>2</td>\n",
       "      <td>cidade</td>\n",
       "      <td>1383.0</td>\n",
       "    </tr>\n",
       "    <tr>\n",
       "      <th>...</th>\n",
       "      <td>...</td>\n",
       "      <td>...</td>\n",
       "      <td>...</td>\n",
       "    </tr>\n",
       "    <tr>\n",
       "      <th>87640</th>\n",
       "      <td>5</td>\n",
       "      <td>vendeuse</td>\n",
       "      <td>NaN</td>\n",
       "    </tr>\n",
       "    <tr>\n",
       "      <th>87642</th>\n",
       "      <td>5</td>\n",
       "      <td>comunico</td>\n",
       "      <td>NaN</td>\n",
       "    </tr>\n",
       "    <tr>\n",
       "      <th>87644</th>\n",
       "      <td>5</td>\n",
       "      <td>roubáos</td>\n",
       "      <td>NaN</td>\n",
       "    </tr>\n",
       "    <tr>\n",
       "      <th>87645</th>\n",
       "      <td>5</td>\n",
       "      <td>impeder</td>\n",
       "      <td>NaN</td>\n",
       "    </tr>\n",
       "    <tr>\n",
       "      <th>87646</th>\n",
       "      <td>5</td>\n",
       "      <td>tumbada</td>\n",
       "      <td>NaN</td>\n",
       "    </tr>\n",
       "  </tbody>\n",
       "</table>\n",
       "<p>88770 rows × 3 columns</p>\n",
       "</div>"
      ],
      "text/plain": [
       "       nota     token  token_frequency\n",
       "44443     3  azulejos           2531.0\n",
       "29648     2  azulejos           2173.0\n",
       "44465     3    cidade           1838.0\n",
       "59238     4  azulejos           1810.0\n",
       "29670     2    cidade           1383.0\n",
       "...     ...       ...              ...\n",
       "87640     5  vendeuse              NaN\n",
       "87642     5  comunico              NaN\n",
       "87644     5   roubáos              NaN\n",
       "87645     5   impeder              NaN\n",
       "87646     5   tumbada              NaN\n",
       "\n",
       "[88770 rows x 3 columns]"
      ]
     },
     "execution_count": 23,
     "metadata": {},
     "output_type": "execute_result"
    }
   ],
   "source": [
    "# Agrupando a contagem de tokens de acordo com cada nota MANTER\n",
    "nota_token_counts = (\n",
    "    df_va.groupby('nota')['tokenized_content']\n",
    "    .apply(lambda texts: Counter([token for text in texts for token in text]))\n",
    ")\n",
    "\n",
    "# Convertendo cada token e contagem em um dataframe\n",
    "df_frequency = nota_token_counts.reset_index()\n",
    "df_frequency.columns = ['nota', 'token', 'token_frequency']\n",
    "sorted_tokens = df_frequency.sort_values('token_frequency', ascending=False)\n",
    "sorted_tokens"
   ]
  },
  {
   "cell_type": "code",
   "execution_count": 24,
   "metadata": {},
   "outputs": [],
   "source": [
    "df_words = pd.DataFrame()"
   ]
  },
  {
   "cell_type": "code",
   "execution_count": 70,
   "metadata": {},
   "outputs": [],
   "source": [
    "# Agrupando a contagem de tokens por nota de forma a mostrar os 15 mais comuns para cada nota ( 15 * 6 = 90 linhas portanto )\n",
    "top_tokens_per_grade = (\n",
    "    sorted_tokens.groupby('nota')\n",
    "    .head(100)  # Assim mostra os 1000 tokens mais comuns. Já vai ficar péssimo na visualização entao mantenho esse head e insiro outro abaixo.\n",
    "    .reset_index(drop=True)\n",
    ")\n",
    "df_words = top_tokens_per_grade"
   ]
  },
  {
   "cell_type": "code",
   "execution_count": 71,
   "metadata": {},
   "outputs": [
    {
     "data": {
      "text/html": [
       "<div>\n",
       "<style scoped>\n",
       "    .dataframe tbody tr th:only-of-type {\n",
       "        vertical-align: middle;\n",
       "    }\n",
       "\n",
       "    .dataframe tbody tr th {\n",
       "        vertical-align: top;\n",
       "    }\n",
       "\n",
       "    .dataframe thead th {\n",
       "        text-align: right;\n",
       "    }\n",
       "</style>\n",
       "<table border=\"1\" class=\"dataframe\">\n",
       "  <thead>\n",
       "    <tr style=\"text-align: right;\">\n",
       "      <th></th>\n",
       "      <th>nota</th>\n",
       "      <th>token</th>\n",
       "      <th>token_frequency</th>\n",
       "    </tr>\n",
       "  </thead>\n",
       "  <tbody>\n",
       "    <tr>\n",
       "      <th>0</th>\n",
       "      <td>3</td>\n",
       "      <td>azulejos</td>\n",
       "      <td>2531.0</td>\n",
       "    </tr>\n",
       "    <tr>\n",
       "      <th>1</th>\n",
       "      <td>2</td>\n",
       "      <td>azulejos</td>\n",
       "      <td>2173.0</td>\n",
       "    </tr>\n",
       "    <tr>\n",
       "      <th>2</th>\n",
       "      <td>3</td>\n",
       "      <td>cidade</td>\n",
       "      <td>1838.0</td>\n",
       "    </tr>\n",
       "    <tr>\n",
       "      <th>3</th>\n",
       "      <td>4</td>\n",
       "      <td>azulejos</td>\n",
       "      <td>1810.0</td>\n",
       "    </tr>\n",
       "    <tr>\n",
       "      <th>4</th>\n",
       "      <td>2</td>\n",
       "      <td>cidade</td>\n",
       "      <td>1383.0</td>\n",
       "    </tr>\n",
       "    <tr>\n",
       "      <th>...</th>\n",
       "      <td>...</td>\n",
       "      <td>...</td>\n",
       "      <td>...</td>\n",
       "    </tr>\n",
       "    <tr>\n",
       "      <th>595</th>\n",
       "      <td>0</td>\n",
       "      <td>fevereiro</td>\n",
       "      <td>3.0</td>\n",
       "    </tr>\n",
       "    <tr>\n",
       "      <th>596</th>\n",
       "      <td>0</td>\n",
       "      <td>deste</td>\n",
       "      <td>3.0</td>\n",
       "    </tr>\n",
       "    <tr>\n",
       "      <th>597</th>\n",
       "      <td>0</td>\n",
       "      <td>cá</td>\n",
       "      <td>3.0</td>\n",
       "    </tr>\n",
       "    <tr>\n",
       "      <th>598</th>\n",
       "      <td>0</td>\n",
       "      <td>enterior</td>\n",
       "      <td>3.0</td>\n",
       "    </tr>\n",
       "    <tr>\n",
       "      <th>599</th>\n",
       "      <td>0</td>\n",
       "      <td>encaminhada</td>\n",
       "      <td>3.0</td>\n",
       "    </tr>\n",
       "  </tbody>\n",
       "</table>\n",
       "<p>600 rows × 3 columns</p>\n",
       "</div>"
      ],
      "text/plain": [
       "     nota        token  token_frequency\n",
       "0       3     azulejos           2531.0\n",
       "1       2     azulejos           2173.0\n",
       "2       3       cidade           1838.0\n",
       "3       4     azulejos           1810.0\n",
       "4       2       cidade           1383.0\n",
       "..    ...          ...              ...\n",
       "595     0    fevereiro              3.0\n",
       "596     0        deste              3.0\n",
       "597     0           cá              3.0\n",
       "598     0     enterior              3.0\n",
       "599     0  encaminhada              3.0\n",
       "\n",
       "[600 rows x 3 columns]"
      ]
     },
     "execution_count": 71,
     "metadata": {},
     "output_type": "execute_result"
    }
   ],
   "source": [
    "df_words"
   ]
  },
  {
   "cell_type": "code",
   "execution_count": 72,
   "metadata": {},
   "outputs": [
    {
     "data": {
      "text/html": [
       "<div>\n",
       "<style scoped>\n",
       "    .dataframe tbody tr th:only-of-type {\n",
       "        vertical-align: middle;\n",
       "    }\n",
       "\n",
       "    .dataframe tbody tr th {\n",
       "        vertical-align: top;\n",
       "    }\n",
       "\n",
       "    .dataframe thead th {\n",
       "        text-align: right;\n",
       "    }\n",
       "</style>\n",
       "<table border=\"1\" class=\"dataframe\">\n",
       "  <thead>\n",
       "    <tr style=\"text-align: right;\">\n",
       "      <th></th>\n",
       "      <th>nota</th>\n",
       "      <th>token</th>\n",
       "      <th>token_frequency</th>\n",
       "    </tr>\n",
       "  </thead>\n",
       "  <tbody>\n",
       "    <tr>\n",
       "      <th>453</th>\n",
       "      <td>0</td>\n",
       "      <td>azulejos</td>\n",
       "      <td>49.0</td>\n",
       "    </tr>\n",
       "    <tr>\n",
       "      <th>501</th>\n",
       "      <td>0</td>\n",
       "      <td>cidade</td>\n",
       "      <td>21.0</td>\n",
       "    </tr>\n",
       "    <tr>\n",
       "      <th>502</th>\n",
       "      <td>0</td>\n",
       "      <td>prefeitura</td>\n",
       "      <td>18.0</td>\n",
       "    </tr>\n",
       "    <tr>\n",
       "      <th>503</th>\n",
       "      <td>0</td>\n",
       "      <td>valiosos</td>\n",
       "      <td>13.0</td>\n",
       "    </tr>\n",
       "    <tr>\n",
       "      <th>504</th>\n",
       "      <td>0</td>\n",
       "      <td>casarões</td>\n",
       "      <td>13.0</td>\n",
       "    </tr>\n",
       "    <tr>\n",
       "      <th>...</th>\n",
       "      <td>...</td>\n",
       "      <td>...</td>\n",
       "      <td>...</td>\n",
       "    </tr>\n",
       "    <tr>\n",
       "      <th>464</th>\n",
       "      <td>5</td>\n",
       "      <td>deve</td>\n",
       "      <td>47.0</td>\n",
       "    </tr>\n",
       "    <tr>\n",
       "      <th>467</th>\n",
       "      <td>5</td>\n",
       "      <td>pois</td>\n",
       "      <td>46.0</td>\n",
       "    </tr>\n",
       "    <tr>\n",
       "      <th>468</th>\n",
       "      <td>5</td>\n",
       "      <td>tudo</td>\n",
       "      <td>46.0</td>\n",
       "    </tr>\n",
       "    <tr>\n",
       "      <th>469</th>\n",
       "      <td>5</td>\n",
       "      <td>pode</td>\n",
       "      <td>46.0</td>\n",
       "    </tr>\n",
       "    <tr>\n",
       "      <th>470</th>\n",
       "      <td>5</td>\n",
       "      <td>desta</td>\n",
       "      <td>46.0</td>\n",
       "    </tr>\n",
       "  </tbody>\n",
       "</table>\n",
       "<p>600 rows × 3 columns</p>\n",
       "</div>"
      ],
      "text/plain": [
       "     nota       token  token_frequency\n",
       "453     0    azulejos             49.0\n",
       "501     0      cidade             21.0\n",
       "502     0  prefeitura             18.0\n",
       "503     0    valiosos             13.0\n",
       "504     0    casarões             13.0\n",
       "..    ...         ...              ...\n",
       "464     5        deve             47.0\n",
       "467     5        pois             46.0\n",
       "468     5        tudo             46.0\n",
       "469     5        pode             46.0\n",
       "470     5       desta             46.0\n",
       "\n",
       "[600 rows x 3 columns]"
      ]
     },
     "execution_count": 72,
     "metadata": {},
     "output_type": "execute_result"
    }
   ],
   "source": [
    "df_words_sorted = (df_words.sort_values(by=['nota', 'token_frequency'], ascending=[True, False]))\n",
    "df_words_sorted"
   ]
  },
  {
   "cell_type": "code",
   "execution_count": 79,
   "metadata": {},
   "outputs": [
    {
     "data": {
      "application/vnd.plotly.v1+json": {
       "config": {
        "plotlyServerURL": "https://plot.ly"
       },
       "data": [
        {
         "colorscale": [
          [
           0,
           "rgb(255,245,240)"
          ],
          [
           0.125,
           "rgb(254,224,210)"
          ],
          [
           0.25,
           "rgb(252,187,161)"
          ],
          [
           0.375,
           "rgb(252,146,114)"
          ],
          [
           0.5,
           "rgb(251,106,74)"
          ],
          [
           0.625,
           "rgb(239,59,44)"
          ],
          [
           0.75,
           "rgb(203,24,29)"
          ],
          [
           0.875,
           "rgb(165,15,21)"
          ],
          [
           1,
           "rgb(103,0,13)"
          ]
         ],
         "hoverongaps": false,
         "hovertemplate": "Token: %{y}<br>Nota: %{x}<br>Frequência: %{z}<extra></extra>",
         "type": "heatmap",
         "x": [
          0,
          1,
          2,
          3,
          4,
          5
         ],
         "y": [
          "aberta",
          "acho",
          "agora",
          "agravado",
          "ainda",
          "alvo",
          "ano",
          "anos",
          "arquiteta",
          "artístico",
          "assim",
          "assunto",
          "atenciosamente",
          "atenção",
          "augusto",
          "autoridades",
          "azulejo",
          "azulejos",
          "belem",
          "belém"
         ],
         "z": [
          [
           0,
           0,
           0,
           0,
           97,
           57
          ],
          [
           4,
           0,
           0,
           0,
           0,
           0
          ],
          [
           0,
           46,
           160,
           149,
           111,
           0
          ],
          [
           4,
           44,
           112,
           0,
           0,
           0
          ],
          [
           0,
           55,
           188,
           237,
           156,
           99
          ],
          [
           0,
           78,
           289,
           339,
           237,
           103
          ],
          [
           8,
           86,
           256,
           278,
           207,
           96
          ],
          [
           0,
           0,
           0,
           0,
           0,
           58
          ],
          [
           4,
           0,
           0,
           0,
           0,
           0
          ],
          [
           0,
           51,
           126,
           166,
           129,
           79
          ],
          [
           0,
           0,
           0,
           157,
           91,
           65
          ],
          [
           3,
           40,
           126,
           143,
           98,
           59
          ],
          [
           0,
           60,
           205,
           276,
           201,
           115
          ],
          [
           0,
           47,
           129,
           192,
           117,
           55
          ],
          [
           3,
           0,
           0,
           0,
           0,
           0
          ],
          [
           0,
           0,
           0,
           0,
           0,
           60
          ],
          [
           4,
           0,
           0,
           0,
           0,
           0
          ],
          [
           49,
           739,
           2173,
           2531,
           1810,
           830
          ],
          [
           8,
           41,
           232,
           246,
           123,
           0
          ],
          [
           8,
           249,
           937,
           1297,
           1009,
           562
          ]
         ]
        }
       ],
       "layout": {
        "font": {
         "color": "white"
        },
        "paper_bgcolor": "rgba(0, 0, 0, 0)",
        "plot_bgcolor": "rgba(0, 0, 0, 0)",
        "template": {
         "data": {
          "bar": [
           {
            "error_x": {
             "color": "#2a3f5f"
            },
            "error_y": {
             "color": "#2a3f5f"
            },
            "marker": {
             "line": {
              "color": "white",
              "width": 0.5
             },
             "pattern": {
              "fillmode": "overlay",
              "size": 10,
              "solidity": 0.2
             }
            },
            "type": "bar"
           }
          ],
          "barpolar": [
           {
            "marker": {
             "line": {
              "color": "white",
              "width": 0.5
             },
             "pattern": {
              "fillmode": "overlay",
              "size": 10,
              "solidity": 0.2
             }
            },
            "type": "barpolar"
           }
          ],
          "carpet": [
           {
            "aaxis": {
             "endlinecolor": "#2a3f5f",
             "gridcolor": "#C8D4E3",
             "linecolor": "#C8D4E3",
             "minorgridcolor": "#C8D4E3",
             "startlinecolor": "#2a3f5f"
            },
            "baxis": {
             "endlinecolor": "#2a3f5f",
             "gridcolor": "#C8D4E3",
             "linecolor": "#C8D4E3",
             "minorgridcolor": "#C8D4E3",
             "startlinecolor": "#2a3f5f"
            },
            "type": "carpet"
           }
          ],
          "choropleth": [
           {
            "colorbar": {
             "outlinewidth": 0,
             "ticks": ""
            },
            "type": "choropleth"
           }
          ],
          "contour": [
           {
            "colorbar": {
             "outlinewidth": 0,
             "ticks": ""
            },
            "colorscale": [
             [
              0,
              "#0d0887"
             ],
             [
              0.1111111111111111,
              "#46039f"
             ],
             [
              0.2222222222222222,
              "#7201a8"
             ],
             [
              0.3333333333333333,
              "#9c179e"
             ],
             [
              0.4444444444444444,
              "#bd3786"
             ],
             [
              0.5555555555555556,
              "#d8576b"
             ],
             [
              0.6666666666666666,
              "#ed7953"
             ],
             [
              0.7777777777777778,
              "#fb9f3a"
             ],
             [
              0.8888888888888888,
              "#fdca26"
             ],
             [
              1,
              "#f0f921"
             ]
            ],
            "type": "contour"
           }
          ],
          "contourcarpet": [
           {
            "colorbar": {
             "outlinewidth": 0,
             "ticks": ""
            },
            "type": "contourcarpet"
           }
          ],
          "heatmap": [
           {
            "colorbar": {
             "outlinewidth": 0,
             "ticks": ""
            },
            "colorscale": [
             [
              0,
              "#0d0887"
             ],
             [
              0.1111111111111111,
              "#46039f"
             ],
             [
              0.2222222222222222,
              "#7201a8"
             ],
             [
              0.3333333333333333,
              "#9c179e"
             ],
             [
              0.4444444444444444,
              "#bd3786"
             ],
             [
              0.5555555555555556,
              "#d8576b"
             ],
             [
              0.6666666666666666,
              "#ed7953"
             ],
             [
              0.7777777777777778,
              "#fb9f3a"
             ],
             [
              0.8888888888888888,
              "#fdca26"
             ],
             [
              1,
              "#f0f921"
             ]
            ],
            "type": "heatmap"
           }
          ],
          "heatmapgl": [
           {
            "colorbar": {
             "outlinewidth": 0,
             "ticks": ""
            },
            "colorscale": [
             [
              0,
              "#0d0887"
             ],
             [
              0.1111111111111111,
              "#46039f"
             ],
             [
              0.2222222222222222,
              "#7201a8"
             ],
             [
              0.3333333333333333,
              "#9c179e"
             ],
             [
              0.4444444444444444,
              "#bd3786"
             ],
             [
              0.5555555555555556,
              "#d8576b"
             ],
             [
              0.6666666666666666,
              "#ed7953"
             ],
             [
              0.7777777777777778,
              "#fb9f3a"
             ],
             [
              0.8888888888888888,
              "#fdca26"
             ],
             [
              1,
              "#f0f921"
             ]
            ],
            "type": "heatmapgl"
           }
          ],
          "histogram": [
           {
            "marker": {
             "pattern": {
              "fillmode": "overlay",
              "size": 10,
              "solidity": 0.2
             }
            },
            "type": "histogram"
           }
          ],
          "histogram2d": [
           {
            "colorbar": {
             "outlinewidth": 0,
             "ticks": ""
            },
            "colorscale": [
             [
              0,
              "#0d0887"
             ],
             [
              0.1111111111111111,
              "#46039f"
             ],
             [
              0.2222222222222222,
              "#7201a8"
             ],
             [
              0.3333333333333333,
              "#9c179e"
             ],
             [
              0.4444444444444444,
              "#bd3786"
             ],
             [
              0.5555555555555556,
              "#d8576b"
             ],
             [
              0.6666666666666666,
              "#ed7953"
             ],
             [
              0.7777777777777778,
              "#fb9f3a"
             ],
             [
              0.8888888888888888,
              "#fdca26"
             ],
             [
              1,
              "#f0f921"
             ]
            ],
            "type": "histogram2d"
           }
          ],
          "histogram2dcontour": [
           {
            "colorbar": {
             "outlinewidth": 0,
             "ticks": ""
            },
            "colorscale": [
             [
              0,
              "#0d0887"
             ],
             [
              0.1111111111111111,
              "#46039f"
             ],
             [
              0.2222222222222222,
              "#7201a8"
             ],
             [
              0.3333333333333333,
              "#9c179e"
             ],
             [
              0.4444444444444444,
              "#bd3786"
             ],
             [
              0.5555555555555556,
              "#d8576b"
             ],
             [
              0.6666666666666666,
              "#ed7953"
             ],
             [
              0.7777777777777778,
              "#fb9f3a"
             ],
             [
              0.8888888888888888,
              "#fdca26"
             ],
             [
              1,
              "#f0f921"
             ]
            ],
            "type": "histogram2dcontour"
           }
          ],
          "mesh3d": [
           {
            "colorbar": {
             "outlinewidth": 0,
             "ticks": ""
            },
            "type": "mesh3d"
           }
          ],
          "parcoords": [
           {
            "line": {
             "colorbar": {
              "outlinewidth": 0,
              "ticks": ""
             }
            },
            "type": "parcoords"
           }
          ],
          "pie": [
           {
            "automargin": true,
            "type": "pie"
           }
          ],
          "scatter": [
           {
            "fillpattern": {
             "fillmode": "overlay",
             "size": 10,
             "solidity": 0.2
            },
            "type": "scatter"
           }
          ],
          "scatter3d": [
           {
            "line": {
             "colorbar": {
              "outlinewidth": 0,
              "ticks": ""
             }
            },
            "marker": {
             "colorbar": {
              "outlinewidth": 0,
              "ticks": ""
             }
            },
            "type": "scatter3d"
           }
          ],
          "scattercarpet": [
           {
            "marker": {
             "colorbar": {
              "outlinewidth": 0,
              "ticks": ""
             }
            },
            "type": "scattercarpet"
           }
          ],
          "scattergeo": [
           {
            "marker": {
             "colorbar": {
              "outlinewidth": 0,
              "ticks": ""
             }
            },
            "type": "scattergeo"
           }
          ],
          "scattergl": [
           {
            "marker": {
             "colorbar": {
              "outlinewidth": 0,
              "ticks": ""
             }
            },
            "type": "scattergl"
           }
          ],
          "scattermapbox": [
           {
            "marker": {
             "colorbar": {
              "outlinewidth": 0,
              "ticks": ""
             }
            },
            "type": "scattermapbox"
           }
          ],
          "scatterpolar": [
           {
            "marker": {
             "colorbar": {
              "outlinewidth": 0,
              "ticks": ""
             }
            },
            "type": "scatterpolar"
           }
          ],
          "scatterpolargl": [
           {
            "marker": {
             "colorbar": {
              "outlinewidth": 0,
              "ticks": ""
             }
            },
            "type": "scatterpolargl"
           }
          ],
          "scatterternary": [
           {
            "marker": {
             "colorbar": {
              "outlinewidth": 0,
              "ticks": ""
             }
            },
            "type": "scatterternary"
           }
          ],
          "surface": [
           {
            "colorbar": {
             "outlinewidth": 0,
             "ticks": ""
            },
            "colorscale": [
             [
              0,
              "#0d0887"
             ],
             [
              0.1111111111111111,
              "#46039f"
             ],
             [
              0.2222222222222222,
              "#7201a8"
             ],
             [
              0.3333333333333333,
              "#9c179e"
             ],
             [
              0.4444444444444444,
              "#bd3786"
             ],
             [
              0.5555555555555556,
              "#d8576b"
             ],
             [
              0.6666666666666666,
              "#ed7953"
             ],
             [
              0.7777777777777778,
              "#fb9f3a"
             ],
             [
              0.8888888888888888,
              "#fdca26"
             ],
             [
              1,
              "#f0f921"
             ]
            ],
            "type": "surface"
           }
          ],
          "table": [
           {
            "cells": {
             "fill": {
              "color": "#EBF0F8"
             },
             "line": {
              "color": "white"
             }
            },
            "header": {
             "fill": {
              "color": "#C8D4E3"
             },
             "line": {
              "color": "white"
             }
            },
            "type": "table"
           }
          ]
         },
         "layout": {
          "annotationdefaults": {
           "arrowcolor": "#2a3f5f",
           "arrowhead": 0,
           "arrowwidth": 1
          },
          "autotypenumbers": "strict",
          "coloraxis": {
           "colorbar": {
            "outlinewidth": 0,
            "ticks": ""
           }
          },
          "colorscale": {
           "diverging": [
            [
             0,
             "#8e0152"
            ],
            [
             0.1,
             "#c51b7d"
            ],
            [
             0.2,
             "#de77ae"
            ],
            [
             0.3,
             "#f1b6da"
            ],
            [
             0.4,
             "#fde0ef"
            ],
            [
             0.5,
             "#f7f7f7"
            ],
            [
             0.6,
             "#e6f5d0"
            ],
            [
             0.7,
             "#b8e186"
            ],
            [
             0.8,
             "#7fbc41"
            ],
            [
             0.9,
             "#4d9221"
            ],
            [
             1,
             "#276419"
            ]
           ],
           "sequential": [
            [
             0,
             "#0d0887"
            ],
            [
             0.1111111111111111,
             "#46039f"
            ],
            [
             0.2222222222222222,
             "#7201a8"
            ],
            [
             0.3333333333333333,
             "#9c179e"
            ],
            [
             0.4444444444444444,
             "#bd3786"
            ],
            [
             0.5555555555555556,
             "#d8576b"
            ],
            [
             0.6666666666666666,
             "#ed7953"
            ],
            [
             0.7777777777777778,
             "#fb9f3a"
            ],
            [
             0.8888888888888888,
             "#fdca26"
            ],
            [
             1,
             "#f0f921"
            ]
           ],
           "sequentialminus": [
            [
             0,
             "#0d0887"
            ],
            [
             0.1111111111111111,
             "#46039f"
            ],
            [
             0.2222222222222222,
             "#7201a8"
            ],
            [
             0.3333333333333333,
             "#9c179e"
            ],
            [
             0.4444444444444444,
             "#bd3786"
            ],
            [
             0.5555555555555556,
             "#d8576b"
            ],
            [
             0.6666666666666666,
             "#ed7953"
            ],
            [
             0.7777777777777778,
             "#fb9f3a"
            ],
            [
             0.8888888888888888,
             "#fdca26"
            ],
            [
             1,
             "#f0f921"
            ]
           ]
          },
          "colorway": [
           "#636efa",
           "#EF553B",
           "#00cc96",
           "#ab63fa",
           "#FFA15A",
           "#19d3f3",
           "#FF6692",
           "#B6E880",
           "#FF97FF",
           "#FECB52"
          ],
          "font": {
           "color": "#2a3f5f"
          },
          "geo": {
           "bgcolor": "white",
           "lakecolor": "white",
           "landcolor": "white",
           "showlakes": true,
           "showland": true,
           "subunitcolor": "#C8D4E3"
          },
          "hoverlabel": {
           "align": "left"
          },
          "hovermode": "closest",
          "mapbox": {
           "style": "light"
          },
          "paper_bgcolor": "white",
          "plot_bgcolor": "white",
          "polar": {
           "angularaxis": {
            "gridcolor": "#EBF0F8",
            "linecolor": "#EBF0F8",
            "ticks": ""
           },
           "bgcolor": "white",
           "radialaxis": {
            "gridcolor": "#EBF0F8",
            "linecolor": "#EBF0F8",
            "ticks": ""
           }
          },
          "scene": {
           "xaxis": {
            "backgroundcolor": "white",
            "gridcolor": "#DFE8F3",
            "gridwidth": 2,
            "linecolor": "#EBF0F8",
            "showbackground": true,
            "ticks": "",
            "zerolinecolor": "#EBF0F8"
           },
           "yaxis": {
            "backgroundcolor": "white",
            "gridcolor": "#DFE8F3",
            "gridwidth": 2,
            "linecolor": "#EBF0F8",
            "showbackground": true,
            "ticks": "",
            "zerolinecolor": "#EBF0F8"
           },
           "zaxis": {
            "backgroundcolor": "white",
            "gridcolor": "#DFE8F3",
            "gridwidth": 2,
            "linecolor": "#EBF0F8",
            "showbackground": true,
            "ticks": "",
            "zerolinecolor": "#EBF0F8"
           }
          },
          "shapedefaults": {
           "line": {
            "color": "#2a3f5f"
           }
          },
          "ternary": {
           "aaxis": {
            "gridcolor": "#DFE8F3",
            "linecolor": "#A2B1C6",
            "ticks": ""
           },
           "baxis": {
            "gridcolor": "#DFE8F3",
            "linecolor": "#A2B1C6",
            "ticks": ""
           },
           "bgcolor": "white",
           "caxis": {
            "gridcolor": "#DFE8F3",
            "linecolor": "#A2B1C6",
            "ticks": ""
           }
          },
          "title": {
           "x": 0.05
          },
          "xaxis": {
           "automargin": true,
           "gridcolor": "#EBF0F8",
           "linecolor": "#EBF0F8",
           "ticks": "",
           "title": {
            "standoff": 15
           },
           "zerolinecolor": "#EBF0F8",
           "zerolinewidth": 2
          },
          "yaxis": {
           "automargin": true,
           "gridcolor": "#EBF0F8",
           "linecolor": "#EBF0F8",
           "ticks": "",
           "title": {
            "standoff": 15
           },
           "zerolinecolor": "#EBF0F8",
           "zerolinewidth": 2
          }
         }
        },
        "xaxis": {
         "showticklabels": false,
         "title": {
          "text": "Frequência"
         }
        },
        "yaxis": {
         "automargin": true,
         "title": {
          "text": "Tokens"
         }
        }
       }
      }
     },
     "metadata": {},
     "output_type": "display_data"
    }
   ],
   "source": [
    "import plotly.graph_objects as go ### ESSE AQUI QUE VOU USAR NO STREAMLIT ###\n",
    "import pandas as pd\n",
    "\n",
    "# Pivot the data for heatmap\n",
    "heatmap_data = df_words_sorted.pivot(index='token', columns='nota', values='token_frequency').fillna(0).head(20)\n",
    "\n",
    "# Create the heatmap\n",
    "fig = go.Figure(data=go.Heatmap(\n",
    "    z=heatmap_data.values,  # Frequency matrix\n",
    "    x=heatmap_data.columns,  # Grades (x-axis)\n",
    "    y=heatmap_data.index,    # Tokens (y-axis)\n",
    "    colorscale='Reds',       # Heatmap color scale\n",
    "    colorbar=dict(title=\"Frequência\", titlefont=dict(size=14), tickfont=dict(size=12)),  # Legend title and font size\n",
    "    hoverongaps=False,       # Ensure no gaps show on hover\n",
    "    hovertemplate=(\n",
    "        \"<span style='font-size:14px'><b>Token</b>: %{y}<br>\" +  # Tooltip with larger font\n",
    "        \"<b>Nota</b>: %{x}<br>\" +\n",
    "        \"<b>Frequência</b>: %{z}</span><extra></extra>\"\n",
    "    )\n",
    "))\n",
    "\n",
    "# Update layout for better visualization\n",
    "fig.update_layout(\n",
    "    template=\"plotly_white\",\n",
    "    plot_bgcolor=\"rgba(0, 0, 0, 0)\",  # Transparent plot background\n",
    "    paper_bgcolor=\"rgba(0, 0, 0, 0)\",  # Transparent outer background\n",
    "    font=dict(color=\"white\", size=14),  # Update general font size\n",
    "    height=800,  # Adjust height\n",
    "    width=1000,   # Keep width consistent\n",
    ")\n",
    "\n",
    "# Update y-axis to hide tokens\n",
    "fig.update_yaxes(\n",
    "    title=\"\",  # No y-axis title\n",
    "    showticklabels=False,  # Hide tokens from y-axis\n",
    ")\n",
    "\n",
    "# Update x-axis for better styling\n",
    "fig.update_xaxes(title=\"\", showticklabels=False)\n",
    "\n",
    "# Show the figure\n",
    "fig.show()\n"
   ]
  }
 ],
 "metadata": {
  "kernelspec": {
   "display_name": "corpus_celpebras",
   "language": "python",
   "name": "python3"
  },
  "language_info": {
   "codemirror_mode": {
    "name": "ipython",
    "version": 3
   },
   "file_extension": ".py",
   "mimetype": "text/x-python",
   "name": "python",
   "nbconvert_exporter": "python",
   "pygments_lexer": "ipython3",
   "version": "3.11.9"
  }
 },
 "nbformat": 4,
 "nbformat_minor": 2
}
