{
 "cells": [
  {
   "cell_type": "code",
   "execution_count": 1,
   "metadata": {},
   "outputs": [],
   "source": [
    "import pandas as pd\n",
    "import numpy as np\n",
    "import nltk\n",
    "from collections import Counter #uso para n-gramas\n",
    "import re # talvez regex vai ajudar na normalizaçao\n",
    "import plotly.express as px\n",
    "import plotly.graph_objects as go\n",
    "import streamlit as st\n",
    "\n"
   ]
  },
  {
   "cell_type": "markdown",
   "metadata": {},
   "source": [
    "Notebook relativo a entrega de 17/12/24:\n",
    "Esse notebook foi criado para realização das tarefas referentes a análise da extensão do corpus. Aqui tem o cálculo de types, tokens e TTR. Verifiquei, devido ao exemplo dado:\n",
    "“nos encontramos cara a cara” contém 4 types e 5 tokens. Assim, não posso remover stopwords visto que \"a\" é um token.\n",
    "TTR mais alto implica em maior diversidade lexical."
   ]
  },
  {
   "cell_type": "code",
   "execution_count": 3,
   "metadata": {},
   "outputs": [],
   "source": [
    "csv_file_path = 'C:/Users/Administrator/Documents/repos/mestrado/visual_analytics/corpus_completo.csv'\n",
    "\n",
    "# Lendo o csv como um df\n",
    "df = pd.read_csv(csv_file_path)\n",
    "\n",
    "#Criando uma cópia\n",
    "df_va = df.copy()"
   ]
  },
  {
   "cell_type": "code",
   "execution_count": 4,
   "metadata": {},
   "outputs": [
    {
     "data": {
      "text/html": [
       "<div>\n",
       "<style scoped>\n",
       "    .dataframe tbody tr th:only-of-type {\n",
       "        vertical-align: middle;\n",
       "    }\n",
       "\n",
       "    .dataframe tbody tr th {\n",
       "        vertical-align: top;\n",
       "    }\n",
       "\n",
       "    .dataframe thead th {\n",
       "        text-align: right;\n",
       "    }\n",
       "</style>\n",
       "<table border=\"1\" class=\"dataframe\">\n",
       "  <thead>\n",
       "    <tr style=\"text-align: right;\">\n",
       "      <th></th>\n",
       "      <th>file_name</th>\n",
       "      <th>content</th>\n",
       "    </tr>\n",
       "    <tr>\n",
       "      <th>nota</th>\n",
       "      <th></th>\n",
       "      <th></th>\n",
       "    </tr>\n",
       "  </thead>\n",
       "  <tbody>\n",
       "    <tr>\n",
       "      <th>0</th>\n",
       "      <td>25</td>\n",
       "      <td>25</td>\n",
       "    </tr>\n",
       "    <tr>\n",
       "      <th>1</th>\n",
       "      <td>211</td>\n",
       "      <td>211</td>\n",
       "    </tr>\n",
       "    <tr>\n",
       "      <th>2</th>\n",
       "      <td>628</td>\n",
       "      <td>628</td>\n",
       "    </tr>\n",
       "    <tr>\n",
       "      <th>3</th>\n",
       "      <td>715</td>\n",
       "      <td>715</td>\n",
       "    </tr>\n",
       "    <tr>\n",
       "      <th>4</th>\n",
       "      <td>477</td>\n",
       "      <td>477</td>\n",
       "    </tr>\n",
       "    <tr>\n",
       "      <th>5</th>\n",
       "      <td>237</td>\n",
       "      <td>237</td>\n",
       "    </tr>\n",
       "  </tbody>\n",
       "</table>\n",
       "</div>"
      ],
      "text/plain": [
       "      file_name  content\n",
       "nota                    \n",
       "0            25       25\n",
       "1           211      211\n",
       "2           628      628\n",
       "3           715      715\n",
       "4           477      477\n",
       "5           237      237"
      ]
     },
     "execution_count": 4,
     "metadata": {},
     "output_type": "execute_result"
    }
   ],
   "source": [
    "df_va.groupby('nota').count()"
   ]
  },
  {
   "cell_type": "code",
   "execution_count": 5,
   "metadata": {},
   "outputs": [],
   "source": [
    "df_chart = pd.DataFrame()"
   ]
  },
  {
   "cell_type": "code",
   "execution_count": 6,
   "metadata": {},
   "outputs": [],
   "source": [
    "# Número de textos exposto como variável visto que usarei para cálculos de média\n",
    "\n",
    "df_chart['qtde_textos'] = df_va['nota'].value_counts()"
   ]
  },
  {
   "cell_type": "code",
   "execution_count": 7,
   "metadata": {},
   "outputs": [
    {
     "name": "stderr",
     "output_type": "stream",
     "text": [
      "[nltk_data] Downloading package stopwords to\n",
      "[nltk_data]     C:\\Users\\Administrator\\AppData\\Roaming\\nltk_data...\n",
      "[nltk_data]   Package stopwords is already up-to-date!\n",
      "[nltk_data] Downloading package punkt to\n",
      "[nltk_data]     C:\\Users\\Administrator\\AppData\\Roaming\\nltk_data...\n",
      "[nltk_data]   Package punkt is already up-to-date!\n",
      "[nltk_data] Downloading package punkt_tab to\n",
      "[nltk_data]     C:\\Users\\Administrator\\AppData\\Roaming\\nltk_data...\n",
      "[nltk_data]   Package punkt_tab is already up-to-date!\n"
     ]
    },
    {
     "data": {
      "text/plain": [
       "True"
      ]
     },
     "execution_count": 7,
     "metadata": {},
     "output_type": "execute_result"
    }
   ],
   "source": [
    "nltk.download('stopwords')\n",
    "nltk.download('punkt') # é um tokenizador, importante para nltk.word_tokenize\n",
    "# nltk.download('rslp') é um stemmer. acho q nao vou usar\n",
    "nltk.download('punkt_tab') # Precisei que devia fazer download desse pacote pq o punkt nao tava funcionando"
   ]
  },
  {
   "cell_type": "code",
   "execution_count": 8,
   "metadata": {},
   "outputs": [],
   "source": [
    "# Pré-processamento\n",
    "\n",
    "# Devo tirar acentos?? Ex: Belém\n",
    "# Retirar números? Na duvida, retirei.\n",
    "# Não fiz stemming visto que poderia perder erros ortográficos\n",
    "\n",
    "#Retirada de sinais gráficos, pontuações e espaços\n",
    "def clean_cp(text):\n",
    "    cleaned = text.lower() #Deixando tudo minúsculo\n",
    "    cleaned = re.sub('[^\\w\\s]', '', cleaned) # Removendo pontuacao\n",
    "    #cleaned = re.sub('[0-9]+', '', cleaned) # Removendo números \n",
    "    cleaned = re.sub('\\d+', '', cleaned) # Removendo números NÃO TAVA FUNCIONANDO. Começou a funcionar qdo pus o lower como primeiro comando da funçao\n",
    "    cleaned = re.sub('\\s+', ' ', cleaned) # Removendo espaços extras\n",
    "    cleaned = re.sub('\\s+', ' ', cleaned)\n",
    "    return cleaned.strip() # Removendo tabs\n",
    "\n",
    "df_va['content'] = df_va['content'].apply(clean_cp)\n",
    "#df_va['content'] = df_va['content'].apply(stopwords_cp)"
   ]
  },
  {
   "cell_type": "code",
   "execution_count": 9,
   "metadata": {},
   "outputs": [],
   "source": [
    "# Tokenizando SEM retirar stopwords: lembrando q token conta duplicados\n",
    "\n",
    "def tokenized_cp(text):\n",
    "   #stopwords = nltk.corpus.stopwords.words('portuguese') # Carregando as stopwords do português\n",
    "   tokenized = nltk.word_tokenize(text, language='portuguese') #Transforma o texto em tokens\n",
    "   #text_sem_stopwords = [token for token in tokenized if token not in stopwords] # Deixei stopwords pq imaginei que consideravam mas talvez a divergencia de numero q achei em relaçao a\n",
    "   # dissertacao seja devido às stopwords\n",
    "   #return text_sem_stopwords\n",
    "   return tokenized\n",
    "\n",
    "df_va['tokenized_content'] = df_va['content'].apply(tokenized_cp)"
   ]
  },
  {
   "cell_type": "code",
   "execution_count": 10,
   "metadata": {},
   "outputs": [
    {
     "data": {
      "text/html": [
       "<div>\n",
       "<style scoped>\n",
       "    .dataframe tbody tr th:only-of-type {\n",
       "        vertical-align: middle;\n",
       "    }\n",
       "\n",
       "    .dataframe tbody tr th {\n",
       "        vertical-align: top;\n",
       "    }\n",
       "\n",
       "    .dataframe thead th {\n",
       "        text-align: right;\n",
       "    }\n",
       "</style>\n",
       "<table border=\"1\" class=\"dataframe\">\n",
       "  <thead>\n",
       "    <tr style=\"text-align: right;\">\n",
       "      <th></th>\n",
       "      <th>qtde_textos</th>\n",
       "      <th>qtde_total_tokens_nota</th>\n",
       "    </tr>\n",
       "    <tr>\n",
       "      <th>nota</th>\n",
       "      <th></th>\n",
       "      <th></th>\n",
       "    </tr>\n",
       "  </thead>\n",
       "  <tbody>\n",
       "    <tr>\n",
       "      <th>3</th>\n",
       "      <td>715</td>\n",
       "      <td>123013</td>\n",
       "    </tr>\n",
       "    <tr>\n",
       "      <th>2</th>\n",
       "      <td>628</td>\n",
       "      <td>99444</td>\n",
       "    </tr>\n",
       "    <tr>\n",
       "      <th>4</th>\n",
       "      <td>477</td>\n",
       "      <td>88216</td>\n",
       "    </tr>\n",
       "    <tr>\n",
       "      <th>5</th>\n",
       "      <td>237</td>\n",
       "      <td>47602</td>\n",
       "    </tr>\n",
       "    <tr>\n",
       "      <th>1</th>\n",
       "      <td>211</td>\n",
       "      <td>30289</td>\n",
       "    </tr>\n",
       "    <tr>\n",
       "      <th>0</th>\n",
       "      <td>25</td>\n",
       "      <td>2284</td>\n",
       "    </tr>\n",
       "  </tbody>\n",
       "</table>\n",
       "</div>"
      ],
      "text/plain": [
       "      qtde_textos  qtde_total_tokens_nota\n",
       "nota                                     \n",
       "3             715                  123013\n",
       "2             628                   99444\n",
       "4             477                   88216\n",
       "5             237                   47602\n",
       "1             211                   30289\n",
       "0              25                    2284"
      ]
     },
     "execution_count": 10,
     "metadata": {},
     "output_type": "execute_result"
    }
   ],
   "source": [
    "# Verificando a qtde de tokens para cada nota (uso o total pra cada nota pro cálculo de TTR)\n",
    "\n",
    "# Primeiro conto a qtde de tokens para cada texto e crio uma coluna com a contagem\n",
    "df_va['token_count'] = df_va['tokenized_content'].apply(len)\n",
    "\n",
    "# Agora, conto de acordo com cada nota        \n",
    "df_chart['qtde_total_tokens_nota'] = df_va.groupby('nota')['token_count'].sum()\n",
    "df_chart"
   ]
  },
  {
   "cell_type": "code",
   "execution_count": 11,
   "metadata": {},
   "outputs": [],
   "source": [
    "# Verificando a qtde de tokens MÉDIA para cada nota ACHO Q NAO VOU USAR\n",
    "df_chart['qtde_media_tokens'] = round((df_chart['qtde_total_tokens_nota'] / df_chart['qtde_textos']),2)"
   ]
  },
  {
   "cell_type": "code",
   "execution_count": 12,
   "metadata": {},
   "outputs": [],
   "source": [
    "# Separando em types (pego tokens e retiro duplicados)\n",
    "df_va['types_content'] = df_va['tokenized_content'].apply(lambda tokens: list(set(tokens)))"
   ]
  },
  {
   "cell_type": "code",
   "execution_count": 13,
   "metadata": {},
   "outputs": [],
   "source": [
    "# Verificando a qtde de types para cada nota\n",
    "\n",
    "# Primeiro a qtde de types para cada texto e crio uma coluna com a contagem\n",
    "df_va['types_count'] = df_va['types_content'].apply(len)\n",
    "\n",
    "# Agora, conto de acordo com cada nota\n",
    "df_chart['qtde_total_types_nota'] = df_va.groupby('nota')['types_count'].sum()"
   ]
  },
  {
   "cell_type": "code",
   "execution_count": 14,
   "metadata": {},
   "outputs": [],
   "source": [
    "# Verificando a qtde de types MÉDIA para cada nota ACHO Q NAO VOU USAR\n",
    "df_chart['qtde_media_types'] = round((df_chart['qtde_total_types_nota'] / df_chart['qtde_textos']),2)"
   ]
  },
  {
   "cell_type": "code",
   "execution_count": 15,
   "metadata": {},
   "outputs": [],
   "source": [
    "# Cálculo de TTR: TTR = qtde de types / qtde de tokens * 100 (em percentual mesmo)\n",
    "# Aviso: fiz o cálculo de ttr_medio = (qtde_media_types / qtde_media_tokens) * 100 e obtive os mesmos valores\n",
    "df_chart['TTR'] = round(((df_chart['qtde_total_types_nota'] / df_chart['qtde_total_tokens_nota']) * 100),2)"
   ]
  },
  {
   "cell_type": "code",
   "execution_count": 16,
   "metadata": {},
   "outputs": [],
   "source": [
    "# Número mínimo de tokens por nota\n",
    "\n",
    "# Primeiro conto a qtde de tokens para cada texto e crio uma coluna com a contagem    >> Essas 2 linhas eu repeti mtas vzs no código. É só cortar fora. A variável já foi calculada!\n",
    "df_va['token_count'] = df_va['tokenized_content'].apply(len)\n",
    "\n",
    "# Agora, conto o número minimo de tokens para cada nota        \n",
    "df_chart['qtde_tokens_min'] = df_va.groupby('nota')['token_count'].min()"
   ]
  },
  {
   "cell_type": "code",
   "execution_count": 17,
   "metadata": {},
   "outputs": [],
   "source": [
    "# Número máximo de tokens por nota\n",
    "\n",
    "# Primeiro conto a qtde de tokens para cada texto e crio uma coluna com a contagem\n",
    "df_va['token_count'] = df_va['tokenized_content'].apply(len)\n",
    "\n",
    "# Agora, conto o número máximo de tokens para cada nota        \n",
    "df_chart['qtde_tokens_max'] = df_va.groupby('nota')['token_count'].max()"
   ]
  },
  {
   "cell_type": "code",
   "execution_count": 18,
   "metadata": {},
   "outputs": [],
   "source": [
    "# Desvio padrão do número de tokens por nota\n",
    "\n",
    "# Primeiro conto a qtde de tokens para cada texto e crio uma coluna com a contagem\n",
    "df_va['token_count'] = df_va['tokenized_content'].apply(len)\n",
    "\n",
    "# Agora, conto o número máximo de tokens para cada nota\n",
    "df_chart['desvpad_qtde_tokens'] = round((df_va.groupby('nota')['token_count'].std()),2)"
   ]
  },
  {
   "cell_type": "code",
   "execution_count": 19,
   "metadata": {},
   "outputs": [
    {
     "data": {
      "text/html": [
       "<div>\n",
       "<style scoped>\n",
       "    .dataframe tbody tr th:only-of-type {\n",
       "        vertical-align: middle;\n",
       "    }\n",
       "\n",
       "    .dataframe tbody tr th {\n",
       "        vertical-align: top;\n",
       "    }\n",
       "\n",
       "    .dataframe thead th {\n",
       "        text-align: right;\n",
       "    }\n",
       "</style>\n",
       "<table border=\"1\" class=\"dataframe\">\n",
       "  <thead>\n",
       "    <tr style=\"text-align: right;\">\n",
       "      <th></th>\n",
       "      <th>qtde_textos</th>\n",
       "      <th>qtde_total_tokens_nota</th>\n",
       "      <th>qtde_media_tokens</th>\n",
       "      <th>qtde_total_types_nota</th>\n",
       "      <th>qtde_media_types</th>\n",
       "      <th>TTR</th>\n",
       "      <th>qtde_tokens_min</th>\n",
       "      <th>qtde_tokens_max</th>\n",
       "      <th>desvpad_qtde_tokens</th>\n",
       "      <th>nota_real</th>\n",
       "    </tr>\n",
       "    <tr>\n",
       "      <th>nota</th>\n",
       "      <th></th>\n",
       "      <th></th>\n",
       "      <th></th>\n",
       "      <th></th>\n",
       "      <th></th>\n",
       "      <th></th>\n",
       "      <th></th>\n",
       "      <th></th>\n",
       "      <th></th>\n",
       "      <th></th>\n",
       "    </tr>\n",
       "  </thead>\n",
       "  <tbody>\n",
       "    <tr>\n",
       "      <th>0</th>\n",
       "      <td>25</td>\n",
       "      <td>2284</td>\n",
       "      <td>91.36</td>\n",
       "      <td>1659</td>\n",
       "      <td>66.36</td>\n",
       "      <td>72.64</td>\n",
       "      <td>17</td>\n",
       "      <td>200</td>\n",
       "      <td>53.34</td>\n",
       "      <td>0</td>\n",
       "    </tr>\n",
       "    <tr>\n",
       "      <th>1</th>\n",
       "      <td>211</td>\n",
       "      <td>30289</td>\n",
       "      <td>143.55</td>\n",
       "      <td>20524</td>\n",
       "      <td>97.27</td>\n",
       "      <td>67.76</td>\n",
       "      <td>44</td>\n",
       "      <td>321</td>\n",
       "      <td>46.68</td>\n",
       "      <td>1</td>\n",
       "    </tr>\n",
       "    <tr>\n",
       "      <th>2</th>\n",
       "      <td>628</td>\n",
       "      <td>99444</td>\n",
       "      <td>158.35</td>\n",
       "      <td>66313</td>\n",
       "      <td>105.59</td>\n",
       "      <td>66.68</td>\n",
       "      <td>48</td>\n",
       "      <td>338</td>\n",
       "      <td>44.61</td>\n",
       "      <td>2</td>\n",
       "    </tr>\n",
       "    <tr>\n",
       "      <th>3</th>\n",
       "      <td>715</td>\n",
       "      <td>123013</td>\n",
       "      <td>172.05</td>\n",
       "      <td>80734</td>\n",
       "      <td>112.91</td>\n",
       "      <td>65.63</td>\n",
       "      <td>74</td>\n",
       "      <td>410</td>\n",
       "      <td>40.96</td>\n",
       "      <td>3</td>\n",
       "    </tr>\n",
       "    <tr>\n",
       "      <th>4</th>\n",
       "      <td>477</td>\n",
       "      <td>88216</td>\n",
       "      <td>184.94</td>\n",
       "      <td>57277</td>\n",
       "      <td>120.08</td>\n",
       "      <td>64.93</td>\n",
       "      <td>92</td>\n",
       "      <td>351</td>\n",
       "      <td>41.78</td>\n",
       "      <td>4</td>\n",
       "    </tr>\n",
       "    <tr>\n",
       "      <th>5</th>\n",
       "      <td>237</td>\n",
       "      <td>47602</td>\n",
       "      <td>200.85</td>\n",
       "      <td>30632</td>\n",
       "      <td>129.25</td>\n",
       "      <td>64.35</td>\n",
       "      <td>107</td>\n",
       "      <td>346</td>\n",
       "      <td>45.77</td>\n",
       "      <td>5</td>\n",
       "    </tr>\n",
       "  </tbody>\n",
       "</table>\n",
       "</div>"
      ],
      "text/plain": [
       "      qtde_textos  qtde_total_tokens_nota  qtde_media_tokens  \\\n",
       "nota                                                           \n",
       "0              25                    2284              91.36   \n",
       "1             211                   30289             143.55   \n",
       "2             628                   99444             158.35   \n",
       "3             715                  123013             172.05   \n",
       "4             477                   88216             184.94   \n",
       "5             237                   47602             200.85   \n",
       "\n",
       "      qtde_total_types_nota  qtde_media_types    TTR  qtde_tokens_min  \\\n",
       "nota                                                                    \n",
       "0                      1659             66.36  72.64               17   \n",
       "1                     20524             97.27  67.76               44   \n",
       "2                     66313            105.59  66.68               48   \n",
       "3                     80734            112.91  65.63               74   \n",
       "4                     57277            120.08  64.93               92   \n",
       "5                     30632            129.25  64.35              107   \n",
       "\n",
       "      qtde_tokens_max  desvpad_qtde_tokens  nota_real  \n",
       "nota                                                   \n",
       "0                 200                53.34          0  \n",
       "1                 321                46.68          1  \n",
       "2                 338                44.61          2  \n",
       "3                 410                40.96          3  \n",
       "4                 351                41.78          4  \n",
       "5                 346                45.77          5  "
      ]
     },
     "execution_count": 19,
     "metadata": {},
     "output_type": "execute_result"
    }
   ],
   "source": [
    "df_chart['nota_real'] = [3, 2, 4, 5, 1, 0]\n",
    "df_chart.sort_values('nota_real')"
   ]
  },
  {
   "cell_type": "markdown",
   "metadata": {},
   "source": [
    "Aqui é a minha primeira aba. Fazer um slider ou filtro mesmo que por default marca todas as notas mas pode exibir somente as notas pretendidas"
   ]
  },
  {
   "cell_type": "markdown",
   "metadata": {},
   "source": [
    "Abaixo, o primeiro gráfico da visualização. Um bar chart simples para preparar o usuário para o fato de que não temos um número homogêneo de textos para cada nota"
   ]
  },
  {
   "cell_type": "code",
   "execution_count": 21,
   "metadata": {},
   "outputs": [
    {
     "data": {
      "application/vnd.plotly.v1+json": {
       "config": {
        "plotlyServerURL": "https://plot.ly"
       },
       "data": [
        {
         "alignmentgroup": "True",
         "hovertemplate": "%{y} textos<extra></extra>",
         "legendgroup": "",
         "marker": {
          "color": "#FF4B4B",
          "pattern": {
           "shape": ""
          }
         },
         "name": "",
         "offsetgroup": "",
         "orientation": "v",
         "showlegend": false,
         "textposition": "auto",
         "type": "bar",
         "x": [
          3,
          2,
          4,
          5,
          1,
          0
         ],
         "xaxis": "x",
         "y": [
          715,
          628,
          477,
          237,
          211,
          25
         ],
         "yaxis": "y"
        }
       ],
       "layout": {
        "barmode": "relative",
        "font": {
         "color": "white"
        },
        "hoverlabel": {
         "bgcolor": "#FFE6E6",
         "font": {
          "color": "black",
          "size": 14
         }
        },
        "legend": {
         "tracegroupgap": 0
        },
        "margin": {
         "t": 60
        },
        "paper_bgcolor": "rgba(0, 0, 0, 0)",
        "plot_bgcolor": "rgba(0, 0, 0, 0)",
        "template": {
         "data": {
          "bar": [
           {
            "error_x": {
             "color": "#2a3f5f"
            },
            "error_y": {
             "color": "#2a3f5f"
            },
            "marker": {
             "line": {
              "color": "white",
              "width": 0.5
             },
             "pattern": {
              "fillmode": "overlay",
              "size": 10,
              "solidity": 0.2
             }
            },
            "type": "bar"
           }
          ],
          "barpolar": [
           {
            "marker": {
             "line": {
              "color": "white",
              "width": 0.5
             },
             "pattern": {
              "fillmode": "overlay",
              "size": 10,
              "solidity": 0.2
             }
            },
            "type": "barpolar"
           }
          ],
          "carpet": [
           {
            "aaxis": {
             "endlinecolor": "#2a3f5f",
             "gridcolor": "#C8D4E3",
             "linecolor": "#C8D4E3",
             "minorgridcolor": "#C8D4E3",
             "startlinecolor": "#2a3f5f"
            },
            "baxis": {
             "endlinecolor": "#2a3f5f",
             "gridcolor": "#C8D4E3",
             "linecolor": "#C8D4E3",
             "minorgridcolor": "#C8D4E3",
             "startlinecolor": "#2a3f5f"
            },
            "type": "carpet"
           }
          ],
          "choropleth": [
           {
            "colorbar": {
             "outlinewidth": 0,
             "ticks": ""
            },
            "type": "choropleth"
           }
          ],
          "contour": [
           {
            "colorbar": {
             "outlinewidth": 0,
             "ticks": ""
            },
            "colorscale": [
             [
              0,
              "#0d0887"
             ],
             [
              0.1111111111111111,
              "#46039f"
             ],
             [
              0.2222222222222222,
              "#7201a8"
             ],
             [
              0.3333333333333333,
              "#9c179e"
             ],
             [
              0.4444444444444444,
              "#bd3786"
             ],
             [
              0.5555555555555556,
              "#d8576b"
             ],
             [
              0.6666666666666666,
              "#ed7953"
             ],
             [
              0.7777777777777778,
              "#fb9f3a"
             ],
             [
              0.8888888888888888,
              "#fdca26"
             ],
             [
              1,
              "#f0f921"
             ]
            ],
            "type": "contour"
           }
          ],
          "contourcarpet": [
           {
            "colorbar": {
             "outlinewidth": 0,
             "ticks": ""
            },
            "type": "contourcarpet"
           }
          ],
          "heatmap": [
           {
            "colorbar": {
             "outlinewidth": 0,
             "ticks": ""
            },
            "colorscale": [
             [
              0,
              "#0d0887"
             ],
             [
              0.1111111111111111,
              "#46039f"
             ],
             [
              0.2222222222222222,
              "#7201a8"
             ],
             [
              0.3333333333333333,
              "#9c179e"
             ],
             [
              0.4444444444444444,
              "#bd3786"
             ],
             [
              0.5555555555555556,
              "#d8576b"
             ],
             [
              0.6666666666666666,
              "#ed7953"
             ],
             [
              0.7777777777777778,
              "#fb9f3a"
             ],
             [
              0.8888888888888888,
              "#fdca26"
             ],
             [
              1,
              "#f0f921"
             ]
            ],
            "type": "heatmap"
           }
          ],
          "heatmapgl": [
           {
            "colorbar": {
             "outlinewidth": 0,
             "ticks": ""
            },
            "colorscale": [
             [
              0,
              "#0d0887"
             ],
             [
              0.1111111111111111,
              "#46039f"
             ],
             [
              0.2222222222222222,
              "#7201a8"
             ],
             [
              0.3333333333333333,
              "#9c179e"
             ],
             [
              0.4444444444444444,
              "#bd3786"
             ],
             [
              0.5555555555555556,
              "#d8576b"
             ],
             [
              0.6666666666666666,
              "#ed7953"
             ],
             [
              0.7777777777777778,
              "#fb9f3a"
             ],
             [
              0.8888888888888888,
              "#fdca26"
             ],
             [
              1,
              "#f0f921"
             ]
            ],
            "type": "heatmapgl"
           }
          ],
          "histogram": [
           {
            "marker": {
             "pattern": {
              "fillmode": "overlay",
              "size": 10,
              "solidity": 0.2
             }
            },
            "type": "histogram"
           }
          ],
          "histogram2d": [
           {
            "colorbar": {
             "outlinewidth": 0,
             "ticks": ""
            },
            "colorscale": [
             [
              0,
              "#0d0887"
             ],
             [
              0.1111111111111111,
              "#46039f"
             ],
             [
              0.2222222222222222,
              "#7201a8"
             ],
             [
              0.3333333333333333,
              "#9c179e"
             ],
             [
              0.4444444444444444,
              "#bd3786"
             ],
             [
              0.5555555555555556,
              "#d8576b"
             ],
             [
              0.6666666666666666,
              "#ed7953"
             ],
             [
              0.7777777777777778,
              "#fb9f3a"
             ],
             [
              0.8888888888888888,
              "#fdca26"
             ],
             [
              1,
              "#f0f921"
             ]
            ],
            "type": "histogram2d"
           }
          ],
          "histogram2dcontour": [
           {
            "colorbar": {
             "outlinewidth": 0,
             "ticks": ""
            },
            "colorscale": [
             [
              0,
              "#0d0887"
             ],
             [
              0.1111111111111111,
              "#46039f"
             ],
             [
              0.2222222222222222,
              "#7201a8"
             ],
             [
              0.3333333333333333,
              "#9c179e"
             ],
             [
              0.4444444444444444,
              "#bd3786"
             ],
             [
              0.5555555555555556,
              "#d8576b"
             ],
             [
              0.6666666666666666,
              "#ed7953"
             ],
             [
              0.7777777777777778,
              "#fb9f3a"
             ],
             [
              0.8888888888888888,
              "#fdca26"
             ],
             [
              1,
              "#f0f921"
             ]
            ],
            "type": "histogram2dcontour"
           }
          ],
          "mesh3d": [
           {
            "colorbar": {
             "outlinewidth": 0,
             "ticks": ""
            },
            "type": "mesh3d"
           }
          ],
          "parcoords": [
           {
            "line": {
             "colorbar": {
              "outlinewidth": 0,
              "ticks": ""
             }
            },
            "type": "parcoords"
           }
          ],
          "pie": [
           {
            "automargin": true,
            "type": "pie"
           }
          ],
          "scatter": [
           {
            "fillpattern": {
             "fillmode": "overlay",
             "size": 10,
             "solidity": 0.2
            },
            "type": "scatter"
           }
          ],
          "scatter3d": [
           {
            "line": {
             "colorbar": {
              "outlinewidth": 0,
              "ticks": ""
             }
            },
            "marker": {
             "colorbar": {
              "outlinewidth": 0,
              "ticks": ""
             }
            },
            "type": "scatter3d"
           }
          ],
          "scattercarpet": [
           {
            "marker": {
             "colorbar": {
              "outlinewidth": 0,
              "ticks": ""
             }
            },
            "type": "scattercarpet"
           }
          ],
          "scattergeo": [
           {
            "marker": {
             "colorbar": {
              "outlinewidth": 0,
              "ticks": ""
             }
            },
            "type": "scattergeo"
           }
          ],
          "scattergl": [
           {
            "marker": {
             "colorbar": {
              "outlinewidth": 0,
              "ticks": ""
             }
            },
            "type": "scattergl"
           }
          ],
          "scattermapbox": [
           {
            "marker": {
             "colorbar": {
              "outlinewidth": 0,
              "ticks": ""
             }
            },
            "type": "scattermapbox"
           }
          ],
          "scatterpolar": [
           {
            "marker": {
             "colorbar": {
              "outlinewidth": 0,
              "ticks": ""
             }
            },
            "type": "scatterpolar"
           }
          ],
          "scatterpolargl": [
           {
            "marker": {
             "colorbar": {
              "outlinewidth": 0,
              "ticks": ""
             }
            },
            "type": "scatterpolargl"
           }
          ],
          "scatterternary": [
           {
            "marker": {
             "colorbar": {
              "outlinewidth": 0,
              "ticks": ""
             }
            },
            "type": "scatterternary"
           }
          ],
          "surface": [
           {
            "colorbar": {
             "outlinewidth": 0,
             "ticks": ""
            },
            "colorscale": [
             [
              0,
              "#0d0887"
             ],
             [
              0.1111111111111111,
              "#46039f"
             ],
             [
              0.2222222222222222,
              "#7201a8"
             ],
             [
              0.3333333333333333,
              "#9c179e"
             ],
             [
              0.4444444444444444,
              "#bd3786"
             ],
             [
              0.5555555555555556,
              "#d8576b"
             ],
             [
              0.6666666666666666,
              "#ed7953"
             ],
             [
              0.7777777777777778,
              "#fb9f3a"
             ],
             [
              0.8888888888888888,
              "#fdca26"
             ],
             [
              1,
              "#f0f921"
             ]
            ],
            "type": "surface"
           }
          ],
          "table": [
           {
            "cells": {
             "fill": {
              "color": "#EBF0F8"
             },
             "line": {
              "color": "white"
             }
            },
            "header": {
             "fill": {
              "color": "#C8D4E3"
             },
             "line": {
              "color": "white"
             }
            },
            "type": "table"
           }
          ]
         },
         "layout": {
          "annotationdefaults": {
           "arrowcolor": "#2a3f5f",
           "arrowhead": 0,
           "arrowwidth": 1
          },
          "autotypenumbers": "strict",
          "coloraxis": {
           "colorbar": {
            "outlinewidth": 0,
            "ticks": ""
           }
          },
          "colorscale": {
           "diverging": [
            [
             0,
             "#8e0152"
            ],
            [
             0.1,
             "#c51b7d"
            ],
            [
             0.2,
             "#de77ae"
            ],
            [
             0.3,
             "#f1b6da"
            ],
            [
             0.4,
             "#fde0ef"
            ],
            [
             0.5,
             "#f7f7f7"
            ],
            [
             0.6,
             "#e6f5d0"
            ],
            [
             0.7,
             "#b8e186"
            ],
            [
             0.8,
             "#7fbc41"
            ],
            [
             0.9,
             "#4d9221"
            ],
            [
             1,
             "#276419"
            ]
           ],
           "sequential": [
            [
             0,
             "#0d0887"
            ],
            [
             0.1111111111111111,
             "#46039f"
            ],
            [
             0.2222222222222222,
             "#7201a8"
            ],
            [
             0.3333333333333333,
             "#9c179e"
            ],
            [
             0.4444444444444444,
             "#bd3786"
            ],
            [
             0.5555555555555556,
             "#d8576b"
            ],
            [
             0.6666666666666666,
             "#ed7953"
            ],
            [
             0.7777777777777778,
             "#fb9f3a"
            ],
            [
             0.8888888888888888,
             "#fdca26"
            ],
            [
             1,
             "#f0f921"
            ]
           ],
           "sequentialminus": [
            [
             0,
             "#0d0887"
            ],
            [
             0.1111111111111111,
             "#46039f"
            ],
            [
             0.2222222222222222,
             "#7201a8"
            ],
            [
             0.3333333333333333,
             "#9c179e"
            ],
            [
             0.4444444444444444,
             "#bd3786"
            ],
            [
             0.5555555555555556,
             "#d8576b"
            ],
            [
             0.6666666666666666,
             "#ed7953"
            ],
            [
             0.7777777777777778,
             "#fb9f3a"
            ],
            [
             0.8888888888888888,
             "#fdca26"
            ],
            [
             1,
             "#f0f921"
            ]
           ]
          },
          "colorway": [
           "#636efa",
           "#EF553B",
           "#00cc96",
           "#ab63fa",
           "#FFA15A",
           "#19d3f3",
           "#FF6692",
           "#B6E880",
           "#FF97FF",
           "#FECB52"
          ],
          "font": {
           "color": "#2a3f5f"
          },
          "geo": {
           "bgcolor": "white",
           "lakecolor": "white",
           "landcolor": "white",
           "showlakes": true,
           "showland": true,
           "subunitcolor": "#C8D4E3"
          },
          "hoverlabel": {
           "align": "left"
          },
          "hovermode": "closest",
          "mapbox": {
           "style": "light"
          },
          "paper_bgcolor": "white",
          "plot_bgcolor": "white",
          "polar": {
           "angularaxis": {
            "gridcolor": "#EBF0F8",
            "linecolor": "#EBF0F8",
            "ticks": ""
           },
           "bgcolor": "white",
           "radialaxis": {
            "gridcolor": "#EBF0F8",
            "linecolor": "#EBF0F8",
            "ticks": ""
           }
          },
          "scene": {
           "xaxis": {
            "backgroundcolor": "white",
            "gridcolor": "#DFE8F3",
            "gridwidth": 2,
            "linecolor": "#EBF0F8",
            "showbackground": true,
            "ticks": "",
            "zerolinecolor": "#EBF0F8"
           },
           "yaxis": {
            "backgroundcolor": "white",
            "gridcolor": "#DFE8F3",
            "gridwidth": 2,
            "linecolor": "#EBF0F8",
            "showbackground": true,
            "ticks": "",
            "zerolinecolor": "#EBF0F8"
           },
           "zaxis": {
            "backgroundcolor": "white",
            "gridcolor": "#DFE8F3",
            "gridwidth": 2,
            "linecolor": "#EBF0F8",
            "showbackground": true,
            "ticks": "",
            "zerolinecolor": "#EBF0F8"
           }
          },
          "shapedefaults": {
           "line": {
            "color": "#2a3f5f"
           }
          },
          "ternary": {
           "aaxis": {
            "gridcolor": "#DFE8F3",
            "linecolor": "#A2B1C6",
            "ticks": ""
           },
           "baxis": {
            "gridcolor": "#DFE8F3",
            "linecolor": "#A2B1C6",
            "ticks": ""
           },
           "bgcolor": "white",
           "caxis": {
            "gridcolor": "#DFE8F3",
            "linecolor": "#A2B1C6",
            "ticks": ""
           }
          },
          "title": {
           "x": 0.05
          },
          "xaxis": {
           "automargin": true,
           "gridcolor": "#EBF0F8",
           "linecolor": "#EBF0F8",
           "ticks": "",
           "title": {
            "standoff": 15
           },
           "zerolinecolor": "#EBF0F8",
           "zerolinewidth": 2
          },
          "yaxis": {
           "automargin": true,
           "gridcolor": "#EBF0F8",
           "linecolor": "#EBF0F8",
           "ticks": "",
           "title": {
            "standoff": 15
           },
           "zerolinecolor": "#EBF0F8",
           "zerolinewidth": 2
          }
         }
        },
        "title": {
         "text": "Quantidade de Textos por Nota"
        },
        "xaxis": {
         "anchor": "y",
         "color": "white",
         "domain": [
          0,
          1
         ],
         "showgrid": false,
         "title": {
          "text": "Nota"
         }
        },
        "yaxis": {
         "anchor": "x",
         "color": "white",
         "domain": [
          0,
          1
         ],
         "title": {
          "text": "Quantidade"
         }
        }
       }
      }
     },
     "metadata": {},
     "output_type": "display_data"
    }
   ],
   "source": [
    "# Create the bar chart\n",
    "fig = px.bar(\n",
    "    df_chart,  # Pass the entire DataFrame\n",
    "    x='nota_real',  # X-axis\n",
    "    y='qtde_textos',  # Y-axis\n",
    "    labels={'qtde_textos': 'Quantidade', 'nota_real': 'Nota'},  # Custom axis labels\n",
    "    color_discrete_sequence=['#FF4B4B']  # Streamlit red color\n",
    ")\n",
    "\n",
    "# Update the tooltip\n",
    "fig.update_traces(\n",
    "    hovertemplate=\"%{y} textos<extra></extra>\"  # Custom tooltip  \n",
    ")\n",
    "\n",
    "# Update layout for transparent background and tooltip styles\n",
    "fig.update_layout(\n",
    "    title=\"Quantidade de Textos por Nota\",\n",
    "    xaxis_title=\"Nota\",\n",
    "    yaxis_title=\"Quantidade\",\n",
    "    template=\"plotly_white\",\n",
    "    plot_bgcolor=\"rgba(0, 0, 0, 0)\",  # Transparent plot background\n",
    "    paper_bgcolor=\"rgba(0, 0, 0, 0)\",  # Transparent outer background\n",
    "    font=dict(color=\"white\"),  # White font for titles, labels, and text\n",
    "    xaxis=dict(\n",
    "        showgrid=False,  # Remove vertical gridlines\n",
    "        color=\"white\"    # White font for x-axis labels\n",
    "    ),\n",
    "    yaxis=dict(\n",
    "        #showgrid=False,  # Remove horizontal gridlines\n",
    "        color=\"white\"    # White font for y-axis labels\n",
    "    ),\n",
    "    hoverlabel=dict(\n",
    "        bgcolor=\"#FFE6E6\",  # Light red background\n",
    "        font_size=14,       # Tooltip font size\n",
    "        font_color=\"black\"  # Tooltip text color\n",
    "    )\n",
    ")\n",
    "\n",
    "# Show the figure\n",
    "fig.show()"
   ]
  },
  {
   "cell_type": "markdown",
   "metadata": {},
   "source": [
    "Número mínimo e número máximo de tokens\n",
    "\n",
    "Tb grouped bar, mas aí um é o número minimo de tokens e o outro é o número máximo de tokens\n",
    "x é a nota\n",
    "no tooltip vai o valor médio e desvio padrão"
   ]
  },
  {
   "cell_type": "code",
   "execution_count": 33,
   "metadata": {},
   "outputs": [
    {
     "data": {
      "application/vnd.plotly.v1+json": {
       "config": {
        "plotlyServerURL": "https://plot.ly"
       },
       "data": [
        {
         "customdata": [
          [
           172.05,
           40.96
          ],
          [
           158.35,
           44.61
          ],
          [
           184.94,
           41.78
          ],
          [
           200.85,
           45.77
          ],
          [
           143.55,
           46.68
          ],
          [
           91.36,
           53.34
          ]
         ],
         "hovertemplate": "Máximo de tokens: %{y}<br>Número médio: %{customdata[0]:.2f}<br>Desvio padrão: %{customdata[1]:.2f}<extra></extra>",
         "marker": {
          "color": "#FF4B4B"
         },
         "name": "Máximo de tokens",
         "type": "bar",
         "x": [
          3,
          2,
          4,
          5,
          1,
          0
         ],
         "y": [
          410,
          338,
          351,
          346,
          321,
          200
         ]
        },
        {
         "customdata": [
          [
           172.05,
           40.96
          ],
          [
           158.35,
           44.61
          ],
          [
           184.94,
           41.78
          ],
          [
           200.85,
           45.77
          ],
          [
           143.55,
           46.68
          ],
          [
           91.36,
           53.34
          ]
         ],
         "hovertemplate": "Mínimo de tokens: %{y}<br>Número médio: %{customdata[0]:.2f}<br>Desvio padrão: %{customdata[1]:.2f}<extra></extra>",
         "marker": {
          "color": "#FF904B"
         },
         "name": "Mínimo de tokens",
         "type": "bar",
         "x": [
          3,
          2,
          4,
          5,
          1,
          0
         ],
         "y": [
          74,
          48,
          92,
          107,
          44,
          17
         ]
        }
       ],
       "layout": {
        "barmode": "group",
        "font": {
         "color": "white"
        },
        "hoverlabel": {
         "bgcolor": "#FFFFFF",
         "font": {
          "color": "black",
          "size": 12
         }
        },
        "legend": {
         "title": {
          "text": "Legenda"
         }
        },
        "paper_bgcolor": "rgba(0, 0, 0, 0)",
        "plot_bgcolor": "rgba(0, 0, 0, 0)",
        "template": {
         "data": {
          "bar": [
           {
            "error_x": {
             "color": "#2a3f5f"
            },
            "error_y": {
             "color": "#2a3f5f"
            },
            "marker": {
             "line": {
              "color": "white",
              "width": 0.5
             },
             "pattern": {
              "fillmode": "overlay",
              "size": 10,
              "solidity": 0.2
             }
            },
            "type": "bar"
           }
          ],
          "barpolar": [
           {
            "marker": {
             "line": {
              "color": "white",
              "width": 0.5
             },
             "pattern": {
              "fillmode": "overlay",
              "size": 10,
              "solidity": 0.2
             }
            },
            "type": "barpolar"
           }
          ],
          "carpet": [
           {
            "aaxis": {
             "endlinecolor": "#2a3f5f",
             "gridcolor": "#C8D4E3",
             "linecolor": "#C8D4E3",
             "minorgridcolor": "#C8D4E3",
             "startlinecolor": "#2a3f5f"
            },
            "baxis": {
             "endlinecolor": "#2a3f5f",
             "gridcolor": "#C8D4E3",
             "linecolor": "#C8D4E3",
             "minorgridcolor": "#C8D4E3",
             "startlinecolor": "#2a3f5f"
            },
            "type": "carpet"
           }
          ],
          "choropleth": [
           {
            "colorbar": {
             "outlinewidth": 0,
             "ticks": ""
            },
            "type": "choropleth"
           }
          ],
          "contour": [
           {
            "colorbar": {
             "outlinewidth": 0,
             "ticks": ""
            },
            "colorscale": [
             [
              0,
              "#0d0887"
             ],
             [
              0.1111111111111111,
              "#46039f"
             ],
             [
              0.2222222222222222,
              "#7201a8"
             ],
             [
              0.3333333333333333,
              "#9c179e"
             ],
             [
              0.4444444444444444,
              "#bd3786"
             ],
             [
              0.5555555555555556,
              "#d8576b"
             ],
             [
              0.6666666666666666,
              "#ed7953"
             ],
             [
              0.7777777777777778,
              "#fb9f3a"
             ],
             [
              0.8888888888888888,
              "#fdca26"
             ],
             [
              1,
              "#f0f921"
             ]
            ],
            "type": "contour"
           }
          ],
          "contourcarpet": [
           {
            "colorbar": {
             "outlinewidth": 0,
             "ticks": ""
            },
            "type": "contourcarpet"
           }
          ],
          "heatmap": [
           {
            "colorbar": {
             "outlinewidth": 0,
             "ticks": ""
            },
            "colorscale": [
             [
              0,
              "#0d0887"
             ],
             [
              0.1111111111111111,
              "#46039f"
             ],
             [
              0.2222222222222222,
              "#7201a8"
             ],
             [
              0.3333333333333333,
              "#9c179e"
             ],
             [
              0.4444444444444444,
              "#bd3786"
             ],
             [
              0.5555555555555556,
              "#d8576b"
             ],
             [
              0.6666666666666666,
              "#ed7953"
             ],
             [
              0.7777777777777778,
              "#fb9f3a"
             ],
             [
              0.8888888888888888,
              "#fdca26"
             ],
             [
              1,
              "#f0f921"
             ]
            ],
            "type": "heatmap"
           }
          ],
          "heatmapgl": [
           {
            "colorbar": {
             "outlinewidth": 0,
             "ticks": ""
            },
            "colorscale": [
             [
              0,
              "#0d0887"
             ],
             [
              0.1111111111111111,
              "#46039f"
             ],
             [
              0.2222222222222222,
              "#7201a8"
             ],
             [
              0.3333333333333333,
              "#9c179e"
             ],
             [
              0.4444444444444444,
              "#bd3786"
             ],
             [
              0.5555555555555556,
              "#d8576b"
             ],
             [
              0.6666666666666666,
              "#ed7953"
             ],
             [
              0.7777777777777778,
              "#fb9f3a"
             ],
             [
              0.8888888888888888,
              "#fdca26"
             ],
             [
              1,
              "#f0f921"
             ]
            ],
            "type": "heatmapgl"
           }
          ],
          "histogram": [
           {
            "marker": {
             "pattern": {
              "fillmode": "overlay",
              "size": 10,
              "solidity": 0.2
             }
            },
            "type": "histogram"
           }
          ],
          "histogram2d": [
           {
            "colorbar": {
             "outlinewidth": 0,
             "ticks": ""
            },
            "colorscale": [
             [
              0,
              "#0d0887"
             ],
             [
              0.1111111111111111,
              "#46039f"
             ],
             [
              0.2222222222222222,
              "#7201a8"
             ],
             [
              0.3333333333333333,
              "#9c179e"
             ],
             [
              0.4444444444444444,
              "#bd3786"
             ],
             [
              0.5555555555555556,
              "#d8576b"
             ],
             [
              0.6666666666666666,
              "#ed7953"
             ],
             [
              0.7777777777777778,
              "#fb9f3a"
             ],
             [
              0.8888888888888888,
              "#fdca26"
             ],
             [
              1,
              "#f0f921"
             ]
            ],
            "type": "histogram2d"
           }
          ],
          "histogram2dcontour": [
           {
            "colorbar": {
             "outlinewidth": 0,
             "ticks": ""
            },
            "colorscale": [
             [
              0,
              "#0d0887"
             ],
             [
              0.1111111111111111,
              "#46039f"
             ],
             [
              0.2222222222222222,
              "#7201a8"
             ],
             [
              0.3333333333333333,
              "#9c179e"
             ],
             [
              0.4444444444444444,
              "#bd3786"
             ],
             [
              0.5555555555555556,
              "#d8576b"
             ],
             [
              0.6666666666666666,
              "#ed7953"
             ],
             [
              0.7777777777777778,
              "#fb9f3a"
             ],
             [
              0.8888888888888888,
              "#fdca26"
             ],
             [
              1,
              "#f0f921"
             ]
            ],
            "type": "histogram2dcontour"
           }
          ],
          "mesh3d": [
           {
            "colorbar": {
             "outlinewidth": 0,
             "ticks": ""
            },
            "type": "mesh3d"
           }
          ],
          "parcoords": [
           {
            "line": {
             "colorbar": {
              "outlinewidth": 0,
              "ticks": ""
             }
            },
            "type": "parcoords"
           }
          ],
          "pie": [
           {
            "automargin": true,
            "type": "pie"
           }
          ],
          "scatter": [
           {
            "fillpattern": {
             "fillmode": "overlay",
             "size": 10,
             "solidity": 0.2
            },
            "type": "scatter"
           }
          ],
          "scatter3d": [
           {
            "line": {
             "colorbar": {
              "outlinewidth": 0,
              "ticks": ""
             }
            },
            "marker": {
             "colorbar": {
              "outlinewidth": 0,
              "ticks": ""
             }
            },
            "type": "scatter3d"
           }
          ],
          "scattercarpet": [
           {
            "marker": {
             "colorbar": {
              "outlinewidth": 0,
              "ticks": ""
             }
            },
            "type": "scattercarpet"
           }
          ],
          "scattergeo": [
           {
            "marker": {
             "colorbar": {
              "outlinewidth": 0,
              "ticks": ""
             }
            },
            "type": "scattergeo"
           }
          ],
          "scattergl": [
           {
            "marker": {
             "colorbar": {
              "outlinewidth": 0,
              "ticks": ""
             }
            },
            "type": "scattergl"
           }
          ],
          "scattermapbox": [
           {
            "marker": {
             "colorbar": {
              "outlinewidth": 0,
              "ticks": ""
             }
            },
            "type": "scattermapbox"
           }
          ],
          "scatterpolar": [
           {
            "marker": {
             "colorbar": {
              "outlinewidth": 0,
              "ticks": ""
             }
            },
            "type": "scatterpolar"
           }
          ],
          "scatterpolargl": [
           {
            "marker": {
             "colorbar": {
              "outlinewidth": 0,
              "ticks": ""
             }
            },
            "type": "scatterpolargl"
           }
          ],
          "scatterternary": [
           {
            "marker": {
             "colorbar": {
              "outlinewidth": 0,
              "ticks": ""
             }
            },
            "type": "scatterternary"
           }
          ],
          "surface": [
           {
            "colorbar": {
             "outlinewidth": 0,
             "ticks": ""
            },
            "colorscale": [
             [
              0,
              "#0d0887"
             ],
             [
              0.1111111111111111,
              "#46039f"
             ],
             [
              0.2222222222222222,
              "#7201a8"
             ],
             [
              0.3333333333333333,
              "#9c179e"
             ],
             [
              0.4444444444444444,
              "#bd3786"
             ],
             [
              0.5555555555555556,
              "#d8576b"
             ],
             [
              0.6666666666666666,
              "#ed7953"
             ],
             [
              0.7777777777777778,
              "#fb9f3a"
             ],
             [
              0.8888888888888888,
              "#fdca26"
             ],
             [
              1,
              "#f0f921"
             ]
            ],
            "type": "surface"
           }
          ],
          "table": [
           {
            "cells": {
             "fill": {
              "color": "#EBF0F8"
             },
             "line": {
              "color": "white"
             }
            },
            "header": {
             "fill": {
              "color": "#C8D4E3"
             },
             "line": {
              "color": "white"
             }
            },
            "type": "table"
           }
          ]
         },
         "layout": {
          "annotationdefaults": {
           "arrowcolor": "#2a3f5f",
           "arrowhead": 0,
           "arrowwidth": 1
          },
          "autotypenumbers": "strict",
          "coloraxis": {
           "colorbar": {
            "outlinewidth": 0,
            "ticks": ""
           }
          },
          "colorscale": {
           "diverging": [
            [
             0,
             "#8e0152"
            ],
            [
             0.1,
             "#c51b7d"
            ],
            [
             0.2,
             "#de77ae"
            ],
            [
             0.3,
             "#f1b6da"
            ],
            [
             0.4,
             "#fde0ef"
            ],
            [
             0.5,
             "#f7f7f7"
            ],
            [
             0.6,
             "#e6f5d0"
            ],
            [
             0.7,
             "#b8e186"
            ],
            [
             0.8,
             "#7fbc41"
            ],
            [
             0.9,
             "#4d9221"
            ],
            [
             1,
             "#276419"
            ]
           ],
           "sequential": [
            [
             0,
             "#0d0887"
            ],
            [
             0.1111111111111111,
             "#46039f"
            ],
            [
             0.2222222222222222,
             "#7201a8"
            ],
            [
             0.3333333333333333,
             "#9c179e"
            ],
            [
             0.4444444444444444,
             "#bd3786"
            ],
            [
             0.5555555555555556,
             "#d8576b"
            ],
            [
             0.6666666666666666,
             "#ed7953"
            ],
            [
             0.7777777777777778,
             "#fb9f3a"
            ],
            [
             0.8888888888888888,
             "#fdca26"
            ],
            [
             1,
             "#f0f921"
            ]
           ],
           "sequentialminus": [
            [
             0,
             "#0d0887"
            ],
            [
             0.1111111111111111,
             "#46039f"
            ],
            [
             0.2222222222222222,
             "#7201a8"
            ],
            [
             0.3333333333333333,
             "#9c179e"
            ],
            [
             0.4444444444444444,
             "#bd3786"
            ],
            [
             0.5555555555555556,
             "#d8576b"
            ],
            [
             0.6666666666666666,
             "#ed7953"
            ],
            [
             0.7777777777777778,
             "#fb9f3a"
            ],
            [
             0.8888888888888888,
             "#fdca26"
            ],
            [
             1,
             "#f0f921"
            ]
           ]
          },
          "colorway": [
           "#636efa",
           "#EF553B",
           "#00cc96",
           "#ab63fa",
           "#FFA15A",
           "#19d3f3",
           "#FF6692",
           "#B6E880",
           "#FF97FF",
           "#FECB52"
          ],
          "font": {
           "color": "#2a3f5f"
          },
          "geo": {
           "bgcolor": "white",
           "lakecolor": "white",
           "landcolor": "white",
           "showlakes": true,
           "showland": true,
           "subunitcolor": "#C8D4E3"
          },
          "hoverlabel": {
           "align": "left"
          },
          "hovermode": "closest",
          "mapbox": {
           "style": "light"
          },
          "paper_bgcolor": "white",
          "plot_bgcolor": "white",
          "polar": {
           "angularaxis": {
            "gridcolor": "#EBF0F8",
            "linecolor": "#EBF0F8",
            "ticks": ""
           },
           "bgcolor": "white",
           "radialaxis": {
            "gridcolor": "#EBF0F8",
            "linecolor": "#EBF0F8",
            "ticks": ""
           }
          },
          "scene": {
           "xaxis": {
            "backgroundcolor": "white",
            "gridcolor": "#DFE8F3",
            "gridwidth": 2,
            "linecolor": "#EBF0F8",
            "showbackground": true,
            "ticks": "",
            "zerolinecolor": "#EBF0F8"
           },
           "yaxis": {
            "backgroundcolor": "white",
            "gridcolor": "#DFE8F3",
            "gridwidth": 2,
            "linecolor": "#EBF0F8",
            "showbackground": true,
            "ticks": "",
            "zerolinecolor": "#EBF0F8"
           },
           "zaxis": {
            "backgroundcolor": "white",
            "gridcolor": "#DFE8F3",
            "gridwidth": 2,
            "linecolor": "#EBF0F8",
            "showbackground": true,
            "ticks": "",
            "zerolinecolor": "#EBF0F8"
           }
          },
          "shapedefaults": {
           "line": {
            "color": "#2a3f5f"
           }
          },
          "ternary": {
           "aaxis": {
            "gridcolor": "#DFE8F3",
            "linecolor": "#A2B1C6",
            "ticks": ""
           },
           "baxis": {
            "gridcolor": "#DFE8F3",
            "linecolor": "#A2B1C6",
            "ticks": ""
           },
           "bgcolor": "white",
           "caxis": {
            "gridcolor": "#DFE8F3",
            "linecolor": "#A2B1C6",
            "ticks": ""
           }
          },
          "title": {
           "x": 0.05
          },
          "xaxis": {
           "automargin": true,
           "gridcolor": "#EBF0F8",
           "linecolor": "#EBF0F8",
           "ticks": "",
           "title": {
            "standoff": 15
           },
           "zerolinecolor": "#EBF0F8",
           "zerolinewidth": 2
          },
          "yaxis": {
           "automargin": true,
           "gridcolor": "#EBF0F8",
           "linecolor": "#EBF0F8",
           "ticks": "",
           "title": {
            "standoff": 15
           },
           "zerolinecolor": "#EBF0F8",
           "zerolinewidth": 2
          }
         }
        },
        "title": {
         "text": "Números Máximo e Mínimo de Tokens"
        },
        "xaxis": {
         "color": "white",
         "showgrid": false,
         "title": {
          "text": "Nota"
         }
        },
        "yaxis": {
         "color": "white",
         "title": {
          "text": "Quantidade"
         }
        }
       }
      }
     },
     "metadata": {},
     "output_type": "display_data"
    }
   ],
   "source": [
    "customdata = df_chart[['qtde_media_tokens', 'desvpad_qtde_tokens']].values\n",
    "\n",
    "# Create the figure\n",
    "fig = go.Figure()\n",
    "\n",
    "# Add the bars for max tokens\n",
    "fig.add_trace(go.Bar(\n",
    "    x=df_chart['nota_real'], \n",
    "    y=df_chart['qtde_tokens_max'], \n",
    "    name='Máximo de tokens', \n",
    "    marker_color='#FF4B4B',  # Streamlit-like red\n",
    "    hovertemplate=(\n",
    "        \"Máximo de tokens: %{y}<br>\" +\n",
    "        \"Número médio: %{customdata[0]:.2f}<br>\" +\n",
    "        \"Desvio padrão: %{customdata[1]:.2f}<extra></extra>\"     \n",
    "    ),\n",
    "    customdata=customdata\n",
    "))\n",
    "\n",
    "# Add the bars for min tokens\n",
    "fig.add_trace(go.Bar(\n",
    "    x=df_chart['nota_real'], \n",
    "    y=df_chart['qtde_tokens_min'], \n",
    "    name='Mínimo de tokens', \n",
    "    marker_color='#FF904B',  # Laranja!\n",
    "    hovertemplate=(\n",
    "        \"Mínimo de tokens: %{y}<br>\" +\n",
    "        \"Número médio: %{customdata[0]:.2f}<br>\" +\n",
    "        \"Desvio padrão: %{customdata[1]:.2f}<extra></extra>\"       \n",
    "    ),\n",
    "    customdata=customdata\n",
    "))\n",
    "\n",
    "# Update layout for better visualization\n",
    "fig.update_layout(\n",
    "    title=\"Números Máximo e Mínimo de Tokens\",\n",
    "    xaxis_title=\"Nota\",\n",
    "    yaxis_title=\"Quantidade\",\n",
    "    barmode='group',  # Grouped bars\n",
    "    legend_title=\"Legenda\",\n",
    "    template='plotly_white',\n",
    "    plot_bgcolor=\"rgba(0, 0, 0, 0)\",  # Transparent plot background\n",
    "    paper_bgcolor=\"rgba(0, 0, 0, 0)\",  # Transparent outer background\n",
    "    font=dict(color=\"white\"),  # White font for titles, labels, and text\n",
    "    xaxis=dict(\n",
    "        showgrid=False,  # Remove vertical gridlines\n",
    "        color=\"white\"    # White font for x-axis labels\n",
    "    ),\n",
    "    yaxis=dict(\n",
    "        #showgrid=False,  # Remove horizontal gridlines\n",
    "        color=\"white\"    # White font for y-axis labels\n",
    "    ),\n",
    "    hoverlabel=dict(\n",
    "        bgcolor=\"#FFFFFF\",  # Light red background for tooltip\n",
    "        font_size=12,       # Tooltip font size\n",
    "        font_color=\"black\"  # Tooltip text color\n",
    "    )\n",
    ")\n",
    "\n",
    "# Show the figure\n",
    "fig.show()\n"
   ]
  },
  {
   "cell_type": "markdown",
   "metadata": {},
   "source": [
    "Aqui vamos exibir número de tokens e types via grouped bar chart.\n",
    "\n",
    "Número MÉDIO de tokens e numero MÉDIO de types para facilitar a visualização.\n",
    "\n",
    "O \"certo\" seria ver o número total pra types e tokens mas, se fizer assim, fica difícil de visualizar para a nota zero. Pegando o número médio, o TTR se mantém mas fica melhor de visualizar."
   ]
  },
  {
   "cell_type": "code",
   "execution_count": 32,
   "metadata": {},
   "outputs": [
    {
     "data": {
      "application/vnd.plotly.v1+json": {
       "config": {
        "plotlyServerURL": "https://plot.ly"
       },
       "data": [
        {
         "customdata": [
          65.63,
          66.68,
          64.93,
          64.35,
          67.76,
          72.64
         ],
         "hovertemplate": "Média de tokens: %{y}<br>TTR: %{customdata:.2f}<extra></extra>%",
         "marker": {
          "color": "#FF4B4B"
         },
         "name": "Média de tokens",
         "type": "bar",
         "x": [
          3,
          2,
          4,
          5,
          1,
          0
         ],
         "y": [
          172.05,
          158.35,
          184.94,
          200.85,
          143.55,
          91.36
         ]
        },
        {
         "customdata": [
          65.63,
          66.68,
          64.93,
          64.35,
          67.76,
          72.64
         ],
         "hovertemplate": "Média de types: %{y}<br>TTR: %{customdata:.2f}<extra></extra>%",
         "marker": {
          "color": "#ff904b"
         },
         "name": "Média de types",
         "type": "bar",
         "x": [
          3,
          2,
          4,
          5,
          1,
          0
         ],
         "y": [
          112.91,
          105.59,
          120.08,
          129.25,
          97.27,
          66.36
         ]
        }
       ],
       "layout": {
        "barmode": "group",
        "font": {
         "color": "white"
        },
        "hoverlabel": {
         "bgcolor": "#FFFFFF",
         "font": {
          "color": "black",
          "size": 12
         }
        },
        "legend": {
         "title": {
          "text": "Legenda"
         }
        },
        "paper_bgcolor": "rgba(0, 0, 0, 0)",
        "plot_bgcolor": "rgba(0, 0, 0, 0)",
        "template": {
         "data": {
          "bar": [
           {
            "error_x": {
             "color": "#2a3f5f"
            },
            "error_y": {
             "color": "#2a3f5f"
            },
            "marker": {
             "line": {
              "color": "white",
              "width": 0.5
             },
             "pattern": {
              "fillmode": "overlay",
              "size": 10,
              "solidity": 0.2
             }
            },
            "type": "bar"
           }
          ],
          "barpolar": [
           {
            "marker": {
             "line": {
              "color": "white",
              "width": 0.5
             },
             "pattern": {
              "fillmode": "overlay",
              "size": 10,
              "solidity": 0.2
             }
            },
            "type": "barpolar"
           }
          ],
          "carpet": [
           {
            "aaxis": {
             "endlinecolor": "#2a3f5f",
             "gridcolor": "#C8D4E3",
             "linecolor": "#C8D4E3",
             "minorgridcolor": "#C8D4E3",
             "startlinecolor": "#2a3f5f"
            },
            "baxis": {
             "endlinecolor": "#2a3f5f",
             "gridcolor": "#C8D4E3",
             "linecolor": "#C8D4E3",
             "minorgridcolor": "#C8D4E3",
             "startlinecolor": "#2a3f5f"
            },
            "type": "carpet"
           }
          ],
          "choropleth": [
           {
            "colorbar": {
             "outlinewidth": 0,
             "ticks": ""
            },
            "type": "choropleth"
           }
          ],
          "contour": [
           {
            "colorbar": {
             "outlinewidth": 0,
             "ticks": ""
            },
            "colorscale": [
             [
              0,
              "#0d0887"
             ],
             [
              0.1111111111111111,
              "#46039f"
             ],
             [
              0.2222222222222222,
              "#7201a8"
             ],
             [
              0.3333333333333333,
              "#9c179e"
             ],
             [
              0.4444444444444444,
              "#bd3786"
             ],
             [
              0.5555555555555556,
              "#d8576b"
             ],
             [
              0.6666666666666666,
              "#ed7953"
             ],
             [
              0.7777777777777778,
              "#fb9f3a"
             ],
             [
              0.8888888888888888,
              "#fdca26"
             ],
             [
              1,
              "#f0f921"
             ]
            ],
            "type": "contour"
           }
          ],
          "contourcarpet": [
           {
            "colorbar": {
             "outlinewidth": 0,
             "ticks": ""
            },
            "type": "contourcarpet"
           }
          ],
          "heatmap": [
           {
            "colorbar": {
             "outlinewidth": 0,
             "ticks": ""
            },
            "colorscale": [
             [
              0,
              "#0d0887"
             ],
             [
              0.1111111111111111,
              "#46039f"
             ],
             [
              0.2222222222222222,
              "#7201a8"
             ],
             [
              0.3333333333333333,
              "#9c179e"
             ],
             [
              0.4444444444444444,
              "#bd3786"
             ],
             [
              0.5555555555555556,
              "#d8576b"
             ],
             [
              0.6666666666666666,
              "#ed7953"
             ],
             [
              0.7777777777777778,
              "#fb9f3a"
             ],
             [
              0.8888888888888888,
              "#fdca26"
             ],
             [
              1,
              "#f0f921"
             ]
            ],
            "type": "heatmap"
           }
          ],
          "heatmapgl": [
           {
            "colorbar": {
             "outlinewidth": 0,
             "ticks": ""
            },
            "colorscale": [
             [
              0,
              "#0d0887"
             ],
             [
              0.1111111111111111,
              "#46039f"
             ],
             [
              0.2222222222222222,
              "#7201a8"
             ],
             [
              0.3333333333333333,
              "#9c179e"
             ],
             [
              0.4444444444444444,
              "#bd3786"
             ],
             [
              0.5555555555555556,
              "#d8576b"
             ],
             [
              0.6666666666666666,
              "#ed7953"
             ],
             [
              0.7777777777777778,
              "#fb9f3a"
             ],
             [
              0.8888888888888888,
              "#fdca26"
             ],
             [
              1,
              "#f0f921"
             ]
            ],
            "type": "heatmapgl"
           }
          ],
          "histogram": [
           {
            "marker": {
             "pattern": {
              "fillmode": "overlay",
              "size": 10,
              "solidity": 0.2
             }
            },
            "type": "histogram"
           }
          ],
          "histogram2d": [
           {
            "colorbar": {
             "outlinewidth": 0,
             "ticks": ""
            },
            "colorscale": [
             [
              0,
              "#0d0887"
             ],
             [
              0.1111111111111111,
              "#46039f"
             ],
             [
              0.2222222222222222,
              "#7201a8"
             ],
             [
              0.3333333333333333,
              "#9c179e"
             ],
             [
              0.4444444444444444,
              "#bd3786"
             ],
             [
              0.5555555555555556,
              "#d8576b"
             ],
             [
              0.6666666666666666,
              "#ed7953"
             ],
             [
              0.7777777777777778,
              "#fb9f3a"
             ],
             [
              0.8888888888888888,
              "#fdca26"
             ],
             [
              1,
              "#f0f921"
             ]
            ],
            "type": "histogram2d"
           }
          ],
          "histogram2dcontour": [
           {
            "colorbar": {
             "outlinewidth": 0,
             "ticks": ""
            },
            "colorscale": [
             [
              0,
              "#0d0887"
             ],
             [
              0.1111111111111111,
              "#46039f"
             ],
             [
              0.2222222222222222,
              "#7201a8"
             ],
             [
              0.3333333333333333,
              "#9c179e"
             ],
             [
              0.4444444444444444,
              "#bd3786"
             ],
             [
              0.5555555555555556,
              "#d8576b"
             ],
             [
              0.6666666666666666,
              "#ed7953"
             ],
             [
              0.7777777777777778,
              "#fb9f3a"
             ],
             [
              0.8888888888888888,
              "#fdca26"
             ],
             [
              1,
              "#f0f921"
             ]
            ],
            "type": "histogram2dcontour"
           }
          ],
          "mesh3d": [
           {
            "colorbar": {
             "outlinewidth": 0,
             "ticks": ""
            },
            "type": "mesh3d"
           }
          ],
          "parcoords": [
           {
            "line": {
             "colorbar": {
              "outlinewidth": 0,
              "ticks": ""
             }
            },
            "type": "parcoords"
           }
          ],
          "pie": [
           {
            "automargin": true,
            "type": "pie"
           }
          ],
          "scatter": [
           {
            "fillpattern": {
             "fillmode": "overlay",
             "size": 10,
             "solidity": 0.2
            },
            "type": "scatter"
           }
          ],
          "scatter3d": [
           {
            "line": {
             "colorbar": {
              "outlinewidth": 0,
              "ticks": ""
             }
            },
            "marker": {
             "colorbar": {
              "outlinewidth": 0,
              "ticks": ""
             }
            },
            "type": "scatter3d"
           }
          ],
          "scattercarpet": [
           {
            "marker": {
             "colorbar": {
              "outlinewidth": 0,
              "ticks": ""
             }
            },
            "type": "scattercarpet"
           }
          ],
          "scattergeo": [
           {
            "marker": {
             "colorbar": {
              "outlinewidth": 0,
              "ticks": ""
             }
            },
            "type": "scattergeo"
           }
          ],
          "scattergl": [
           {
            "marker": {
             "colorbar": {
              "outlinewidth": 0,
              "ticks": ""
             }
            },
            "type": "scattergl"
           }
          ],
          "scattermapbox": [
           {
            "marker": {
             "colorbar": {
              "outlinewidth": 0,
              "ticks": ""
             }
            },
            "type": "scattermapbox"
           }
          ],
          "scatterpolar": [
           {
            "marker": {
             "colorbar": {
              "outlinewidth": 0,
              "ticks": ""
             }
            },
            "type": "scatterpolar"
           }
          ],
          "scatterpolargl": [
           {
            "marker": {
             "colorbar": {
              "outlinewidth": 0,
              "ticks": ""
             }
            },
            "type": "scatterpolargl"
           }
          ],
          "scatterternary": [
           {
            "marker": {
             "colorbar": {
              "outlinewidth": 0,
              "ticks": ""
             }
            },
            "type": "scatterternary"
           }
          ],
          "surface": [
           {
            "colorbar": {
             "outlinewidth": 0,
             "ticks": ""
            },
            "colorscale": [
             [
              0,
              "#0d0887"
             ],
             [
              0.1111111111111111,
              "#46039f"
             ],
             [
              0.2222222222222222,
              "#7201a8"
             ],
             [
              0.3333333333333333,
              "#9c179e"
             ],
             [
              0.4444444444444444,
              "#bd3786"
             ],
             [
              0.5555555555555556,
              "#d8576b"
             ],
             [
              0.6666666666666666,
              "#ed7953"
             ],
             [
              0.7777777777777778,
              "#fb9f3a"
             ],
             [
              0.8888888888888888,
              "#fdca26"
             ],
             [
              1,
              "#f0f921"
             ]
            ],
            "type": "surface"
           }
          ],
          "table": [
           {
            "cells": {
             "fill": {
              "color": "#EBF0F8"
             },
             "line": {
              "color": "white"
             }
            },
            "header": {
             "fill": {
              "color": "#C8D4E3"
             },
             "line": {
              "color": "white"
             }
            },
            "type": "table"
           }
          ]
         },
         "layout": {
          "annotationdefaults": {
           "arrowcolor": "#2a3f5f",
           "arrowhead": 0,
           "arrowwidth": 1
          },
          "autotypenumbers": "strict",
          "coloraxis": {
           "colorbar": {
            "outlinewidth": 0,
            "ticks": ""
           }
          },
          "colorscale": {
           "diverging": [
            [
             0,
             "#8e0152"
            ],
            [
             0.1,
             "#c51b7d"
            ],
            [
             0.2,
             "#de77ae"
            ],
            [
             0.3,
             "#f1b6da"
            ],
            [
             0.4,
             "#fde0ef"
            ],
            [
             0.5,
             "#f7f7f7"
            ],
            [
             0.6,
             "#e6f5d0"
            ],
            [
             0.7,
             "#b8e186"
            ],
            [
             0.8,
             "#7fbc41"
            ],
            [
             0.9,
             "#4d9221"
            ],
            [
             1,
             "#276419"
            ]
           ],
           "sequential": [
            [
             0,
             "#0d0887"
            ],
            [
             0.1111111111111111,
             "#46039f"
            ],
            [
             0.2222222222222222,
             "#7201a8"
            ],
            [
             0.3333333333333333,
             "#9c179e"
            ],
            [
             0.4444444444444444,
             "#bd3786"
            ],
            [
             0.5555555555555556,
             "#d8576b"
            ],
            [
             0.6666666666666666,
             "#ed7953"
            ],
            [
             0.7777777777777778,
             "#fb9f3a"
            ],
            [
             0.8888888888888888,
             "#fdca26"
            ],
            [
             1,
             "#f0f921"
            ]
           ],
           "sequentialminus": [
            [
             0,
             "#0d0887"
            ],
            [
             0.1111111111111111,
             "#46039f"
            ],
            [
             0.2222222222222222,
             "#7201a8"
            ],
            [
             0.3333333333333333,
             "#9c179e"
            ],
            [
             0.4444444444444444,
             "#bd3786"
            ],
            [
             0.5555555555555556,
             "#d8576b"
            ],
            [
             0.6666666666666666,
             "#ed7953"
            ],
            [
             0.7777777777777778,
             "#fb9f3a"
            ],
            [
             0.8888888888888888,
             "#fdca26"
            ],
            [
             1,
             "#f0f921"
            ]
           ]
          },
          "colorway": [
           "#636efa",
           "#EF553B",
           "#00cc96",
           "#ab63fa",
           "#FFA15A",
           "#19d3f3",
           "#FF6692",
           "#B6E880",
           "#FF97FF",
           "#FECB52"
          ],
          "font": {
           "color": "#2a3f5f"
          },
          "geo": {
           "bgcolor": "white",
           "lakecolor": "white",
           "landcolor": "white",
           "showlakes": true,
           "showland": true,
           "subunitcolor": "#C8D4E3"
          },
          "hoverlabel": {
           "align": "left"
          },
          "hovermode": "closest",
          "mapbox": {
           "style": "light"
          },
          "paper_bgcolor": "white",
          "plot_bgcolor": "white",
          "polar": {
           "angularaxis": {
            "gridcolor": "#EBF0F8",
            "linecolor": "#EBF0F8",
            "ticks": ""
           },
           "bgcolor": "white",
           "radialaxis": {
            "gridcolor": "#EBF0F8",
            "linecolor": "#EBF0F8",
            "ticks": ""
           }
          },
          "scene": {
           "xaxis": {
            "backgroundcolor": "white",
            "gridcolor": "#DFE8F3",
            "gridwidth": 2,
            "linecolor": "#EBF0F8",
            "showbackground": true,
            "ticks": "",
            "zerolinecolor": "#EBF0F8"
           },
           "yaxis": {
            "backgroundcolor": "white",
            "gridcolor": "#DFE8F3",
            "gridwidth": 2,
            "linecolor": "#EBF0F8",
            "showbackground": true,
            "ticks": "",
            "zerolinecolor": "#EBF0F8"
           },
           "zaxis": {
            "backgroundcolor": "white",
            "gridcolor": "#DFE8F3",
            "gridwidth": 2,
            "linecolor": "#EBF0F8",
            "showbackground": true,
            "ticks": "",
            "zerolinecolor": "#EBF0F8"
           }
          },
          "shapedefaults": {
           "line": {
            "color": "#2a3f5f"
           }
          },
          "ternary": {
           "aaxis": {
            "gridcolor": "#DFE8F3",
            "linecolor": "#A2B1C6",
            "ticks": ""
           },
           "baxis": {
            "gridcolor": "#DFE8F3",
            "linecolor": "#A2B1C6",
            "ticks": ""
           },
           "bgcolor": "white",
           "caxis": {
            "gridcolor": "#DFE8F3",
            "linecolor": "#A2B1C6",
            "ticks": ""
           }
          },
          "title": {
           "x": 0.05
          },
          "xaxis": {
           "automargin": true,
           "gridcolor": "#EBF0F8",
           "linecolor": "#EBF0F8",
           "ticks": "",
           "title": {
            "standoff": 15
           },
           "zerolinecolor": "#EBF0F8",
           "zerolinewidth": 2
          },
          "yaxis": {
           "automargin": true,
           "gridcolor": "#EBF0F8",
           "linecolor": "#EBF0F8",
           "ticks": "",
           "title": {
            "standoff": 15
           },
           "zerolinecolor": "#EBF0F8",
           "zerolinewidth": 2
          }
         }
        },
        "title": {
         "text": "Número Médio de Tokens e Types e TTR"
        },
        "xaxis": {
         "color": "white",
         "showgrid": false,
         "title": {
          "text": "Nota"
         }
        },
        "yaxis": {
         "color": "white",
         "title": {
          "text": "Quantidade"
         }
        }
       }
      }
     },
     "metadata": {},
     "output_type": "display_data"
    }
   ],
   "source": [
    "# Create the figure\n",
    "fig = go.Figure()\n",
    "\n",
    "# Add the bars for avg tokens\n",
    "fig.add_trace(go.Bar(\n",
    "    x=df_chart['nota_real'], \n",
    "    y=df_chart['qtde_media_tokens'], \n",
    "    name='Média de tokens', \n",
    "    marker_color='#FF4B4B',  # Streamlit-like red\n",
    "    hovertemplate=(\n",
    "        \"Média de tokens: %{y}<br>\" +\n",
    "        \"TTR: %{customdata:.2f}<extra></extra>%\"       \n",
    "    ),\n",
    "    customdata=df_chart['TTR']\n",
    "))\n",
    "\n",
    "# Add the bars for avg types\n",
    "fig.add_trace(go.Bar(\n",
    "    x=df_chart['nota_real'], \n",
    "    y=df_chart['qtde_media_types'], \n",
    "    name='Média de types', \n",
    "    marker_color='#FF904B',  # Nova cor, para maior contraste: laranja\n",
    "    hovertemplate=(\n",
    "        \"Média de types: %{y}<br>\" +\n",
    "        \"TTR: %{customdata:.2f}<extra></extra>%\"       \n",
    "    ),\n",
    "    customdata=df_chart['TTR']\n",
    "\n",
    "))\n",
    "\n",
    "# Update layout for better visualization\n",
    "fig.update_layout(\n",
    "    title=\"Número Médio de Tokens e Types e TTR\",\n",
    "    xaxis_title=\"Nota\",\n",
    "    yaxis_title=\"Quantidade\",\n",
    "    barmode='group',  # Grouped bars\n",
    "    legend_title=\"Legenda\",\n",
    "    template='plotly_white',\n",
    "    plot_bgcolor=\"rgba(0, 0, 0, 0)\",  # Transparent plot background\n",
    "    paper_bgcolor=\"rgba(0, 0, 0, 0)\",  # Transparent outer background\n",
    "    font=dict(color=\"white\"),  # White font for titles, labels, and text\n",
    "    xaxis=dict(\n",
    "        showgrid=False,  # Remove vertical gridlines\n",
    "        color=\"white\"    # White font for x-axis labels\n",
    "    ),\n",
    "    yaxis=dict(\n",
    "        #showgrid=False,  # Remove horizontal gridlines\n",
    "        color=\"white\"    # White font for y-axis labels\n",
    "    ),\n",
    "    hoverlabel=dict(\n",
    "        bgcolor=\"#FFFFFF\",  # Light red background for tooltip\n",
    "        font_size=12,       # Tooltip font size\n",
    "        font_color=\"black\"  # Tooltip text color\n",
    "    )\n",
    "\n",
    ")\n",
    "\n",
    "# Show the figure\n",
    "fig.show()"
   ]
  },
  {
   "cell_type": "markdown",
   "metadata": {},
   "source": [
    "Nova visualização. Scatterplot com número de tokens e types para cada texto."
   ]
  },
  {
   "cell_type": "code",
   "execution_count": 23,
   "metadata": {},
   "outputs": [
    {
     "data": {
      "text/html": [
       "<div>\n",
       "<style scoped>\n",
       "    .dataframe tbody tr th:only-of-type {\n",
       "        vertical-align: middle;\n",
       "    }\n",
       "\n",
       "    .dataframe tbody tr th {\n",
       "        vertical-align: top;\n",
       "    }\n",
       "\n",
       "    .dataframe thead th {\n",
       "        text-align: right;\n",
       "    }\n",
       "</style>\n",
       "<table border=\"1\" class=\"dataframe\">\n",
       "  <thead>\n",
       "    <tr style=\"text-align: right;\">\n",
       "      <th></th>\n",
       "      <th>file_name</th>\n",
       "      <th>content</th>\n",
       "      <th>nota</th>\n",
       "      <th>tokenized_content</th>\n",
       "      <th>token_count</th>\n",
       "      <th>types_content</th>\n",
       "      <th>types_count</th>\n",
       "      <th>num_tokens</th>\n",
       "    </tr>\n",
       "  </thead>\n",
       "  <tbody>\n",
       "    <tr>\n",
       "      <th>0</th>\n",
       "      <td>20152t4p1166n0r.docx</td>\n",
       "      <td>é inaceitável e constrangedor a violência que ...</td>\n",
       "      <td>0</td>\n",
       "      <td>[é, inaceitável, e, constrangedor, a, violênci...</td>\n",
       "      <td>106</td>\n",
       "      <td>[muitos, outras, causa, cheia, haver, ter, pod...</td>\n",
       "      <td>73</td>\n",
       "      <td>106</td>\n",
       "    </tr>\n",
       "    <tr>\n",
       "      <th>1</th>\n",
       "      <td>20152t4p1305n0r.docx</td>\n",
       "      <td>a capital paraense já foi considerada uma das ...</td>\n",
       "      <td>0</td>\n",
       "      <td>[a, capital, paraense, já, foi, considerada, u...</td>\n",
       "      <td>99</td>\n",
       "      <td>[aumentam, poucos, dele, capital, parte, seu, ...</td>\n",
       "      <td>79</td>\n",
       "      <td>99</td>\n",
       "    </tr>\n",
       "    <tr>\n",
       "      <th>2</th>\n",
       "      <td>20152t4p1477n0r.docx</td>\n",
       "      <td>a prefeitura municipal respeitosa sou a public...</td>\n",
       "      <td>0</td>\n",
       "      <td>[a, prefeitura, municipal, respeitosa, sou, a,...</td>\n",
       "      <td>65</td>\n",
       "      <td>[jornais, muitos, importante, coagir, deixar, ...</td>\n",
       "      <td>48</td>\n",
       "      <td>65</td>\n",
       "    </tr>\n",
       "    <tr>\n",
       "      <th>3</th>\n",
       "      <td>20152t4p1506n0r.docx</td>\n",
       "      <td>data de bibiana c terra para prefeitura munici...</td>\n",
       "      <td>0</td>\n",
       "      <td>[data, de, bibiana, c, terra, para, prefeitura...</td>\n",
       "      <td>95</td>\n",
       "      <td>[socorro, portanto, causa, data, disposição, p...</td>\n",
       "      <td>73</td>\n",
       "      <td>95</td>\n",
       "    </tr>\n",
       "    <tr>\n",
       "      <th>4</th>\n",
       "      <td>20152t4p1512n0r.docx</td>\n",
       "      <td>desculpe eu não conhecome a matéria azulejos v...</td>\n",
       "      <td>0</td>\n",
       "      <td>[desculpe, eu, não, conhecome, a, matéria, azu...</td>\n",
       "      <td>18</td>\n",
       "      <td>[concluídas, esta, valiosos, eu, não, forem, d...</td>\n",
       "      <td>17</td>\n",
       "      <td>18</td>\n",
       "    </tr>\n",
       "    <tr>\n",
       "      <th>...</th>\n",
       "      <td>...</td>\n",
       "      <td>...</td>\n",
       "      <td>...</td>\n",
       "      <td>...</td>\n",
       "      <td>...</td>\n",
       "      <td>...</td>\n",
       "      <td>...</td>\n",
       "      <td>...</td>\n",
       "    </tr>\n",
       "    <tr>\n",
       "      <th>2288</th>\n",
       "      <td>20152t4p936n5r.docx</td>\n",
       "      <td>belem de outubro de senhores prefeitura munici...</td>\n",
       "      <td>5</td>\n",
       "      <td>[belem, de, outubro, de, senhores, prefeitura,...</td>\n",
       "      <td>175</td>\n",
       "      <td>[alguém, poucos, quer, claros, perder, estão, ...</td>\n",
       "      <td>108</td>\n",
       "      <td>175</td>\n",
       "    </tr>\n",
       "    <tr>\n",
       "      <th>2289</th>\n",
       "      <td>20152t4p93r.docx</td>\n",
       "      <td>pará de outubro de ao senhor prefeito municipa...</td>\n",
       "      <td>5</td>\n",
       "      <td>[pará, de, outubro, de, ao, senhor, prefeito, ...</td>\n",
       "      <td>187</td>\n",
       "      <td>[encomenda, restaurados, protetivas, cacos, re...</td>\n",
       "      <td>129</td>\n",
       "      <td>187</td>\n",
       "    </tr>\n",
       "    <tr>\n",
       "      <th>2290</th>\n",
       "      <td>20152t4p953n5r.docx</td>\n",
       "      <td>pilas de outubro de prefeitura municipal de be...</td>\n",
       "      <td>5</td>\n",
       "      <td>[pilas, de, outubro, de, prefeitura, municipal...</td>\n",
       "      <td>178</td>\n",
       "      <td>[destruam, alguém, sua, outras, podemos, parte...</td>\n",
       "      <td>97</td>\n",
       "      <td>178</td>\n",
       "    </tr>\n",
       "    <tr>\n",
       "      <th>2291</th>\n",
       "      <td>20152t4p96r.docx</td>\n",
       "      <td>para a prefeitura municipal de um morador de b...</td>\n",
       "      <td>5</td>\n",
       "      <td>[para, a, prefeitura, municipal, de, um, morad...</td>\n",
       "      <td>196</td>\n",
       "      <td>[muitos, principalmente, perderemos, estão, sé...</td>\n",
       "      <td>126</td>\n",
       "      <td>196</td>\n",
       "    </tr>\n",
       "    <tr>\n",
       "      <th>2292</th>\n",
       "      <td>20152t4p997n5r.docx</td>\n",
       "      <td>cidade do belém dia de outubro de exelentíssim...</td>\n",
       "      <td>5</td>\n",
       "      <td>[cidade, do, belém, dia, de, outubro, de, exel...</td>\n",
       "      <td>260</td>\n",
       "      <td>[encomenda, mas, nome, sua, poucos, portanto, ...</td>\n",
       "      <td>154</td>\n",
       "      <td>260</td>\n",
       "    </tr>\n",
       "  </tbody>\n",
       "</table>\n",
       "<p>2293 rows × 8 columns</p>\n",
       "</div>"
      ],
      "text/plain": [
       "                 file_name                                            content  \\\n",
       "0     20152t4p1166n0r.docx  é inaceitável e constrangedor a violência que ...   \n",
       "1     20152t4p1305n0r.docx  a capital paraense já foi considerada uma das ...   \n",
       "2     20152t4p1477n0r.docx  a prefeitura municipal respeitosa sou a public...   \n",
       "3     20152t4p1506n0r.docx  data de bibiana c terra para prefeitura munici...   \n",
       "4     20152t4p1512n0r.docx  desculpe eu não conhecome a matéria azulejos v...   \n",
       "...                    ...                                                ...   \n",
       "2288   20152t4p936n5r.docx  belem de outubro de senhores prefeitura munici...   \n",
       "2289      20152t4p93r.docx  pará de outubro de ao senhor prefeito municipa...   \n",
       "2290   20152t4p953n5r.docx  pilas de outubro de prefeitura municipal de be...   \n",
       "2291      20152t4p96r.docx  para a prefeitura municipal de um morador de b...   \n",
       "2292   20152t4p997n5r.docx  cidade do belém dia de outubro de exelentíssim...   \n",
       "\n",
       "      nota                                  tokenized_content  token_count  \\\n",
       "0        0  [é, inaceitável, e, constrangedor, a, violênci...          106   \n",
       "1        0  [a, capital, paraense, já, foi, considerada, u...           99   \n",
       "2        0  [a, prefeitura, municipal, respeitosa, sou, a,...           65   \n",
       "3        0  [data, de, bibiana, c, terra, para, prefeitura...           95   \n",
       "4        0  [desculpe, eu, não, conhecome, a, matéria, azu...           18   \n",
       "...    ...                                                ...          ...   \n",
       "2288     5  [belem, de, outubro, de, senhores, prefeitura,...          175   \n",
       "2289     5  [pará, de, outubro, de, ao, senhor, prefeito, ...          187   \n",
       "2290     5  [pilas, de, outubro, de, prefeitura, municipal...          178   \n",
       "2291     5  [para, a, prefeitura, municipal, de, um, morad...          196   \n",
       "2292     5  [cidade, do, belém, dia, de, outubro, de, exel...          260   \n",
       "\n",
       "                                          types_content  types_count  \\\n",
       "0     [muitos, outras, causa, cheia, haver, ter, pod...           73   \n",
       "1     [aumentam, poucos, dele, capital, parte, seu, ...           79   \n",
       "2     [jornais, muitos, importante, coagir, deixar, ...           48   \n",
       "3     [socorro, portanto, causa, data, disposição, p...           73   \n",
       "4     [concluídas, esta, valiosos, eu, não, forem, d...           17   \n",
       "...                                                 ...          ...   \n",
       "2288  [alguém, poucos, quer, claros, perder, estão, ...          108   \n",
       "2289  [encomenda, restaurados, protetivas, cacos, re...          129   \n",
       "2290  [destruam, alguém, sua, outras, podemos, parte...           97   \n",
       "2291  [muitos, principalmente, perderemos, estão, sé...          126   \n",
       "2292  [encomenda, mas, nome, sua, poucos, portanto, ...          154   \n",
       "\n",
       "      num_tokens  \n",
       "0            106  \n",
       "1             99  \n",
       "2             65  \n",
       "3             95  \n",
       "4             18  \n",
       "...          ...  \n",
       "2288         175  \n",
       "2289         187  \n",
       "2290         178  \n",
       "2291         196  \n",
       "2292         260  \n",
       "\n",
       "[2293 rows x 8 columns]"
      ]
     },
     "execution_count": 23,
     "metadata": {},
     "output_type": "execute_result"
    }
   ],
   "source": [
    "df_va"
   ]
  },
  {
   "cell_type": "code",
   "execution_count": 36,
   "metadata": {},
   "outputs": [
    {
     "data": {
      "application/vnd.plotly.v1+json": {
       "config": {
        "plotlyServerURL": "https://plot.ly"
       },
       "data": [
        {
         "customdata": [
          [
           0
          ],
          [
           0
          ],
          [
           0
          ],
          [
           0
          ],
          [
           0
          ],
          [
           0
          ],
          [
           0
          ],
          [
           0
          ],
          [
           0
          ],
          [
           0
          ],
          [
           0
          ],
          [
           0
          ],
          [
           0
          ],
          [
           0
          ],
          [
           0
          ],
          [
           0
          ],
          [
           0
          ],
          [
           0
          ],
          [
           0
          ],
          [
           0
          ],
          [
           0
          ],
          [
           0
          ],
          [
           0
          ],
          [
           0
          ],
          [
           0
          ],
          [
           1
          ],
          [
           1
          ],
          [
           1
          ],
          [
           1
          ],
          [
           1
          ],
          [
           1
          ],
          [
           1
          ],
          [
           1
          ],
          [
           1
          ],
          [
           1
          ],
          [
           1
          ],
          [
           1
          ],
          [
           1
          ],
          [
           1
          ],
          [
           1
          ],
          [
           1
          ],
          [
           1
          ],
          [
           1
          ],
          [
           1
          ],
          [
           1
          ],
          [
           1
          ],
          [
           1
          ],
          [
           1
          ],
          [
           1
          ],
          [
           1
          ],
          [
           1
          ],
          [
           1
          ],
          [
           1
          ],
          [
           1
          ],
          [
           1
          ],
          [
           1
          ],
          [
           1
          ],
          [
           1
          ],
          [
           1
          ],
          [
           1
          ],
          [
           1
          ],
          [
           1
          ],
          [
           1
          ],
          [
           1
          ],
          [
           1
          ],
          [
           1
          ],
          [
           1
          ],
          [
           1
          ],
          [
           1
          ],
          [
           1
          ],
          [
           1
          ],
          [
           1
          ],
          [
           1
          ],
          [
           1
          ],
          [
           1
          ],
          [
           1
          ],
          [
           1
          ],
          [
           1
          ],
          [
           1
          ],
          [
           1
          ],
          [
           1
          ],
          [
           1
          ],
          [
           1
          ],
          [
           1
          ],
          [
           1
          ],
          [
           1
          ],
          [
           1
          ],
          [
           1
          ],
          [
           1
          ],
          [
           1
          ],
          [
           1
          ],
          [
           1
          ],
          [
           1
          ],
          [
           1
          ],
          [
           1
          ],
          [
           1
          ],
          [
           1
          ],
          [
           1
          ],
          [
           1
          ],
          [
           1
          ],
          [
           1
          ],
          [
           1
          ],
          [
           1
          ],
          [
           1
          ],
          [
           1
          ],
          [
           1
          ],
          [
           1
          ],
          [
           1
          ],
          [
           1
          ],
          [
           1
          ],
          [
           1
          ],
          [
           1
          ],
          [
           1
          ],
          [
           1
          ],
          [
           1
          ],
          [
           1
          ],
          [
           1
          ],
          [
           1
          ],
          [
           1
          ],
          [
           1
          ],
          [
           1
          ],
          [
           1
          ],
          [
           1
          ],
          [
           1
          ],
          [
           1
          ],
          [
           1
          ],
          [
           1
          ],
          [
           1
          ],
          [
           1
          ],
          [
           1
          ],
          [
           1
          ],
          [
           1
          ],
          [
           1
          ],
          [
           1
          ],
          [
           1
          ],
          [
           1
          ],
          [
           1
          ],
          [
           1
          ],
          [
           1
          ],
          [
           1
          ],
          [
           1
          ],
          [
           1
          ],
          [
           1
          ],
          [
           1
          ],
          [
           1
          ],
          [
           1
          ],
          [
           1
          ],
          [
           1
          ],
          [
           1
          ],
          [
           1
          ],
          [
           1
          ],
          [
           1
          ],
          [
           1
          ],
          [
           1
          ],
          [
           1
          ],
          [
           1
          ],
          [
           1
          ],
          [
           1
          ],
          [
           1
          ],
          [
           1
          ],
          [
           1
          ],
          [
           1
          ],
          [
           1
          ],
          [
           1
          ],
          [
           1
          ],
          [
           1
          ],
          [
           1
          ],
          [
           1
          ],
          [
           1
          ],
          [
           1
          ],
          [
           1
          ],
          [
           1
          ],
          [
           1
          ],
          [
           1
          ],
          [
           1
          ],
          [
           1
          ],
          [
           1
          ],
          [
           1
          ],
          [
           1
          ],
          [
           1
          ],
          [
           1
          ],
          [
           1
          ],
          [
           1
          ],
          [
           1
          ],
          [
           1
          ],
          [
           1
          ],
          [
           1
          ],
          [
           1
          ],
          [
           1
          ],
          [
           1
          ],
          [
           1
          ],
          [
           1
          ],
          [
           1
          ],
          [
           1
          ],
          [
           1
          ],
          [
           1
          ],
          [
           1
          ],
          [
           1
          ],
          [
           1
          ],
          [
           1
          ],
          [
           1
          ],
          [
           1
          ],
          [
           1
          ],
          [
           1
          ],
          [
           1
          ],
          [
           1
          ],
          [
           1
          ],
          [
           1
          ],
          [
           1
          ],
          [
           1
          ],
          [
           1
          ],
          [
           1
          ],
          [
           1
          ],
          [
           1
          ],
          [
           1
          ],
          [
           1
          ],
          [
           1
          ],
          [
           1
          ],
          [
           1
          ],
          [
           1
          ],
          [
           1
          ],
          [
           1
          ],
          [
           1
          ],
          [
           1
          ],
          [
           1
          ],
          [
           1
          ],
          [
           1
          ],
          [
           1
          ],
          [
           1
          ],
          [
           1
          ],
          [
           1
          ],
          [
           1
          ],
          [
           1
          ],
          [
           1
          ],
          [
           1
          ],
          [
           1
          ],
          [
           2
          ],
          [
           2
          ],
          [
           2
          ],
          [
           2
          ],
          [
           2
          ],
          [
           2
          ],
          [
           2
          ],
          [
           2
          ],
          [
           2
          ],
          [
           2
          ],
          [
           2
          ],
          [
           2
          ],
          [
           2
          ],
          [
           2
          ],
          [
           2
          ],
          [
           2
          ],
          [
           2
          ],
          [
           2
          ],
          [
           2
          ],
          [
           2
          ],
          [
           2
          ],
          [
           2
          ],
          [
           2
          ],
          [
           2
          ],
          [
           2
          ],
          [
           2
          ],
          [
           2
          ],
          [
           2
          ],
          [
           2
          ],
          [
           2
          ],
          [
           2
          ],
          [
           2
          ],
          [
           2
          ],
          [
           2
          ],
          [
           2
          ],
          [
           2
          ],
          [
           2
          ],
          [
           2
          ],
          [
           2
          ],
          [
           2
          ],
          [
           2
          ],
          [
           2
          ],
          [
           2
          ],
          [
           2
          ],
          [
           2
          ],
          [
           2
          ],
          [
           2
          ],
          [
           2
          ],
          [
           2
          ],
          [
           2
          ],
          [
           2
          ],
          [
           2
          ],
          [
           2
          ],
          [
           2
          ],
          [
           2
          ],
          [
           2
          ],
          [
           2
          ],
          [
           2
          ],
          [
           2
          ],
          [
           2
          ],
          [
           2
          ],
          [
           2
          ],
          [
           2
          ],
          [
           2
          ],
          [
           2
          ],
          [
           2
          ],
          [
           2
          ],
          [
           2
          ],
          [
           2
          ],
          [
           2
          ],
          [
           2
          ],
          [
           2
          ],
          [
           2
          ],
          [
           2
          ],
          [
           2
          ],
          [
           2
          ],
          [
           2
          ],
          [
           2
          ],
          [
           2
          ],
          [
           2
          ],
          [
           2
          ],
          [
           2
          ],
          [
           2
          ],
          [
           2
          ],
          [
           2
          ],
          [
           2
          ],
          [
           2
          ],
          [
           2
          ],
          [
           2
          ],
          [
           2
          ],
          [
           2
          ],
          [
           2
          ],
          [
           2
          ],
          [
           2
          ],
          [
           2
          ],
          [
           2
          ],
          [
           2
          ],
          [
           2
          ],
          [
           2
          ],
          [
           2
          ],
          [
           2
          ],
          [
           2
          ],
          [
           2
          ],
          [
           2
          ],
          [
           2
          ],
          [
           2
          ],
          [
           2
          ],
          [
           2
          ],
          [
           2
          ],
          [
           2
          ],
          [
           2
          ],
          [
           2
          ],
          [
           2
          ],
          [
           2
          ],
          [
           2
          ],
          [
           2
          ],
          [
           2
          ],
          [
           2
          ],
          [
           2
          ],
          [
           2
          ],
          [
           2
          ],
          [
           2
          ],
          [
           2
          ],
          [
           2
          ],
          [
           2
          ],
          [
           2
          ],
          [
           2
          ],
          [
           2
          ],
          [
           2
          ],
          [
           2
          ],
          [
           2
          ],
          [
           2
          ],
          [
           2
          ],
          [
           2
          ],
          [
           2
          ],
          [
           2
          ],
          [
           2
          ],
          [
           2
          ],
          [
           2
          ],
          [
           2
          ],
          [
           2
          ],
          [
           2
          ],
          [
           2
          ],
          [
           2
          ],
          [
           2
          ],
          [
           2
          ],
          [
           2
          ],
          [
           2
          ],
          [
           2
          ],
          [
           2
          ],
          [
           2
          ],
          [
           2
          ],
          [
           2
          ],
          [
           2
          ],
          [
           2
          ],
          [
           2
          ],
          [
           2
          ],
          [
           2
          ],
          [
           2
          ],
          [
           2
          ],
          [
           2
          ],
          [
           2
          ],
          [
           2
          ],
          [
           2
          ],
          [
           2
          ],
          [
           2
          ],
          [
           2
          ],
          [
           2
          ],
          [
           2
          ],
          [
           2
          ],
          [
           2
          ],
          [
           2
          ],
          [
           2
          ],
          [
           2
          ],
          [
           2
          ],
          [
           2
          ],
          [
           2
          ],
          [
           2
          ],
          [
           2
          ],
          [
           2
          ],
          [
           2
          ],
          [
           2
          ],
          [
           2
          ],
          [
           2
          ],
          [
           2
          ],
          [
           2
          ],
          [
           2
          ],
          [
           2
          ],
          [
           2
          ],
          [
           2
          ],
          [
           2
          ],
          [
           2
          ],
          [
           2
          ],
          [
           2
          ],
          [
           2
          ],
          [
           2
          ],
          [
           2
          ],
          [
           2
          ],
          [
           2
          ],
          [
           2
          ],
          [
           2
          ],
          [
           2
          ],
          [
           2
          ],
          [
           2
          ],
          [
           2
          ],
          [
           2
          ],
          [
           2
          ],
          [
           2
          ],
          [
           2
          ],
          [
           2
          ],
          [
           2
          ],
          [
           2
          ],
          [
           2
          ],
          [
           2
          ],
          [
           2
          ],
          [
           2
          ],
          [
           2
          ],
          [
           2
          ],
          [
           2
          ],
          [
           2
          ],
          [
           2
          ],
          [
           2
          ],
          [
           2
          ],
          [
           2
          ],
          [
           2
          ],
          [
           2
          ],
          [
           2
          ],
          [
           2
          ],
          [
           2
          ],
          [
           2
          ],
          [
           2
          ],
          [
           2
          ],
          [
           2
          ],
          [
           2
          ],
          [
           2
          ],
          [
           2
          ],
          [
           2
          ],
          [
           2
          ],
          [
           2
          ],
          [
           2
          ],
          [
           2
          ],
          [
           2
          ],
          [
           2
          ],
          [
           2
          ],
          [
           2
          ],
          [
           2
          ],
          [
           2
          ],
          [
           2
          ],
          [
           2
          ],
          [
           2
          ],
          [
           2
          ],
          [
           2
          ],
          [
           2
          ],
          [
           2
          ],
          [
           2
          ],
          [
           2
          ],
          [
           2
          ],
          [
           2
          ],
          [
           2
          ],
          [
           2
          ],
          [
           2
          ],
          [
           2
          ],
          [
           2
          ],
          [
           2
          ],
          [
           2
          ],
          [
           2
          ],
          [
           2
          ],
          [
           2
          ],
          [
           2
          ],
          [
           2
          ],
          [
           2
          ],
          [
           2
          ],
          [
           2
          ],
          [
           2
          ],
          [
           2
          ],
          [
           2
          ],
          [
           2
          ],
          [
           2
          ],
          [
           2
          ],
          [
           2
          ],
          [
           2
          ],
          [
           2
          ],
          [
           2
          ],
          [
           2
          ],
          [
           2
          ],
          [
           2
          ],
          [
           2
          ],
          [
           2
          ],
          [
           2
          ],
          [
           2
          ],
          [
           2
          ],
          [
           2
          ],
          [
           2
          ],
          [
           2
          ],
          [
           2
          ],
          [
           2
          ],
          [
           2
          ],
          [
           2
          ],
          [
           2
          ],
          [
           2
          ],
          [
           2
          ],
          [
           2
          ],
          [
           2
          ],
          [
           2
          ],
          [
           2
          ],
          [
           2
          ],
          [
           2
          ],
          [
           2
          ],
          [
           2
          ],
          [
           2
          ],
          [
           2
          ],
          [
           2
          ],
          [
           2
          ],
          [
           2
          ],
          [
           2
          ],
          [
           2
          ],
          [
           2
          ],
          [
           2
          ],
          [
           2
          ],
          [
           2
          ],
          [
           2
          ],
          [
           2
          ],
          [
           2
          ],
          [
           2
          ],
          [
           2
          ],
          [
           2
          ],
          [
           2
          ],
          [
           2
          ],
          [
           2
          ],
          [
           2
          ],
          [
           2
          ],
          [
           2
          ],
          [
           2
          ],
          [
           2
          ],
          [
           2
          ],
          [
           2
          ],
          [
           2
          ],
          [
           2
          ],
          [
           2
          ],
          [
           2
          ],
          [
           2
          ],
          [
           2
          ],
          [
           2
          ],
          [
           2
          ],
          [
           2
          ],
          [
           2
          ],
          [
           2
          ],
          [
           2
          ],
          [
           2
          ],
          [
           2
          ],
          [
           2
          ],
          [
           2
          ],
          [
           2
          ],
          [
           2
          ],
          [
           2
          ],
          [
           2
          ],
          [
           2
          ],
          [
           2
          ],
          [
           2
          ],
          [
           2
          ],
          [
           2
          ],
          [
           2
          ],
          [
           2
          ],
          [
           2
          ],
          [
           2
          ],
          [
           2
          ],
          [
           2
          ],
          [
           2
          ],
          [
           2
          ],
          [
           2
          ],
          [
           2
          ],
          [
           2
          ],
          [
           2
          ],
          [
           2
          ],
          [
           2
          ],
          [
           2
          ],
          [
           2
          ],
          [
           2
          ],
          [
           2
          ],
          [
           2
          ],
          [
           2
          ],
          [
           2
          ],
          [
           2
          ],
          [
           2
          ],
          [
           2
          ],
          [
           2
          ],
          [
           2
          ],
          [
           2
          ],
          [
           2
          ],
          [
           2
          ],
          [
           2
          ],
          [
           2
          ],
          [
           2
          ],
          [
           2
          ],
          [
           2
          ],
          [
           2
          ],
          [
           2
          ],
          [
           2
          ],
          [
           2
          ],
          [
           2
          ],
          [
           2
          ],
          [
           2
          ],
          [
           2
          ],
          [
           2
          ],
          [
           2
          ],
          [
           2
          ],
          [
           2
          ],
          [
           2
          ],
          [
           2
          ],
          [
           2
          ],
          [
           2
          ],
          [
           2
          ],
          [
           2
          ],
          [
           2
          ],
          [
           2
          ],
          [
           2
          ],
          [
           2
          ],
          [
           2
          ],
          [
           2
          ],
          [
           2
          ],
          [
           2
          ],
          [
           2
          ],
          [
           2
          ],
          [
           2
          ],
          [
           2
          ],
          [
           2
          ],
          [
           2
          ],
          [
           2
          ],
          [
           2
          ],
          [
           2
          ],
          [
           2
          ],
          [
           2
          ],
          [
           2
          ],
          [
           2
          ],
          [
           2
          ],
          [
           2
          ],
          [
           2
          ],
          [
           2
          ],
          [
           2
          ],
          [
           2
          ],
          [
           2
          ],
          [
           2
          ],
          [
           2
          ],
          [
           2
          ],
          [
           2
          ],
          [
           2
          ],
          [
           2
          ],
          [
           2
          ],
          [
           2
          ],
          [
           2
          ],
          [
           2
          ],
          [
           2
          ],
          [
           2
          ],
          [
           2
          ],
          [
           2
          ],
          [
           2
          ],
          [
           2
          ],
          [
           2
          ],
          [
           2
          ],
          [
           2
          ],
          [
           2
          ],
          [
           2
          ],
          [
           2
          ],
          [
           2
          ],
          [
           2
          ],
          [
           2
          ],
          [
           2
          ],
          [
           2
          ],
          [
           2
          ],
          [
           2
          ],
          [
           2
          ],
          [
           2
          ],
          [
           2
          ],
          [
           2
          ],
          [
           2
          ],
          [
           2
          ],
          [
           2
          ],
          [
           2
          ],
          [
           2
          ],
          [
           2
          ],
          [
           2
          ],
          [
           2
          ],
          [
           2
          ],
          [
           2
          ],
          [
           2
          ],
          [
           2
          ],
          [
           2
          ],
          [
           2
          ],
          [
           2
          ],
          [
           2
          ],
          [
           2
          ],
          [
           2
          ],
          [
           2
          ],
          [
           2
          ],
          [
           2
          ],
          [
           2
          ],
          [
           2
          ],
          [
           2
          ],
          [
           2
          ],
          [
           2
          ],
          [
           2
          ],
          [
           2
          ],
          [
           2
          ],
          [
           2
          ],
          [
           2
          ],
          [
           2
          ],
          [
           2
          ],
          [
           2
          ],
          [
           2
          ],
          [
           2
          ],
          [
           2
          ],
          [
           2
          ],
          [
           2
          ],
          [
           2
          ],
          [
           2
          ],
          [
           2
          ],
          [
           2
          ],
          [
           2
          ],
          [
           2
          ],
          [
           2
          ],
          [
           2
          ],
          [
           2
          ],
          [
           2
          ],
          [
           2
          ],
          [
           2
          ],
          [
           2
          ],
          [
           2
          ],
          [
           2
          ],
          [
           2
          ],
          [
           2
          ],
          [
           2
          ],
          [
           2
          ],
          [
           2
          ],
          [
           2
          ],
          [
           2
          ],
          [
           2
          ],
          [
           2
          ],
          [
           2
          ],
          [
           2
          ],
          [
           2
          ],
          [
           2
          ],
          [
           2
          ],
          [
           2
          ],
          [
           2
          ],
          [
           2
          ],
          [
           2
          ],
          [
           2
          ],
          [
           2
          ],
          [
           2
          ],
          [
           2
          ],
          [
           2
          ],
          [
           2
          ],
          [
           2
          ],
          [
           2
          ],
          [
           2
          ],
          [
           2
          ],
          [
           2
          ],
          [
           2
          ],
          [
           2
          ],
          [
           2
          ],
          [
           2
          ],
          [
           2
          ],
          [
           2
          ],
          [
           2
          ],
          [
           2
          ],
          [
           2
          ],
          [
           2
          ],
          [
           2
          ],
          [
           2
          ],
          [
           2
          ],
          [
           2
          ],
          [
           2
          ],
          [
           2
          ],
          [
           2
          ],
          [
           2
          ],
          [
           2
          ],
          [
           2
          ],
          [
           2
          ],
          [
           2
          ],
          [
           2
          ],
          [
           2
          ],
          [
           2
          ],
          [
           2
          ],
          [
           2
          ],
          [
           2
          ],
          [
           2
          ],
          [
           2
          ],
          [
           2
          ],
          [
           2
          ],
          [
           2
          ],
          [
           2
          ],
          [
           2
          ],
          [
           2
          ],
          [
           2
          ],
          [
           2
          ],
          [
           2
          ],
          [
           2
          ],
          [
           2
          ],
          [
           2
          ],
          [
           2
          ],
          [
           2
          ],
          [
           2
          ],
          [
           2
          ],
          [
           2
          ],
          [
           2
          ],
          [
           2
          ],
          [
           2
          ],
          [
           2
          ],
          [
           2
          ],
          [
           2
          ],
          [
           2
          ],
          [
           2
          ],
          [
           2
          ],
          [
           2
          ],
          [
           2
          ],
          [
           2
          ],
          [
           2
          ],
          [
           2
          ],
          [
           2
          ],
          [
           2
          ],
          [
           2
          ],
          [
           2
          ],
          [
           2
          ],
          [
           2
          ],
          [
           2
          ],
          [
           2
          ],
          [
           2
          ],
          [
           2
          ],
          [
           3
          ],
          [
           3
          ],
          [
           3
          ],
          [
           3
          ],
          [
           3
          ],
          [
           3
          ],
          [
           3
          ],
          [
           3
          ],
          [
           3
          ],
          [
           3
          ],
          [
           3
          ],
          [
           3
          ],
          [
           3
          ],
          [
           3
          ],
          [
           3
          ],
          [
           3
          ],
          [
           3
          ],
          [
           3
          ],
          [
           3
          ],
          [
           3
          ],
          [
           3
          ],
          [
           3
          ],
          [
           3
          ],
          [
           3
          ],
          [
           3
          ],
          [
           3
          ],
          [
           3
          ],
          [
           3
          ],
          [
           3
          ],
          [
           3
          ],
          [
           3
          ],
          [
           3
          ],
          [
           3
          ],
          [
           3
          ],
          [
           3
          ],
          [
           3
          ],
          [
           3
          ],
          [
           3
          ],
          [
           3
          ],
          [
           3
          ],
          [
           3
          ],
          [
           3
          ],
          [
           3
          ],
          [
           3
          ],
          [
           3
          ],
          [
           3
          ],
          [
           3
          ],
          [
           3
          ],
          [
           3
          ],
          [
           3
          ],
          [
           3
          ],
          [
           3
          ],
          [
           3
          ],
          [
           3
          ],
          [
           3
          ],
          [
           3
          ],
          [
           3
          ],
          [
           3
          ],
          [
           3
          ],
          [
           3
          ],
          [
           3
          ],
          [
           3
          ],
          [
           3
          ],
          [
           3
          ],
          [
           3
          ],
          [
           3
          ],
          [
           3
          ],
          [
           3
          ],
          [
           3
          ],
          [
           3
          ],
          [
           3
          ],
          [
           3
          ],
          [
           3
          ],
          [
           3
          ],
          [
           3
          ],
          [
           3
          ],
          [
           3
          ],
          [
           3
          ],
          [
           3
          ],
          [
           3
          ],
          [
           3
          ],
          [
           3
          ],
          [
           3
          ],
          [
           3
          ],
          [
           3
          ],
          [
           3
          ],
          [
           3
          ],
          [
           3
          ],
          [
           3
          ],
          [
           3
          ],
          [
           3
          ],
          [
           3
          ],
          [
           3
          ],
          [
           3
          ],
          [
           3
          ],
          [
           3
          ],
          [
           3
          ],
          [
           3
          ],
          [
           3
          ],
          [
           3
          ],
          [
           3
          ],
          [
           3
          ],
          [
           3
          ],
          [
           3
          ],
          [
           3
          ],
          [
           3
          ],
          [
           3
          ],
          [
           3
          ],
          [
           3
          ],
          [
           3
          ],
          [
           3
          ],
          [
           3
          ],
          [
           3
          ],
          [
           3
          ],
          [
           3
          ],
          [
           3
          ],
          [
           3
          ],
          [
           3
          ],
          [
           3
          ],
          [
           3
          ],
          [
           3
          ],
          [
           3
          ],
          [
           3
          ],
          [
           3
          ],
          [
           3
          ],
          [
           3
          ],
          [
           3
          ],
          [
           3
          ],
          [
           3
          ],
          [
           3
          ],
          [
           3
          ],
          [
           3
          ],
          [
           3
          ],
          [
           3
          ],
          [
           3
          ],
          [
           3
          ],
          [
           3
          ],
          [
           3
          ],
          [
           3
          ],
          [
           3
          ],
          [
           3
          ],
          [
           3
          ],
          [
           3
          ],
          [
           3
          ],
          [
           3
          ],
          [
           3
          ],
          [
           3
          ],
          [
           3
          ],
          [
           3
          ],
          [
           3
          ],
          [
           3
          ],
          [
           3
          ],
          [
           3
          ],
          [
           3
          ],
          [
           3
          ],
          [
           3
          ],
          [
           3
          ],
          [
           3
          ],
          [
           3
          ],
          [
           3
          ],
          [
           3
          ],
          [
           3
          ],
          [
           3
          ],
          [
           3
          ],
          [
           3
          ],
          [
           3
          ],
          [
           3
          ],
          [
           3
          ],
          [
           3
          ],
          [
           3
          ],
          [
           3
          ],
          [
           3
          ],
          [
           3
          ],
          [
           3
          ],
          [
           3
          ],
          [
           3
          ],
          [
           3
          ],
          [
           3
          ],
          [
           3
          ],
          [
           3
          ],
          [
           3
          ],
          [
           3
          ],
          [
           3
          ],
          [
           3
          ],
          [
           3
          ],
          [
           3
          ],
          [
           3
          ],
          [
           3
          ],
          [
           3
          ],
          [
           3
          ],
          [
           3
          ],
          [
           3
          ],
          [
           3
          ],
          [
           3
          ],
          [
           3
          ],
          [
           3
          ],
          [
           3
          ],
          [
           3
          ],
          [
           3
          ],
          [
           3
          ],
          [
           3
          ],
          [
           3
          ],
          [
           3
          ],
          [
           3
          ],
          [
           3
          ],
          [
           3
          ],
          [
           3
          ],
          [
           3
          ],
          [
           3
          ],
          [
           3
          ],
          [
           3
          ],
          [
           3
          ],
          [
           3
          ],
          [
           3
          ],
          [
           3
          ],
          [
           3
          ],
          [
           3
          ],
          [
           3
          ],
          [
           3
          ],
          [
           3
          ],
          [
           3
          ],
          [
           3
          ],
          [
           3
          ],
          [
           3
          ],
          [
           3
          ],
          [
           3
          ],
          [
           3
          ],
          [
           3
          ],
          [
           3
          ],
          [
           3
          ],
          [
           3
          ],
          [
           3
          ],
          [
           3
          ],
          [
           3
          ],
          [
           3
          ],
          [
           3
          ],
          [
           3
          ],
          [
           3
          ],
          [
           3
          ],
          [
           3
          ],
          [
           3
          ],
          [
           3
          ],
          [
           3
          ],
          [
           3
          ],
          [
           3
          ],
          [
           3
          ],
          [
           3
          ],
          [
           3
          ],
          [
           3
          ],
          [
           3
          ],
          [
           3
          ],
          [
           3
          ],
          [
           3
          ],
          [
           3
          ],
          [
           3
          ],
          [
           3
          ],
          [
           3
          ],
          [
           3
          ],
          [
           3
          ],
          [
           3
          ],
          [
           3
          ],
          [
           3
          ],
          [
           3
          ],
          [
           3
          ],
          [
           3
          ],
          [
           3
          ],
          [
           3
          ],
          [
           3
          ],
          [
           3
          ],
          [
           3
          ],
          [
           3
          ],
          [
           3
          ],
          [
           3
          ],
          [
           3
          ],
          [
           3
          ],
          [
           3
          ],
          [
           3
          ],
          [
           3
          ],
          [
           3
          ],
          [
           3
          ],
          [
           3
          ],
          [
           3
          ],
          [
           3
          ],
          [
           3
          ],
          [
           3
          ],
          [
           3
          ],
          [
           3
          ],
          [
           3
          ],
          [
           3
          ],
          [
           3
          ],
          [
           3
          ],
          [
           3
          ],
          [
           3
          ],
          [
           3
          ],
          [
           3
          ],
          [
           3
          ],
          [
           3
          ],
          [
           3
          ],
          [
           3
          ],
          [
           3
          ],
          [
           3
          ],
          [
           3
          ],
          [
           3
          ],
          [
           3
          ],
          [
           3
          ],
          [
           3
          ],
          [
           3
          ],
          [
           3
          ],
          [
           3
          ],
          [
           3
          ],
          [
           3
          ],
          [
           3
          ],
          [
           3
          ],
          [
           3
          ],
          [
           3
          ],
          [
           3
          ],
          [
           3
          ],
          [
           3
          ],
          [
           3
          ],
          [
           3
          ],
          [
           3
          ],
          [
           3
          ],
          [
           3
          ],
          [
           3
          ],
          [
           3
          ],
          [
           3
          ],
          [
           3
          ],
          [
           3
          ],
          [
           3
          ],
          [
           3
          ],
          [
           3
          ],
          [
           3
          ],
          [
           3
          ],
          [
           3
          ],
          [
           3
          ],
          [
           3
          ],
          [
           3
          ],
          [
           3
          ],
          [
           3
          ],
          [
           3
          ],
          [
           3
          ],
          [
           3
          ],
          [
           3
          ],
          [
           3
          ],
          [
           3
          ],
          [
           3
          ],
          [
           3
          ],
          [
           3
          ],
          [
           3
          ],
          [
           3
          ],
          [
           3
          ],
          [
           3
          ],
          [
           3
          ],
          [
           3
          ],
          [
           3
          ],
          [
           3
          ],
          [
           3
          ],
          [
           3
          ],
          [
           3
          ],
          [
           3
          ],
          [
           3
          ],
          [
           3
          ],
          [
           3
          ],
          [
           3
          ],
          [
           3
          ],
          [
           3
          ],
          [
           3
          ],
          [
           3
          ],
          [
           3
          ],
          [
           3
          ],
          [
           3
          ],
          [
           3
          ],
          [
           3
          ],
          [
           3
          ],
          [
           3
          ],
          [
           3
          ],
          [
           3
          ],
          [
           3
          ],
          [
           3
          ],
          [
           3
          ],
          [
           3
          ],
          [
           3
          ],
          [
           3
          ],
          [
           3
          ],
          [
           3
          ],
          [
           3
          ],
          [
           3
          ],
          [
           3
          ],
          [
           3
          ],
          [
           3
          ],
          [
           3
          ],
          [
           3
          ],
          [
           3
          ],
          [
           3
          ],
          [
           3
          ],
          [
           3
          ],
          [
           3
          ],
          [
           3
          ],
          [
           3
          ],
          [
           3
          ],
          [
           3
          ],
          [
           3
          ],
          [
           3
          ],
          [
           3
          ],
          [
           3
          ],
          [
           3
          ],
          [
           3
          ],
          [
           3
          ],
          [
           3
          ],
          [
           3
          ],
          [
           3
          ],
          [
           3
          ],
          [
           3
          ],
          [
           3
          ],
          [
           3
          ],
          [
           3
          ],
          [
           3
          ],
          [
           3
          ],
          [
           3
          ],
          [
           3
          ],
          [
           3
          ],
          [
           3
          ],
          [
           3
          ],
          [
           3
          ],
          [
           3
          ],
          [
           3
          ],
          [
           3
          ],
          [
           3
          ],
          [
           3
          ],
          [
           3
          ],
          [
           3
          ],
          [
           3
          ],
          [
           3
          ],
          [
           3
          ],
          [
           3
          ],
          [
           3
          ],
          [
           3
          ],
          [
           3
          ],
          [
           3
          ],
          [
           3
          ],
          [
           3
          ],
          [
           3
          ],
          [
           3
          ],
          [
           3
          ],
          [
           3
          ],
          [
           3
          ],
          [
           3
          ],
          [
           3
          ],
          [
           3
          ],
          [
           3
          ],
          [
           3
          ],
          [
           3
          ],
          [
           3
          ],
          [
           3
          ],
          [
           3
          ],
          [
           3
          ],
          [
           3
          ],
          [
           3
          ],
          [
           3
          ],
          [
           3
          ],
          [
           3
          ],
          [
           3
          ],
          [
           3
          ],
          [
           3
          ],
          [
           3
          ],
          [
           3
          ],
          [
           3
          ],
          [
           3
          ],
          [
           3
          ],
          [
           3
          ],
          [
           3
          ],
          [
           3
          ],
          [
           3
          ],
          [
           3
          ],
          [
           3
          ],
          [
           3
          ],
          [
           3
          ],
          [
           3
          ],
          [
           3
          ],
          [
           3
          ],
          [
           3
          ],
          [
           3
          ],
          [
           3
          ],
          [
           3
          ],
          [
           3
          ],
          [
           3
          ],
          [
           3
          ],
          [
           3
          ],
          [
           3
          ],
          [
           3
          ],
          [
           3
          ],
          [
           3
          ],
          [
           3
          ],
          [
           3
          ],
          [
           3
          ],
          [
           3
          ],
          [
           3
          ],
          [
           3
          ],
          [
           3
          ],
          [
           3
          ],
          [
           3
          ],
          [
           3
          ],
          [
           3
          ],
          [
           3
          ],
          [
           3
          ],
          [
           3
          ],
          [
           3
          ],
          [
           3
          ],
          [
           3
          ],
          [
           3
          ],
          [
           3
          ],
          [
           3
          ],
          [
           3
          ],
          [
           3
          ],
          [
           3
          ],
          [
           3
          ],
          [
           3
          ],
          [
           3
          ],
          [
           3
          ],
          [
           3
          ],
          [
           3
          ],
          [
           3
          ],
          [
           3
          ],
          [
           3
          ],
          [
           3
          ],
          [
           3
          ],
          [
           3
          ],
          [
           3
          ],
          [
           3
          ],
          [
           3
          ],
          [
           3
          ],
          [
           3
          ],
          [
           3
          ],
          [
           3
          ],
          [
           3
          ],
          [
           3
          ],
          [
           3
          ],
          [
           3
          ],
          [
           3
          ],
          [
           3
          ],
          [
           3
          ],
          [
           3
          ],
          [
           3
          ],
          [
           3
          ],
          [
           3
          ],
          [
           3
          ],
          [
           3
          ],
          [
           3
          ],
          [
           3
          ],
          [
           3
          ],
          [
           3
          ],
          [
           3
          ],
          [
           3
          ],
          [
           3
          ],
          [
           3
          ],
          [
           3
          ],
          [
           3
          ],
          [
           3
          ],
          [
           3
          ],
          [
           3
          ],
          [
           3
          ],
          [
           3
          ],
          [
           3
          ],
          [
           3
          ],
          [
           3
          ],
          [
           3
          ],
          [
           3
          ],
          [
           3
          ],
          [
           3
          ],
          [
           3
          ],
          [
           3
          ],
          [
           3
          ],
          [
           3
          ],
          [
           3
          ],
          [
           3
          ],
          [
           3
          ],
          [
           3
          ],
          [
           3
          ],
          [
           3
          ],
          [
           3
          ],
          [
           3
          ],
          [
           3
          ],
          [
           3
          ],
          [
           3
          ],
          [
           3
          ],
          [
           3
          ],
          [
           3
          ],
          [
           3
          ],
          [
           3
          ],
          [
           3
          ],
          [
           3
          ],
          [
           3
          ],
          [
           3
          ],
          [
           3
          ],
          [
           3
          ],
          [
           3
          ],
          [
           3
          ],
          [
           3
          ],
          [
           3
          ],
          [
           3
          ],
          [
           3
          ],
          [
           3
          ],
          [
           3
          ],
          [
           3
          ],
          [
           3
          ],
          [
           3
          ],
          [
           3
          ],
          [
           3
          ],
          [
           3
          ],
          [
           3
          ],
          [
           3
          ],
          [
           3
          ],
          [
           3
          ],
          [
           3
          ],
          [
           3
          ],
          [
           3
          ],
          [
           3
          ],
          [
           3
          ],
          [
           3
          ],
          [
           3
          ],
          [
           3
          ],
          [
           3
          ],
          [
           3
          ],
          [
           3
          ],
          [
           3
          ],
          [
           3
          ],
          [
           3
          ],
          [
           3
          ],
          [
           3
          ],
          [
           3
          ],
          [
           3
          ],
          [
           3
          ],
          [
           3
          ],
          [
           3
          ],
          [
           3
          ],
          [
           3
          ],
          [
           3
          ],
          [
           3
          ],
          [
           3
          ],
          [
           3
          ],
          [
           3
          ],
          [
           3
          ],
          [
           3
          ],
          [
           3
          ],
          [
           3
          ],
          [
           3
          ],
          [
           3
          ],
          [
           3
          ],
          [
           3
          ],
          [
           3
          ],
          [
           3
          ],
          [
           3
          ],
          [
           3
          ],
          [
           3
          ],
          [
           3
          ],
          [
           3
          ],
          [
           3
          ],
          [
           3
          ],
          [
           3
          ],
          [
           3
          ],
          [
           3
          ],
          [
           3
          ],
          [
           3
          ],
          [
           3
          ],
          [
           3
          ],
          [
           3
          ],
          [
           3
          ],
          [
           3
          ],
          [
           3
          ],
          [
           3
          ],
          [
           3
          ],
          [
           3
          ],
          [
           3
          ],
          [
           3
          ],
          [
           3
          ],
          [
           3
          ],
          [
           3
          ],
          [
           3
          ],
          [
           3
          ],
          [
           3
          ],
          [
           3
          ],
          [
           3
          ],
          [
           3
          ],
          [
           3
          ],
          [
           3
          ],
          [
           3
          ],
          [
           3
          ],
          [
           3
          ],
          [
           3
          ],
          [
           3
          ],
          [
           3
          ],
          [
           3
          ],
          [
           3
          ],
          [
           3
          ],
          [
           3
          ],
          [
           3
          ],
          [
           3
          ],
          [
           3
          ],
          [
           3
          ],
          [
           3
          ],
          [
           3
          ],
          [
           3
          ],
          [
           3
          ],
          [
           3
          ],
          [
           3
          ],
          [
           3
          ],
          [
           3
          ],
          [
           3
          ],
          [
           3
          ],
          [
           3
          ],
          [
           3
          ],
          [
           3
          ],
          [
           3
          ],
          [
           3
          ],
          [
           3
          ],
          [
           4
          ],
          [
           4
          ],
          [
           4
          ],
          [
           4
          ],
          [
           4
          ],
          [
           4
          ],
          [
           4
          ],
          [
           4
          ],
          [
           4
          ],
          [
           4
          ],
          [
           4
          ],
          [
           4
          ],
          [
           4
          ],
          [
           4
          ],
          [
           4
          ],
          [
           4
          ],
          [
           4
          ],
          [
           4
          ],
          [
           4
          ],
          [
           4
          ],
          [
           4
          ],
          [
           4
          ],
          [
           4
          ],
          [
           4
          ],
          [
           4
          ],
          [
           4
          ],
          [
           4
          ],
          [
           4
          ],
          [
           4
          ],
          [
           4
          ],
          [
           4
          ],
          [
           4
          ],
          [
           4
          ],
          [
           4
          ],
          [
           4
          ],
          [
           4
          ],
          [
           4
          ],
          [
           4
          ],
          [
           4
          ],
          [
           4
          ],
          [
           4
          ],
          [
           4
          ],
          [
           4
          ],
          [
           4
          ],
          [
           4
          ],
          [
           4
          ],
          [
           4
          ],
          [
           4
          ],
          [
           4
          ],
          [
           4
          ],
          [
           4
          ],
          [
           4
          ],
          [
           4
          ],
          [
           4
          ],
          [
           4
          ],
          [
           4
          ],
          [
           4
          ],
          [
           4
          ],
          [
           4
          ],
          [
           4
          ],
          [
           4
          ],
          [
           4
          ],
          [
           4
          ],
          [
           4
          ],
          [
           4
          ],
          [
           4
          ],
          [
           4
          ],
          [
           4
          ],
          [
           4
          ],
          [
           4
          ],
          [
           4
          ],
          [
           4
          ],
          [
           4
          ],
          [
           4
          ],
          [
           4
          ],
          [
           4
          ],
          [
           4
          ],
          [
           4
          ],
          [
           4
          ],
          [
           4
          ],
          [
           4
          ],
          [
           4
          ],
          [
           4
          ],
          [
           4
          ],
          [
           4
          ],
          [
           4
          ],
          [
           4
          ],
          [
           4
          ],
          [
           4
          ],
          [
           4
          ],
          [
           4
          ],
          [
           4
          ],
          [
           4
          ],
          [
           4
          ],
          [
           4
          ],
          [
           4
          ],
          [
           4
          ],
          [
           4
          ],
          [
           4
          ],
          [
           4
          ],
          [
           4
          ],
          [
           4
          ],
          [
           4
          ],
          [
           4
          ],
          [
           4
          ],
          [
           4
          ],
          [
           4
          ],
          [
           4
          ],
          [
           4
          ],
          [
           4
          ],
          [
           4
          ],
          [
           4
          ],
          [
           4
          ],
          [
           4
          ],
          [
           4
          ],
          [
           4
          ],
          [
           4
          ],
          [
           4
          ],
          [
           4
          ],
          [
           4
          ],
          [
           4
          ],
          [
           4
          ],
          [
           4
          ],
          [
           4
          ],
          [
           4
          ],
          [
           4
          ],
          [
           4
          ],
          [
           4
          ],
          [
           4
          ],
          [
           4
          ],
          [
           4
          ],
          [
           4
          ],
          [
           4
          ],
          [
           4
          ],
          [
           4
          ],
          [
           4
          ],
          [
           4
          ],
          [
           4
          ],
          [
           4
          ],
          [
           4
          ],
          [
           4
          ],
          [
           4
          ],
          [
           4
          ],
          [
           4
          ],
          [
           4
          ],
          [
           4
          ],
          [
           4
          ],
          [
           4
          ],
          [
           4
          ],
          [
           4
          ],
          [
           4
          ],
          [
           4
          ],
          [
           4
          ],
          [
           4
          ],
          [
           4
          ],
          [
           4
          ],
          [
           4
          ],
          [
           4
          ],
          [
           4
          ],
          [
           4
          ],
          [
           4
          ],
          [
           4
          ],
          [
           4
          ],
          [
           4
          ],
          [
           4
          ],
          [
           4
          ],
          [
           4
          ],
          [
           4
          ],
          [
           4
          ],
          [
           4
          ],
          [
           4
          ],
          [
           4
          ],
          [
           4
          ],
          [
           4
          ],
          [
           4
          ],
          [
           4
          ],
          [
           4
          ],
          [
           4
          ],
          [
           4
          ],
          [
           4
          ],
          [
           4
          ],
          [
           4
          ],
          [
           4
          ],
          [
           4
          ],
          [
           4
          ],
          [
           4
          ],
          [
           4
          ],
          [
           4
          ],
          [
           4
          ],
          [
           4
          ],
          [
           4
          ],
          [
           4
          ],
          [
           4
          ],
          [
           4
          ],
          [
           4
          ],
          [
           4
          ],
          [
           4
          ],
          [
           4
          ],
          [
           4
          ],
          [
           4
          ],
          [
           4
          ],
          [
           4
          ],
          [
           4
          ],
          [
           4
          ],
          [
           4
          ],
          [
           4
          ],
          [
           4
          ],
          [
           4
          ],
          [
           4
          ],
          [
           4
          ],
          [
           4
          ],
          [
           4
          ],
          [
           4
          ],
          [
           4
          ],
          [
           4
          ],
          [
           4
          ],
          [
           4
          ],
          [
           4
          ],
          [
           4
          ],
          [
           4
          ],
          [
           4
          ],
          [
           4
          ],
          [
           4
          ],
          [
           4
          ],
          [
           4
          ],
          [
           4
          ],
          [
           4
          ],
          [
           4
          ],
          [
           4
          ],
          [
           4
          ],
          [
           4
          ],
          [
           4
          ],
          [
           4
          ],
          [
           4
          ],
          [
           4
          ],
          [
           4
          ],
          [
           4
          ],
          [
           4
          ],
          [
           4
          ],
          [
           4
          ],
          [
           4
          ],
          [
           4
          ],
          [
           4
          ],
          [
           4
          ],
          [
           4
          ],
          [
           4
          ],
          [
           4
          ],
          [
           4
          ],
          [
           4
          ],
          [
           4
          ],
          [
           4
          ],
          [
           4
          ],
          [
           4
          ],
          [
           4
          ],
          [
           4
          ],
          [
           4
          ],
          [
           4
          ],
          [
           4
          ],
          [
           4
          ],
          [
           4
          ],
          [
           4
          ],
          [
           4
          ],
          [
           4
          ],
          [
           4
          ],
          [
           4
          ],
          [
           4
          ],
          [
           4
          ],
          [
           4
          ],
          [
           4
          ],
          [
           4
          ],
          [
           4
          ],
          [
           4
          ],
          [
           4
          ],
          [
           4
          ],
          [
           4
          ],
          [
           4
          ],
          [
           4
          ],
          [
           4
          ],
          [
           4
          ],
          [
           4
          ],
          [
           4
          ],
          [
           4
          ],
          [
           4
          ],
          [
           4
          ],
          [
           4
          ],
          [
           4
          ],
          [
           4
          ],
          [
           4
          ],
          [
           4
          ],
          [
           4
          ],
          [
           4
          ],
          [
           4
          ],
          [
           4
          ],
          [
           4
          ],
          [
           4
          ],
          [
           4
          ],
          [
           4
          ],
          [
           4
          ],
          [
           4
          ],
          [
           4
          ],
          [
           4
          ],
          [
           4
          ],
          [
           4
          ],
          [
           4
          ],
          [
           4
          ],
          [
           4
          ],
          [
           4
          ],
          [
           4
          ],
          [
           4
          ],
          [
           4
          ],
          [
           4
          ],
          [
           4
          ],
          [
           4
          ],
          [
           4
          ],
          [
           4
          ],
          [
           4
          ],
          [
           4
          ],
          [
           4
          ],
          [
           4
          ],
          [
           4
          ],
          [
           4
          ],
          [
           4
          ],
          [
           4
          ],
          [
           4
          ],
          [
           4
          ],
          [
           4
          ],
          [
           4
          ],
          [
           4
          ],
          [
           4
          ],
          [
           4
          ],
          [
           4
          ],
          [
           4
          ],
          [
           4
          ],
          [
           4
          ],
          [
           4
          ],
          [
           4
          ],
          [
           4
          ],
          [
           4
          ],
          [
           4
          ],
          [
           4
          ],
          [
           4
          ],
          [
           4
          ],
          [
           4
          ],
          [
           4
          ],
          [
           4
          ],
          [
           4
          ],
          [
           4
          ],
          [
           4
          ],
          [
           4
          ],
          [
           4
          ],
          [
           4
          ],
          [
           4
          ],
          [
           4
          ],
          [
           4
          ],
          [
           4
          ],
          [
           4
          ],
          [
           4
          ],
          [
           4
          ],
          [
           4
          ],
          [
           4
          ],
          [
           4
          ],
          [
           4
          ],
          [
           4
          ],
          [
           4
          ],
          [
           4
          ],
          [
           4
          ],
          [
           4
          ],
          [
           4
          ],
          [
           4
          ],
          [
           4
          ],
          [
           4
          ],
          [
           4
          ],
          [
           4
          ],
          [
           4
          ],
          [
           4
          ],
          [
           4
          ],
          [
           4
          ],
          [
           4
          ],
          [
           4
          ],
          [
           4
          ],
          [
           4
          ],
          [
           4
          ],
          [
           4
          ],
          [
           4
          ],
          [
           4
          ],
          [
           4
          ],
          [
           4
          ],
          [
           4
          ],
          [
           4
          ],
          [
           4
          ],
          [
           4
          ],
          [
           4
          ],
          [
           4
          ],
          [
           4
          ],
          [
           4
          ],
          [
           4
          ],
          [
           4
          ],
          [
           4
          ],
          [
           4
          ],
          [
           4
          ],
          [
           4
          ],
          [
           4
          ],
          [
           4
          ],
          [
           4
          ],
          [
           4
          ],
          [
           4
          ],
          [
           4
          ],
          [
           4
          ],
          [
           4
          ],
          [
           4
          ],
          [
           4
          ],
          [
           4
          ],
          [
           4
          ],
          [
           4
          ],
          [
           4
          ],
          [
           4
          ],
          [
           4
          ],
          [
           4
          ],
          [
           4
          ],
          [
           4
          ],
          [
           4
          ],
          [
           4
          ],
          [
           4
          ],
          [
           4
          ],
          [
           4
          ],
          [
           4
          ],
          [
           4
          ],
          [
           4
          ],
          [
           4
          ],
          [
           4
          ],
          [
           4
          ],
          [
           4
          ],
          [
           4
          ],
          [
           4
          ],
          [
           4
          ],
          [
           4
          ],
          [
           4
          ],
          [
           4
          ],
          [
           4
          ],
          [
           4
          ],
          [
           4
          ],
          [
           4
          ],
          [
           4
          ],
          [
           4
          ],
          [
           4
          ],
          [
           4
          ],
          [
           4
          ],
          [
           4
          ],
          [
           4
          ],
          [
           4
          ],
          [
           4
          ],
          [
           4
          ],
          [
           4
          ],
          [
           4
          ],
          [
           4
          ],
          [
           4
          ],
          [
           4
          ],
          [
           4
          ],
          [
           4
          ],
          [
           4
          ],
          [
           4
          ],
          [
           4
          ],
          [
           4
          ],
          [
           4
          ],
          [
           4
          ],
          [
           4
          ],
          [
           4
          ],
          [
           4
          ],
          [
           4
          ],
          [
           4
          ],
          [
           4
          ],
          [
           4
          ],
          [
           4
          ],
          [
           4
          ],
          [
           4
          ],
          [
           4
          ],
          [
           4
          ],
          [
           5
          ],
          [
           5
          ],
          [
           5
          ],
          [
           5
          ],
          [
           5
          ],
          [
           5
          ],
          [
           5
          ],
          [
           5
          ],
          [
           5
          ],
          [
           5
          ],
          [
           5
          ],
          [
           5
          ],
          [
           5
          ],
          [
           5
          ],
          [
           5
          ],
          [
           5
          ],
          [
           5
          ],
          [
           5
          ],
          [
           5
          ],
          [
           5
          ],
          [
           5
          ],
          [
           5
          ],
          [
           5
          ],
          [
           5
          ],
          [
           5
          ],
          [
           5
          ],
          [
           5
          ],
          [
           5
          ],
          [
           5
          ],
          [
           5
          ],
          [
           5
          ],
          [
           5
          ],
          [
           5
          ],
          [
           5
          ],
          [
           5
          ],
          [
           5
          ],
          [
           5
          ],
          [
           5
          ],
          [
           5
          ],
          [
           5
          ],
          [
           5
          ],
          [
           5
          ],
          [
           5
          ],
          [
           5
          ],
          [
           5
          ],
          [
           5
          ],
          [
           5
          ],
          [
           5
          ],
          [
           5
          ],
          [
           5
          ],
          [
           5
          ],
          [
           5
          ],
          [
           5
          ],
          [
           5
          ],
          [
           5
          ],
          [
           5
          ],
          [
           5
          ],
          [
           5
          ],
          [
           5
          ],
          [
           5
          ],
          [
           5
          ],
          [
           5
          ],
          [
           5
          ],
          [
           5
          ],
          [
           5
          ],
          [
           5
          ],
          [
           5
          ],
          [
           5
          ],
          [
           5
          ],
          [
           5
          ],
          [
           5
          ],
          [
           5
          ],
          [
           5
          ],
          [
           5
          ],
          [
           5
          ],
          [
           5
          ],
          [
           5
          ],
          [
           5
          ],
          [
           5
          ],
          [
           5
          ],
          [
           5
          ],
          [
           5
          ],
          [
           5
          ],
          [
           5
          ],
          [
           5
          ],
          [
           5
          ],
          [
           5
          ],
          [
           5
          ],
          [
           5
          ],
          [
           5
          ],
          [
           5
          ],
          [
           5
          ],
          [
           5
          ],
          [
           5
          ],
          [
           5
          ],
          [
           5
          ],
          [
           5
          ],
          [
           5
          ],
          [
           5
          ],
          [
           5
          ],
          [
           5
          ],
          [
           5
          ],
          [
           5
          ],
          [
           5
          ],
          [
           5
          ],
          [
           5
          ],
          [
           5
          ],
          [
           5
          ],
          [
           5
          ],
          [
           5
          ],
          [
           5
          ],
          [
           5
          ],
          [
           5
          ],
          [
           5
          ],
          [
           5
          ],
          [
           5
          ],
          [
           5
          ],
          [
           5
          ],
          [
           5
          ],
          [
           5
          ],
          [
           5
          ],
          [
           5
          ],
          [
           5
          ],
          [
           5
          ],
          [
           5
          ],
          [
           5
          ],
          [
           5
          ],
          [
           5
          ],
          [
           5
          ],
          [
           5
          ],
          [
           5
          ],
          [
           5
          ],
          [
           5
          ],
          [
           5
          ],
          [
           5
          ],
          [
           5
          ],
          [
           5
          ],
          [
           5
          ],
          [
           5
          ],
          [
           5
          ],
          [
           5
          ],
          [
           5
          ],
          [
           5
          ],
          [
           5
          ],
          [
           5
          ],
          [
           5
          ],
          [
           5
          ],
          [
           5
          ],
          [
           5
          ],
          [
           5
          ],
          [
           5
          ],
          [
           5
          ],
          [
           5
          ],
          [
           5
          ],
          [
           5
          ],
          [
           5
          ],
          [
           5
          ],
          [
           5
          ],
          [
           5
          ],
          [
           5
          ],
          [
           5
          ],
          [
           5
          ],
          [
           5
          ],
          [
           5
          ],
          [
           5
          ],
          [
           5
          ],
          [
           5
          ],
          [
           5
          ],
          [
           5
          ],
          [
           5
          ],
          [
           5
          ],
          [
           5
          ],
          [
           5
          ],
          [
           5
          ],
          [
           5
          ],
          [
           5
          ],
          [
           5
          ],
          [
           5
          ],
          [
           5
          ],
          [
           5
          ],
          [
           5
          ],
          [
           5
          ],
          [
           5
          ],
          [
           5
          ],
          [
           5
          ],
          [
           5
          ],
          [
           5
          ],
          [
           5
          ],
          [
           5
          ],
          [
           5
          ],
          [
           5
          ],
          [
           5
          ],
          [
           5
          ],
          [
           5
          ],
          [
           5
          ],
          [
           5
          ],
          [
           5
          ],
          [
           5
          ],
          [
           5
          ],
          [
           5
          ],
          [
           5
          ],
          [
           5
          ],
          [
           5
          ],
          [
           5
          ],
          [
           5
          ],
          [
           5
          ],
          [
           5
          ],
          [
           5
          ],
          [
           5
          ],
          [
           5
          ],
          [
           5
          ],
          [
           5
          ],
          [
           5
          ],
          [
           5
          ],
          [
           5
          ],
          [
           5
          ],
          [
           5
          ],
          [
           5
          ],
          [
           5
          ],
          [
           5
          ],
          [
           5
          ],
          [
           5
          ],
          [
           5
          ],
          [
           5
          ],
          [
           5
          ],
          [
           5
          ],
          [
           5
          ],
          [
           5
          ],
          [
           5
          ],
          [
           5
          ],
          [
           5
          ],
          [
           5
          ],
          [
           5
          ],
          [
           5
          ],
          [
           5
          ],
          [
           5
          ],
          [
           5
          ]
         ],
         "hoverlabel": {
          "bgcolor": "white",
          "font": {
           "color": "black",
           "size": 12
          }
         },
         "hovertemplate": "Tokens=%{x}<br>Types=%{y}<br>Nota=%{marker.color}<extra></extra>",
         "legendgroup": "",
         "marker": {
          "color": [
           0,
           0,
           0,
           0,
           0,
           0,
           0,
           0,
           0,
           0,
           0,
           0,
           0,
           0,
           0,
           0,
           0,
           0,
           0,
           0,
           0,
           0,
           0,
           0,
           0,
           1,
           1,
           1,
           1,
           1,
           1,
           1,
           1,
           1,
           1,
           1,
           1,
           1,
           1,
           1,
           1,
           1,
           1,
           1,
           1,
           1,
           1,
           1,
           1,
           1,
           1,
           1,
           1,
           1,
           1,
           1,
           1,
           1,
           1,
           1,
           1,
           1,
           1,
           1,
           1,
           1,
           1,
           1,
           1,
           1,
           1,
           1,
           1,
           1,
           1,
           1,
           1,
           1,
           1,
           1,
           1,
           1,
           1,
           1,
           1,
           1,
           1,
           1,
           1,
           1,
           1,
           1,
           1,
           1,
           1,
           1,
           1,
           1,
           1,
           1,
           1,
           1,
           1,
           1,
           1,
           1,
           1,
           1,
           1,
           1,
           1,
           1,
           1,
           1,
           1,
           1,
           1,
           1,
           1,
           1,
           1,
           1,
           1,
           1,
           1,
           1,
           1,
           1,
           1,
           1,
           1,
           1,
           1,
           1,
           1,
           1,
           1,
           1,
           1,
           1,
           1,
           1,
           1,
           1,
           1,
           1,
           1,
           1,
           1,
           1,
           1,
           1,
           1,
           1,
           1,
           1,
           1,
           1,
           1,
           1,
           1,
           1,
           1,
           1,
           1,
           1,
           1,
           1,
           1,
           1,
           1,
           1,
           1,
           1,
           1,
           1,
           1,
           1,
           1,
           1,
           1,
           1,
           1,
           1,
           1,
           1,
           1,
           1,
           1,
           1,
           1,
           1,
           1,
           1,
           1,
           1,
           1,
           1,
           1,
           1,
           1,
           1,
           1,
           1,
           1,
           1,
           1,
           1,
           1,
           1,
           1,
           1,
           1,
           1,
           1,
           1,
           1,
           1,
           1,
           1,
           1,
           1,
           1,
           1,
           1,
           1,
           1,
           1,
           1,
           1,
           1,
           1,
           1,
           1,
           1,
           1,
           2,
           2,
           2,
           2,
           2,
           2,
           2,
           2,
           2,
           2,
           2,
           2,
           2,
           2,
           2,
           2,
           2,
           2,
           2,
           2,
           2,
           2,
           2,
           2,
           2,
           2,
           2,
           2,
           2,
           2,
           2,
           2,
           2,
           2,
           2,
           2,
           2,
           2,
           2,
           2,
           2,
           2,
           2,
           2,
           2,
           2,
           2,
           2,
           2,
           2,
           2,
           2,
           2,
           2,
           2,
           2,
           2,
           2,
           2,
           2,
           2,
           2,
           2,
           2,
           2,
           2,
           2,
           2,
           2,
           2,
           2,
           2,
           2,
           2,
           2,
           2,
           2,
           2,
           2,
           2,
           2,
           2,
           2,
           2,
           2,
           2,
           2,
           2,
           2,
           2,
           2,
           2,
           2,
           2,
           2,
           2,
           2,
           2,
           2,
           2,
           2,
           2,
           2,
           2,
           2,
           2,
           2,
           2,
           2,
           2,
           2,
           2,
           2,
           2,
           2,
           2,
           2,
           2,
           2,
           2,
           2,
           2,
           2,
           2,
           2,
           2,
           2,
           2,
           2,
           2,
           2,
           2,
           2,
           2,
           2,
           2,
           2,
           2,
           2,
           2,
           2,
           2,
           2,
           2,
           2,
           2,
           2,
           2,
           2,
           2,
           2,
           2,
           2,
           2,
           2,
           2,
           2,
           2,
           2,
           2,
           2,
           2,
           2,
           2,
           2,
           2,
           2,
           2,
           2,
           2,
           2,
           2,
           2,
           2,
           2,
           2,
           2,
           2,
           2,
           2,
           2,
           2,
           2,
           2,
           2,
           2,
           2,
           2,
           2,
           2,
           2,
           2,
           2,
           2,
           2,
           2,
           2,
           2,
           2,
           2,
           2,
           2,
           2,
           2,
           2,
           2,
           2,
           2,
           2,
           2,
           2,
           2,
           2,
           2,
           2,
           2,
           2,
           2,
           2,
           2,
           2,
           2,
           2,
           2,
           2,
           2,
           2,
           2,
           2,
           2,
           2,
           2,
           2,
           2,
           2,
           2,
           2,
           2,
           2,
           2,
           2,
           2,
           2,
           2,
           2,
           2,
           2,
           2,
           2,
           2,
           2,
           2,
           2,
           2,
           2,
           2,
           2,
           2,
           2,
           2,
           2,
           2,
           2,
           2,
           2,
           2,
           2,
           2,
           2,
           2,
           2,
           2,
           2,
           2,
           2,
           2,
           2,
           2,
           2,
           2,
           2,
           2,
           2,
           2,
           2,
           2,
           2,
           2,
           2,
           2,
           2,
           2,
           2,
           2,
           2,
           2,
           2,
           2,
           2,
           2,
           2,
           2,
           2,
           2,
           2,
           2,
           2,
           2,
           2,
           2,
           2,
           2,
           2,
           2,
           2,
           2,
           2,
           2,
           2,
           2,
           2,
           2,
           2,
           2,
           2,
           2,
           2,
           2,
           2,
           2,
           2,
           2,
           2,
           2,
           2,
           2,
           2,
           2,
           2,
           2,
           2,
           2,
           2,
           2,
           2,
           2,
           2,
           2,
           2,
           2,
           2,
           2,
           2,
           2,
           2,
           2,
           2,
           2,
           2,
           2,
           2,
           2,
           2,
           2,
           2,
           2,
           2,
           2,
           2,
           2,
           2,
           2,
           2,
           2,
           2,
           2,
           2,
           2,
           2,
           2,
           2,
           2,
           2,
           2,
           2,
           2,
           2,
           2,
           2,
           2,
           2,
           2,
           2,
           2,
           2,
           2,
           2,
           2,
           2,
           2,
           2,
           2,
           2,
           2,
           2,
           2,
           2,
           2,
           2,
           2,
           2,
           2,
           2,
           2,
           2,
           2,
           2,
           2,
           2,
           2,
           2,
           2,
           2,
           2,
           2,
           2,
           2,
           2,
           2,
           2,
           2,
           2,
           2,
           2,
           2,
           2,
           2,
           2,
           2,
           2,
           2,
           2,
           2,
           2,
           2,
           2,
           2,
           2,
           2,
           2,
           2,
           2,
           2,
           2,
           2,
           2,
           2,
           2,
           2,
           2,
           2,
           2,
           2,
           2,
           2,
           2,
           2,
           2,
           2,
           2,
           2,
           2,
           2,
           2,
           2,
           2,
           2,
           2,
           2,
           2,
           2,
           2,
           2,
           2,
           2,
           2,
           2,
           2,
           2,
           2,
           2,
           2,
           2,
           2,
           2,
           2,
           2,
           2,
           2,
           2,
           2,
           2,
           2,
           2,
           2,
           2,
           2,
           2,
           2,
           2,
           2,
           2,
           2,
           2,
           2,
           2,
           2,
           2,
           2,
           2,
           2,
           2,
           2,
           2,
           2,
           2,
           2,
           2,
           2,
           2,
           2,
           2,
           2,
           2,
           2,
           2,
           2,
           2,
           2,
           2,
           2,
           2,
           2,
           2,
           2,
           2,
           2,
           2,
           2,
           2,
           2,
           2,
           2,
           2,
           2,
           2,
           2,
           2,
           2,
           2,
           2,
           2,
           2,
           2,
           2,
           2,
           2,
           2,
           2,
           2,
           2,
           2,
           2,
           2,
           2,
           2,
           2,
           2,
           2,
           2,
           2,
           2,
           2,
           2,
           2,
           2,
           2,
           2,
           2,
           2,
           2,
           2,
           2,
           2,
           2,
           2,
           2,
           2,
           2,
           2,
           2,
           2,
           2,
           2,
           2,
           2,
           2,
           2,
           2,
           2,
           2,
           2,
           2,
           2,
           2,
           2,
           2,
           2,
           2,
           2,
           2,
           2,
           2,
           2,
           2,
           2,
           2,
           2,
           3,
           3,
           3,
           3,
           3,
           3,
           3,
           3,
           3,
           3,
           3,
           3,
           3,
           3,
           3,
           3,
           3,
           3,
           3,
           3,
           3,
           3,
           3,
           3,
           3,
           3,
           3,
           3,
           3,
           3,
           3,
           3,
           3,
           3,
           3,
           3,
           3,
           3,
           3,
           3,
           3,
           3,
           3,
           3,
           3,
           3,
           3,
           3,
           3,
           3,
           3,
           3,
           3,
           3,
           3,
           3,
           3,
           3,
           3,
           3,
           3,
           3,
           3,
           3,
           3,
           3,
           3,
           3,
           3,
           3,
           3,
           3,
           3,
           3,
           3,
           3,
           3,
           3,
           3,
           3,
           3,
           3,
           3,
           3,
           3,
           3,
           3,
           3,
           3,
           3,
           3,
           3,
           3,
           3,
           3,
           3,
           3,
           3,
           3,
           3,
           3,
           3,
           3,
           3,
           3,
           3,
           3,
           3,
           3,
           3,
           3,
           3,
           3,
           3,
           3,
           3,
           3,
           3,
           3,
           3,
           3,
           3,
           3,
           3,
           3,
           3,
           3,
           3,
           3,
           3,
           3,
           3,
           3,
           3,
           3,
           3,
           3,
           3,
           3,
           3,
           3,
           3,
           3,
           3,
           3,
           3,
           3,
           3,
           3,
           3,
           3,
           3,
           3,
           3,
           3,
           3,
           3,
           3,
           3,
           3,
           3,
           3,
           3,
           3,
           3,
           3,
           3,
           3,
           3,
           3,
           3,
           3,
           3,
           3,
           3,
           3,
           3,
           3,
           3,
           3,
           3,
           3,
           3,
           3,
           3,
           3,
           3,
           3,
           3,
           3,
           3,
           3,
           3,
           3,
           3,
           3,
           3,
           3,
           3,
           3,
           3,
           3,
           3,
           3,
           3,
           3,
           3,
           3,
           3,
           3,
           3,
           3,
           3,
           3,
           3,
           3,
           3,
           3,
           3,
           3,
           3,
           3,
           3,
           3,
           3,
           3,
           3,
           3,
           3,
           3,
           3,
           3,
           3,
           3,
           3,
           3,
           3,
           3,
           3,
           3,
           3,
           3,
           3,
           3,
           3,
           3,
           3,
           3,
           3,
           3,
           3,
           3,
           3,
           3,
           3,
           3,
           3,
           3,
           3,
           3,
           3,
           3,
           3,
           3,
           3,
           3,
           3,
           3,
           3,
           3,
           3,
           3,
           3,
           3,
           3,
           3,
           3,
           3,
           3,
           3,
           3,
           3,
           3,
           3,
           3,
           3,
           3,
           3,
           3,
           3,
           3,
           3,
           3,
           3,
           3,
           3,
           3,
           3,
           3,
           3,
           3,
           3,
           3,
           3,
           3,
           3,
           3,
           3,
           3,
           3,
           3,
           3,
           3,
           3,
           3,
           3,
           3,
           3,
           3,
           3,
           3,
           3,
           3,
           3,
           3,
           3,
           3,
           3,
           3,
           3,
           3,
           3,
           3,
           3,
           3,
           3,
           3,
           3,
           3,
           3,
           3,
           3,
           3,
           3,
           3,
           3,
           3,
           3,
           3,
           3,
           3,
           3,
           3,
           3,
           3,
           3,
           3,
           3,
           3,
           3,
           3,
           3,
           3,
           3,
           3,
           3,
           3,
           3,
           3,
           3,
           3,
           3,
           3,
           3,
           3,
           3,
           3,
           3,
           3,
           3,
           3,
           3,
           3,
           3,
           3,
           3,
           3,
           3,
           3,
           3,
           3,
           3,
           3,
           3,
           3,
           3,
           3,
           3,
           3,
           3,
           3,
           3,
           3,
           3,
           3,
           3,
           3,
           3,
           3,
           3,
           3,
           3,
           3,
           3,
           3,
           3,
           3,
           3,
           3,
           3,
           3,
           3,
           3,
           3,
           3,
           3,
           3,
           3,
           3,
           3,
           3,
           3,
           3,
           3,
           3,
           3,
           3,
           3,
           3,
           3,
           3,
           3,
           3,
           3,
           3,
           3,
           3,
           3,
           3,
           3,
           3,
           3,
           3,
           3,
           3,
           3,
           3,
           3,
           3,
           3,
           3,
           3,
           3,
           3,
           3,
           3,
           3,
           3,
           3,
           3,
           3,
           3,
           3,
           3,
           3,
           3,
           3,
           3,
           3,
           3,
           3,
           3,
           3,
           3,
           3,
           3,
           3,
           3,
           3,
           3,
           3,
           3,
           3,
           3,
           3,
           3,
           3,
           3,
           3,
           3,
           3,
           3,
           3,
           3,
           3,
           3,
           3,
           3,
           3,
           3,
           3,
           3,
           3,
           3,
           3,
           3,
           3,
           3,
           3,
           3,
           3,
           3,
           3,
           3,
           3,
           3,
           3,
           3,
           3,
           3,
           3,
           3,
           3,
           3,
           3,
           3,
           3,
           3,
           3,
           3,
           3,
           3,
           3,
           3,
           3,
           3,
           3,
           3,
           3,
           3,
           3,
           3,
           3,
           3,
           3,
           3,
           3,
           3,
           3,
           3,
           3,
           3,
           3,
           3,
           3,
           3,
           3,
           3,
           3,
           3,
           3,
           3,
           3,
           3,
           3,
           3,
           3,
           3,
           3,
           3,
           3,
           3,
           3,
           3,
           3,
           3,
           3,
           3,
           3,
           3,
           3,
           3,
           3,
           3,
           3,
           3,
           3,
           3,
           3,
           3,
           3,
           3,
           3,
           3,
           3,
           3,
           3,
           3,
           3,
           3,
           3,
           3,
           3,
           3,
           3,
           3,
           3,
           3,
           3,
           3,
           3,
           3,
           3,
           3,
           3,
           3,
           3,
           3,
           3,
           3,
           3,
           3,
           3,
           3,
           3,
           3,
           3,
           3,
           3,
           3,
           3,
           3,
           3,
           3,
           3,
           3,
           3,
           3,
           3,
           3,
           3,
           3,
           3,
           3,
           3,
           3,
           3,
           3,
           3,
           3,
           3,
           3,
           3,
           3,
           3,
           3,
           3,
           3,
           3,
           3,
           3,
           3,
           3,
           3,
           3,
           3,
           3,
           3,
           3,
           3,
           3,
           3,
           3,
           3,
           3,
           3,
           3,
           3,
           3,
           3,
           3,
           3,
           3,
           3,
           3,
           3,
           3,
           3,
           3,
           3,
           3,
           3,
           3,
           3,
           3,
           3,
           3,
           3,
           3,
           3,
           3,
           3,
           3,
           3,
           3,
           4,
           4,
           4,
           4,
           4,
           4,
           4,
           4,
           4,
           4,
           4,
           4,
           4,
           4,
           4,
           4,
           4,
           4,
           4,
           4,
           4,
           4,
           4,
           4,
           4,
           4,
           4,
           4,
           4,
           4,
           4,
           4,
           4,
           4,
           4,
           4,
           4,
           4,
           4,
           4,
           4,
           4,
           4,
           4,
           4,
           4,
           4,
           4,
           4,
           4,
           4,
           4,
           4,
           4,
           4,
           4,
           4,
           4,
           4,
           4,
           4,
           4,
           4,
           4,
           4,
           4,
           4,
           4,
           4,
           4,
           4,
           4,
           4,
           4,
           4,
           4,
           4,
           4,
           4,
           4,
           4,
           4,
           4,
           4,
           4,
           4,
           4,
           4,
           4,
           4,
           4,
           4,
           4,
           4,
           4,
           4,
           4,
           4,
           4,
           4,
           4,
           4,
           4,
           4,
           4,
           4,
           4,
           4,
           4,
           4,
           4,
           4,
           4,
           4,
           4,
           4,
           4,
           4,
           4,
           4,
           4,
           4,
           4,
           4,
           4,
           4,
           4,
           4,
           4,
           4,
           4,
           4,
           4,
           4,
           4,
           4,
           4,
           4,
           4,
           4,
           4,
           4,
           4,
           4,
           4,
           4,
           4,
           4,
           4,
           4,
           4,
           4,
           4,
           4,
           4,
           4,
           4,
           4,
           4,
           4,
           4,
           4,
           4,
           4,
           4,
           4,
           4,
           4,
           4,
           4,
           4,
           4,
           4,
           4,
           4,
           4,
           4,
           4,
           4,
           4,
           4,
           4,
           4,
           4,
           4,
           4,
           4,
           4,
           4,
           4,
           4,
           4,
           4,
           4,
           4,
           4,
           4,
           4,
           4,
           4,
           4,
           4,
           4,
           4,
           4,
           4,
           4,
           4,
           4,
           4,
           4,
           4,
           4,
           4,
           4,
           4,
           4,
           4,
           4,
           4,
           4,
           4,
           4,
           4,
           4,
           4,
           4,
           4,
           4,
           4,
           4,
           4,
           4,
           4,
           4,
           4,
           4,
           4,
           4,
           4,
           4,
           4,
           4,
           4,
           4,
           4,
           4,
           4,
           4,
           4,
           4,
           4,
           4,
           4,
           4,
           4,
           4,
           4,
           4,
           4,
           4,
           4,
           4,
           4,
           4,
           4,
           4,
           4,
           4,
           4,
           4,
           4,
           4,
           4,
           4,
           4,
           4,
           4,
           4,
           4,
           4,
           4,
           4,
           4,
           4,
           4,
           4,
           4,
           4,
           4,
           4,
           4,
           4,
           4,
           4,
           4,
           4,
           4,
           4,
           4,
           4,
           4,
           4,
           4,
           4,
           4,
           4,
           4,
           4,
           4,
           4,
           4,
           4,
           4,
           4,
           4,
           4,
           4,
           4,
           4,
           4,
           4,
           4,
           4,
           4,
           4,
           4,
           4,
           4,
           4,
           4,
           4,
           4,
           4,
           4,
           4,
           4,
           4,
           4,
           4,
           4,
           4,
           4,
           4,
           4,
           4,
           4,
           4,
           4,
           4,
           4,
           4,
           4,
           4,
           4,
           4,
           4,
           4,
           4,
           4,
           4,
           4,
           4,
           4,
           4,
           4,
           4,
           4,
           4,
           4,
           4,
           4,
           4,
           4,
           4,
           4,
           4,
           4,
           4,
           4,
           4,
           4,
           4,
           4,
           4,
           4,
           4,
           4,
           4,
           4,
           4,
           4,
           4,
           4,
           4,
           4,
           4,
           4,
           4,
           4,
           4,
           4,
           4,
           4,
           4,
           4,
           4,
           4,
           4,
           4,
           4,
           4,
           4,
           4,
           4,
           4,
           4,
           4,
           4,
           4,
           4,
           4,
           4,
           4,
           4,
           4,
           4,
           4,
           4,
           4,
           4,
           4,
           4,
           4,
           4,
           4,
           4,
           4,
           4,
           4,
           4,
           4,
           4,
           4,
           4,
           4,
           4,
           4,
           4,
           4,
           4,
           4,
           4,
           4,
           4,
           4,
           4,
           4,
           4,
           4,
           4,
           4,
           4,
           4,
           4,
           4,
           4,
           4,
           4,
           4,
           4,
           4,
           4,
           4,
           4,
           4,
           4,
           5,
           5,
           5,
           5,
           5,
           5,
           5,
           5,
           5,
           5,
           5,
           5,
           5,
           5,
           5,
           5,
           5,
           5,
           5,
           5,
           5,
           5,
           5,
           5,
           5,
           5,
           5,
           5,
           5,
           5,
           5,
           5,
           5,
           5,
           5,
           5,
           5,
           5,
           5,
           5,
           5,
           5,
           5,
           5,
           5,
           5,
           5,
           5,
           5,
           5,
           5,
           5,
           5,
           5,
           5,
           5,
           5,
           5,
           5,
           5,
           5,
           5,
           5,
           5,
           5,
           5,
           5,
           5,
           5,
           5,
           5,
           5,
           5,
           5,
           5,
           5,
           5,
           5,
           5,
           5,
           5,
           5,
           5,
           5,
           5,
           5,
           5,
           5,
           5,
           5,
           5,
           5,
           5,
           5,
           5,
           5,
           5,
           5,
           5,
           5,
           5,
           5,
           5,
           5,
           5,
           5,
           5,
           5,
           5,
           5,
           5,
           5,
           5,
           5,
           5,
           5,
           5,
           5,
           5,
           5,
           5,
           5,
           5,
           5,
           5,
           5,
           5,
           5,
           5,
           5,
           5,
           5,
           5,
           5,
           5,
           5,
           5,
           5,
           5,
           5,
           5,
           5,
           5,
           5,
           5,
           5,
           5,
           5,
           5,
           5,
           5,
           5,
           5,
           5,
           5,
           5,
           5,
           5,
           5,
           5,
           5,
           5,
           5,
           5,
           5,
           5,
           5,
           5,
           5,
           5,
           5,
           5,
           5,
           5,
           5,
           5,
           5,
           5,
           5,
           5,
           5,
           5,
           5,
           5,
           5,
           5,
           5,
           5,
           5,
           5,
           5,
           5,
           5,
           5,
           5,
           5,
           5,
           5,
           5,
           5,
           5,
           5,
           5,
           5,
           5,
           5,
           5,
           5,
           5,
           5,
           5,
           5,
           5,
           5,
           5,
           5,
           5,
           5,
           5,
           5,
           5,
           5,
           5,
           5,
           5,
           5,
           5,
           5,
           5,
           5,
           5,
           5,
           5,
           5,
           5,
           5,
           5
          ],
          "coloraxis": "coloraxis",
          "symbol": "circle"
         },
         "mode": "markers",
         "name": "",
         "showlegend": false,
         "type": "scattergl",
         "x": [
          106,
          99,
          65,
          95,
          18,
          200,
          21,
          37,
          22,
          87,
          17,
          48,
          167,
          93,
          106,
          168,
          92,
          65,
          83,
          24,
          146,
          110,
          95,
          153,
          167,
          69,
          152,
          137,
          222,
          69,
          84,
          151,
          183,
          106,
          73,
          66,
          187,
          187,
          148,
          124,
          140,
          215,
          115,
          178,
          146,
          109,
          112,
          122,
          173,
          83,
          119,
          156,
          47,
          142,
          102,
          188,
          167,
          212,
          62,
          159,
          158,
          127,
          209,
          113,
          118,
          321,
          101,
          126,
          191,
          150,
          259,
          104,
          169,
          106,
          135,
          164,
          194,
          119,
          161,
          182,
          166,
          178,
          123,
          163,
          129,
          196,
          187,
          115,
          169,
          222,
          161,
          76,
          143,
          199,
          91,
          143,
          86,
          116,
          196,
          100,
          135,
          150,
          162,
          99,
          116,
          95,
          196,
          158,
          155,
          93,
          251,
          174,
          172,
          202,
          80,
          125,
          149,
          83,
          174,
          104,
          180,
          191,
          100,
          172,
          115,
          96,
          169,
          177,
          141,
          85,
          68,
          131,
          184,
          85,
          144,
          136,
          186,
          191,
          114,
          175,
          87,
          210,
          162,
          175,
          124,
          155,
          133,
          192,
          108,
          147,
          156,
          177,
          179,
          208,
          216,
          124,
          116,
          117,
          72,
          151,
          159,
          88,
          119,
          44,
          89,
          132,
          151,
          224,
          116,
          162,
          126,
          227,
          124,
          97,
          107,
          246,
          61,
          89,
          196,
          145,
          187,
          166,
          71,
          187,
          97,
          65,
          86,
          239,
          58,
          138,
          223,
          203,
          132,
          145,
          172,
          147,
          86,
          166,
          104,
          161,
          209,
          188,
          74,
          108,
          149,
          134,
          105,
          233,
          139,
          153,
          183,
          183,
          139,
          215,
          158,
          119,
          140,
          155,
          127,
          80,
          133,
          143,
          125,
          136,
          118,
          123,
          221,
          168,
          129,
          113,
          77,
          67,
          230,
          110,
          124,
          153,
          192,
          192,
          124,
          79,
          125,
          162,
          167,
          176,
          150,
          201,
          173,
          146,
          80,
          215,
          102,
          172,
          104,
          165,
          95,
          167,
          214,
          137,
          129,
          48,
          123,
          113,
          162,
          114,
          117,
          141,
          127,
          169,
          87,
          164,
          167,
          177,
          157,
          140,
          294,
          157,
          164,
          338,
          114,
          133,
          97,
          178,
          153,
          123,
          200,
          149,
          182,
          217,
          169,
          135,
          233,
          157,
          85,
          228,
          215,
          177,
          237,
          230,
          100,
          154,
          130,
          182,
          153,
          185,
          165,
          121,
          201,
          127,
          184,
          127,
          134,
          106,
          157,
          116,
          190,
          209,
          179,
          165,
          111,
          201,
          211,
          214,
          123,
          263,
          183,
          215,
          128,
          188,
          159,
          201,
          134,
          156,
          137,
          223,
          146,
          214,
          185,
          184,
          155,
          189,
          238,
          91,
          205,
          84,
          127,
          145,
          110,
          193,
          149,
          108,
          175,
          155,
          138,
          154,
          97,
          215,
          100,
          194,
          134,
          91,
          128,
          179,
          164,
          135,
          155,
          118,
          119,
          233,
          191,
          116,
          173,
          104,
          76,
          238,
          134,
          194,
          140,
          158,
          145,
          225,
          95,
          171,
          133,
          161,
          124,
          126,
          153,
          158,
          188,
          164,
          125,
          113,
          233,
          156,
          156,
          202,
          121,
          303,
          110,
          170,
          143,
          118,
          130,
          189,
          246,
          121,
          141,
          190,
          156,
          107,
          216,
          124,
          176,
          171,
          191,
          212,
          213,
          228,
          131,
          155,
          119,
          100,
          146,
          174,
          153,
          199,
          162,
          74,
          197,
          252,
          115,
          122,
          130,
          148,
          107,
          186,
          170,
          173,
          175,
          164,
          171,
          202,
          193,
          91,
          153,
          132,
          181,
          178,
          191,
          108,
          185,
          225,
          152,
          70,
          123,
          105,
          160,
          153,
          87,
          163,
          214,
          184,
          201,
          130,
          95,
          190,
          183,
          133,
          97,
          82,
          160,
          128,
          79,
          163,
          132,
          178,
          130,
          109,
          202,
          228,
          77,
          266,
          168,
          121,
          95,
          148,
          104,
          97,
          135,
          181,
          205,
          161,
          116,
          155,
          157,
          173,
          191,
          136,
          158,
          217,
          175,
          122,
          149,
          208,
          148,
          121,
          193,
          123,
          137,
          168,
          160,
          171,
          123,
          139,
          143,
          218,
          143,
          191,
          203,
          136,
          281,
          221,
          205,
          185,
          176,
          104,
          213,
          130,
          83,
          107,
          147,
          95,
          110,
          152,
          219,
          125,
          172,
          201,
          178,
          190,
          111,
          177,
          140,
          187,
          147,
          97,
          135,
          284,
          225,
          232,
          205,
          125,
          161,
          107,
          202,
          123,
          198,
          120,
          96,
          175,
          207,
          241,
          110,
          153,
          190,
          136,
          171,
          321,
          215,
          141,
          82,
          185,
          104,
          168,
          120,
          132,
          128,
          156,
          161,
          155,
          142,
          153,
          190,
          195,
          132,
          160,
          154,
          175,
          96,
          156,
          101,
          140,
          163,
          273,
          143,
          189,
          108,
          97,
          171,
          134,
          135,
          103,
          214,
          90,
          179,
          247,
          137,
          215,
          144,
          208,
          83,
          188,
          205,
          176,
          192,
          144,
          183,
          184,
          158,
          152,
          117,
          181,
          144,
          154,
          130,
          90,
          189,
          139,
          234,
          193,
          204,
          232,
          128,
          131,
          197,
          126,
          122,
          110,
          195,
          192,
          176,
          195,
          140,
          183,
          125,
          103,
          127,
          108,
          194,
          162,
          174,
          249,
          188,
          165,
          213,
          141,
          109,
          168,
          77,
          147,
          91,
          184,
          228,
          68,
          164,
          192,
          172,
          158,
          190,
          253,
          174,
          130,
          127,
          169,
          110,
          147,
          150,
          88,
          171,
          139,
          134,
          197,
          236,
          140,
          105,
          179,
          145,
          143,
          241,
          152,
          219,
          207,
          240,
          167,
          185,
          157,
          122,
          178,
          108,
          167,
          91,
          142,
          131,
          67,
          138,
          169,
          120,
          157,
          116,
          168,
          108,
          123,
          116,
          165,
          82,
          234,
          192,
          236,
          229,
          133,
          231,
          88,
          182,
          214,
          153,
          154,
          106,
          212,
          168,
          202,
          124,
          235,
          140,
          109,
          168,
          168,
          175,
          168,
          177,
          222,
          145,
          141,
          271,
          213,
          156,
          121,
          178,
          147,
          217,
          123,
          132,
          92,
          89,
          141,
          191,
          148,
          215,
          146,
          184,
          170,
          333,
          128,
          123,
          140,
          115,
          191,
          181,
          172,
          202,
          110,
          198,
          186,
          142,
          193,
          118,
          146,
          197,
          144,
          128,
          202,
          135,
          227,
          172,
          121,
          98,
          129,
          121,
          81,
          206,
          235,
          148,
          220,
          163,
          171,
          156,
          173,
          144,
          121,
          162,
          121,
          89,
          179,
          169,
          159,
          98,
          119,
          117,
          132,
          128,
          105,
          134,
          275,
          157,
          164,
          138,
          165,
          185,
          76,
          150,
          210,
          112,
          151,
          102,
          167,
          109,
          168,
          241,
          130,
          202,
          133,
          133,
          162,
          75,
          188,
          159,
          107,
          133,
          161,
          180,
          174,
          231,
          123,
          146,
          131,
          183,
          174,
          268,
          145,
          121,
          172,
          100,
          176,
          230,
          109,
          143,
          145,
          172,
          155,
          203,
          154,
          118,
          107,
          102,
          79,
          240,
          137,
          174,
          209,
          152,
          190,
          165,
          171,
          192,
          193,
          210,
          152,
          206,
          112,
          155,
          129,
          163,
          207,
          117,
          185,
          133,
          195,
          175,
          169,
          169,
          178,
          122,
          157,
          194,
          222,
          208,
          184,
          148,
          171,
          227,
          155,
          226,
          156,
          213,
          201,
          124,
          199,
          170,
          153,
          165,
          130,
          181,
          144,
          128,
          119,
          200,
          221,
          209,
          233,
          187,
          201,
          234,
          182,
          217,
          176,
          148,
          125,
          226,
          145,
          167,
          93,
          104,
          115,
          149,
          216,
          154,
          203,
          124,
          217,
          227,
          166,
          175,
          190,
          141,
          170,
          145,
          127,
          223,
          113,
          136,
          148,
          169,
          283,
          160,
          119,
          181,
          137,
          103,
          195,
          127,
          176,
          200,
          210,
          197,
          128,
          117,
          223,
          166,
          110,
          256,
          178,
          144,
          156,
          219,
          148,
          163,
          233,
          155,
          141,
          159,
          212,
          264,
          223,
          181,
          220,
          195,
          141,
          193,
          135,
          206,
          145,
          154,
          213,
          214,
          169,
          121,
          133,
          170,
          241,
          173,
          95,
          227,
          164,
          175,
          208,
          142,
          218,
          151,
          210,
          151,
          193,
          189,
          215,
          136,
          137,
          217,
          102,
          246,
          175,
          131,
          140,
          158,
          130,
          175,
          241,
          188,
          175,
          128,
          287,
          206,
          155,
          97,
          159,
          194,
          105,
          230,
          204,
          206,
          163,
          153,
          92,
          153,
          138,
          128,
          183,
          115,
          164,
          152,
          139,
          122,
          155,
          129,
          203,
          238,
          180,
          197,
          147,
          107,
          166,
          188,
          163,
          213,
          229,
          149,
          142,
          163,
          189,
          262,
          180,
          172,
          121,
          183,
          252,
          162,
          137,
          149,
          210,
          248,
          162,
          142,
          235,
          129,
          145,
          178,
          122,
          235,
          212,
          160,
          166,
          199,
          145,
          149,
          171,
          141,
          249,
          180,
          181,
          189,
          162,
          132,
          181,
          183,
          176,
          124,
          115,
          188,
          202,
          410,
          120,
          107,
          263,
          143,
          139,
          157,
          190,
          166,
          138,
          149,
          141,
          180,
          236,
          212,
          160,
          196,
          144,
          165,
          138,
          158,
          186,
          135,
          112,
          151,
          319,
          161,
          210,
          193,
          159,
          222,
          233,
          144,
          192,
          186,
          138,
          227,
          120,
          143,
          135,
          145,
          193,
          152,
          124,
          279,
          158,
          217,
          144,
          258,
          121,
          155,
          202,
          211,
          138,
          125,
          140,
          135,
          140,
          145,
          182,
          179,
          208,
          160,
          140,
          133,
          147,
          117,
          168,
          240,
          203,
          88,
          156,
          202,
          208,
          160,
          221,
          166,
          140,
          134,
          232,
          200,
          136,
          159,
          162,
          172,
          147,
          94,
          194,
          221,
          202,
          200,
          123,
          254,
          168,
          176,
          167,
          167,
          127,
          122,
          110,
          183,
          145,
          155,
          152,
          129,
          151,
          163,
          203,
          167,
          145,
          138,
          164,
          162,
          186,
          175,
          123,
          285,
          104,
          175,
          133,
          148,
          164,
          194,
          211,
          183,
          140,
          173,
          128,
          142,
          124,
          240,
          140,
          153,
          119,
          302,
          162,
          179,
          171,
          241,
          162,
          127,
          155,
          152,
          143,
          169,
          259,
          160,
          209,
          141,
          218,
          215,
          143,
          187,
          170,
          158,
          192,
          194,
          171,
          203,
          202,
          127,
          201,
          174,
          185,
          145,
          175,
          182,
          185,
          167,
          159,
          183,
          211,
          140,
          155,
          208,
          138,
          220,
          155,
          133,
          204,
          222,
          74,
          198,
          89,
          106,
          131,
          132,
          184,
          288,
          176,
          187,
          188,
          177,
          142,
          202,
          196,
          133,
          249,
          236,
          119,
          226,
          125,
          186,
          160,
          167,
          164,
          234,
          178,
          180,
          269,
          173,
          170,
          184,
          168,
          144,
          179,
          108,
          129,
          191,
          157,
          152,
          201,
          226,
          163,
          165,
          198,
          181,
          146,
          169,
          227,
          184,
          148,
          139,
          175,
          170,
          186,
          144,
          212,
          178,
          232,
          152,
          162,
          151,
          142,
          130,
          172,
          211,
          163,
          163,
          219,
          176,
          150,
          181,
          165,
          140,
          170,
          182,
          156,
          182,
          122,
          176,
          204,
          120,
          119,
          230,
          189,
          146,
          118,
          198,
          156,
          152,
          128,
          134,
          133,
          224,
          101,
          172,
          189,
          176,
          162,
          174,
          288,
          119,
          170,
          105,
          143,
          205,
          191,
          111,
          177,
          142,
          196,
          170,
          205,
          283,
          206,
          142,
          141,
          115,
          164,
          225,
          189,
          237,
          130,
          168,
          247,
          175,
          172,
          208,
          98,
          128,
          184,
          206,
          232,
          147,
          112,
          145,
          136,
          138,
          262,
          156,
          248,
          160,
          177,
          131,
          227,
          111,
          145,
          215,
          215,
          142,
          186,
          174,
          145,
          113,
          157,
          175,
          256,
          144,
          179,
          211,
          229,
          119,
          101,
          206,
          164,
          164,
          213,
          152,
          141,
          199,
          153,
          225,
          176,
          135,
          197,
          172,
          189,
          149,
          189,
          166,
          96,
          191,
          239,
          267,
          166,
          285,
          188,
          163,
          126,
          185,
          214,
          155,
          190,
          196,
          218,
          253,
          154,
          150,
          195,
          178,
          190,
          117,
          179,
          191,
          193,
          182,
          158,
          188,
          145,
          204,
          185,
          180,
          269,
          152,
          207,
          237,
          134,
          135,
          241,
          91,
          250,
          198,
          215,
          157,
          150,
          134,
          125,
          176,
          199,
          146,
          119,
          152,
          239,
          182,
          166,
          235,
          143,
          120,
          151,
          176,
          184,
          147,
          225,
          217,
          103,
          189,
          114,
          152,
          208,
          218,
          187,
          116,
          136,
          246,
          173,
          141,
          155,
          127,
          192,
          145,
          209,
          140,
          182,
          114,
          179,
          245,
          179,
          173,
          209,
          207,
          162,
          157,
          109,
          130,
          195,
          190,
          122,
          119,
          172,
          137,
          196,
          187,
          105,
          114,
          92,
          131,
          159,
          145,
          98,
          133,
          176,
          166,
          148,
          164,
          264,
          160,
          182,
          127,
          205,
          101,
          186,
          258,
          229,
          153,
          171,
          251,
          163,
          142,
          199,
          198,
          230,
          200,
          183,
          162,
          276,
          209,
          203,
          235,
          165,
          232,
          134,
          178,
          195,
          174,
          267,
          130,
          174,
          218,
          167,
          179,
          139,
          196,
          217,
          125,
          176,
          160,
          182,
          134,
          147,
          106,
          221,
          143,
          259,
          215,
          163,
          229,
          257,
          173,
          137,
          163,
          224,
          242,
          165,
          236,
          170,
          233,
          133,
          152,
          230,
          177,
          137,
          230,
          202,
          124,
          139,
          119,
          174,
          204,
          174,
          169,
          245,
          172,
          144,
          152,
          256,
          140,
          149,
          161,
          200,
          224,
          148,
          128,
          196,
          151,
          224,
          188,
          124,
          194,
          204,
          166,
          185,
          195,
          162,
          249,
          241,
          255,
          118,
          180,
          129,
          205,
          233,
          181,
          168,
          202,
          249,
          219,
          138,
          236,
          224,
          158,
          165,
          182,
          166,
          216,
          221,
          174,
          139,
          198,
          315,
          200,
          198,
          211,
          210,
          151,
          181,
          141,
          190,
          141,
          226,
          132,
          147,
          149,
          204,
          184,
          125,
          153,
          161,
          92,
          165,
          119,
          156,
          248,
          178,
          161,
          174,
          196,
          157,
          181,
          176,
          157,
          161,
          211,
          198,
          192,
          287,
          158,
          220,
          146,
          160,
          136,
          169,
          154,
          118,
          195,
          157,
          221,
          229,
          164,
          108,
          162,
          213,
          194,
          146,
          113,
          193,
          147,
          150,
          191,
          234,
          212,
          253,
          160,
          221,
          204,
          243,
          163,
          176,
          165,
          202,
          159,
          153,
          169,
          252,
          173,
          185,
          247,
          149,
          176,
          187,
          145,
          131,
          157,
          231,
          164,
          205,
          146,
          205,
          188,
          206,
          225,
          179,
          184,
          245,
          120,
          165,
          186,
          159,
          211,
          173,
          250,
          129,
          236,
          163,
          141,
          265,
          187,
          168,
          169,
          177,
          227,
          186,
          189,
          218,
          165,
          146,
          152,
          209,
          136,
          232,
          210,
          199,
          145,
          198,
          165,
          147,
          159,
          231,
          127,
          105,
          144,
          207,
          193,
          172,
          194,
          194,
          248,
          138,
          141,
          179,
          172,
          124,
          338,
          302,
          101,
          175,
          219,
          172,
          127,
          147,
          299,
          159,
          251,
          170,
          186,
          211,
          162,
          154,
          125,
          201,
          121,
          209,
          158,
          178,
          204,
          147,
          208,
          191,
          339,
          172,
          186,
          153,
          201,
          122,
          133,
          289,
          187,
          290,
          243,
          164,
          147,
          140,
          213,
          241,
          218,
          156,
          194,
          197,
          135,
          196,
          201,
          141,
          146,
          176,
          185,
          117,
          195,
          206,
          263,
          178,
          272,
          188,
          161,
          179,
          182,
          244,
          165,
          164,
          194,
          214,
          155,
          129,
          154,
          196,
          231,
          155,
          166,
          175,
          204,
          157,
          138,
          196,
          197,
          210,
          166,
          218,
          173,
          177,
          190,
          153,
          188,
          234,
          193,
          127,
          164,
          200,
          153,
          206,
          164,
          150,
          132,
          126,
          193,
          218,
          214,
          157,
          193,
          284,
          178,
          133,
          168,
          186,
          156,
          236,
          228,
          250,
          240,
          154,
          178,
          162,
          169,
          159,
          198,
          185,
          178,
          196,
          178,
          158,
          173,
          131,
          165,
          184,
          198,
          185,
          182,
          219,
          207,
          182,
          163,
          130,
          199,
          163,
          175,
          250,
          162,
          241,
          201,
          257,
          257,
          186,
          182,
          177,
          175,
          182,
          160,
          201,
          151,
          155,
          250,
          137,
          192,
          154,
          261,
          143,
          216,
          204,
          189,
          241,
          277,
          184,
          343,
          150,
          210,
          181,
          179,
          351,
          226,
          126,
          162,
          211,
          159,
          144,
          173,
          128,
          170,
          197,
          212,
          138,
          219,
          217,
          122,
          138,
          144,
          191,
          232,
          291,
          151,
          152,
          204,
          132,
          184,
          198,
          183,
          258,
          212,
          220,
          151,
          189,
          166,
          174,
          298,
          214,
          172,
          218,
          232,
          189,
          149,
          160,
          162,
          198,
          156,
          233,
          228,
          208,
          175,
          264,
          213,
          194,
          200,
          252,
          237,
          193,
          197,
          196,
          140,
          173,
          156,
          158,
          123,
          167,
          279,
          152,
          219,
          340,
          238,
          267,
          282,
          125,
          159,
          234,
          162,
          219,
          144,
          194,
          265,
          148,
          205,
          292,
          185,
          200,
          171,
          204,
          189,
          307,
          175,
          230,
          176,
          194,
          146,
          165,
          186,
          323,
          198,
          236,
          219,
          185,
          252,
          227,
          282,
          141,
          328,
          158,
          264,
          164,
          155,
          222,
          107,
          198,
          221,
          212,
          178,
          205,
          171,
          186,
          121,
          211,
          198,
          176,
          185,
          171,
          168,
          204,
          206,
          260,
          200,
          213,
          182,
          146,
          187,
          190,
          217,
          186,
          224,
          126,
          308,
          150,
          174,
          179,
          220,
          186,
          195,
          167,
          184,
          251,
          185,
          145,
          223,
          255,
          219,
          202,
          155,
          239,
          178,
          239,
          174,
          127,
          199,
          252,
          248,
          210,
          179,
          179,
          207,
          280,
          149,
          134,
          198,
          284,
          213,
          132,
          216,
          134,
          189,
          266,
          278,
          173,
          229,
          161,
          172,
          167,
          148,
          175,
          154,
          181,
          290,
          190,
          178,
          208,
          286,
          273,
          189,
          295,
          182,
          278,
          173,
          171,
          248,
          132,
          227,
          149,
          268,
          223,
          220,
          232,
          136,
          166,
          168,
          175,
          172,
          226,
          300,
          121,
          247,
          241,
          145,
          156,
          215,
          221,
          271,
          301,
          232,
          222,
          242,
          171,
          222,
          196,
          249,
          149,
          153,
          202,
          140,
          229,
          209,
          158,
          185,
          166,
          199,
          197,
          172,
          171,
          163,
          209,
          184,
          205,
          200,
          162,
          185,
          193,
          199,
          184,
          194,
          251,
          189,
          199,
          263,
          159,
          190,
          145,
          346,
          170,
          131,
          176,
          175,
          187,
          178,
          196,
          260
         ],
         "xaxis": "x",
         "y": [
          73,
          79,
          48,
          73,
          17,
          125,
          20,
          32,
          18,
          71,
          15,
          41,
          103,
          77,
          69,
          119,
          73,
          45,
          68,
          23,
          96,
          81,
          63,
          107,
          123,
          56,
          103,
          98,
          133,
          48,
          60,
          103,
          122,
          87,
          57,
          50,
          129,
          124,
          109,
          85,
          96,
          135,
          82,
          113,
          104,
          84,
          74,
          90,
          117,
          54,
          73,
          95,
          44,
          95,
          73,
          120,
          111,
          137,
          46,
          109,
          88,
          78,
          130,
          86,
          78,
          188,
          72,
          95,
          114,
          107,
          151,
          70,
          112,
          80,
          101,
          96,
          121,
          90,
          118,
          132,
          109,
          105,
          81,
          111,
          92,
          130,
          133,
          88,
          117,
          144,
          112,
          62,
          98,
          134,
          66,
          105,
          64,
          87,
          127,
          75,
          94,
          100,
          106,
          61,
          87,
          72,
          134,
          103,
          93,
          67,
          147,
          101,
          112,
          129,
          60,
          95,
          102,
          64,
          99,
          75,
          129,
          121,
          74,
          119,
          78,
          75,
          107,
          115,
          104,
          65,
          57,
          92,
          117,
          70,
          97,
          84,
          128,
          123,
          79,
          120,
          57,
          149,
          112,
          107,
          86,
          107,
          87,
          124,
          81,
          99,
          105,
          114,
          118,
          125,
          132,
          85,
          81,
          91,
          63,
          112,
          110,
          63,
          81,
          39,
          72,
          88,
          100,
          122,
          85,
          105,
          84,
          148,
          87,
          65,
          85,
          152,
          52,
          70,
          118,
          89,
          124,
          111,
          61,
          115,
          73,
          50,
          66,
          141,
          44,
          98,
          144,
          126,
          92,
          99,
          118,
          105,
          57,
          114,
          69,
          106,
          130,
          109,
          54,
          77,
          94,
          100,
          81,
          133,
          93,
          108,
          126,
          116,
          93,
          132,
          114,
          82,
          94,
          114,
          97,
          60,
          92,
          102,
          91,
          89,
          82,
          91,
          148,
          123,
          91,
          80,
          63,
          53,
          150,
          83,
          91,
          107,
          128,
          129,
          88,
          60,
          95,
          102,
          100,
          109,
          101,
          129,
          124,
          103,
          56,
          149,
          68,
          108,
          74,
          112,
          74,
          111,
          135,
          92,
          97,
          42,
          90,
          81,
          112,
          85,
          84,
          90,
          97,
          115,
          63,
          100,
          112,
          130,
          114,
          94,
          186,
          111,
          110,
          196,
          76,
          97,
          67,
          116,
          113,
          93,
          129,
          93,
          125,
          139,
          124,
          80,
          148,
          103,
          65,
          153,
          143,
          116,
          142,
          155,
          75,
          102,
          92,
          127,
          99,
          119,
          107,
          84,
          131,
          87,
          133,
          81,
          88,
          74,
          105,
          81,
          130,
          141,
          117,
          115,
          86,
          131,
          142,
          145,
          85,
          154,
          128,
          142,
          99,
          114,
          110,
          128,
          84,
          92,
          100,
          146,
          105,
          123,
          127,
          132,
          99,
          128,
          152,
          67,
          134,
          64,
          93,
          100,
          87,
          128,
          102,
          76,
          110,
          101,
          89,
          105,
          81,
          145,
          73,
          119,
          92,
          72,
          88,
          111,
          111,
          99,
          104,
          93,
          84,
          138,
          125,
          98,
          110,
          82,
          61,
          126,
          102,
          137,
          96,
          103,
          105,
          129,
          75,
          104,
          96,
          116,
          93,
          87,
          107,
          105,
          118,
          108,
          81,
          69,
          139,
          108,
          101,
          136,
          90,
          185,
          81,
          122,
          98,
          87,
          87,
          126,
          146,
          89,
          106,
          124,
          112,
          79,
          153,
          82,
          124,
          111,
          130,
          144,
          136,
          142,
          99,
          105,
          90,
          73,
          94,
          102,
          103,
          108,
          117,
          54,
          136,
          143,
          86,
          89,
          89,
          102,
          78,
          114,
          106,
          110,
          117,
          112,
          114,
          126,
          109,
          74,
          98,
          96,
          110,
          110,
          137,
          69,
          109,
          144,
          101,
          61,
          80,
          66,
          114,
          93,
          67,
          99,
          127,
          123,
          103,
          92,
          70,
          124,
          109,
          89,
          78,
          64,
          97,
          96,
          57,
          113,
          94,
          104,
          89,
          67,
          127,
          136,
          64,
          158,
          113,
          88,
          66,
          100,
          74,
          70,
          99,
          119,
          120,
          101,
          90,
          113,
          102,
          113,
          111,
          91,
          108,
          138,
          107,
          87,
          105,
          132,
          91,
          83,
          133,
          88,
          94,
          116,
          103,
          111,
          98,
          96,
          99,
          144,
          99,
          131,
          130,
          101,
          154,
          137,
          120,
          106,
          131,
          82,
          145,
          87,
          62,
          76,
          101,
          64,
          80,
          96,
          137,
          78,
          106,
          137,
          110,
          119,
          81,
          120,
          100,
          114,
          101,
          71,
          98,
          176,
          147,
          149,
          132,
          92,
          102,
          85,
          126,
          78,
          113,
          85,
          76,
          111,
          129,
          154,
          89,
          103,
          120,
          90,
          117,
          170,
          124,
          95,
          60,
          122,
          77,
          101,
          79,
          97,
          98,
          105,
          111,
          99,
          98,
          105,
          108,
          129,
          96,
          107,
          109,
          114,
          79,
          102,
          79,
          90,
          110,
          171,
          104,
          119,
          80,
          70,
          113,
          98,
          96,
          64,
          130,
          67,
          110,
          160,
          102,
          137,
          105,
          134,
          69,
          130,
          119,
          104,
          127,
          96,
          122,
          123,
          103,
          100,
          83,
          118,
          100,
          98,
          91,
          68,
          116,
          88,
          155,
          128,
          127,
          117,
          89,
          86,
          119,
          87,
          83,
          84,
          133,
          134,
          117,
          130,
          101,
          121,
          99,
          74,
          86,
          81,
          128,
          114,
          119,
          162,
          132,
          112,
          128,
          100,
          71,
          117,
          64,
          98,
          71,
          123,
          137,
          50,
          126,
          119,
          125,
          100,
          122,
          146,
          110,
          90,
          92,
          114,
          77,
          115,
          108,
          59,
          115,
          94,
          98,
          132,
          153,
          91,
          84,
          118,
          110,
          97,
          116,
          94,
          138,
          117,
          141,
          110,
          137,
          105,
          82,
          127,
          85,
          110,
          71,
          100,
          93,
          49,
          87,
          124,
          91,
          107,
          83,
          110,
          75,
          90,
          87,
          117,
          62,
          129,
          126,
          161,
          146,
          89,
          142,
          69,
          117,
          128,
          96,
          102,
          80,
          130,
          111,
          139,
          87,
          150,
          91,
          76,
          115,
          122,
          117,
          115,
          112,
          150,
          96,
          93,
          153,
          129,
          104,
          87,
          117,
          94,
          142,
          88,
          95,
          75,
          57,
          105,
          125,
          103,
          131,
          96,
          125,
          108,
          180,
          96,
          80,
          90,
          76,
          111,
          119,
          114,
          134,
          86,
          125,
          133,
          98,
          115,
          77,
          93,
          122,
          102,
          92,
          122,
          87,
          132,
          107,
          90,
          78,
          86,
          86,
          61,
          116,
          146,
          112,
          136,
          112,
          116,
          97,
          117,
          95,
          91,
          97,
          83,
          67,
          115,
          111,
          112,
          78,
          85,
          81,
          91,
          93,
          77,
          86,
          155,
          101,
          108,
          96,
          110,
          120,
          59,
          98,
          121,
          76,
          94,
          80,
          121,
          74,
          116,
          152,
          92,
          143,
          92,
          100,
          100,
          57,
          126,
          109,
          77,
          87,
          104,
          110,
          109,
          148,
          87,
          103,
          88,
          119,
          118,
          172,
          94,
          95,
          92,
          85,
          109,
          145,
          77,
          97,
          99,
          115,
          102,
          132,
          109,
          84,
          84,
          73,
          65,
          157,
          92,
          117,
          139,
          103,
          131,
          115,
          107,
          113,
          126,
          140,
          106,
          140,
          84,
          104,
          93,
          106,
          140,
          82,
          114,
          96,
          114,
          112,
          106,
          114,
          108,
          85,
          116,
          133,
          139,
          136,
          122,
          103,
          113,
          120,
          94,
          124,
          115,
          133,
          138,
          85,
          101,
          110,
          99,
          126,
          99,
          131,
          98,
          103,
          79,
          118,
          137,
          133,
          124,
          117,
          123,
          145,
          119,
          134,
          117,
          102,
          91,
          145,
          87,
          116,
          76,
          78,
          79,
          101,
          140,
          96,
          126,
          89,
          138,
          139,
          113,
          127,
          125,
          102,
          104,
          99,
          95,
          122,
          84,
          93,
          90,
          110,
          169,
          108,
          91,
          113,
          100,
          79,
          118,
          95,
          121,
          129,
          131,
          113,
          87,
          77,
          128,
          119,
          82,
          142,
          123,
          101,
          116,
          136,
          102,
          102,
          159,
          103,
          88,
          106,
          132,
          142,
          152,
          115,
          135,
          133,
          94,
          120,
          91,
          130,
          98,
          109,
          139,
          138,
          110,
          84,
          96,
          121,
          148,
          124,
          63,
          138,
          111,
          124,
          133,
          95,
          134,
          102,
          129,
          105,
          127,
          131,
          142,
          89,
          104,
          146,
          75,
          140,
          108,
          90,
          93,
          117,
          91,
          113,
          137,
          119,
          108,
          90,
          163,
          117,
          101,
          71,
          106,
          134,
          75,
          128,
          136,
          150,
          114,
          91,
          79,
          105,
          98,
          91,
          130,
          67,
          105,
          108,
          96,
          86,
          104,
          94,
          133,
          143,
          112,
          124,
          99,
          86,
          117,
          125,
          118,
          120,
          145,
          105,
          103,
          110,
          127,
          147,
          118,
          107,
          86,
          113,
          153,
          94,
          96,
          95,
          132,
          139,
          113,
          95,
          140,
          89,
          114,
          121,
          91,
          142,
          125,
          100,
          101,
          122,
          104,
          106,
          108,
          104,
          154,
          113,
          112,
          122,
          110,
          102,
          130,
          119,
          129,
          84,
          81,
          118,
          127,
          207,
          87,
          86,
          151,
          83,
          99,
          108,
          120,
          105,
          96,
          108,
          91,
          116,
          135,
          143,
          112,
          120,
          99,
          106,
          93,
          105,
          114,
          97,
          85,
          112,
          183,
          108,
          137,
          137,
          103,
          151,
          145,
          100,
          129,
          135,
          98,
          142,
          78,
          91,
          105,
          101,
          127,
          103,
          89,
          153,
          103,
          124,
          110,
          160,
          82,
          98,
          134,
          140,
          97,
          89,
          107,
          94,
          86,
          95,
          95,
          126,
          133,
          110,
          93,
          88,
          92,
          86,
          99,
          134,
          115,
          74,
          100,
          125,
          130,
          108,
          146,
          115,
          96,
          97,
          140,
          128,
          96,
          116,
          108,
          105,
          95,
          72,
          121,
          140,
          130,
          118,
          89,
          127,
          108,
          105,
          99,
          129,
          94,
          82,
          81,
          114,
          99,
          106,
          108,
          98,
          113,
          107,
          127,
          116,
          102,
          90,
          114,
          105,
          122,
          116,
          83,
          168,
          80,
          117,
          95,
          107,
          110,
          130,
          137,
          109,
          93,
          116,
          84,
          95,
          84,
          138,
          94,
          101,
          81,
          171,
          101,
          121,
          92,
          137,
          110,
          100,
          105,
          100,
          103,
          118,
          155,
          96,
          139,
          89,
          143,
          120,
          94,
          131,
          111,
          100,
          119,
          112,
          125,
          130,
          126,
          97,
          137,
          119,
          116,
          101,
          110,
          123,
          114,
          116,
          107,
          126,
          135,
          104,
          104,
          131,
          107,
          139,
          93,
          85,
          118,
          147,
          56,
          136,
          68,
          83,
          90,
          103,
          116,
          162,
          117,
          117,
          128,
          118,
          96,
          129,
          124,
          88,
          160,
          133,
          90,
          141,
          83,
          116,
          115,
          116,
          113,
          144,
          119,
          121,
          147,
          115,
          104,
          112,
          120,
          98,
          126,
          75,
          98,
          122,
          120,
          99,
          117,
          146,
          104,
          103,
          125,
          123,
          109,
          118,
          131,
          119,
          92,
          99,
          111,
          110,
          119,
          98,
          130,
          123,
          133,
          112,
          122,
          115,
          93,
          80,
          118,
          141,
          115,
          108,
          151,
          129,
          99,
          117,
          118,
          99,
          108,
          120,
          109,
          115,
          93,
          111,
          134,
          91,
          80,
          149,
          131,
          92,
          97,
          145,
          108,
          92,
          98,
          96,
          75,
          134,
          86,
          109,
          133,
          118,
          103,
          115,
          179,
          93,
          99,
          79,
          101,
          127,
          131,
          83,
          126,
          101,
          121,
          122,
          145,
          167,
          130,
          104,
          99,
          80,
          117,
          150,
          136,
          140,
          94,
          115,
          156,
          116,
          115,
          128,
          73,
          84,
          118,
          137,
          142,
          102,
          83,
          103,
          102,
          100,
          161,
          106,
          151,
          104,
          120,
          96,
          149,
          74,
          91,
          136,
          136,
          93,
          112,
          115,
          105,
          84,
          117,
          112,
          158,
          103,
          111,
          126,
          131,
          86,
          69,
          119,
          106,
          109,
          126,
          101,
          106,
          138,
          97,
          141,
          114,
          92,
          124,
          116,
          131,
          101,
          108,
          101,
          73,
          120,
          154,
          153,
          112,
          167,
          113,
          111,
          90,
          126,
          140,
          105,
          116,
          129,
          131,
          150,
          111,
          102,
          111,
          123,
          121,
          89,
          119,
          114,
          118,
          121,
          105,
          124,
          98,
          133,
          115,
          113,
          166,
          98,
          132,
          156,
          94,
          93,
          160,
          64,
          163,
          130,
          134,
          108,
          108,
          92,
          87,
          114,
          127,
          99,
          80,
          97,
          157,
          125,
          108,
          139,
          94,
          78,
          108,
          122,
          118,
          92,
          145,
          137,
          74,
          121,
          75,
          103,
          127,
          118,
          120,
          84,
          94,
          162,
          114,
          103,
          98,
          79,
          121,
          105,
          134,
          89,
          124,
          82,
          117,
          158,
          109,
          107,
          139,
          123,
          103,
          113,
          80,
          86,
          135,
          128,
          92,
          78,
          123,
          93,
          135,
          123,
          82,
          82,
          64,
          90,
          110,
          109,
          72,
          88,
          102,
          110,
          107,
          112,
          165,
          116,
          123,
          98,
          151,
          73,
          119,
          163,
          149,
          96,
          106,
          133,
          116,
          99,
          128,
          133,
          148,
          138,
          132,
          102,
          168,
          124,
          131,
          145,
          118,
          140,
          97,
          122,
          110,
          117,
          160,
          91,
          117,
          141,
          115,
          98,
          93,
          121,
          142,
          94,
          111,
          107,
          123,
          93,
          105,
          82,
          139,
          93,
          147,
          145,
          117,
          148,
          157,
          115,
          94,
          112,
          133,
          153,
          116,
          153,
          107,
          152,
          91,
          102,
          138,
          114,
          93,
          137,
          122,
          87,
          101,
          82,
          116,
          135,
          111,
          125,
          141,
          110,
          99,
          102,
          158,
          95,
          105,
          113,
          137,
          139,
          98,
          83,
          127,
          99,
          135,
          119,
          93,
          139,
          127,
          115,
          135,
          134,
          121,
          138,
          156,
          153,
          91,
          118,
          93,
          135,
          147,
          126,
          109,
          127,
          156,
          140,
          104,
          149,
          128,
          111,
          102,
          121,
          97,
          158,
          131,
          104,
          99,
          127,
          171,
          129,
          119,
          131,
          129,
          104,
          119,
          107,
          120,
          99,
          134,
          90,
          89,
          97,
          125,
          131,
          81,
          108,
          105,
          75,
          116,
          81,
          106,
          149,
          124,
          99,
          112,
          141,
          107,
          118,
          122,
          109,
          106,
          138,
          115,
          120,
          181,
          106,
          125,
          88,
          114,
          99,
          126,
          98,
          87,
          131,
          110,
          146,
          135,
          107,
          82,
          104,
          122,
          123,
          94,
          85,
          129,
          103,
          110,
          123,
          151,
          137,
          167,
          100,
          142,
          138,
          152,
          114,
          110,
          113,
          118,
          104,
          99,
          121,
          144,
          114,
          115,
          147,
          102,
          126,
          125,
          104,
          88,
          112,
          129,
          110,
          137,
          111,
          135,
          126,
          130,
          146,
          115,
          118,
          140,
          81,
          114,
          126,
          111,
          140,
          100,
          145,
          92,
          140,
          100,
          95,
          164,
          129,
          105,
          109,
          118,
          143,
          130,
          128,
          131,
          106,
          105,
          95,
          119,
          89,
          156,
          125,
          130,
          95,
          117,
          108,
          110,
          108,
          147,
          90,
          74,
          110,
          131,
          114,
          121,
          123,
          118,
          157,
          103,
          99,
          116,
          118,
          81,
          203,
          179,
          76,
          112,
          143,
          106,
          75,
          106,
          163,
          117,
          150,
          126,
          121,
          136,
          114,
          101,
          86,
          120,
          86,
          146,
          102,
          117,
          133,
          91,
          146,
          121,
          190,
          114,
          116,
          91,
          137,
          88,
          95,
          160,
          125,
          178,
          143,
          110,
          106,
          110,
          125,
          147,
          132,
          106,
          115,
          141,
          92,
          133,
          133,
          89,
          104,
          124,
          131,
          84,
          122,
          134,
          161,
          128,
          168,
          112,
          97,
          119,
          125,
          157,
          117,
          108,
          118,
          130,
          112,
          94,
          122,
          130,
          126,
          101,
          108,
          106,
          133,
          113,
          106,
          125,
          131,
          128,
          101,
          122,
          114,
          116,
          128,
          108,
          126,
          152,
          119,
          89,
          118,
          149,
          112,
          134,
          117,
          112,
          88,
          92,
          106,
          144,
          142,
          100,
          128,
          175,
          101,
          97,
          105,
          125,
          103,
          132,
          146,
          165,
          137,
          108,
          112,
          111,
          118,
          104,
          129,
          125,
          107,
          129,
          111,
          98,
          112,
          85,
          107,
          125,
          139,
          105,
          112,
          135,
          111,
          122,
          101,
          79,
          129,
          114,
          108,
          143,
          115,
          143,
          125,
          144,
          151,
          123,
          132,
          108,
          128,
          124,
          110,
          131,
          101,
          101,
          150,
          94,
          120,
          110,
          158,
          100,
          139,
          139,
          121,
          140,
          167,
          122,
          175,
          110,
          143,
          120,
          110,
          207,
          129,
          81,
          109,
          134,
          118,
          96,
          103,
          93,
          102,
          127,
          125,
          95,
          139,
          137,
          81,
          101,
          100,
          123,
          157,
          172,
          104,
          107,
          137,
          103,
          129,
          120,
          124,
          130,
          132,
          143,
          104,
          118,
          112,
          112,
          179,
          152,
          122,
          129,
          155,
          120,
          103,
          111,
          103,
          122,
          105,
          135,
          143,
          120,
          115,
          165,
          133,
          114,
          133,
          153,
          145,
          121,
          126,
          130,
          91,
          115,
          94,
          108,
          92,
          115,
          165,
          108,
          130,
          200,
          159,
          179,
          157,
          90,
          107,
          149,
          114,
          129,
          105,
          122,
          146,
          98,
          125,
          167,
          137,
          114,
          119,
          123,
          119,
          179,
          117,
          140,
          120,
          116,
          102,
          100,
          107,
          172,
          135,
          141,
          146,
          122,
          147,
          134,
          180,
          98,
          188,
          118,
          180,
          115,
          101,
          143,
          80,
          133,
          134,
          138,
          127,
          120,
          121,
          121,
          89,
          131,
          122,
          118,
          119,
          109,
          122,
          134,
          152,
          159,
          125,
          138,
          123,
          102,
          115,
          121,
          149,
          125,
          139,
          98,
          178,
          101,
          115,
          110,
          144,
          121,
          119,
          100,
          124,
          171,
          120,
          106,
          150,
          162,
          148,
          133,
          104,
          155,
          111,
          153,
          116,
          87,
          124,
          148,
          157,
          129,
          129,
          135,
          127,
          157,
          116,
          91,
          133,
          174,
          135,
          102,
          153,
          93,
          131,
          173,
          168,
          120,
          141,
          115,
          124,
          121,
          109,
          119,
          107,
          111,
          173,
          135,
          119,
          129,
          160,
          173,
          122,
          180,
          120,
          158,
          123,
          104,
          155,
          92,
          141,
          107,
          155,
          147,
          135,
          150,
          97,
          121,
          119,
          119,
          116,
          142,
          171,
          86,
          155,
          158,
          100,
          98,
          143,
          143,
          148,
          181,
          150,
          131,
          143,
          120,
          133,
          131,
          149,
          106,
          106,
          124,
          94,
          145,
          140,
          108,
          125,
          118,
          120,
          126,
          107,
          119,
          113,
          130,
          138,
          134,
          130,
          99,
          125,
          121,
          145,
          113,
          109,
          164,
          119,
          124,
          162,
          106,
          132,
          103,
          185,
          127,
          99,
          124,
          108,
          129,
          97,
          126,
          154
         ],
         "yaxis": "y"
        }
       ],
       "layout": {
        "coloraxis": {
         "colorbar": {
          "title": {
           "text": "Nota"
          }
         },
         "colorscale": [
          [
           0,
           "rgb(75, 41, 145)"
          ],
          [
           0.16666666666666666,
           "rgb(135, 44, 162)"
          ],
          [
           0.3333333333333333,
           "rgb(192, 54, 157)"
          ],
          [
           0.5,
           "rgb(234, 79, 136)"
          ],
          [
           0.6666666666666666,
           "rgb(250, 120, 118)"
          ],
          [
           0.8333333333333334,
           "rgb(246, 169, 122)"
          ],
          [
           1,
           "rgb(237, 217, 163)"
          ]
         ]
        },
        "font": {
         "color": "white"
        },
        "legend": {
         "tracegroupgap": 0
        },
        "paper_bgcolor": "rgba(0,0,0,0)",
        "plot_bgcolor": "rgba(0,0,0,0)",
        "template": {
         "data": {
          "candlestick": [
           {
            "decreasing": {
             "line": {
              "color": "#000033"
             }
            },
            "increasing": {
             "line": {
              "color": "#000032"
             }
            },
            "type": "candlestick"
           }
          ],
          "contour": [
           {
            "colorscale": [
             [
              0,
              "#000011"
             ],
             [
              0.1111111111111111,
              "#000012"
             ],
             [
              0.2222222222222222,
              "#000013"
             ],
             [
              0.3333333333333333,
              "#000014"
             ],
             [
              0.4444444444444444,
              "#000015"
             ],
             [
              0.5555555555555556,
              "#000016"
             ],
             [
              0.6666666666666666,
              "#000017"
             ],
             [
              0.7777777777777778,
              "#000018"
             ],
             [
              0.8888888888888888,
              "#000019"
             ],
             [
              1,
              "#000020"
             ]
            ],
            "type": "contour"
           }
          ],
          "contourcarpet": [
           {
            "colorscale": [
             [
              0,
              "#000011"
             ],
             [
              0.1111111111111111,
              "#000012"
             ],
             [
              0.2222222222222222,
              "#000013"
             ],
             [
              0.3333333333333333,
              "#000014"
             ],
             [
              0.4444444444444444,
              "#000015"
             ],
             [
              0.5555555555555556,
              "#000016"
             ],
             [
              0.6666666666666666,
              "#000017"
             ],
             [
              0.7777777777777778,
              "#000018"
             ],
             [
              0.8888888888888888,
              "#000019"
             ],
             [
              1,
              "#000020"
             ]
            ],
            "type": "contourcarpet"
           }
          ],
          "heatmap": [
           {
            "colorscale": [
             [
              0,
              "#000011"
             ],
             [
              0.1111111111111111,
              "#000012"
             ],
             [
              0.2222222222222222,
              "#000013"
             ],
             [
              0.3333333333333333,
              "#000014"
             ],
             [
              0.4444444444444444,
              "#000015"
             ],
             [
              0.5555555555555556,
              "#000016"
             ],
             [
              0.6666666666666666,
              "#000017"
             ],
             [
              0.7777777777777778,
              "#000018"
             ],
             [
              0.8888888888888888,
              "#000019"
             ],
             [
              1,
              "#000020"
             ]
            ],
            "type": "heatmap"
           }
          ],
          "histogram2d": [
           {
            "colorscale": [
             [
              0,
              "#000011"
             ],
             [
              0.1111111111111111,
              "#000012"
             ],
             [
              0.2222222222222222,
              "#000013"
             ],
             [
              0.3333333333333333,
              "#000014"
             ],
             [
              0.4444444444444444,
              "#000015"
             ],
             [
              0.5555555555555556,
              "#000016"
             ],
             [
              0.6666666666666666,
              "#000017"
             ],
             [
              0.7777777777777778,
              "#000018"
             ],
             [
              0.8888888888888888,
              "#000019"
             ],
             [
              1,
              "#000020"
             ]
            ],
            "type": "histogram2d"
           }
          ],
          "icicle": [
           {
            "textfont": {
             "color": "white"
            },
            "type": "icicle"
           }
          ],
          "sankey": [
           {
            "textfont": {
             "color": "#000036"
            },
            "type": "sankey"
           }
          ],
          "scatter": [
           {
            "marker": {
             "line": {
              "width": 0
             }
            },
            "type": "scatter"
           }
          ],
          "table": [
           {
            "cells": {
             "fill": {
              "color": "#000038"
             },
             "font": {
              "color": "#000037"
             },
             "line": {
              "color": "#000039"
             }
            },
            "header": {
             "fill": {
              "color": "#000040"
             },
             "font": {
              "color": "#000036"
             },
             "line": {
              "color": "#000039"
             }
            },
            "type": "table"
           }
          ],
          "waterfall": [
           {
            "connector": {
             "line": {
              "color": "#000036",
              "width": 2
             }
            },
            "decreasing": {
             "marker": {
              "color": "#000033"
             }
            },
            "increasing": {
             "marker": {
              "color": "#000032"
             }
            },
            "totals": {
             "marker": {
              "color": "#000034"
             }
            },
            "type": "waterfall"
           }
          ]
         },
         "layout": {
          "coloraxis": {
           "colorscale": [
            [
             0,
             "#000011"
            ],
            [
             0.1111111111111111,
             "#000012"
            ],
            [
             0.2222222222222222,
             "#000013"
            ],
            [
             0.3333333333333333,
             "#000014"
            ],
            [
             0.4444444444444444,
             "#000015"
            ],
            [
             0.5555555555555556,
             "#000016"
            ],
            [
             0.6666666666666666,
             "#000017"
            ],
            [
             0.7777777777777778,
             "#000018"
            ],
            [
             0.8888888888888888,
             "#000019"
            ],
            [
             1,
             "#000020"
            ]
           ]
          },
          "colorscale": {
           "diverging": [
            [
             0,
             "#000021"
            ],
            [
             0.1,
             "#000022"
            ],
            [
             0.2,
             "#000023"
            ],
            [
             0.3,
             "#000024"
            ],
            [
             0.4,
             "#000025"
            ],
            [
             0.5,
             "#000026"
            ],
            [
             0.6,
             "#000027"
            ],
            [
             0.7,
             "#000028"
            ],
            [
             0.8,
             "#000029"
            ],
            [
             0.9,
             "#000030"
            ],
            [
             1,
             "#000031"
            ]
           ],
           "sequential": [
            [
             0,
             "#000011"
            ],
            [
             0.1111111111111111,
             "#000012"
            ],
            [
             0.2222222222222222,
             "#000013"
            ],
            [
             0.3333333333333333,
             "#000014"
            ],
            [
             0.4444444444444444,
             "#000015"
            ],
            [
             0.5555555555555556,
             "#000016"
            ],
            [
             0.6666666666666666,
             "#000017"
            ],
            [
             0.7777777777777778,
             "#000018"
            ],
            [
             0.8888888888888888,
             "#000019"
            ],
            [
             1,
             "#000020"
            ]
           ],
           "sequentialminus": [
            [
             0,
             "#000011"
            ],
            [
             0.1111111111111111,
             "#000012"
            ],
            [
             0.2222222222222222,
             "#000013"
            ],
            [
             0.3333333333333333,
             "#000014"
            ],
            [
             0.4444444444444444,
             "#000015"
            ],
            [
             0.5555555555555556,
             "#000016"
            ],
            [
             0.6666666666666666,
             "#000017"
            ],
            [
             0.7777777777777778,
             "#000018"
            ],
            [
             0.8888888888888888,
             "#000019"
            ],
            [
             1,
             "#000020"
            ]
           ]
          },
          "colorway": [
           "#000001",
           "#000002",
           "#000003",
           "#000004",
           "#000005",
           "#000006",
           "#000007",
           "#000008",
           "#000009",
           "#000010"
          ]
         }
        },
        "title": {
         "font": {
          "size": 18
         },
         "text": "Quantidade de Tokens e Types segundo Nota"
        },
        "xaxis": {
         "anchor": "y",
         "domain": [
          0,
          1
         ],
         "title": {
          "font": {
           "size": 14
          },
          "text": "Tokens"
         }
        },
        "yaxis": {
         "anchor": "x",
         "domain": [
          0,
          1
         ],
         "title": {
          "font": {
           "size": 14
          },
          "text": "Types"
         }
        }
       }
      }
     },
     "metadata": {},
     "output_type": "display_data"
    }
   ],
   "source": [
    "# Create the scatterplot\n",
    "fig = px.scatter(\n",
    "    df_va,\n",
    "    x='token_count',                # x-axis: total tokens\n",
    "    y='types_count',                # y-axis: unique tokens\n",
    "    color='nota',                   # Color the dots based on the 'nota' column\n",
    "    hover_data=['token_count', 'types_count', 'nota'],  # Tooltip includes 'nota'\n",
    "    title=\"Quantidade de Tokens e Types segundo Nota\",\n",
    "    labels={\n",
    "        'token_count': 'Tokens',\n",
    "        'types_count': 'Types',\n",
    "        'nota': 'Nota'\n",
    "    },\n",
    "    color_continuous_scale='Agsunset' \n",
    ")\n",
    "\n",
    "# Customize layout\n",
    "fig.update_layout(\n",
    "    paper_bgcolor='rgba(0,0,0,0)',  # Transparent background\n",
    "    plot_bgcolor='rgba(0,0,0,0)',   # Transparent plot area\n",
    "    font=dict(color='white'),       # White font for titles, labels, and text\n",
    "    title_font=dict(size=18),       # Title font size\n",
    "    xaxis_title_font=dict(size=14), # X-axis label font size\n",
    "    yaxis_title_font=dict(size=14), # Y-axis label font size\n",
    ")\n",
    "\n",
    "# Customize tooltip\n",
    "fig.update_traces(\n",
    "    hoverlabel=dict(\n",
    "        bgcolor='white',            # White background for tooltip\n",
    "        font_size=12,               # Font size for tooltip text\n",
    "        font_color='black'          # Black font color\n",
    "    )\n",
    ")\n",
    "\n",
    "# Show the figure\n",
    "fig.show()\n"
   ]
  }
 ],
 "metadata": {
  "kernelspec": {
   "display_name": "corpus_celpebras",
   "language": "python",
   "name": "python3"
  },
  "language_info": {
   "codemirror_mode": {
    "name": "ipython",
    "version": 3
   },
   "file_extension": ".py",
   "mimetype": "text/x-python",
   "name": "python",
   "nbconvert_exporter": "python",
   "pygments_lexer": "ipython3",
   "version": "3.11.9"
  }
 },
 "nbformat": 4,
 "nbformat_minor": 2
}
