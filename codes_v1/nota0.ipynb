{
 "cells": [
  {
   "cell_type": "code",
   "execution_count": 45,
   "metadata": {},
   "outputs": [],
   "source": [
    "import os\n",
    "import pandas as pd\n",
    "from docx import Document"
   ]
  },
  {
   "cell_type": "code",
   "execution_count": 51,
   "metadata": {},
   "outputs": [],
   "source": [
    "folder_path = 'C:/Users/Administrator/Documents/repos/mestrado/visual_analytics/NOTA 0 - Revisado'\n",
    "\n",
    "# Iniciando uma lista para guardar nomes e conteudo\n",
    "data_nota0 = []\n",
    "\n",
    "# Percorrendo todos os arquivos .docx na pasta\n",
    "for file_name in os.listdir(folder_path):\n",
    "    if file_name.endswith('.docx'):  # Process only .docx files\n",
    "        file_path = os.path.join(folder_path, file_name)\n",
    "        \n",
    "        # Read the .docx file\n",
    "        doc = Document(file_path)\n",
    "        text = []\n",
    "        for paragraph in doc.paragraphs:\n",
    "            text.append(paragraph.text.strip())  # Strip leading/trailing spaces\n",
    "        \n",
    "        # Combine paragraphs into a single string\n",
    "        document_text = '\\n'.join(text)\n",
    "        \n",
    "        # Append to the data list\n",
    "        data_nota0.append({'file_name': file_name, 'content': document_text})"
   ]
  },
  {
   "cell_type": "code",
   "execution_count": 52,
   "metadata": {},
   "outputs": [],
   "source": [
    "# Convert the data to a DataFrame\n",
    "df_nota0 = pd.DataFrame(data_nota0)"
   ]
  },
  {
   "cell_type": "code",
   "execution_count": 53,
   "metadata": {},
   "outputs": [],
   "source": [
    "# Save the DataFrame to a CSV file\n",
    "#output_csv_path = 'C:/Users/Administrator/Documents/repos/mestrado/visual_analytics/NOTA 0 - Revisado/nota0.csv'\n",
    "output_csv_path = 'C:/Users/Administrator/Documents/repos/mestrado/visual_analytics/corpus/nota0.csv'\n",
    "df_nota0.to_csv(output_csv_path, index=False)"
   ]
  },
  {
   "cell_type": "code",
   "execution_count": 54,
   "metadata": {},
   "outputs": [],
   "source": [
    "# Criando coluna com a nota\n",
    "nota0 = 0\n",
    "df_nota0['nota'] = nota0\n",
    "\n",
    "# Save the updated DataFrame to a CSV file\n",
    "output_csv_path = 'C:/Users/Administrator/Documents/repos/mestrado/visual_analytics/corpus/nota0.csv'\n",
    "df_nota0.to_csv(output_csv_path, index=False)"
   ]
  },
  {
   "cell_type": "code",
   "execution_count": 55,
   "metadata": {},
   "outputs": [
    {
     "name": "stdout",
     "output_type": "stream",
     "text": [
      "              file_name                                            content  \\\n",
      "0  20152t4p1166n0r.docx  É inaceitável e constrangedor a violência que ...   \n",
      "1  20152t4p1305n0r.docx  A capital paraense já foi considerada uma das ...   \n",
      "2  20152t4p1477n0r.docx  A prefeitura municipal respeitosa.            ...   \n",
      "3  20152t4p1506n0r.docx  Data: 20/10/2015\\nDe: Bibiana C. Terra\\nPara: ...   \n",
      "4  20152t4p1512n0r.docx  Desculpe. Eu não conheco-me a matéria “Azulejo...   \n",
      "\n",
      "   nota  \n",
      "0     0  \n",
      "1     0  \n",
      "2     0  \n",
      "3     0  \n",
      "4     0  \n"
     ]
    }
   ],
   "source": [
    "# [EXTRA] Abrindo e lendo o csv pra ver que tudo está lindo amem amem\n",
    "csv_file_path = 'C:/Users/Administrator/Documents/repos/mestrado/visual_analytics/corpus/nota0.csv'\n",
    "\n",
    "# Read the CSV file into a DataFrame\n",
    "df = pd.read_csv(csv_file_path)\n",
    "\n",
    "# Display the first few rows of the DataFrame\n",
    "print(df.head())"
   ]
  }
 ],
 "metadata": {
  "kernelspec": {
   "display_name": "Python 3",
   "language": "python",
   "name": "python3"
  },
  "language_info": {
   "codemirror_mode": {
    "name": "ipython",
    "version": 3
   },
   "file_extension": ".py",
   "mimetype": "text/x-python",
   "name": "python",
   "nbconvert_exporter": "python",
   "pygments_lexer": "ipython3",
   "version": "3.11.9"
  }
 },
 "nbformat": 4,
 "nbformat_minor": 2
}
