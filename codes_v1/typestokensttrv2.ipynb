{
 "cells": [
  {
   "cell_type": "code",
   "execution_count": 2,
   "metadata": {},
   "outputs": [],
   "source": [
    "import pandas as pd\n",
    "import numpy as np\n",
    "import nltk\n",
    "import seaborn as sns\n",
    "#from spellchecker import SpellChecker\n",
    "import matplotlib.pyplot as plt #USAR O PLOTLY\n",
    "from collections import Counter #uso para n-gramas\n",
    "import re # talvez regex vai ajudar na normalizaçao"
   ]
  },
  {
   "cell_type": "markdown",
   "metadata": {},
   "source": [
    "Notebook relativo a entrega de 17/12/24:\n",
    "Esse notebook foi criado para realização das tarefas referentes a análise da extensão do corpus. Aqui tem o cálculo de types, tokens e TTR. Verifiquei, devido ao exemplo dado:\n",
    "“nos encontramos cara a cara” contém 4 types e 5 tokens. Assim, não posso remover stopwords visto que \"a\" é um token.\n",
    "TTR mais alto implica em maior diversidade lexical."
   ]
  },
  {
   "cell_type": "code",
   "execution_count": 41,
   "metadata": {},
   "outputs": [],
   "source": [
    "csv_file_path = 'C:/Users/Administrator/Documents/repos/mestrado/visual_analytics/corpus_completo.csv'\n",
    "\n",
    "# Lendo o csv como um df\n",
    "df = pd.read_csv(csv_file_path)\n",
    "\n",
    "#Criando uma cópia\n",
    "df_va = df.copy()"
   ]
  },
  {
   "cell_type": "code",
   "execution_count": 42,
   "metadata": {},
   "outputs": [
    {
     "data": {
      "text/html": [
       "<div>\n",
       "<style scoped>\n",
       "    .dataframe tbody tr th:only-of-type {\n",
       "        vertical-align: middle;\n",
       "    }\n",
       "\n",
       "    .dataframe tbody tr th {\n",
       "        vertical-align: top;\n",
       "    }\n",
       "\n",
       "    .dataframe thead th {\n",
       "        text-align: right;\n",
       "    }\n",
       "</style>\n",
       "<table border=\"1\" class=\"dataframe\">\n",
       "  <thead>\n",
       "    <tr style=\"text-align: right;\">\n",
       "      <th></th>\n",
       "      <th>file_name</th>\n",
       "      <th>content</th>\n",
       "      <th>nota</th>\n",
       "    </tr>\n",
       "  </thead>\n",
       "  <tbody>\n",
       "    <tr>\n",
       "      <th>0</th>\n",
       "      <td>20152t4p1166n0r.docx</td>\n",
       "      <td>É inaceitável e constrangedor a violência que ...</td>\n",
       "      <td>0</td>\n",
       "    </tr>\n",
       "    <tr>\n",
       "      <th>1</th>\n",
       "      <td>20152t4p1305n0r.docx</td>\n",
       "      <td>A capital paraense já foi considerada uma das ...</td>\n",
       "      <td>0</td>\n",
       "    </tr>\n",
       "    <tr>\n",
       "      <th>2</th>\n",
       "      <td>20152t4p1477n0r.docx</td>\n",
       "      <td>A prefeitura municipal respeitosa.            ...</td>\n",
       "      <td>0</td>\n",
       "    </tr>\n",
       "    <tr>\n",
       "      <th>3</th>\n",
       "      <td>20152t4p1506n0r.docx</td>\n",
       "      <td>Data: 20/10/2015\\nDe: Bibiana C. Terra\\nPara: ...</td>\n",
       "      <td>0</td>\n",
       "    </tr>\n",
       "    <tr>\n",
       "      <th>4</th>\n",
       "      <td>20152t4p1512n0r.docx</td>\n",
       "      <td>Desculpe. Eu não conheco-me a matéria “Azulejo...</td>\n",
       "      <td>0</td>\n",
       "    </tr>\n",
       "  </tbody>\n",
       "</table>\n",
       "</div>"
      ],
      "text/plain": [
       "              file_name                                            content  \\\n",
       "0  20152t4p1166n0r.docx  É inaceitável e constrangedor a violência que ...   \n",
       "1  20152t4p1305n0r.docx  A capital paraense já foi considerada uma das ...   \n",
       "2  20152t4p1477n0r.docx  A prefeitura municipal respeitosa.            ...   \n",
       "3  20152t4p1506n0r.docx  Data: 20/10/2015\\nDe: Bibiana C. Terra\\nPara: ...   \n",
       "4  20152t4p1512n0r.docx  Desculpe. Eu não conheco-me a matéria “Azulejo...   \n",
       "\n",
       "   nota  \n",
       "0     0  \n",
       "1     0  \n",
       "2     0  \n",
       "3     0  \n",
       "4     0  "
      ]
     },
     "execution_count": 42,
     "metadata": {},
     "output_type": "execute_result"
    }
   ],
   "source": [
    "df_va.head()"
   ]
  },
  {
   "cell_type": "code",
   "execution_count": 43,
   "metadata": {},
   "outputs": [
    {
     "data": {
      "text/html": [
       "<div>\n",
       "<style scoped>\n",
       "    .dataframe tbody tr th:only-of-type {\n",
       "        vertical-align: middle;\n",
       "    }\n",
       "\n",
       "    .dataframe tbody tr th {\n",
       "        vertical-align: top;\n",
       "    }\n",
       "\n",
       "    .dataframe thead th {\n",
       "        text-align: right;\n",
       "    }\n",
       "</style>\n",
       "<table border=\"1\" class=\"dataframe\">\n",
       "  <thead>\n",
       "    <tr style=\"text-align: right;\">\n",
       "      <th></th>\n",
       "      <th>file_name</th>\n",
       "      <th>content</th>\n",
       "    </tr>\n",
       "    <tr>\n",
       "      <th>nota</th>\n",
       "      <th></th>\n",
       "      <th></th>\n",
       "    </tr>\n",
       "  </thead>\n",
       "  <tbody>\n",
       "    <tr>\n",
       "      <th>0</th>\n",
       "      <td>25</td>\n",
       "      <td>25</td>\n",
       "    </tr>\n",
       "    <tr>\n",
       "      <th>1</th>\n",
       "      <td>211</td>\n",
       "      <td>211</td>\n",
       "    </tr>\n",
       "    <tr>\n",
       "      <th>2</th>\n",
       "      <td>628</td>\n",
       "      <td>628</td>\n",
       "    </tr>\n",
       "    <tr>\n",
       "      <th>3</th>\n",
       "      <td>715</td>\n",
       "      <td>715</td>\n",
       "    </tr>\n",
       "    <tr>\n",
       "      <th>4</th>\n",
       "      <td>477</td>\n",
       "      <td>477</td>\n",
       "    </tr>\n",
       "    <tr>\n",
       "      <th>5</th>\n",
       "      <td>237</td>\n",
       "      <td>237</td>\n",
       "    </tr>\n",
       "  </tbody>\n",
       "</table>\n",
       "</div>"
      ],
      "text/plain": [
       "      file_name  content\n",
       "nota                    \n",
       "0            25       25\n",
       "1           211      211\n",
       "2           628      628\n",
       "3           715      715\n",
       "4           477      477\n",
       "5           237      237"
      ]
     },
     "execution_count": 43,
     "metadata": {},
     "output_type": "execute_result"
    }
   ],
   "source": [
    "df_va.groupby('nota').count()"
   ]
  },
  {
   "cell_type": "code",
   "execution_count": 44,
   "metadata": {},
   "outputs": [],
   "source": [
    "df_chart = pd.DataFrame()"
   ]
  },
  {
   "cell_type": "code",
   "execution_count": 45,
   "metadata": {},
   "outputs": [
    {
     "data": {
      "text/html": [
       "<div>\n",
       "<style scoped>\n",
       "    .dataframe tbody tr th:only-of-type {\n",
       "        vertical-align: middle;\n",
       "    }\n",
       "\n",
       "    .dataframe tbody tr th {\n",
       "        vertical-align: top;\n",
       "    }\n",
       "\n",
       "    .dataframe thead th {\n",
       "        text-align: right;\n",
       "    }\n",
       "</style>\n",
       "<table border=\"1\" class=\"dataframe\">\n",
       "  <thead>\n",
       "    <tr style=\"text-align: right;\">\n",
       "      <th></th>\n",
       "      <th>qtde_textos</th>\n",
       "    </tr>\n",
       "    <tr>\n",
       "      <th>nota</th>\n",
       "      <th></th>\n",
       "    </tr>\n",
       "  </thead>\n",
       "  <tbody>\n",
       "    <tr>\n",
       "      <th>3</th>\n",
       "      <td>715</td>\n",
       "    </tr>\n",
       "    <tr>\n",
       "      <th>2</th>\n",
       "      <td>628</td>\n",
       "    </tr>\n",
       "    <tr>\n",
       "      <th>4</th>\n",
       "      <td>477</td>\n",
       "    </tr>\n",
       "    <tr>\n",
       "      <th>5</th>\n",
       "      <td>237</td>\n",
       "    </tr>\n",
       "    <tr>\n",
       "      <th>1</th>\n",
       "      <td>211</td>\n",
       "    </tr>\n",
       "    <tr>\n",
       "      <th>0</th>\n",
       "      <td>25</td>\n",
       "    </tr>\n",
       "  </tbody>\n",
       "</table>\n",
       "</div>"
      ],
      "text/plain": [
       "      qtde_textos\n",
       "nota             \n",
       "3             715\n",
       "2             628\n",
       "4             477\n",
       "5             237\n",
       "1             211\n",
       "0              25"
      ]
     },
     "execution_count": 45,
     "metadata": {},
     "output_type": "execute_result"
    }
   ],
   "source": [
    "# Número de textos exposto como variável visto que usarei para cálculos de média\n",
    "\n",
    "df_chart['qtde_textos'] = df_va['nota'].value_counts()\n",
    "df_chart"
   ]
  },
  {
   "cell_type": "code",
   "execution_count": 46,
   "metadata": {},
   "outputs": [
    {
     "name": "stderr",
     "output_type": "stream",
     "text": [
      "[nltk_data] Downloading package stopwords to\n",
      "[nltk_data]     C:\\Users\\Administrator\\AppData\\Roaming\\nltk_data...\n",
      "[nltk_data]   Package stopwords is already up-to-date!\n",
      "[nltk_data] Downloading package punkt to\n",
      "[nltk_data]     C:\\Users\\Administrator\\AppData\\Roaming\\nltk_data...\n",
      "[nltk_data]   Package punkt is already up-to-date!\n",
      "[nltk_data] Downloading package punkt_tab to\n",
      "[nltk_data]     C:\\Users\\Administrator\\AppData\\Roaming\\nltk_data...\n",
      "[nltk_data]   Package punkt_tab is already up-to-date!\n"
     ]
    },
    {
     "data": {
      "text/plain": [
       "True"
      ]
     },
     "execution_count": 46,
     "metadata": {},
     "output_type": "execute_result"
    }
   ],
   "source": [
    "nltk.download('stopwords')\n",
    "nltk.download('punkt') # é um tokenizador, importante para nltk.word_tokenize\n",
    "# nltk.download('rslp') é um stemmer. acho q nao vou usar\n",
    "nltk.download('punkt_tab') # Precisei que devia fazer download desse pacote pq o punkt nao tava funcionando"
   ]
  },
  {
   "cell_type": "code",
   "execution_count": 47,
   "metadata": {},
   "outputs": [],
   "source": [
    "# Pré-processamento\n",
    "\n",
    "# Devo tirar acentos?? Ex: Belém\n",
    "# Retirar números? Na duvida, retirei.\n",
    "# Não fiz stemming visto que poderia perder erros ortográficos\n",
    "\n",
    "#Retirada de sinais gráficos, pontuações e espaços\n",
    "def clean_cp(text):\n",
    "    cleaned = text.lower() #Deixando tudo minúsculo\n",
    "    cleaned = re.sub('[^\\w\\s]', '', cleaned) # Removendo pontuacao\n",
    "    #cleaned = re.sub('[0-9]+', '', cleaned) # Removendo números \n",
    "    cleaned = re.sub('\\d+', '', cleaned) # Removendo números NÃO TAVA FUNCIONANDO. Começou a funcionar qdo pus o lower como primeiro comando da funçao\n",
    "    cleaned = re.sub('\\s+', ' ', cleaned) # Removendo espaços extras\n",
    "    cleaned = re.sub('\\s+', ' ', cleaned)\n",
    "    return cleaned.strip() # Removendo tabs\n",
    "\n",
    "df_va['content'] = df_va['content'].apply(clean_cp)\n",
    "#df_va['content'] = df_va['content'].apply(stopwords_cp)"
   ]
  },
  {
   "cell_type": "code",
   "execution_count": 48,
   "metadata": {},
   "outputs": [
    {
     "data": {
      "text/plain": [
       "2203    nosso patrimônio roubado belém pará de outubro...\n",
       "1685    prezado prefeito a nossa linda e bela cidade d...\n",
       "369     à prefeitura municipal até quando as autoridad...\n",
       "787     belém de outubro de senhores prefeitura munici...\n",
       "1569    belém perdendo a nossa historia um dos nossos ...\n",
       "Name: content, dtype: object"
      ]
     },
     "execution_count": 48,
     "metadata": {},
     "output_type": "execute_result"
    }
   ],
   "source": [
    "df_va['content'].sample(5)"
   ]
  },
  {
   "cell_type": "code",
   "execution_count": 49,
   "metadata": {},
   "outputs": [
    {
     "data": {
      "text/plain": [
       "file_name    object\n",
       "content      object\n",
       "nota          int64\n",
       "dtype: object"
      ]
     },
     "execution_count": 49,
     "metadata": {},
     "output_type": "execute_result"
    }
   ],
   "source": [
    "df_va.dtypes"
   ]
  },
  {
   "cell_type": "code",
   "execution_count": 50,
   "metadata": {},
   "outputs": [],
   "source": [
    "# Tokenizando SEM retirar stopwords: lembrando q token conta duplicados\n",
    "\n",
    "def tokenized_cp(text):\n",
    "   #stopwords = nltk.corpus.stopwords.words('portuguese') # Carregando as stopwords do português\n",
    "   tokenized = nltk.word_tokenize(text, language='portuguese') #Transforma o texto em tokens\n",
    "   #text_sem_stopwords = [token for token in tokenized if token not in stopwords] # Deixei stopwords pq imaginei que consideravam mas talvez a divergencia de numero q achei em relaçao a\n",
    "   # dissertacao seja devido às stopwords\n",
    "   #return text_sem_stopwords\n",
    "   return tokenized\n",
    "\n",
    "df_va['tokenized_content'] = df_va['content'].apply(tokenized_cp)"
   ]
  },
  {
   "cell_type": "code",
   "execution_count": 51,
   "metadata": {},
   "outputs": [
    {
     "data": {
      "text/plain": [
       "1641    [de, outubro, de, excelentíssima, prefeitura, ...\n",
       "1925    [belém, de, outubro, de, ao, diretor, de, corr...\n",
       "649     [azulejos, valiosos, a, memoria, da, humanidad...\n",
       "33      [de, outubro, de, senhores, prefeitura, munici...\n",
       "1378    [senhor, prefeito, moro, em, belém, há, dois, ...\n",
       "Name: tokenized_content, dtype: object"
      ]
     },
     "execution_count": 51,
     "metadata": {},
     "output_type": "execute_result"
    }
   ],
   "source": [
    "df_va['tokenized_content'].sample(5)"
   ]
  },
  {
   "cell_type": "code",
   "execution_count": 52,
   "metadata": {},
   "outputs": [
    {
     "data": {
      "text/plain": [
       "file_name            object\n",
       "content              object\n",
       "nota                  int64\n",
       "tokenized_content    object\n",
       "dtype: object"
      ]
     },
     "execution_count": 52,
     "metadata": {},
     "output_type": "execute_result"
    }
   ],
   "source": [
    "df_va.dtypes"
   ]
  },
  {
   "cell_type": "code",
   "execution_count": 53,
   "metadata": {},
   "outputs": [
    {
     "data": {
      "text/html": [
       "<div>\n",
       "<style scoped>\n",
       "    .dataframe tbody tr th:only-of-type {\n",
       "        vertical-align: middle;\n",
       "    }\n",
       "\n",
       "    .dataframe tbody tr th {\n",
       "        vertical-align: top;\n",
       "    }\n",
       "\n",
       "    .dataframe thead th {\n",
       "        text-align: right;\n",
       "    }\n",
       "</style>\n",
       "<table border=\"1\" class=\"dataframe\">\n",
       "  <thead>\n",
       "    <tr style=\"text-align: right;\">\n",
       "      <th></th>\n",
       "      <th>qtde_textos</th>\n",
       "      <th>qtde_total_tokens_nota</th>\n",
       "    </tr>\n",
       "    <tr>\n",
       "      <th>nota</th>\n",
       "      <th></th>\n",
       "      <th></th>\n",
       "    </tr>\n",
       "  </thead>\n",
       "  <tbody>\n",
       "    <tr>\n",
       "      <th>3</th>\n",
       "      <td>715</td>\n",
       "      <td>123013</td>\n",
       "    </tr>\n",
       "    <tr>\n",
       "      <th>2</th>\n",
       "      <td>628</td>\n",
       "      <td>99444</td>\n",
       "    </tr>\n",
       "    <tr>\n",
       "      <th>4</th>\n",
       "      <td>477</td>\n",
       "      <td>88216</td>\n",
       "    </tr>\n",
       "    <tr>\n",
       "      <th>5</th>\n",
       "      <td>237</td>\n",
       "      <td>47602</td>\n",
       "    </tr>\n",
       "    <tr>\n",
       "      <th>1</th>\n",
       "      <td>211</td>\n",
       "      <td>30289</td>\n",
       "    </tr>\n",
       "    <tr>\n",
       "      <th>0</th>\n",
       "      <td>25</td>\n",
       "      <td>2284</td>\n",
       "    </tr>\n",
       "  </tbody>\n",
       "</table>\n",
       "</div>"
      ],
      "text/plain": [
       "      qtde_textos  qtde_total_tokens_nota\n",
       "nota                                     \n",
       "3             715                  123013\n",
       "2             628                   99444\n",
       "4             477                   88216\n",
       "5             237                   47602\n",
       "1             211                   30289\n",
       "0              25                    2284"
      ]
     },
     "execution_count": 53,
     "metadata": {},
     "output_type": "execute_result"
    }
   ],
   "source": [
    "# Verificando a qtde de tokens para cada nota (uso o total pra cada nota pro cálculo de TTR)\n",
    "\n",
    "# Primeiro conto a qtde de tokens para cada texto e crio uma coluna com a contagem\n",
    "df_va['token_count'] = df_va['tokenized_content'].apply(len)\n",
    "\n",
    "# Agora, conto de acordo com cada nota        \n",
    "df_chart['qtde_total_tokens_nota'] = df_va.groupby('nota')['token_count'].sum()\n",
    "df_chart"
   ]
  },
  {
   "cell_type": "code",
   "execution_count": 54,
   "metadata": {},
   "outputs": [
    {
     "data": {
      "text/html": [
       "<div>\n",
       "<style scoped>\n",
       "    .dataframe tbody tr th:only-of-type {\n",
       "        vertical-align: middle;\n",
       "    }\n",
       "\n",
       "    .dataframe tbody tr th {\n",
       "        vertical-align: top;\n",
       "    }\n",
       "\n",
       "    .dataframe thead th {\n",
       "        text-align: right;\n",
       "    }\n",
       "</style>\n",
       "<table border=\"1\" class=\"dataframe\">\n",
       "  <thead>\n",
       "    <tr style=\"text-align: right;\">\n",
       "      <th></th>\n",
       "      <th>file_name</th>\n",
       "      <th>content</th>\n",
       "      <th>nota</th>\n",
       "      <th>tokenized_content</th>\n",
       "      <th>token_count</th>\n",
       "    </tr>\n",
       "  </thead>\n",
       "  <tbody>\n",
       "    <tr>\n",
       "      <th>0</th>\n",
       "      <td>20152t4p1166n0r.docx</td>\n",
       "      <td>é inaceitável e constrangedor a violência que ...</td>\n",
       "      <td>0</td>\n",
       "      <td>[é, inaceitável, e, constrangedor, a, violênci...</td>\n",
       "      <td>106</td>\n",
       "    </tr>\n",
       "    <tr>\n",
       "      <th>1</th>\n",
       "      <td>20152t4p1305n0r.docx</td>\n",
       "      <td>a capital paraense já foi considerada uma das ...</td>\n",
       "      <td>0</td>\n",
       "      <td>[a, capital, paraense, já, foi, considerada, u...</td>\n",
       "      <td>99</td>\n",
       "    </tr>\n",
       "    <tr>\n",
       "      <th>2</th>\n",
       "      <td>20152t4p1477n0r.docx</td>\n",
       "      <td>a prefeitura municipal respeitosa sou a public...</td>\n",
       "      <td>0</td>\n",
       "      <td>[a, prefeitura, municipal, respeitosa, sou, a,...</td>\n",
       "      <td>65</td>\n",
       "    </tr>\n",
       "    <tr>\n",
       "      <th>3</th>\n",
       "      <td>20152t4p1506n0r.docx</td>\n",
       "      <td>data de bibiana c terra para prefeitura munici...</td>\n",
       "      <td>0</td>\n",
       "      <td>[data, de, bibiana, c, terra, para, prefeitura...</td>\n",
       "      <td>95</td>\n",
       "    </tr>\n",
       "    <tr>\n",
       "      <th>4</th>\n",
       "      <td>20152t4p1512n0r.docx</td>\n",
       "      <td>desculpe eu não conhecome a matéria azulejos v...</td>\n",
       "      <td>0</td>\n",
       "      <td>[desculpe, eu, não, conhecome, a, matéria, azu...</td>\n",
       "      <td>18</td>\n",
       "    </tr>\n",
       "  </tbody>\n",
       "</table>\n",
       "</div>"
      ],
      "text/plain": [
       "              file_name                                            content  \\\n",
       "0  20152t4p1166n0r.docx  é inaceitável e constrangedor a violência que ...   \n",
       "1  20152t4p1305n0r.docx  a capital paraense já foi considerada uma das ...   \n",
       "2  20152t4p1477n0r.docx  a prefeitura municipal respeitosa sou a public...   \n",
       "3  20152t4p1506n0r.docx  data de bibiana c terra para prefeitura munici...   \n",
       "4  20152t4p1512n0r.docx  desculpe eu não conhecome a matéria azulejos v...   \n",
       "\n",
       "   nota                                  tokenized_content  token_count  \n",
       "0     0  [é, inaceitável, e, constrangedor, a, violênci...          106  \n",
       "1     0  [a, capital, paraense, já, foi, considerada, u...           99  \n",
       "2     0  [a, prefeitura, municipal, respeitosa, sou, a,...           65  \n",
       "3     0  [data, de, bibiana, c, terra, para, prefeitura...           95  \n",
       "4     0  [desculpe, eu, não, conhecome, a, matéria, azu...           18  "
      ]
     },
     "execution_count": 54,
     "metadata": {},
     "output_type": "execute_result"
    }
   ],
   "source": [
    "df_va.head()"
   ]
  },
  {
   "cell_type": "code",
   "execution_count": 55,
   "metadata": {},
   "outputs": [
    {
     "data": {
      "text/html": [
       "<div>\n",
       "<style scoped>\n",
       "    .dataframe tbody tr th:only-of-type {\n",
       "        vertical-align: middle;\n",
       "    }\n",
       "\n",
       "    .dataframe tbody tr th {\n",
       "        vertical-align: top;\n",
       "    }\n",
       "\n",
       "    .dataframe thead th {\n",
       "        text-align: right;\n",
       "    }\n",
       "</style>\n",
       "<table border=\"1\" class=\"dataframe\">\n",
       "  <thead>\n",
       "    <tr style=\"text-align: right;\">\n",
       "      <th></th>\n",
       "      <th>qtde_textos</th>\n",
       "      <th>qtde_total_tokens_nota</th>\n",
       "      <th>qtde_media_tokens</th>\n",
       "    </tr>\n",
       "    <tr>\n",
       "      <th>nota</th>\n",
       "      <th></th>\n",
       "      <th></th>\n",
       "      <th></th>\n",
       "    </tr>\n",
       "  </thead>\n",
       "  <tbody>\n",
       "    <tr>\n",
       "      <th>3</th>\n",
       "      <td>715</td>\n",
       "      <td>123013</td>\n",
       "      <td>172.05</td>\n",
       "    </tr>\n",
       "    <tr>\n",
       "      <th>2</th>\n",
       "      <td>628</td>\n",
       "      <td>99444</td>\n",
       "      <td>158.35</td>\n",
       "    </tr>\n",
       "    <tr>\n",
       "      <th>4</th>\n",
       "      <td>477</td>\n",
       "      <td>88216</td>\n",
       "      <td>184.94</td>\n",
       "    </tr>\n",
       "    <tr>\n",
       "      <th>5</th>\n",
       "      <td>237</td>\n",
       "      <td>47602</td>\n",
       "      <td>200.85</td>\n",
       "    </tr>\n",
       "    <tr>\n",
       "      <th>1</th>\n",
       "      <td>211</td>\n",
       "      <td>30289</td>\n",
       "      <td>143.55</td>\n",
       "    </tr>\n",
       "    <tr>\n",
       "      <th>0</th>\n",
       "      <td>25</td>\n",
       "      <td>2284</td>\n",
       "      <td>91.36</td>\n",
       "    </tr>\n",
       "  </tbody>\n",
       "</table>\n",
       "</div>"
      ],
      "text/plain": [
       "      qtde_textos  qtde_total_tokens_nota  qtde_media_tokens\n",
       "nota                                                        \n",
       "3             715                  123013             172.05\n",
       "2             628                   99444             158.35\n",
       "4             477                   88216             184.94\n",
       "5             237                   47602             200.85\n",
       "1             211                   30289             143.55\n",
       "0              25                    2284              91.36"
      ]
     },
     "execution_count": 55,
     "metadata": {},
     "output_type": "execute_result"
    }
   ],
   "source": [
    "# Verificando a qtde de tokens MÉDIA para cada nota ACHO Q NAO VOU USAR\n",
    "df_chart['qtde_media_tokens'] = round((df_chart['qtde_total_tokens_nota'] / df_chart['qtde_textos']),2)\n",
    "df_chart"
   ]
  },
  {
   "cell_type": "code",
   "execution_count": 56,
   "metadata": {},
   "outputs": [],
   "source": [
    "# Separando em types (pego tokens e retiro duplicados)\n",
    "df_va['types_content'] = df_va['tokenized_content'].apply(lambda tokens: list(set(tokens)))"
   ]
  },
  {
   "cell_type": "code",
   "execution_count": 57,
   "metadata": {},
   "outputs": [
    {
     "data": {
      "text/html": [
       "<div>\n",
       "<style scoped>\n",
       "    .dataframe tbody tr th:only-of-type {\n",
       "        vertical-align: middle;\n",
       "    }\n",
       "\n",
       "    .dataframe tbody tr th {\n",
       "        vertical-align: top;\n",
       "    }\n",
       "\n",
       "    .dataframe thead th {\n",
       "        text-align: right;\n",
       "    }\n",
       "</style>\n",
       "<table border=\"1\" class=\"dataframe\">\n",
       "  <thead>\n",
       "    <tr style=\"text-align: right;\">\n",
       "      <th></th>\n",
       "      <th>qtde_textos</th>\n",
       "      <th>qtde_total_tokens_nota</th>\n",
       "      <th>qtde_media_tokens</th>\n",
       "      <th>qtde_total_types_nota</th>\n",
       "    </tr>\n",
       "    <tr>\n",
       "      <th>nota</th>\n",
       "      <th></th>\n",
       "      <th></th>\n",
       "      <th></th>\n",
       "      <th></th>\n",
       "    </tr>\n",
       "  </thead>\n",
       "  <tbody>\n",
       "    <tr>\n",
       "      <th>3</th>\n",
       "      <td>715</td>\n",
       "      <td>123013</td>\n",
       "      <td>172.05</td>\n",
       "      <td>80734</td>\n",
       "    </tr>\n",
       "    <tr>\n",
       "      <th>2</th>\n",
       "      <td>628</td>\n",
       "      <td>99444</td>\n",
       "      <td>158.35</td>\n",
       "      <td>66313</td>\n",
       "    </tr>\n",
       "    <tr>\n",
       "      <th>4</th>\n",
       "      <td>477</td>\n",
       "      <td>88216</td>\n",
       "      <td>184.94</td>\n",
       "      <td>57277</td>\n",
       "    </tr>\n",
       "    <tr>\n",
       "      <th>5</th>\n",
       "      <td>237</td>\n",
       "      <td>47602</td>\n",
       "      <td>200.85</td>\n",
       "      <td>30632</td>\n",
       "    </tr>\n",
       "    <tr>\n",
       "      <th>1</th>\n",
       "      <td>211</td>\n",
       "      <td>30289</td>\n",
       "      <td>143.55</td>\n",
       "      <td>20524</td>\n",
       "    </tr>\n",
       "    <tr>\n",
       "      <th>0</th>\n",
       "      <td>25</td>\n",
       "      <td>2284</td>\n",
       "      <td>91.36</td>\n",
       "      <td>1659</td>\n",
       "    </tr>\n",
       "  </tbody>\n",
       "</table>\n",
       "</div>"
      ],
      "text/plain": [
       "      qtde_textos  qtde_total_tokens_nota  qtde_media_tokens  \\\n",
       "nota                                                           \n",
       "3             715                  123013             172.05   \n",
       "2             628                   99444             158.35   \n",
       "4             477                   88216             184.94   \n",
       "5             237                   47602             200.85   \n",
       "1             211                   30289             143.55   \n",
       "0              25                    2284              91.36   \n",
       "\n",
       "      qtde_total_types_nota  \n",
       "nota                         \n",
       "3                     80734  \n",
       "2                     66313  \n",
       "4                     57277  \n",
       "5                     30632  \n",
       "1                     20524  \n",
       "0                      1659  "
      ]
     },
     "execution_count": 57,
     "metadata": {},
     "output_type": "execute_result"
    }
   ],
   "source": [
    "# Verificando a qtde de types para cada nota\n",
    "\n",
    "# Primeiro a qtde de types para cada texto e crio uma coluna com a contagem\n",
    "df_va['types_count'] = df_va['types_content'].apply(len)\n",
    "\n",
    "# Agora, conto de acordo com cada nota\n",
    "df_chart['qtde_total_types_nota'] = df_va.groupby('nota')['types_count'].sum()\n",
    "df_chart"
   ]
  },
  {
   "cell_type": "code",
   "execution_count": 58,
   "metadata": {},
   "outputs": [
    {
     "data": {
      "text/html": [
       "<div>\n",
       "<style scoped>\n",
       "    .dataframe tbody tr th:only-of-type {\n",
       "        vertical-align: middle;\n",
       "    }\n",
       "\n",
       "    .dataframe tbody tr th {\n",
       "        vertical-align: top;\n",
       "    }\n",
       "\n",
       "    .dataframe thead th {\n",
       "        text-align: right;\n",
       "    }\n",
       "</style>\n",
       "<table border=\"1\" class=\"dataframe\">\n",
       "  <thead>\n",
       "    <tr style=\"text-align: right;\">\n",
       "      <th></th>\n",
       "      <th>qtde_textos</th>\n",
       "      <th>qtde_total_tokens_nota</th>\n",
       "      <th>qtde_media_tokens</th>\n",
       "      <th>qtde_total_types_nota</th>\n",
       "      <th>qtde_media_types</th>\n",
       "    </tr>\n",
       "    <tr>\n",
       "      <th>nota</th>\n",
       "      <th></th>\n",
       "      <th></th>\n",
       "      <th></th>\n",
       "      <th></th>\n",
       "      <th></th>\n",
       "    </tr>\n",
       "  </thead>\n",
       "  <tbody>\n",
       "    <tr>\n",
       "      <th>3</th>\n",
       "      <td>715</td>\n",
       "      <td>123013</td>\n",
       "      <td>172.05</td>\n",
       "      <td>80734</td>\n",
       "      <td>112.91</td>\n",
       "    </tr>\n",
       "    <tr>\n",
       "      <th>2</th>\n",
       "      <td>628</td>\n",
       "      <td>99444</td>\n",
       "      <td>158.35</td>\n",
       "      <td>66313</td>\n",
       "      <td>105.59</td>\n",
       "    </tr>\n",
       "    <tr>\n",
       "      <th>4</th>\n",
       "      <td>477</td>\n",
       "      <td>88216</td>\n",
       "      <td>184.94</td>\n",
       "      <td>57277</td>\n",
       "      <td>120.08</td>\n",
       "    </tr>\n",
       "    <tr>\n",
       "      <th>5</th>\n",
       "      <td>237</td>\n",
       "      <td>47602</td>\n",
       "      <td>200.85</td>\n",
       "      <td>30632</td>\n",
       "      <td>129.25</td>\n",
       "    </tr>\n",
       "    <tr>\n",
       "      <th>1</th>\n",
       "      <td>211</td>\n",
       "      <td>30289</td>\n",
       "      <td>143.55</td>\n",
       "      <td>20524</td>\n",
       "      <td>97.27</td>\n",
       "    </tr>\n",
       "    <tr>\n",
       "      <th>0</th>\n",
       "      <td>25</td>\n",
       "      <td>2284</td>\n",
       "      <td>91.36</td>\n",
       "      <td>1659</td>\n",
       "      <td>66.36</td>\n",
       "    </tr>\n",
       "  </tbody>\n",
       "</table>\n",
       "</div>"
      ],
      "text/plain": [
       "      qtde_textos  qtde_total_tokens_nota  qtde_media_tokens  \\\n",
       "nota                                                           \n",
       "3             715                  123013             172.05   \n",
       "2             628                   99444             158.35   \n",
       "4             477                   88216             184.94   \n",
       "5             237                   47602             200.85   \n",
       "1             211                   30289             143.55   \n",
       "0              25                    2284              91.36   \n",
       "\n",
       "      qtde_total_types_nota  qtde_media_types  \n",
       "nota                                           \n",
       "3                     80734            112.91  \n",
       "2                     66313            105.59  \n",
       "4                     57277            120.08  \n",
       "5                     30632            129.25  \n",
       "1                     20524             97.27  \n",
       "0                      1659             66.36  "
      ]
     },
     "execution_count": 58,
     "metadata": {},
     "output_type": "execute_result"
    }
   ],
   "source": [
    "# Verificando a qtde de types MÉDIA para cada nota ACHO Q NAO VOU USAR\n",
    "df_chart['qtde_media_types'] = round((df_chart['qtde_total_types_nota'] / df_chart['qtde_textos']),2)\n",
    "df_chart"
   ]
  },
  {
   "cell_type": "code",
   "execution_count": 59,
   "metadata": {},
   "outputs": [
    {
     "data": {
      "text/html": [
       "<div>\n",
       "<style scoped>\n",
       "    .dataframe tbody tr th:only-of-type {\n",
       "        vertical-align: middle;\n",
       "    }\n",
       "\n",
       "    .dataframe tbody tr th {\n",
       "        vertical-align: top;\n",
       "    }\n",
       "\n",
       "    .dataframe thead th {\n",
       "        text-align: right;\n",
       "    }\n",
       "</style>\n",
       "<table border=\"1\" class=\"dataframe\">\n",
       "  <thead>\n",
       "    <tr style=\"text-align: right;\">\n",
       "      <th></th>\n",
       "      <th>qtde_textos</th>\n",
       "      <th>qtde_total_tokens_nota</th>\n",
       "      <th>qtde_media_tokens</th>\n",
       "      <th>qtde_total_types_nota</th>\n",
       "      <th>qtde_media_types</th>\n",
       "      <th>TTR</th>\n",
       "    </tr>\n",
       "    <tr>\n",
       "      <th>nota</th>\n",
       "      <th></th>\n",
       "      <th></th>\n",
       "      <th></th>\n",
       "      <th></th>\n",
       "      <th></th>\n",
       "      <th></th>\n",
       "    </tr>\n",
       "  </thead>\n",
       "  <tbody>\n",
       "    <tr>\n",
       "      <th>3</th>\n",
       "      <td>715</td>\n",
       "      <td>123013</td>\n",
       "      <td>172.05</td>\n",
       "      <td>80734</td>\n",
       "      <td>112.91</td>\n",
       "      <td>65.63</td>\n",
       "    </tr>\n",
       "    <tr>\n",
       "      <th>2</th>\n",
       "      <td>628</td>\n",
       "      <td>99444</td>\n",
       "      <td>158.35</td>\n",
       "      <td>66313</td>\n",
       "      <td>105.59</td>\n",
       "      <td>66.68</td>\n",
       "    </tr>\n",
       "    <tr>\n",
       "      <th>4</th>\n",
       "      <td>477</td>\n",
       "      <td>88216</td>\n",
       "      <td>184.94</td>\n",
       "      <td>57277</td>\n",
       "      <td>120.08</td>\n",
       "      <td>64.93</td>\n",
       "    </tr>\n",
       "    <tr>\n",
       "      <th>5</th>\n",
       "      <td>237</td>\n",
       "      <td>47602</td>\n",
       "      <td>200.85</td>\n",
       "      <td>30632</td>\n",
       "      <td>129.25</td>\n",
       "      <td>64.35</td>\n",
       "    </tr>\n",
       "    <tr>\n",
       "      <th>1</th>\n",
       "      <td>211</td>\n",
       "      <td>30289</td>\n",
       "      <td>143.55</td>\n",
       "      <td>20524</td>\n",
       "      <td>97.27</td>\n",
       "      <td>67.76</td>\n",
       "    </tr>\n",
       "    <tr>\n",
       "      <th>0</th>\n",
       "      <td>25</td>\n",
       "      <td>2284</td>\n",
       "      <td>91.36</td>\n",
       "      <td>1659</td>\n",
       "      <td>66.36</td>\n",
       "      <td>72.64</td>\n",
       "    </tr>\n",
       "  </tbody>\n",
       "</table>\n",
       "</div>"
      ],
      "text/plain": [
       "      qtde_textos  qtde_total_tokens_nota  qtde_media_tokens  \\\n",
       "nota                                                           \n",
       "3             715                  123013             172.05   \n",
       "2             628                   99444             158.35   \n",
       "4             477                   88216             184.94   \n",
       "5             237                   47602             200.85   \n",
       "1             211                   30289             143.55   \n",
       "0              25                    2284              91.36   \n",
       "\n",
       "      qtde_total_types_nota  qtde_media_types    TTR  \n",
       "nota                                                  \n",
       "3                     80734            112.91  65.63  \n",
       "2                     66313            105.59  66.68  \n",
       "4                     57277            120.08  64.93  \n",
       "5                     30632            129.25  64.35  \n",
       "1                     20524             97.27  67.76  \n",
       "0                      1659             66.36  72.64  "
      ]
     },
     "execution_count": 59,
     "metadata": {},
     "output_type": "execute_result"
    }
   ],
   "source": [
    "# Cálculo de TTR: TTR = qtde de types / qtde de tokens * 100 (em percentual mesmo)\n",
    "# Aviso: fiz o cálculo de ttr_medio = (qtde_media_types / qtde_media_tokens) * 100 e obtive os mesmos valores\n",
    "df_chart['TTR'] = round(((df_chart['qtde_total_types_nota'] / df_chart['qtde_total_tokens_nota']) * 100),2)\n",
    "df_chart"
   ]
  },
  {
   "cell_type": "code",
   "execution_count": 60,
   "metadata": {},
   "outputs": [],
   "source": [
    "# Número mínimo de tokens por nota\n",
    "\n",
    "# Primeiro conto a qtde de tokens para cada texto e crio uma coluna com a contagem    >> Essas 2 linhas eu repeti mtas vzs no código. É só cortar fora. A variável já foi calculada!\n",
    "df_va['token_count'] = df_va['tokenized_content'].apply(len)\n",
    "\n",
    "# Agora, conto o número minimo de tokens para cada nota        \n",
    "df_chart['qtde_tokens_min'] = df_va.groupby('nota')['token_count'].min()"
   ]
  },
  {
   "cell_type": "code",
   "execution_count": 61,
   "metadata": {},
   "outputs": [
    {
     "data": {
      "text/html": [
       "<div>\n",
       "<style scoped>\n",
       "    .dataframe tbody tr th:only-of-type {\n",
       "        vertical-align: middle;\n",
       "    }\n",
       "\n",
       "    .dataframe tbody tr th {\n",
       "        vertical-align: top;\n",
       "    }\n",
       "\n",
       "    .dataframe thead th {\n",
       "        text-align: right;\n",
       "    }\n",
       "</style>\n",
       "<table border=\"1\" class=\"dataframe\">\n",
       "  <thead>\n",
       "    <tr style=\"text-align: right;\">\n",
       "      <th></th>\n",
       "      <th>qtde_textos</th>\n",
       "      <th>qtde_total_tokens_nota</th>\n",
       "      <th>qtde_media_tokens</th>\n",
       "      <th>qtde_total_types_nota</th>\n",
       "      <th>qtde_media_types</th>\n",
       "      <th>TTR</th>\n",
       "      <th>qtde_tokens_min</th>\n",
       "      <th>qtde_tokens_max</th>\n",
       "    </tr>\n",
       "    <tr>\n",
       "      <th>nota</th>\n",
       "      <th></th>\n",
       "      <th></th>\n",
       "      <th></th>\n",
       "      <th></th>\n",
       "      <th></th>\n",
       "      <th></th>\n",
       "      <th></th>\n",
       "      <th></th>\n",
       "    </tr>\n",
       "  </thead>\n",
       "  <tbody>\n",
       "    <tr>\n",
       "      <th>3</th>\n",
       "      <td>715</td>\n",
       "      <td>123013</td>\n",
       "      <td>172.05</td>\n",
       "      <td>80734</td>\n",
       "      <td>112.91</td>\n",
       "      <td>65.63</td>\n",
       "      <td>74</td>\n",
       "      <td>410</td>\n",
       "    </tr>\n",
       "    <tr>\n",
       "      <th>2</th>\n",
       "      <td>628</td>\n",
       "      <td>99444</td>\n",
       "      <td>158.35</td>\n",
       "      <td>66313</td>\n",
       "      <td>105.59</td>\n",
       "      <td>66.68</td>\n",
       "      <td>48</td>\n",
       "      <td>338</td>\n",
       "    </tr>\n",
       "    <tr>\n",
       "      <th>4</th>\n",
       "      <td>477</td>\n",
       "      <td>88216</td>\n",
       "      <td>184.94</td>\n",
       "      <td>57277</td>\n",
       "      <td>120.08</td>\n",
       "      <td>64.93</td>\n",
       "      <td>92</td>\n",
       "      <td>351</td>\n",
       "    </tr>\n",
       "    <tr>\n",
       "      <th>5</th>\n",
       "      <td>237</td>\n",
       "      <td>47602</td>\n",
       "      <td>200.85</td>\n",
       "      <td>30632</td>\n",
       "      <td>129.25</td>\n",
       "      <td>64.35</td>\n",
       "      <td>107</td>\n",
       "      <td>346</td>\n",
       "    </tr>\n",
       "    <tr>\n",
       "      <th>1</th>\n",
       "      <td>211</td>\n",
       "      <td>30289</td>\n",
       "      <td>143.55</td>\n",
       "      <td>20524</td>\n",
       "      <td>97.27</td>\n",
       "      <td>67.76</td>\n",
       "      <td>44</td>\n",
       "      <td>321</td>\n",
       "    </tr>\n",
       "    <tr>\n",
       "      <th>0</th>\n",
       "      <td>25</td>\n",
       "      <td>2284</td>\n",
       "      <td>91.36</td>\n",
       "      <td>1659</td>\n",
       "      <td>66.36</td>\n",
       "      <td>72.64</td>\n",
       "      <td>17</td>\n",
       "      <td>200</td>\n",
       "    </tr>\n",
       "  </tbody>\n",
       "</table>\n",
       "</div>"
      ],
      "text/plain": [
       "      qtde_textos  qtde_total_tokens_nota  qtde_media_tokens  \\\n",
       "nota                                                           \n",
       "3             715                  123013             172.05   \n",
       "2             628                   99444             158.35   \n",
       "4             477                   88216             184.94   \n",
       "5             237                   47602             200.85   \n",
       "1             211                   30289             143.55   \n",
       "0              25                    2284              91.36   \n",
       "\n",
       "      qtde_total_types_nota  qtde_media_types    TTR  qtde_tokens_min  \\\n",
       "nota                                                                    \n",
       "3                     80734            112.91  65.63               74   \n",
       "2                     66313            105.59  66.68               48   \n",
       "4                     57277            120.08  64.93               92   \n",
       "5                     30632            129.25  64.35              107   \n",
       "1                     20524             97.27  67.76               44   \n",
       "0                      1659             66.36  72.64               17   \n",
       "\n",
       "      qtde_tokens_max  \n",
       "nota                   \n",
       "3                 410  \n",
       "2                 338  \n",
       "4                 351  \n",
       "5                 346  \n",
       "1                 321  \n",
       "0                 200  "
      ]
     },
     "execution_count": 61,
     "metadata": {},
     "output_type": "execute_result"
    }
   ],
   "source": [
    "# Número máximo de tokens por nota\n",
    "\n",
    "# Primeiro conto a qtde de tokens para cada texto e crio uma coluna com a contagem\n",
    "df_va['token_count'] = df_va['tokenized_content'].apply(len)\n",
    "\n",
    "# Agora, conto o número máximo de tokens para cada nota        \n",
    "df_chart['qtde_tokens_max'] = df_va.groupby('nota')['token_count'].max()\n",
    "df_chart"
   ]
  },
  {
   "cell_type": "code",
   "execution_count": 64,
   "metadata": {},
   "outputs": [
    {
     "data": {
      "text/html": [
       "<div>\n",
       "<style scoped>\n",
       "    .dataframe tbody tr th:only-of-type {\n",
       "        vertical-align: middle;\n",
       "    }\n",
       "\n",
       "    .dataframe tbody tr th {\n",
       "        vertical-align: top;\n",
       "    }\n",
       "\n",
       "    .dataframe thead th {\n",
       "        text-align: right;\n",
       "    }\n",
       "</style>\n",
       "<table border=\"1\" class=\"dataframe\">\n",
       "  <thead>\n",
       "    <tr style=\"text-align: right;\">\n",
       "      <th></th>\n",
       "      <th>qtde_textos</th>\n",
       "      <th>qtde_total_tokens_nota</th>\n",
       "      <th>qtde_media_tokens</th>\n",
       "      <th>qtde_total_types_nota</th>\n",
       "      <th>qtde_media_types</th>\n",
       "      <th>TTR</th>\n",
       "      <th>qtde_tokens_min</th>\n",
       "      <th>qtde_tokens_max</th>\n",
       "      <th>desvpad_qtde_tokens</th>\n",
       "      <th>nota_real</th>\n",
       "    </tr>\n",
       "    <tr>\n",
       "      <th>nota</th>\n",
       "      <th></th>\n",
       "      <th></th>\n",
       "      <th></th>\n",
       "      <th></th>\n",
       "      <th></th>\n",
       "      <th></th>\n",
       "      <th></th>\n",
       "      <th></th>\n",
       "      <th></th>\n",
       "      <th></th>\n",
       "    </tr>\n",
       "  </thead>\n",
       "  <tbody>\n",
       "    <tr>\n",
       "      <th>3</th>\n",
       "      <td>715</td>\n",
       "      <td>123013</td>\n",
       "      <td>172.05</td>\n",
       "      <td>80734</td>\n",
       "      <td>112.91</td>\n",
       "      <td>65.63</td>\n",
       "      <td>74</td>\n",
       "      <td>410</td>\n",
       "      <td>40.96</td>\n",
       "      <td>3</td>\n",
       "    </tr>\n",
       "    <tr>\n",
       "      <th>2</th>\n",
       "      <td>628</td>\n",
       "      <td>99444</td>\n",
       "      <td>158.35</td>\n",
       "      <td>66313</td>\n",
       "      <td>105.59</td>\n",
       "      <td>66.68</td>\n",
       "      <td>48</td>\n",
       "      <td>338</td>\n",
       "      <td>44.61</td>\n",
       "      <td>2</td>\n",
       "    </tr>\n",
       "    <tr>\n",
       "      <th>4</th>\n",
       "      <td>477</td>\n",
       "      <td>88216</td>\n",
       "      <td>184.94</td>\n",
       "      <td>57277</td>\n",
       "      <td>120.08</td>\n",
       "      <td>64.93</td>\n",
       "      <td>92</td>\n",
       "      <td>351</td>\n",
       "      <td>41.78</td>\n",
       "      <td>4</td>\n",
       "    </tr>\n",
       "    <tr>\n",
       "      <th>5</th>\n",
       "      <td>237</td>\n",
       "      <td>47602</td>\n",
       "      <td>200.85</td>\n",
       "      <td>30632</td>\n",
       "      <td>129.25</td>\n",
       "      <td>64.35</td>\n",
       "      <td>107</td>\n",
       "      <td>346</td>\n",
       "      <td>45.77</td>\n",
       "      <td>5</td>\n",
       "    </tr>\n",
       "    <tr>\n",
       "      <th>1</th>\n",
       "      <td>211</td>\n",
       "      <td>30289</td>\n",
       "      <td>143.55</td>\n",
       "      <td>20524</td>\n",
       "      <td>97.27</td>\n",
       "      <td>67.76</td>\n",
       "      <td>44</td>\n",
       "      <td>321</td>\n",
       "      <td>46.68</td>\n",
       "      <td>1</td>\n",
       "    </tr>\n",
       "    <tr>\n",
       "      <th>0</th>\n",
       "      <td>25</td>\n",
       "      <td>2284</td>\n",
       "      <td>91.36</td>\n",
       "      <td>1659</td>\n",
       "      <td>66.36</td>\n",
       "      <td>72.64</td>\n",
       "      <td>17</td>\n",
       "      <td>200</td>\n",
       "      <td>53.34</td>\n",
       "      <td>0</td>\n",
       "    </tr>\n",
       "  </tbody>\n",
       "</table>\n",
       "</div>"
      ],
      "text/plain": [
       "      qtde_textos  qtde_total_tokens_nota  qtde_media_tokens  \\\n",
       "nota                                                           \n",
       "3             715                  123013             172.05   \n",
       "2             628                   99444             158.35   \n",
       "4             477                   88216             184.94   \n",
       "5             237                   47602             200.85   \n",
       "1             211                   30289             143.55   \n",
       "0              25                    2284              91.36   \n",
       "\n",
       "      qtde_total_types_nota  qtde_media_types    TTR  qtde_tokens_min  \\\n",
       "nota                                                                    \n",
       "3                     80734            112.91  65.63               74   \n",
       "2                     66313            105.59  66.68               48   \n",
       "4                     57277            120.08  64.93               92   \n",
       "5                     30632            129.25  64.35              107   \n",
       "1                     20524             97.27  67.76               44   \n",
       "0                      1659             66.36  72.64               17   \n",
       "\n",
       "      qtde_tokens_max  desvpad_qtde_tokens  nota_real  \n",
       "nota                                                   \n",
       "3                 410                40.96          3  \n",
       "2                 338                44.61          2  \n",
       "4                 351                41.78          4  \n",
       "5                 346                45.77          5  \n",
       "1                 321                46.68          1  \n",
       "0                 200                53.34          0  "
      ]
     },
     "execution_count": 64,
     "metadata": {},
     "output_type": "execute_result"
    }
   ],
   "source": [
    "# Desvio padrão do número de tokens por nota\n",
    "\n",
    "# Primeiro conto a qtde de tokens para cada texto e crio uma coluna com a contagem\n",
    "df_va['token_count'] = df_va['tokenized_content'].apply(len)\n",
    "\n",
    "# Agora, conto o número máximo de tokens para cada nota\n",
    "df_chart['desvpad_qtde_tokens'] = round((df_va.groupby('nota')['token_count'].std()),2)\n",
    "df_chart"
   ]
  },
  {
   "cell_type": "code",
   "execution_count": 65,
   "metadata": {},
   "outputs": [
    {
     "data": {
      "text/html": [
       "<div>\n",
       "<style scoped>\n",
       "    .dataframe tbody tr th:only-of-type {\n",
       "        vertical-align: middle;\n",
       "    }\n",
       "\n",
       "    .dataframe tbody tr th {\n",
       "        vertical-align: top;\n",
       "    }\n",
       "\n",
       "    .dataframe thead th {\n",
       "        text-align: right;\n",
       "    }\n",
       "</style>\n",
       "<table border=\"1\" class=\"dataframe\">\n",
       "  <thead>\n",
       "    <tr style=\"text-align: right;\">\n",
       "      <th></th>\n",
       "      <th>qtde_textos</th>\n",
       "      <th>qtde_total_tokens_nota</th>\n",
       "      <th>qtde_media_tokens</th>\n",
       "      <th>qtde_total_types_nota</th>\n",
       "      <th>qtde_media_types</th>\n",
       "      <th>TTR</th>\n",
       "      <th>qtde_tokens_min</th>\n",
       "      <th>qtde_tokens_max</th>\n",
       "      <th>desvpad_qtde_tokens</th>\n",
       "      <th>nota_real</th>\n",
       "    </tr>\n",
       "    <tr>\n",
       "      <th>nota</th>\n",
       "      <th></th>\n",
       "      <th></th>\n",
       "      <th></th>\n",
       "      <th></th>\n",
       "      <th></th>\n",
       "      <th></th>\n",
       "      <th></th>\n",
       "      <th></th>\n",
       "      <th></th>\n",
       "      <th></th>\n",
       "    </tr>\n",
       "  </thead>\n",
       "  <tbody>\n",
       "    <tr>\n",
       "      <th>0</th>\n",
       "      <td>25</td>\n",
       "      <td>2284</td>\n",
       "      <td>91.36</td>\n",
       "      <td>1659</td>\n",
       "      <td>66.36</td>\n",
       "      <td>72.64</td>\n",
       "      <td>17</td>\n",
       "      <td>200</td>\n",
       "      <td>53.34</td>\n",
       "      <td>0</td>\n",
       "    </tr>\n",
       "    <tr>\n",
       "      <th>1</th>\n",
       "      <td>211</td>\n",
       "      <td>30289</td>\n",
       "      <td>143.55</td>\n",
       "      <td>20524</td>\n",
       "      <td>97.27</td>\n",
       "      <td>67.76</td>\n",
       "      <td>44</td>\n",
       "      <td>321</td>\n",
       "      <td>46.68</td>\n",
       "      <td>1</td>\n",
       "    </tr>\n",
       "    <tr>\n",
       "      <th>2</th>\n",
       "      <td>628</td>\n",
       "      <td>99444</td>\n",
       "      <td>158.35</td>\n",
       "      <td>66313</td>\n",
       "      <td>105.59</td>\n",
       "      <td>66.68</td>\n",
       "      <td>48</td>\n",
       "      <td>338</td>\n",
       "      <td>44.61</td>\n",
       "      <td>2</td>\n",
       "    </tr>\n",
       "    <tr>\n",
       "      <th>3</th>\n",
       "      <td>715</td>\n",
       "      <td>123013</td>\n",
       "      <td>172.05</td>\n",
       "      <td>80734</td>\n",
       "      <td>112.91</td>\n",
       "      <td>65.63</td>\n",
       "      <td>74</td>\n",
       "      <td>410</td>\n",
       "      <td>40.96</td>\n",
       "      <td>3</td>\n",
       "    </tr>\n",
       "    <tr>\n",
       "      <th>4</th>\n",
       "      <td>477</td>\n",
       "      <td>88216</td>\n",
       "      <td>184.94</td>\n",
       "      <td>57277</td>\n",
       "      <td>120.08</td>\n",
       "      <td>64.93</td>\n",
       "      <td>92</td>\n",
       "      <td>351</td>\n",
       "      <td>41.78</td>\n",
       "      <td>4</td>\n",
       "    </tr>\n",
       "    <tr>\n",
       "      <th>5</th>\n",
       "      <td>237</td>\n",
       "      <td>47602</td>\n",
       "      <td>200.85</td>\n",
       "      <td>30632</td>\n",
       "      <td>129.25</td>\n",
       "      <td>64.35</td>\n",
       "      <td>107</td>\n",
       "      <td>346</td>\n",
       "      <td>45.77</td>\n",
       "      <td>5</td>\n",
       "    </tr>\n",
       "  </tbody>\n",
       "</table>\n",
       "</div>"
      ],
      "text/plain": [
       "      qtde_textos  qtde_total_tokens_nota  qtde_media_tokens  \\\n",
       "nota                                                           \n",
       "0              25                    2284              91.36   \n",
       "1             211                   30289             143.55   \n",
       "2             628                   99444             158.35   \n",
       "3             715                  123013             172.05   \n",
       "4             477                   88216             184.94   \n",
       "5             237                   47602             200.85   \n",
       "\n",
       "      qtde_total_types_nota  qtde_media_types    TTR  qtde_tokens_min  \\\n",
       "nota                                                                    \n",
       "0                      1659             66.36  72.64               17   \n",
       "1                     20524             97.27  67.76               44   \n",
       "2                     66313            105.59  66.68               48   \n",
       "3                     80734            112.91  65.63               74   \n",
       "4                     57277            120.08  64.93               92   \n",
       "5                     30632            129.25  64.35              107   \n",
       "\n",
       "      qtde_tokens_max  desvpad_qtde_tokens  nota_real  \n",
       "nota                                                   \n",
       "0                 200                53.34          0  \n",
       "1                 321                46.68          1  \n",
       "2                 338                44.61          2  \n",
       "3                 410                40.96          3  \n",
       "4                 351                41.78          4  \n",
       "5                 346                45.77          5  "
      ]
     },
     "execution_count": 65,
     "metadata": {},
     "output_type": "execute_result"
    }
   ],
   "source": [
    "df_chart['nota_real'] = [3, 2, 4, 5, 1, 0]\n",
    "df_chart.sort_values('nota_real')"
   ]
  },
  {
   "cell_type": "code",
   "execution_count": 66,
   "metadata": {},
   "outputs": [
    {
     "data": {
      "text/plain": [
       "qtde_textos                 int64\n",
       "qtde_total_tokens_nota      int64\n",
       "qtde_media_tokens         float64\n",
       "qtde_total_types_nota       int64\n",
       "qtde_media_types          float64\n",
       "TTR                       float64\n",
       "qtde_tokens_min             int64\n",
       "qtde_tokens_max             int64\n",
       "desvpad_qtde_tokens       float64\n",
       "nota_real                   int64\n",
       "dtype: object"
      ]
     },
     "execution_count": 66,
     "metadata": {},
     "output_type": "execute_result"
    }
   ],
   "source": [
    "df_chart.dtypes"
   ]
  },
  {
   "cell_type": "markdown",
   "metadata": {},
   "source": [
    "Aqui é a minha primeira aba. Fazer um slider ou filtro mesmo que por default marca todas as notas mas pode exibir somente as notas pretendidas"
   ]
  },
  {
   "cell_type": "markdown",
   "metadata": {},
   "source": [
    "Abaixo, o primeiro gráfico da visualização. Um bar chart simples para preparar o usuário para o fato de que não temos um número homogêneo de textos para cada nota"
   ]
  },
  {
   "cell_type": "code",
   "execution_count": 100,
   "metadata": {},
   "outputs": [
    {
     "data": {
      "application/vnd.plotly.v1+json": {
       "config": {
        "plotlyServerURL": "https://plot.ly"
       },
       "data": [
        {
         "alignmentgroup": "True",
         "hovertemplate": "%{y} textos<extra></extra>",
         "legendgroup": "",
         "marker": {
          "color": "#FF4B4B",
          "pattern": {
           "shape": ""
          }
         },
         "name": "",
         "offsetgroup": "",
         "orientation": "v",
         "showlegend": false,
         "textposition": "auto",
         "type": "bar",
         "x": [
          3,
          2,
          4,
          5,
          1,
          0
         ],
         "xaxis": "x",
         "y": [
          715,
          628,
          477,
          237,
          211,
          25
         ],
         "yaxis": "y"
        }
       ],
       "layout": {
        "barmode": "relative",
        "font": {
         "color": "white"
        },
        "hoverlabel": {
         "bgcolor": "#FFE6E6",
         "font": {
          "color": "black",
          "size": 14
         }
        },
        "legend": {
         "tracegroupgap": 0
        },
        "margin": {
         "t": 60
        },
        "paper_bgcolor": "rgba(0, 0, 0, 0)",
        "plot_bgcolor": "rgba(0, 0, 0, 0)",
        "template": {
         "data": {
          "bar": [
           {
            "error_x": {
             "color": "#2a3f5f"
            },
            "error_y": {
             "color": "#2a3f5f"
            },
            "marker": {
             "line": {
              "color": "white",
              "width": 0.5
             },
             "pattern": {
              "fillmode": "overlay",
              "size": 10,
              "solidity": 0.2
             }
            },
            "type": "bar"
           }
          ],
          "barpolar": [
           {
            "marker": {
             "line": {
              "color": "white",
              "width": 0.5
             },
             "pattern": {
              "fillmode": "overlay",
              "size": 10,
              "solidity": 0.2
             }
            },
            "type": "barpolar"
           }
          ],
          "carpet": [
           {
            "aaxis": {
             "endlinecolor": "#2a3f5f",
             "gridcolor": "#C8D4E3",
             "linecolor": "#C8D4E3",
             "minorgridcolor": "#C8D4E3",
             "startlinecolor": "#2a3f5f"
            },
            "baxis": {
             "endlinecolor": "#2a3f5f",
             "gridcolor": "#C8D4E3",
             "linecolor": "#C8D4E3",
             "minorgridcolor": "#C8D4E3",
             "startlinecolor": "#2a3f5f"
            },
            "type": "carpet"
           }
          ],
          "choropleth": [
           {
            "colorbar": {
             "outlinewidth": 0,
             "ticks": ""
            },
            "type": "choropleth"
           }
          ],
          "contour": [
           {
            "colorbar": {
             "outlinewidth": 0,
             "ticks": ""
            },
            "colorscale": [
             [
              0,
              "#0d0887"
             ],
             [
              0.1111111111111111,
              "#46039f"
             ],
             [
              0.2222222222222222,
              "#7201a8"
             ],
             [
              0.3333333333333333,
              "#9c179e"
             ],
             [
              0.4444444444444444,
              "#bd3786"
             ],
             [
              0.5555555555555556,
              "#d8576b"
             ],
             [
              0.6666666666666666,
              "#ed7953"
             ],
             [
              0.7777777777777778,
              "#fb9f3a"
             ],
             [
              0.8888888888888888,
              "#fdca26"
             ],
             [
              1,
              "#f0f921"
             ]
            ],
            "type": "contour"
           }
          ],
          "contourcarpet": [
           {
            "colorbar": {
             "outlinewidth": 0,
             "ticks": ""
            },
            "type": "contourcarpet"
           }
          ],
          "heatmap": [
           {
            "colorbar": {
             "outlinewidth": 0,
             "ticks": ""
            },
            "colorscale": [
             [
              0,
              "#0d0887"
             ],
             [
              0.1111111111111111,
              "#46039f"
             ],
             [
              0.2222222222222222,
              "#7201a8"
             ],
             [
              0.3333333333333333,
              "#9c179e"
             ],
             [
              0.4444444444444444,
              "#bd3786"
             ],
             [
              0.5555555555555556,
              "#d8576b"
             ],
             [
              0.6666666666666666,
              "#ed7953"
             ],
             [
              0.7777777777777778,
              "#fb9f3a"
             ],
             [
              0.8888888888888888,
              "#fdca26"
             ],
             [
              1,
              "#f0f921"
             ]
            ],
            "type": "heatmap"
           }
          ],
          "heatmapgl": [
           {
            "colorbar": {
             "outlinewidth": 0,
             "ticks": ""
            },
            "colorscale": [
             [
              0,
              "#0d0887"
             ],
             [
              0.1111111111111111,
              "#46039f"
             ],
             [
              0.2222222222222222,
              "#7201a8"
             ],
             [
              0.3333333333333333,
              "#9c179e"
             ],
             [
              0.4444444444444444,
              "#bd3786"
             ],
             [
              0.5555555555555556,
              "#d8576b"
             ],
             [
              0.6666666666666666,
              "#ed7953"
             ],
             [
              0.7777777777777778,
              "#fb9f3a"
             ],
             [
              0.8888888888888888,
              "#fdca26"
             ],
             [
              1,
              "#f0f921"
             ]
            ],
            "type": "heatmapgl"
           }
          ],
          "histogram": [
           {
            "marker": {
             "pattern": {
              "fillmode": "overlay",
              "size": 10,
              "solidity": 0.2
             }
            },
            "type": "histogram"
           }
          ],
          "histogram2d": [
           {
            "colorbar": {
             "outlinewidth": 0,
             "ticks": ""
            },
            "colorscale": [
             [
              0,
              "#0d0887"
             ],
             [
              0.1111111111111111,
              "#46039f"
             ],
             [
              0.2222222222222222,
              "#7201a8"
             ],
             [
              0.3333333333333333,
              "#9c179e"
             ],
             [
              0.4444444444444444,
              "#bd3786"
             ],
             [
              0.5555555555555556,
              "#d8576b"
             ],
             [
              0.6666666666666666,
              "#ed7953"
             ],
             [
              0.7777777777777778,
              "#fb9f3a"
             ],
             [
              0.8888888888888888,
              "#fdca26"
             ],
             [
              1,
              "#f0f921"
             ]
            ],
            "type": "histogram2d"
           }
          ],
          "histogram2dcontour": [
           {
            "colorbar": {
             "outlinewidth": 0,
             "ticks": ""
            },
            "colorscale": [
             [
              0,
              "#0d0887"
             ],
             [
              0.1111111111111111,
              "#46039f"
             ],
             [
              0.2222222222222222,
              "#7201a8"
             ],
             [
              0.3333333333333333,
              "#9c179e"
             ],
             [
              0.4444444444444444,
              "#bd3786"
             ],
             [
              0.5555555555555556,
              "#d8576b"
             ],
             [
              0.6666666666666666,
              "#ed7953"
             ],
             [
              0.7777777777777778,
              "#fb9f3a"
             ],
             [
              0.8888888888888888,
              "#fdca26"
             ],
             [
              1,
              "#f0f921"
             ]
            ],
            "type": "histogram2dcontour"
           }
          ],
          "mesh3d": [
           {
            "colorbar": {
             "outlinewidth": 0,
             "ticks": ""
            },
            "type": "mesh3d"
           }
          ],
          "parcoords": [
           {
            "line": {
             "colorbar": {
              "outlinewidth": 0,
              "ticks": ""
             }
            },
            "type": "parcoords"
           }
          ],
          "pie": [
           {
            "automargin": true,
            "type": "pie"
           }
          ],
          "scatter": [
           {
            "fillpattern": {
             "fillmode": "overlay",
             "size": 10,
             "solidity": 0.2
            },
            "type": "scatter"
           }
          ],
          "scatter3d": [
           {
            "line": {
             "colorbar": {
              "outlinewidth": 0,
              "ticks": ""
             }
            },
            "marker": {
             "colorbar": {
              "outlinewidth": 0,
              "ticks": ""
             }
            },
            "type": "scatter3d"
           }
          ],
          "scattercarpet": [
           {
            "marker": {
             "colorbar": {
              "outlinewidth": 0,
              "ticks": ""
             }
            },
            "type": "scattercarpet"
           }
          ],
          "scattergeo": [
           {
            "marker": {
             "colorbar": {
              "outlinewidth": 0,
              "ticks": ""
             }
            },
            "type": "scattergeo"
           }
          ],
          "scattergl": [
           {
            "marker": {
             "colorbar": {
              "outlinewidth": 0,
              "ticks": ""
             }
            },
            "type": "scattergl"
           }
          ],
          "scattermapbox": [
           {
            "marker": {
             "colorbar": {
              "outlinewidth": 0,
              "ticks": ""
             }
            },
            "type": "scattermapbox"
           }
          ],
          "scatterpolar": [
           {
            "marker": {
             "colorbar": {
              "outlinewidth": 0,
              "ticks": ""
             }
            },
            "type": "scatterpolar"
           }
          ],
          "scatterpolargl": [
           {
            "marker": {
             "colorbar": {
              "outlinewidth": 0,
              "ticks": ""
             }
            },
            "type": "scatterpolargl"
           }
          ],
          "scatterternary": [
           {
            "marker": {
             "colorbar": {
              "outlinewidth": 0,
              "ticks": ""
             }
            },
            "type": "scatterternary"
           }
          ],
          "surface": [
           {
            "colorbar": {
             "outlinewidth": 0,
             "ticks": ""
            },
            "colorscale": [
             [
              0,
              "#0d0887"
             ],
             [
              0.1111111111111111,
              "#46039f"
             ],
             [
              0.2222222222222222,
              "#7201a8"
             ],
             [
              0.3333333333333333,
              "#9c179e"
             ],
             [
              0.4444444444444444,
              "#bd3786"
             ],
             [
              0.5555555555555556,
              "#d8576b"
             ],
             [
              0.6666666666666666,
              "#ed7953"
             ],
             [
              0.7777777777777778,
              "#fb9f3a"
             ],
             [
              0.8888888888888888,
              "#fdca26"
             ],
             [
              1,
              "#f0f921"
             ]
            ],
            "type": "surface"
           }
          ],
          "table": [
           {
            "cells": {
             "fill": {
              "color": "#EBF0F8"
             },
             "line": {
              "color": "white"
             }
            },
            "header": {
             "fill": {
              "color": "#C8D4E3"
             },
             "line": {
              "color": "white"
             }
            },
            "type": "table"
           }
          ]
         },
         "layout": {
          "annotationdefaults": {
           "arrowcolor": "#2a3f5f",
           "arrowhead": 0,
           "arrowwidth": 1
          },
          "autotypenumbers": "strict",
          "coloraxis": {
           "colorbar": {
            "outlinewidth": 0,
            "ticks": ""
           }
          },
          "colorscale": {
           "diverging": [
            [
             0,
             "#8e0152"
            ],
            [
             0.1,
             "#c51b7d"
            ],
            [
             0.2,
             "#de77ae"
            ],
            [
             0.3,
             "#f1b6da"
            ],
            [
             0.4,
             "#fde0ef"
            ],
            [
             0.5,
             "#f7f7f7"
            ],
            [
             0.6,
             "#e6f5d0"
            ],
            [
             0.7,
             "#b8e186"
            ],
            [
             0.8,
             "#7fbc41"
            ],
            [
             0.9,
             "#4d9221"
            ],
            [
             1,
             "#276419"
            ]
           ],
           "sequential": [
            [
             0,
             "#0d0887"
            ],
            [
             0.1111111111111111,
             "#46039f"
            ],
            [
             0.2222222222222222,
             "#7201a8"
            ],
            [
             0.3333333333333333,
             "#9c179e"
            ],
            [
             0.4444444444444444,
             "#bd3786"
            ],
            [
             0.5555555555555556,
             "#d8576b"
            ],
            [
             0.6666666666666666,
             "#ed7953"
            ],
            [
             0.7777777777777778,
             "#fb9f3a"
            ],
            [
             0.8888888888888888,
             "#fdca26"
            ],
            [
             1,
             "#f0f921"
            ]
           ],
           "sequentialminus": [
            [
             0,
             "#0d0887"
            ],
            [
             0.1111111111111111,
             "#46039f"
            ],
            [
             0.2222222222222222,
             "#7201a8"
            ],
            [
             0.3333333333333333,
             "#9c179e"
            ],
            [
             0.4444444444444444,
             "#bd3786"
            ],
            [
             0.5555555555555556,
             "#d8576b"
            ],
            [
             0.6666666666666666,
             "#ed7953"
            ],
            [
             0.7777777777777778,
             "#fb9f3a"
            ],
            [
             0.8888888888888888,
             "#fdca26"
            ],
            [
             1,
             "#f0f921"
            ]
           ]
          },
          "colorway": [
           "#636efa",
           "#EF553B",
           "#00cc96",
           "#ab63fa",
           "#FFA15A",
           "#19d3f3",
           "#FF6692",
           "#B6E880",
           "#FF97FF",
           "#FECB52"
          ],
          "font": {
           "color": "#2a3f5f"
          },
          "geo": {
           "bgcolor": "white",
           "lakecolor": "white",
           "landcolor": "white",
           "showlakes": true,
           "showland": true,
           "subunitcolor": "#C8D4E3"
          },
          "hoverlabel": {
           "align": "left"
          },
          "hovermode": "closest",
          "mapbox": {
           "style": "light"
          },
          "paper_bgcolor": "white",
          "plot_bgcolor": "white",
          "polar": {
           "angularaxis": {
            "gridcolor": "#EBF0F8",
            "linecolor": "#EBF0F8",
            "ticks": ""
           },
           "bgcolor": "white",
           "radialaxis": {
            "gridcolor": "#EBF0F8",
            "linecolor": "#EBF0F8",
            "ticks": ""
           }
          },
          "scene": {
           "xaxis": {
            "backgroundcolor": "white",
            "gridcolor": "#DFE8F3",
            "gridwidth": 2,
            "linecolor": "#EBF0F8",
            "showbackground": true,
            "ticks": "",
            "zerolinecolor": "#EBF0F8"
           },
           "yaxis": {
            "backgroundcolor": "white",
            "gridcolor": "#DFE8F3",
            "gridwidth": 2,
            "linecolor": "#EBF0F8",
            "showbackground": true,
            "ticks": "",
            "zerolinecolor": "#EBF0F8"
           },
           "zaxis": {
            "backgroundcolor": "white",
            "gridcolor": "#DFE8F3",
            "gridwidth": 2,
            "linecolor": "#EBF0F8",
            "showbackground": true,
            "ticks": "",
            "zerolinecolor": "#EBF0F8"
           }
          },
          "shapedefaults": {
           "line": {
            "color": "#2a3f5f"
           }
          },
          "ternary": {
           "aaxis": {
            "gridcolor": "#DFE8F3",
            "linecolor": "#A2B1C6",
            "ticks": ""
           },
           "baxis": {
            "gridcolor": "#DFE8F3",
            "linecolor": "#A2B1C6",
            "ticks": ""
           },
           "bgcolor": "white",
           "caxis": {
            "gridcolor": "#DFE8F3",
            "linecolor": "#A2B1C6",
            "ticks": ""
           }
          },
          "title": {
           "x": 0.05
          },
          "xaxis": {
           "automargin": true,
           "gridcolor": "#EBF0F8",
           "linecolor": "#EBF0F8",
           "ticks": "",
           "title": {
            "standoff": 15
           },
           "zerolinecolor": "#EBF0F8",
           "zerolinewidth": 2
          },
          "yaxis": {
           "automargin": true,
           "gridcolor": "#EBF0F8",
           "linecolor": "#EBF0F8",
           "ticks": "",
           "title": {
            "standoff": 15
           },
           "zerolinecolor": "#EBF0F8",
           "zerolinewidth": 2
          }
         }
        },
        "title": {
         "text": "Quantidade de Textos por Nota"
        },
        "xaxis": {
         "anchor": "y",
         "color": "white",
         "domain": [
          0,
          1
         ],
         "showgrid": false,
         "title": {
          "text": "Nota"
         }
        },
        "yaxis": {
         "anchor": "x",
         "color": "white",
         "domain": [
          0,
          1
         ],
         "title": {
          "text": "Quantidade"
         }
        }
       }
      }
     },
     "metadata": {},
     "output_type": "display_data"
    }
   ],
   "source": [
    "import plotly.express as px\n",
    "\n",
    "# Create the bar chart\n",
    "fig = px.bar(\n",
    "    df_chart,  # Pass the entire DataFrame\n",
    "    x='nota_real',  # X-axis\n",
    "    y='qtde_textos',  # Y-axis\n",
    "    labels={'qtde_textos': 'Quantidade', 'nota_real': 'Nota'},  # Custom axis labels\n",
    "    color_discrete_sequence=['#FF4B4B']  # Streamlit red color\n",
    ")\n",
    "\n",
    "# Update the tooltip\n",
    "fig.update_traces(\n",
    "    hovertemplate=\"%{y} textos<extra></extra>\"  # Custom tooltip  \n",
    ")\n",
    "\n",
    "# Update layout for transparent background and tooltip styles\n",
    "fig.update_layout(\n",
    "    title=\"Quantidade de Textos por Nota\",\n",
    "    xaxis_title=\"Nota\",\n",
    "    yaxis_title=\"Quantidade\",\n",
    "    template=\"plotly_white\",\n",
    "    plot_bgcolor=\"rgba(0, 0, 0, 0)\",  # Transparent plot background\n",
    "    paper_bgcolor=\"rgba(0, 0, 0, 0)\",  # Transparent outer background\n",
    "    font=dict(color=\"white\"),  # White font for titles, labels, and text\n",
    "    xaxis=dict(\n",
    "        showgrid=False,  # Remove vertical gridlines\n",
    "        color=\"white\"    # White font for x-axis labels\n",
    "    ),\n",
    "    yaxis=dict(\n",
    "        #showgrid=False,  # Remove horizontal gridlines\n",
    "        color=\"white\"    # White font for y-axis labels\n",
    "    ),\n",
    "    hoverlabel=dict(\n",
    "        bgcolor=\"#FFE6E6\",  # Light red background\n",
    "        font_size=14,       # Tooltip font size\n",
    "        font_color=\"black\"  # Tooltip text color\n",
    "    )\n",
    ")\n",
    "\n",
    "# Show the figure\n",
    "fig.show()"
   ]
  },
  {
   "cell_type": "code",
   "execution_count": 90,
   "metadata": {},
   "outputs": [],
   "source": [
    "### AQUI TÁ EXIBINDO O NUMEROD E TEXTOS ACIMA DA BARRA.\n",
    "\n",
    "#import plotly.express as px\n",
    "#import pandas as pd\n",
    "\n",
    "# Example DataFrame (use your own `df_chart` DataFrame)\n",
    "# df_chart = pd.DataFrame({\n",
    "#     'nota_real': [0, 1, 2, 3, 4, 5],\n",
    "#     'qtde_textos': [10, 15, 20, 25, 30, 35]\n",
    "# })\n",
    "\n",
    "# Create the bar chart\n",
    "#fig = px.bar(\n",
    "  #  df_chart, \n",
    "   # x='nota_real',  # X-axis\n",
    "   # y='qtde_textos',  # Y-axis\n",
    "   # title=\"Quantidade de Textos por Nota\",\n",
    "   # text='qtde_textos',  # Add values on top of bars\n",
    "   # color_discrete_sequence=[\"#FF4B4B\"]  # Red color like Streamlit\n",
    "#)\n",
    "\n",
    "# Customize tooltips\n",
    "#fig.update_traces(\n",
    " #   hovertemplate=\"%{y} textos<extra></extra>\",  # Customize tooltip text\n",
    " #   texttemplate=\"%{y}\",  # Text on top of bars\n",
    "  #  textposition=\"outside\"  # Position of text labels\n",
    "#)\n",
    "\n",
    "# Customize layout\n",
    "#fig.update_layout(\n",
    "   # xaxis_title=\"Nota\",  # Label for X-axis\n",
    "   # yaxis_title=\"Quantidade\",  # Label for Y-axis\n",
    "   # title_font_size=20,  # Title font size\n",
    "   # template='plotly_white'  # Clean white background\n",
    "#)\n",
    "\n",
    "# Show the figure\n",
    "#fig.show()\n"
   ]
  },
  {
   "cell_type": "markdown",
   "metadata": {},
   "source": [
    "Número mínimo e número máximo de tokens\n",
    "\n",
    "Tb grouped bar, mas aí um é o número minimo de tokens e o outro é o número máximo de tokens\n",
    "x é a nota\n",
    "no tooltip vai o valor médio e desvio padrão"
   ]
  },
  {
   "cell_type": "code",
   "execution_count": 76,
   "metadata": {},
   "outputs": [
    {
     "data": {
      "text/plain": [
       "qtde_textos                 int64\n",
       "qtde_total_tokens_nota      int64\n",
       "qtde_media_tokens         float64\n",
       "qtde_total_types_nota       int64\n",
       "qtde_media_types          float64\n",
       "TTR                       float64\n",
       "qtde_tokens_min             int64\n",
       "qtde_tokens_max             int64\n",
       "desvpad_qtde_tokens       float64\n",
       "nota_real                   int64\n",
       "dtype: object"
      ]
     },
     "execution_count": 76,
     "metadata": {},
     "output_type": "execute_result"
    }
   ],
   "source": [
    "df_chart.dtypes"
   ]
  },
  {
   "cell_type": "code",
   "execution_count": 87,
   "metadata": {},
   "outputs": [
    {
     "data": {
      "application/vnd.plotly.v1+json": {
       "config": {
        "plotlyServerURL": "https://plot.ly"
       },
       "data": [
        {
         "customdata": [
          [
           172.05,
           40.96
          ],
          [
           158.35,
           44.61
          ],
          [
           184.94,
           41.78
          ],
          [
           200.85,
           45.77
          ],
          [
           143.55,
           46.68
          ],
          [
           91.36,
           53.34
          ]
         ],
         "hovertemplate": "Máximo de tokens: %{y}<br>Número médio: %{customdata[0]:.2f}<br>Desvio padrão: %{customdata[1]:.2f}<extra></extra>",
         "marker": {
          "color": "blue"
         },
         "name": "Máximo de tokens",
         "type": "bar",
         "x": [
          3,
          2,
          4,
          5,
          1,
          0
         ],
         "y": [
          410,
          338,
          351,
          346,
          321,
          200
         ]
        },
        {
         "customdata": [
          [
           172.05,
           40.96
          ],
          [
           158.35,
           44.61
          ],
          [
           184.94,
           41.78
          ],
          [
           200.85,
           45.77
          ],
          [
           143.55,
           46.68
          ],
          [
           91.36,
           53.34
          ]
         ],
         "hovertemplate": "Mínimo de tokens: %{y}<br>Número médio: %{customdata[0]:.2f}<br>Desvio padrão: %{customdata[1]:.2f}<extra></extra>",
         "marker": {
          "color": "purple"
         },
         "name": "Mínimo de tokens",
         "type": "bar",
         "x": [
          3,
          2,
          4,
          5,
          1,
          0
         ],
         "y": [
          74,
          48,
          92,
          107,
          44,
          17
         ]
        }
       ],
       "layout": {
        "barmode": "group",
        "legend": {
         "title": {
          "text": "Legenda"
         }
        },
        "template": {
         "data": {
          "bar": [
           {
            "error_x": {
             "color": "#2a3f5f"
            },
            "error_y": {
             "color": "#2a3f5f"
            },
            "marker": {
             "line": {
              "color": "white",
              "width": 0.5
             },
             "pattern": {
              "fillmode": "overlay",
              "size": 10,
              "solidity": 0.2
             }
            },
            "type": "bar"
           }
          ],
          "barpolar": [
           {
            "marker": {
             "line": {
              "color": "white",
              "width": 0.5
             },
             "pattern": {
              "fillmode": "overlay",
              "size": 10,
              "solidity": 0.2
             }
            },
            "type": "barpolar"
           }
          ],
          "carpet": [
           {
            "aaxis": {
             "endlinecolor": "#2a3f5f",
             "gridcolor": "#C8D4E3",
             "linecolor": "#C8D4E3",
             "minorgridcolor": "#C8D4E3",
             "startlinecolor": "#2a3f5f"
            },
            "baxis": {
             "endlinecolor": "#2a3f5f",
             "gridcolor": "#C8D4E3",
             "linecolor": "#C8D4E3",
             "minorgridcolor": "#C8D4E3",
             "startlinecolor": "#2a3f5f"
            },
            "type": "carpet"
           }
          ],
          "choropleth": [
           {
            "colorbar": {
             "outlinewidth": 0,
             "ticks": ""
            },
            "type": "choropleth"
           }
          ],
          "contour": [
           {
            "colorbar": {
             "outlinewidth": 0,
             "ticks": ""
            },
            "colorscale": [
             [
              0,
              "#0d0887"
             ],
             [
              0.1111111111111111,
              "#46039f"
             ],
             [
              0.2222222222222222,
              "#7201a8"
             ],
             [
              0.3333333333333333,
              "#9c179e"
             ],
             [
              0.4444444444444444,
              "#bd3786"
             ],
             [
              0.5555555555555556,
              "#d8576b"
             ],
             [
              0.6666666666666666,
              "#ed7953"
             ],
             [
              0.7777777777777778,
              "#fb9f3a"
             ],
             [
              0.8888888888888888,
              "#fdca26"
             ],
             [
              1,
              "#f0f921"
             ]
            ],
            "type": "contour"
           }
          ],
          "contourcarpet": [
           {
            "colorbar": {
             "outlinewidth": 0,
             "ticks": ""
            },
            "type": "contourcarpet"
           }
          ],
          "heatmap": [
           {
            "colorbar": {
             "outlinewidth": 0,
             "ticks": ""
            },
            "colorscale": [
             [
              0,
              "#0d0887"
             ],
             [
              0.1111111111111111,
              "#46039f"
             ],
             [
              0.2222222222222222,
              "#7201a8"
             ],
             [
              0.3333333333333333,
              "#9c179e"
             ],
             [
              0.4444444444444444,
              "#bd3786"
             ],
             [
              0.5555555555555556,
              "#d8576b"
             ],
             [
              0.6666666666666666,
              "#ed7953"
             ],
             [
              0.7777777777777778,
              "#fb9f3a"
             ],
             [
              0.8888888888888888,
              "#fdca26"
             ],
             [
              1,
              "#f0f921"
             ]
            ],
            "type": "heatmap"
           }
          ],
          "heatmapgl": [
           {
            "colorbar": {
             "outlinewidth": 0,
             "ticks": ""
            },
            "colorscale": [
             [
              0,
              "#0d0887"
             ],
             [
              0.1111111111111111,
              "#46039f"
             ],
             [
              0.2222222222222222,
              "#7201a8"
             ],
             [
              0.3333333333333333,
              "#9c179e"
             ],
             [
              0.4444444444444444,
              "#bd3786"
             ],
             [
              0.5555555555555556,
              "#d8576b"
             ],
             [
              0.6666666666666666,
              "#ed7953"
             ],
             [
              0.7777777777777778,
              "#fb9f3a"
             ],
             [
              0.8888888888888888,
              "#fdca26"
             ],
             [
              1,
              "#f0f921"
             ]
            ],
            "type": "heatmapgl"
           }
          ],
          "histogram": [
           {
            "marker": {
             "pattern": {
              "fillmode": "overlay",
              "size": 10,
              "solidity": 0.2
             }
            },
            "type": "histogram"
           }
          ],
          "histogram2d": [
           {
            "colorbar": {
             "outlinewidth": 0,
             "ticks": ""
            },
            "colorscale": [
             [
              0,
              "#0d0887"
             ],
             [
              0.1111111111111111,
              "#46039f"
             ],
             [
              0.2222222222222222,
              "#7201a8"
             ],
             [
              0.3333333333333333,
              "#9c179e"
             ],
             [
              0.4444444444444444,
              "#bd3786"
             ],
             [
              0.5555555555555556,
              "#d8576b"
             ],
             [
              0.6666666666666666,
              "#ed7953"
             ],
             [
              0.7777777777777778,
              "#fb9f3a"
             ],
             [
              0.8888888888888888,
              "#fdca26"
             ],
             [
              1,
              "#f0f921"
             ]
            ],
            "type": "histogram2d"
           }
          ],
          "histogram2dcontour": [
           {
            "colorbar": {
             "outlinewidth": 0,
             "ticks": ""
            },
            "colorscale": [
             [
              0,
              "#0d0887"
             ],
             [
              0.1111111111111111,
              "#46039f"
             ],
             [
              0.2222222222222222,
              "#7201a8"
             ],
             [
              0.3333333333333333,
              "#9c179e"
             ],
             [
              0.4444444444444444,
              "#bd3786"
             ],
             [
              0.5555555555555556,
              "#d8576b"
             ],
             [
              0.6666666666666666,
              "#ed7953"
             ],
             [
              0.7777777777777778,
              "#fb9f3a"
             ],
             [
              0.8888888888888888,
              "#fdca26"
             ],
             [
              1,
              "#f0f921"
             ]
            ],
            "type": "histogram2dcontour"
           }
          ],
          "mesh3d": [
           {
            "colorbar": {
             "outlinewidth": 0,
             "ticks": ""
            },
            "type": "mesh3d"
           }
          ],
          "parcoords": [
           {
            "line": {
             "colorbar": {
              "outlinewidth": 0,
              "ticks": ""
             }
            },
            "type": "parcoords"
           }
          ],
          "pie": [
           {
            "automargin": true,
            "type": "pie"
           }
          ],
          "scatter": [
           {
            "fillpattern": {
             "fillmode": "overlay",
             "size": 10,
             "solidity": 0.2
            },
            "type": "scatter"
           }
          ],
          "scatter3d": [
           {
            "line": {
             "colorbar": {
              "outlinewidth": 0,
              "ticks": ""
             }
            },
            "marker": {
             "colorbar": {
              "outlinewidth": 0,
              "ticks": ""
             }
            },
            "type": "scatter3d"
           }
          ],
          "scattercarpet": [
           {
            "marker": {
             "colorbar": {
              "outlinewidth": 0,
              "ticks": ""
             }
            },
            "type": "scattercarpet"
           }
          ],
          "scattergeo": [
           {
            "marker": {
             "colorbar": {
              "outlinewidth": 0,
              "ticks": ""
             }
            },
            "type": "scattergeo"
           }
          ],
          "scattergl": [
           {
            "marker": {
             "colorbar": {
              "outlinewidth": 0,
              "ticks": ""
             }
            },
            "type": "scattergl"
           }
          ],
          "scattermapbox": [
           {
            "marker": {
             "colorbar": {
              "outlinewidth": 0,
              "ticks": ""
             }
            },
            "type": "scattermapbox"
           }
          ],
          "scatterpolar": [
           {
            "marker": {
             "colorbar": {
              "outlinewidth": 0,
              "ticks": ""
             }
            },
            "type": "scatterpolar"
           }
          ],
          "scatterpolargl": [
           {
            "marker": {
             "colorbar": {
              "outlinewidth": 0,
              "ticks": ""
             }
            },
            "type": "scatterpolargl"
           }
          ],
          "scatterternary": [
           {
            "marker": {
             "colorbar": {
              "outlinewidth": 0,
              "ticks": ""
             }
            },
            "type": "scatterternary"
           }
          ],
          "surface": [
           {
            "colorbar": {
             "outlinewidth": 0,
             "ticks": ""
            },
            "colorscale": [
             [
              0,
              "#0d0887"
             ],
             [
              0.1111111111111111,
              "#46039f"
             ],
             [
              0.2222222222222222,
              "#7201a8"
             ],
             [
              0.3333333333333333,
              "#9c179e"
             ],
             [
              0.4444444444444444,
              "#bd3786"
             ],
             [
              0.5555555555555556,
              "#d8576b"
             ],
             [
              0.6666666666666666,
              "#ed7953"
             ],
             [
              0.7777777777777778,
              "#fb9f3a"
             ],
             [
              0.8888888888888888,
              "#fdca26"
             ],
             [
              1,
              "#f0f921"
             ]
            ],
            "type": "surface"
           }
          ],
          "table": [
           {
            "cells": {
             "fill": {
              "color": "#EBF0F8"
             },
             "line": {
              "color": "white"
             }
            },
            "header": {
             "fill": {
              "color": "#C8D4E3"
             },
             "line": {
              "color": "white"
             }
            },
            "type": "table"
           }
          ]
         },
         "layout": {
          "annotationdefaults": {
           "arrowcolor": "#2a3f5f",
           "arrowhead": 0,
           "arrowwidth": 1
          },
          "autotypenumbers": "strict",
          "coloraxis": {
           "colorbar": {
            "outlinewidth": 0,
            "ticks": ""
           }
          },
          "colorscale": {
           "diverging": [
            [
             0,
             "#8e0152"
            ],
            [
             0.1,
             "#c51b7d"
            ],
            [
             0.2,
             "#de77ae"
            ],
            [
             0.3,
             "#f1b6da"
            ],
            [
             0.4,
             "#fde0ef"
            ],
            [
             0.5,
             "#f7f7f7"
            ],
            [
             0.6,
             "#e6f5d0"
            ],
            [
             0.7,
             "#b8e186"
            ],
            [
             0.8,
             "#7fbc41"
            ],
            [
             0.9,
             "#4d9221"
            ],
            [
             1,
             "#276419"
            ]
           ],
           "sequential": [
            [
             0,
             "#0d0887"
            ],
            [
             0.1111111111111111,
             "#46039f"
            ],
            [
             0.2222222222222222,
             "#7201a8"
            ],
            [
             0.3333333333333333,
             "#9c179e"
            ],
            [
             0.4444444444444444,
             "#bd3786"
            ],
            [
             0.5555555555555556,
             "#d8576b"
            ],
            [
             0.6666666666666666,
             "#ed7953"
            ],
            [
             0.7777777777777778,
             "#fb9f3a"
            ],
            [
             0.8888888888888888,
             "#fdca26"
            ],
            [
             1,
             "#f0f921"
            ]
           ],
           "sequentialminus": [
            [
             0,
             "#0d0887"
            ],
            [
             0.1111111111111111,
             "#46039f"
            ],
            [
             0.2222222222222222,
             "#7201a8"
            ],
            [
             0.3333333333333333,
             "#9c179e"
            ],
            [
             0.4444444444444444,
             "#bd3786"
            ],
            [
             0.5555555555555556,
             "#d8576b"
            ],
            [
             0.6666666666666666,
             "#ed7953"
            ],
            [
             0.7777777777777778,
             "#fb9f3a"
            ],
            [
             0.8888888888888888,
             "#fdca26"
            ],
            [
             1,
             "#f0f921"
            ]
           ]
          },
          "colorway": [
           "#636efa",
           "#EF553B",
           "#00cc96",
           "#ab63fa",
           "#FFA15A",
           "#19d3f3",
           "#FF6692",
           "#B6E880",
           "#FF97FF",
           "#FECB52"
          ],
          "font": {
           "color": "#2a3f5f"
          },
          "geo": {
           "bgcolor": "white",
           "lakecolor": "white",
           "landcolor": "white",
           "showlakes": true,
           "showland": true,
           "subunitcolor": "#C8D4E3"
          },
          "hoverlabel": {
           "align": "left"
          },
          "hovermode": "closest",
          "mapbox": {
           "style": "light"
          },
          "paper_bgcolor": "white",
          "plot_bgcolor": "white",
          "polar": {
           "angularaxis": {
            "gridcolor": "#EBF0F8",
            "linecolor": "#EBF0F8",
            "ticks": ""
           },
           "bgcolor": "white",
           "radialaxis": {
            "gridcolor": "#EBF0F8",
            "linecolor": "#EBF0F8",
            "ticks": ""
           }
          },
          "scene": {
           "xaxis": {
            "backgroundcolor": "white",
            "gridcolor": "#DFE8F3",
            "gridwidth": 2,
            "linecolor": "#EBF0F8",
            "showbackground": true,
            "ticks": "",
            "zerolinecolor": "#EBF0F8"
           },
           "yaxis": {
            "backgroundcolor": "white",
            "gridcolor": "#DFE8F3",
            "gridwidth": 2,
            "linecolor": "#EBF0F8",
            "showbackground": true,
            "ticks": "",
            "zerolinecolor": "#EBF0F8"
           },
           "zaxis": {
            "backgroundcolor": "white",
            "gridcolor": "#DFE8F3",
            "gridwidth": 2,
            "linecolor": "#EBF0F8",
            "showbackground": true,
            "ticks": "",
            "zerolinecolor": "#EBF0F8"
           }
          },
          "shapedefaults": {
           "line": {
            "color": "#2a3f5f"
           }
          },
          "ternary": {
           "aaxis": {
            "gridcolor": "#DFE8F3",
            "linecolor": "#A2B1C6",
            "ticks": ""
           },
           "baxis": {
            "gridcolor": "#DFE8F3",
            "linecolor": "#A2B1C6",
            "ticks": ""
           },
           "bgcolor": "white",
           "caxis": {
            "gridcolor": "#DFE8F3",
            "linecolor": "#A2B1C6",
            "ticks": ""
           }
          },
          "title": {
           "x": 0.05
          },
          "xaxis": {
           "automargin": true,
           "gridcolor": "#EBF0F8",
           "linecolor": "#EBF0F8",
           "ticks": "",
           "title": {
            "standoff": 15
           },
           "zerolinecolor": "#EBF0F8",
           "zerolinewidth": 2
          },
          "yaxis": {
           "automargin": true,
           "gridcolor": "#EBF0F8",
           "linecolor": "#EBF0F8",
           "ticks": "",
           "title": {
            "standoff": 15
           },
           "zerolinecolor": "#EBF0F8",
           "zerolinewidth": 2
          }
         }
        },
        "title": {
         "text": "Números Máximo e Mínimo de Tokens"
        },
        "xaxis": {
         "title": {
          "text": "Nota"
         }
        },
        "yaxis": {
         "title": {
          "text": "Quantidade"
         }
        }
       }
      }
     },
     "metadata": {},
     "output_type": "display_data"
    }
   ],
   "source": [
    "import plotly.graph_objects as go\n",
    "\n",
    "# Antes de criar a figura, arrumo as infos de colunas \"extras\" que desejo exibir no tooptip\n",
    "customdata = df_chart[['qtde_media_tokens', 'desvpad_qtde_tokens']].values\n",
    "\n",
    "# Create the figure\n",
    "fig = go.Figure()\n",
    "\n",
    "# Add the bars for min max tokens\n",
    "fig.add_trace(go.Bar(\n",
    "    x=df_chart['nota_real'], \n",
    "    y=df_chart['qtde_tokens_max'], \n",
    "    name='Máximo de tokens', \n",
    "    marker_color='blue',\n",
    "    hovertemplate=(\n",
    "        \"Máximo de tokens: %{y}<br>\" +\n",
    "        \"Número médio: %{customdata[0]:.2f}<br>\" +\n",
    "        \"Desvio padrão: %{customdata[1]:.2f}<extra></extra>\"     \n",
    "    ),\n",
    "    customdata=customdata\n",
    "))\n",
    "\n",
    "# Add the bars for min max types\n",
    "fig.add_trace(go.Bar(\n",
    "    x=df_chart['nota_real'], \n",
    "    y=df_chart['qtde_tokens_min'], \n",
    "    name='Mínimo de tokens', \n",
    "    marker_color='purple',\n",
    "    hovertemplate=(\n",
    "        \"Mínimo de tokens: %{y}<br>\" +\n",
    "        \"Número médio: %{customdata[0]:.2f}<br>\" +\n",
    "        \"Desvio padrão: %{customdata[1]:.2f}<extra></extra>\"       \n",
    "    ),\n",
    "    customdata=customdata\n",
    "\n",
    "))\n",
    "\n",
    "# Update layout for better visualization\n",
    "fig.update_layout(\n",
    "    title=\"Números Máximo e Mínimo de Tokens\",\n",
    "    xaxis_title=\"Nota\",\n",
    "    yaxis_title=\"Quantidade\",\n",
    "    barmode='group',  # Grouped bars\n",
    "    legend_title=\"Legenda\",\n",
    "    template='plotly_white'\n",
    ")\n",
    "\n",
    "# Show the figure\n",
    "fig.show()"
   ]
  },
  {
   "cell_type": "code",
   "execution_count": 99,
   "metadata": {},
   "outputs": [
    {
     "data": {
      "application/vnd.plotly.v1+json": {
       "config": {
        "plotlyServerURL": "https://plot.ly"
       },
       "data": [
        {
         "customdata": [
          [
           172.05,
           40.96
          ],
          [
           158.35,
           44.61
          ],
          [
           184.94,
           41.78
          ],
          [
           200.85,
           45.77
          ],
          [
           143.55,
           46.68
          ],
          [
           91.36,
           53.34
          ]
         ],
         "hovertemplate": "Máximo de tokens: %{y}<br>Número médio: %{customdata[0]:.2f}<br>Desvio padrão: %{customdata[1]:.2f}<extra></extra>",
         "marker": {
          "color": "#FF4B4B"
         },
         "name": "Máximo de tokens",
         "type": "bar",
         "x": [
          3,
          2,
          4,
          5,
          1,
          0
         ],
         "y": [
          410,
          338,
          351,
          346,
          321,
          200
         ]
        },
        {
         "customdata": [
          [
           172.05,
           40.96
          ],
          [
           158.35,
           44.61
          ],
          [
           184.94,
           41.78
          ],
          [
           200.85,
           45.77
          ],
          [
           143.55,
           46.68
          ],
          [
           91.36,
           53.34
          ]
         ],
         "hovertemplate": "Mínimo de tokens: %{y}<br>Número médio: %{customdata[0]:.2f}<br>Desvio padrão: %{customdata[1]:.2f}<extra></extra>",
         "marker": {
          "color": "#FF6666"
         },
         "name": "Mínimo de tokens",
         "type": "bar",
         "x": [
          3,
          2,
          4,
          5,
          1,
          0
         ],
         "y": [
          74,
          48,
          92,
          107,
          44,
          17
         ]
        }
       ],
       "layout": {
        "barmode": "group",
        "font": {
         "color": "white"
        },
        "hoverlabel": {
         "bgcolor": "#FFE6E6",
         "font": {
          "color": "black",
          "size": 12
         }
        },
        "legend": {
         "title": {
          "text": "Legenda"
         }
        },
        "paper_bgcolor": "rgba(0, 0, 0, 0)",
        "plot_bgcolor": "rgba(0, 0, 0, 0)",
        "template": {
         "data": {
          "bar": [
           {
            "error_x": {
             "color": "#2a3f5f"
            },
            "error_y": {
             "color": "#2a3f5f"
            },
            "marker": {
             "line": {
              "color": "white",
              "width": 0.5
             },
             "pattern": {
              "fillmode": "overlay",
              "size": 10,
              "solidity": 0.2
             }
            },
            "type": "bar"
           }
          ],
          "barpolar": [
           {
            "marker": {
             "line": {
              "color": "white",
              "width": 0.5
             },
             "pattern": {
              "fillmode": "overlay",
              "size": 10,
              "solidity": 0.2
             }
            },
            "type": "barpolar"
           }
          ],
          "carpet": [
           {
            "aaxis": {
             "endlinecolor": "#2a3f5f",
             "gridcolor": "#C8D4E3",
             "linecolor": "#C8D4E3",
             "minorgridcolor": "#C8D4E3",
             "startlinecolor": "#2a3f5f"
            },
            "baxis": {
             "endlinecolor": "#2a3f5f",
             "gridcolor": "#C8D4E3",
             "linecolor": "#C8D4E3",
             "minorgridcolor": "#C8D4E3",
             "startlinecolor": "#2a3f5f"
            },
            "type": "carpet"
           }
          ],
          "choropleth": [
           {
            "colorbar": {
             "outlinewidth": 0,
             "ticks": ""
            },
            "type": "choropleth"
           }
          ],
          "contour": [
           {
            "colorbar": {
             "outlinewidth": 0,
             "ticks": ""
            },
            "colorscale": [
             [
              0,
              "#0d0887"
             ],
             [
              0.1111111111111111,
              "#46039f"
             ],
             [
              0.2222222222222222,
              "#7201a8"
             ],
             [
              0.3333333333333333,
              "#9c179e"
             ],
             [
              0.4444444444444444,
              "#bd3786"
             ],
             [
              0.5555555555555556,
              "#d8576b"
             ],
             [
              0.6666666666666666,
              "#ed7953"
             ],
             [
              0.7777777777777778,
              "#fb9f3a"
             ],
             [
              0.8888888888888888,
              "#fdca26"
             ],
             [
              1,
              "#f0f921"
             ]
            ],
            "type": "contour"
           }
          ],
          "contourcarpet": [
           {
            "colorbar": {
             "outlinewidth": 0,
             "ticks": ""
            },
            "type": "contourcarpet"
           }
          ],
          "heatmap": [
           {
            "colorbar": {
             "outlinewidth": 0,
             "ticks": ""
            },
            "colorscale": [
             [
              0,
              "#0d0887"
             ],
             [
              0.1111111111111111,
              "#46039f"
             ],
             [
              0.2222222222222222,
              "#7201a8"
             ],
             [
              0.3333333333333333,
              "#9c179e"
             ],
             [
              0.4444444444444444,
              "#bd3786"
             ],
             [
              0.5555555555555556,
              "#d8576b"
             ],
             [
              0.6666666666666666,
              "#ed7953"
             ],
             [
              0.7777777777777778,
              "#fb9f3a"
             ],
             [
              0.8888888888888888,
              "#fdca26"
             ],
             [
              1,
              "#f0f921"
             ]
            ],
            "type": "heatmap"
           }
          ],
          "heatmapgl": [
           {
            "colorbar": {
             "outlinewidth": 0,
             "ticks": ""
            },
            "colorscale": [
             [
              0,
              "#0d0887"
             ],
             [
              0.1111111111111111,
              "#46039f"
             ],
             [
              0.2222222222222222,
              "#7201a8"
             ],
             [
              0.3333333333333333,
              "#9c179e"
             ],
             [
              0.4444444444444444,
              "#bd3786"
             ],
             [
              0.5555555555555556,
              "#d8576b"
             ],
             [
              0.6666666666666666,
              "#ed7953"
             ],
             [
              0.7777777777777778,
              "#fb9f3a"
             ],
             [
              0.8888888888888888,
              "#fdca26"
             ],
             [
              1,
              "#f0f921"
             ]
            ],
            "type": "heatmapgl"
           }
          ],
          "histogram": [
           {
            "marker": {
             "pattern": {
              "fillmode": "overlay",
              "size": 10,
              "solidity": 0.2
             }
            },
            "type": "histogram"
           }
          ],
          "histogram2d": [
           {
            "colorbar": {
             "outlinewidth": 0,
             "ticks": ""
            },
            "colorscale": [
             [
              0,
              "#0d0887"
             ],
             [
              0.1111111111111111,
              "#46039f"
             ],
             [
              0.2222222222222222,
              "#7201a8"
             ],
             [
              0.3333333333333333,
              "#9c179e"
             ],
             [
              0.4444444444444444,
              "#bd3786"
             ],
             [
              0.5555555555555556,
              "#d8576b"
             ],
             [
              0.6666666666666666,
              "#ed7953"
             ],
             [
              0.7777777777777778,
              "#fb9f3a"
             ],
             [
              0.8888888888888888,
              "#fdca26"
             ],
             [
              1,
              "#f0f921"
             ]
            ],
            "type": "histogram2d"
           }
          ],
          "histogram2dcontour": [
           {
            "colorbar": {
             "outlinewidth": 0,
             "ticks": ""
            },
            "colorscale": [
             [
              0,
              "#0d0887"
             ],
             [
              0.1111111111111111,
              "#46039f"
             ],
             [
              0.2222222222222222,
              "#7201a8"
             ],
             [
              0.3333333333333333,
              "#9c179e"
             ],
             [
              0.4444444444444444,
              "#bd3786"
             ],
             [
              0.5555555555555556,
              "#d8576b"
             ],
             [
              0.6666666666666666,
              "#ed7953"
             ],
             [
              0.7777777777777778,
              "#fb9f3a"
             ],
             [
              0.8888888888888888,
              "#fdca26"
             ],
             [
              1,
              "#f0f921"
             ]
            ],
            "type": "histogram2dcontour"
           }
          ],
          "mesh3d": [
           {
            "colorbar": {
             "outlinewidth": 0,
             "ticks": ""
            },
            "type": "mesh3d"
           }
          ],
          "parcoords": [
           {
            "line": {
             "colorbar": {
              "outlinewidth": 0,
              "ticks": ""
             }
            },
            "type": "parcoords"
           }
          ],
          "pie": [
           {
            "automargin": true,
            "type": "pie"
           }
          ],
          "scatter": [
           {
            "fillpattern": {
             "fillmode": "overlay",
             "size": 10,
             "solidity": 0.2
            },
            "type": "scatter"
           }
          ],
          "scatter3d": [
           {
            "line": {
             "colorbar": {
              "outlinewidth": 0,
              "ticks": ""
             }
            },
            "marker": {
             "colorbar": {
              "outlinewidth": 0,
              "ticks": ""
             }
            },
            "type": "scatter3d"
           }
          ],
          "scattercarpet": [
           {
            "marker": {
             "colorbar": {
              "outlinewidth": 0,
              "ticks": ""
             }
            },
            "type": "scattercarpet"
           }
          ],
          "scattergeo": [
           {
            "marker": {
             "colorbar": {
              "outlinewidth": 0,
              "ticks": ""
             }
            },
            "type": "scattergeo"
           }
          ],
          "scattergl": [
           {
            "marker": {
             "colorbar": {
              "outlinewidth": 0,
              "ticks": ""
             }
            },
            "type": "scattergl"
           }
          ],
          "scattermapbox": [
           {
            "marker": {
             "colorbar": {
              "outlinewidth": 0,
              "ticks": ""
             }
            },
            "type": "scattermapbox"
           }
          ],
          "scatterpolar": [
           {
            "marker": {
             "colorbar": {
              "outlinewidth": 0,
              "ticks": ""
             }
            },
            "type": "scatterpolar"
           }
          ],
          "scatterpolargl": [
           {
            "marker": {
             "colorbar": {
              "outlinewidth": 0,
              "ticks": ""
             }
            },
            "type": "scatterpolargl"
           }
          ],
          "scatterternary": [
           {
            "marker": {
             "colorbar": {
              "outlinewidth": 0,
              "ticks": ""
             }
            },
            "type": "scatterternary"
           }
          ],
          "surface": [
           {
            "colorbar": {
             "outlinewidth": 0,
             "ticks": ""
            },
            "colorscale": [
             [
              0,
              "#0d0887"
             ],
             [
              0.1111111111111111,
              "#46039f"
             ],
             [
              0.2222222222222222,
              "#7201a8"
             ],
             [
              0.3333333333333333,
              "#9c179e"
             ],
             [
              0.4444444444444444,
              "#bd3786"
             ],
             [
              0.5555555555555556,
              "#d8576b"
             ],
             [
              0.6666666666666666,
              "#ed7953"
             ],
             [
              0.7777777777777778,
              "#fb9f3a"
             ],
             [
              0.8888888888888888,
              "#fdca26"
             ],
             [
              1,
              "#f0f921"
             ]
            ],
            "type": "surface"
           }
          ],
          "table": [
           {
            "cells": {
             "fill": {
              "color": "#EBF0F8"
             },
             "line": {
              "color": "white"
             }
            },
            "header": {
             "fill": {
              "color": "#C8D4E3"
             },
             "line": {
              "color": "white"
             }
            },
            "type": "table"
           }
          ]
         },
         "layout": {
          "annotationdefaults": {
           "arrowcolor": "#2a3f5f",
           "arrowhead": 0,
           "arrowwidth": 1
          },
          "autotypenumbers": "strict",
          "coloraxis": {
           "colorbar": {
            "outlinewidth": 0,
            "ticks": ""
           }
          },
          "colorscale": {
           "diverging": [
            [
             0,
             "#8e0152"
            ],
            [
             0.1,
             "#c51b7d"
            ],
            [
             0.2,
             "#de77ae"
            ],
            [
             0.3,
             "#f1b6da"
            ],
            [
             0.4,
             "#fde0ef"
            ],
            [
             0.5,
             "#f7f7f7"
            ],
            [
             0.6,
             "#e6f5d0"
            ],
            [
             0.7,
             "#b8e186"
            ],
            [
             0.8,
             "#7fbc41"
            ],
            [
             0.9,
             "#4d9221"
            ],
            [
             1,
             "#276419"
            ]
           ],
           "sequential": [
            [
             0,
             "#0d0887"
            ],
            [
             0.1111111111111111,
             "#46039f"
            ],
            [
             0.2222222222222222,
             "#7201a8"
            ],
            [
             0.3333333333333333,
             "#9c179e"
            ],
            [
             0.4444444444444444,
             "#bd3786"
            ],
            [
             0.5555555555555556,
             "#d8576b"
            ],
            [
             0.6666666666666666,
             "#ed7953"
            ],
            [
             0.7777777777777778,
             "#fb9f3a"
            ],
            [
             0.8888888888888888,
             "#fdca26"
            ],
            [
             1,
             "#f0f921"
            ]
           ],
           "sequentialminus": [
            [
             0,
             "#0d0887"
            ],
            [
             0.1111111111111111,
             "#46039f"
            ],
            [
             0.2222222222222222,
             "#7201a8"
            ],
            [
             0.3333333333333333,
             "#9c179e"
            ],
            [
             0.4444444444444444,
             "#bd3786"
            ],
            [
             0.5555555555555556,
             "#d8576b"
            ],
            [
             0.6666666666666666,
             "#ed7953"
            ],
            [
             0.7777777777777778,
             "#fb9f3a"
            ],
            [
             0.8888888888888888,
             "#fdca26"
            ],
            [
             1,
             "#f0f921"
            ]
           ]
          },
          "colorway": [
           "#636efa",
           "#EF553B",
           "#00cc96",
           "#ab63fa",
           "#FFA15A",
           "#19d3f3",
           "#FF6692",
           "#B6E880",
           "#FF97FF",
           "#FECB52"
          ],
          "font": {
           "color": "#2a3f5f"
          },
          "geo": {
           "bgcolor": "white",
           "lakecolor": "white",
           "landcolor": "white",
           "showlakes": true,
           "showland": true,
           "subunitcolor": "#C8D4E3"
          },
          "hoverlabel": {
           "align": "left"
          },
          "hovermode": "closest",
          "mapbox": {
           "style": "light"
          },
          "paper_bgcolor": "white",
          "plot_bgcolor": "white",
          "polar": {
           "angularaxis": {
            "gridcolor": "#EBF0F8",
            "linecolor": "#EBF0F8",
            "ticks": ""
           },
           "bgcolor": "white",
           "radialaxis": {
            "gridcolor": "#EBF0F8",
            "linecolor": "#EBF0F8",
            "ticks": ""
           }
          },
          "scene": {
           "xaxis": {
            "backgroundcolor": "white",
            "gridcolor": "#DFE8F3",
            "gridwidth": 2,
            "linecolor": "#EBF0F8",
            "showbackground": true,
            "ticks": "",
            "zerolinecolor": "#EBF0F8"
           },
           "yaxis": {
            "backgroundcolor": "white",
            "gridcolor": "#DFE8F3",
            "gridwidth": 2,
            "linecolor": "#EBF0F8",
            "showbackground": true,
            "ticks": "",
            "zerolinecolor": "#EBF0F8"
           },
           "zaxis": {
            "backgroundcolor": "white",
            "gridcolor": "#DFE8F3",
            "gridwidth": 2,
            "linecolor": "#EBF0F8",
            "showbackground": true,
            "ticks": "",
            "zerolinecolor": "#EBF0F8"
           }
          },
          "shapedefaults": {
           "line": {
            "color": "#2a3f5f"
           }
          },
          "ternary": {
           "aaxis": {
            "gridcolor": "#DFE8F3",
            "linecolor": "#A2B1C6",
            "ticks": ""
           },
           "baxis": {
            "gridcolor": "#DFE8F3",
            "linecolor": "#A2B1C6",
            "ticks": ""
           },
           "bgcolor": "white",
           "caxis": {
            "gridcolor": "#DFE8F3",
            "linecolor": "#A2B1C6",
            "ticks": ""
           }
          },
          "title": {
           "x": 0.05
          },
          "xaxis": {
           "automargin": true,
           "gridcolor": "#EBF0F8",
           "linecolor": "#EBF0F8",
           "ticks": "",
           "title": {
            "standoff": 15
           },
           "zerolinecolor": "#EBF0F8",
           "zerolinewidth": 2
          },
          "yaxis": {
           "automargin": true,
           "gridcolor": "#EBF0F8",
           "linecolor": "#EBF0F8",
           "ticks": "",
           "title": {
            "standoff": 15
           },
           "zerolinecolor": "#EBF0F8",
           "zerolinewidth": 2
          }
         }
        },
        "title": {
         "text": "Números Máximo e Mínimo de Tokens"
        },
        "xaxis": {
         "color": "white",
         "showgrid": false,
         "title": {
          "text": "Nota"
         }
        },
        "yaxis": {
         "color": "white",
         "title": {
          "text": "Quantidade"
         }
        }
       }
      }
     },
     "metadata": {},
     "output_type": "display_data"
    }
   ],
   "source": [
    "import plotly.graph_objects as go\n",
    "\n",
    "customdata = df_chart[['qtde_media_tokens', 'desvpad_qtde_tokens']].values\n",
    "\n",
    "# Create the figure\n",
    "fig = go.Figure()\n",
    "\n",
    "# Add the bars for max tokens\n",
    "fig.add_trace(go.Bar(\n",
    "    x=df_chart['nota_real'], \n",
    "    y=df_chart['qtde_tokens_max'], \n",
    "    name='Máximo de tokens', \n",
    "    marker_color='#FF4B4B',  # Streamlit-like red\n",
    "    hovertemplate=(\n",
    "        \"Máximo de tokens: %{y}<br>\" +\n",
    "        \"Número médio: %{customdata[0]:.2f}<br>\" +\n",
    "        \"Desvio padrão: %{customdata[1]:.2f}<extra></extra>\"     \n",
    "    ),\n",
    "    customdata=customdata\n",
    "))\n",
    "\n",
    "# Add the bars for min tokens\n",
    "fig.add_trace(go.Bar(\n",
    "    x=df_chart['nota_real'], \n",
    "    y=df_chart['qtde_tokens_min'], \n",
    "    name='Mínimo de tokens', \n",
    "    marker_color='#FF6666',  # Slightly lighter red\n",
    "    hovertemplate=(\n",
    "        \"Mínimo de tokens: %{y}<br>\" +\n",
    "        \"Número médio: %{customdata[0]:.2f}<br>\" +\n",
    "        \"Desvio padrão: %{customdata[1]:.2f}<extra></extra>\"       \n",
    "    ),\n",
    "    customdata=customdata\n",
    "))\n",
    "\n",
    "# Update layout for better visualization\n",
    "fig.update_layout(\n",
    "    title=\"Números Máximo e Mínimo de Tokens\",\n",
    "    xaxis_title=\"Nota\",\n",
    "    yaxis_title=\"Quantidade\",\n",
    "    barmode='group',  # Grouped bars\n",
    "    legend_title=\"Legenda\",\n",
    "    template='plotly_white',\n",
    "    plot_bgcolor=\"rgba(0, 0, 0, 0)\",  # Transparent plot background\n",
    "    paper_bgcolor=\"rgba(0, 0, 0, 0)\",  # Transparent outer background\n",
    "    font=dict(color=\"white\"),  # White font for titles, labels, and text\n",
    "    xaxis=dict(\n",
    "        showgrid=False,  # Remove vertical gridlines\n",
    "        color=\"white\"    # White font for x-axis labels\n",
    "    ),\n",
    "    yaxis=dict(\n",
    "        #showgrid=False,  # Remove horizontal gridlines\n",
    "        color=\"white\"    # White font for y-axis labels\n",
    "    ),\n",
    "    hoverlabel=dict(\n",
    "        bgcolor=\"#FFE6E6\",  # Light red background for tooltip\n",
    "        font_size=12,       # Tooltip font size\n",
    "        font_color=\"black\"  # Tooltip text color\n",
    "    )\n",
    ")\n",
    "\n",
    "# Show the figure\n",
    "fig.show()\n"
   ]
  },
  {
   "cell_type": "markdown",
   "metadata": {},
   "source": [
    "Aqui vamos exibir número de tokens e types via grouped bar chart.\n",
    "\n",
    "Número MÉDIO de tokens e numero MÉDIO de types para facilitar a visualização.\n",
    "\n",
    "O \"certo\" seria ver o número total pra types e tokens mas, se fizer assim, fica difícil de visualizar para a nota zero. Pegando o número médio, o TTR se mantém mas fica melhor de visualizar."
   ]
  },
  {
   "cell_type": "code",
   "execution_count": 103,
   "metadata": {},
   "outputs": [
    {
     "data": {
      "application/vnd.plotly.v1+json": {
       "config": {
        "plotlyServerURL": "https://plot.ly"
       },
       "data": [
        {
         "customdata": [
          65.63,
          66.68,
          64.93,
          64.35,
          67.76,
          72.64
         ],
         "hovertemplate": "Média de tokens: %{y}<br>TTR: %{customdata:.2f}<extra></extra>%",
         "marker": {
          "color": "#FF4B4B"
         },
         "name": "Média de tokens",
         "type": "bar",
         "x": [
          3,
          2,
          4,
          5,
          1,
          0
         ],
         "y": [
          172.05,
          158.35,
          184.94,
          200.85,
          143.55,
          91.36
         ]
        },
        {
         "customdata": [
          65.63,
          66.68,
          64.93,
          64.35,
          67.76,
          72.64
         ],
         "hovertemplate": "Média de types: %{y}<br>TTR: %{customdata:.2f}<extra></extra>%",
         "marker": {
          "color": "#FF6666"
         },
         "name": "Média de types",
         "type": "bar",
         "x": [
          3,
          2,
          4,
          5,
          1,
          0
         ],
         "y": [
          112.91,
          105.59,
          120.08,
          129.25,
          97.27,
          66.36
         ]
        }
       ],
       "layout": {
        "barmode": "group",
        "font": {
         "color": "white"
        },
        "hoverlabel": {
         "bgcolor": "#FFE6E6",
         "font": {
          "color": "black",
          "size": 12
         }
        },
        "legend": {
         "title": {
          "text": "Legenda"
         }
        },
        "paper_bgcolor": "rgba(0, 0, 0, 0)",
        "plot_bgcolor": "rgba(0, 0, 0, 0)",
        "template": {
         "data": {
          "bar": [
           {
            "error_x": {
             "color": "#2a3f5f"
            },
            "error_y": {
             "color": "#2a3f5f"
            },
            "marker": {
             "line": {
              "color": "white",
              "width": 0.5
             },
             "pattern": {
              "fillmode": "overlay",
              "size": 10,
              "solidity": 0.2
             }
            },
            "type": "bar"
           }
          ],
          "barpolar": [
           {
            "marker": {
             "line": {
              "color": "white",
              "width": 0.5
             },
             "pattern": {
              "fillmode": "overlay",
              "size": 10,
              "solidity": 0.2
             }
            },
            "type": "barpolar"
           }
          ],
          "carpet": [
           {
            "aaxis": {
             "endlinecolor": "#2a3f5f",
             "gridcolor": "#C8D4E3",
             "linecolor": "#C8D4E3",
             "minorgridcolor": "#C8D4E3",
             "startlinecolor": "#2a3f5f"
            },
            "baxis": {
             "endlinecolor": "#2a3f5f",
             "gridcolor": "#C8D4E3",
             "linecolor": "#C8D4E3",
             "minorgridcolor": "#C8D4E3",
             "startlinecolor": "#2a3f5f"
            },
            "type": "carpet"
           }
          ],
          "choropleth": [
           {
            "colorbar": {
             "outlinewidth": 0,
             "ticks": ""
            },
            "type": "choropleth"
           }
          ],
          "contour": [
           {
            "colorbar": {
             "outlinewidth": 0,
             "ticks": ""
            },
            "colorscale": [
             [
              0,
              "#0d0887"
             ],
             [
              0.1111111111111111,
              "#46039f"
             ],
             [
              0.2222222222222222,
              "#7201a8"
             ],
             [
              0.3333333333333333,
              "#9c179e"
             ],
             [
              0.4444444444444444,
              "#bd3786"
             ],
             [
              0.5555555555555556,
              "#d8576b"
             ],
             [
              0.6666666666666666,
              "#ed7953"
             ],
             [
              0.7777777777777778,
              "#fb9f3a"
             ],
             [
              0.8888888888888888,
              "#fdca26"
             ],
             [
              1,
              "#f0f921"
             ]
            ],
            "type": "contour"
           }
          ],
          "contourcarpet": [
           {
            "colorbar": {
             "outlinewidth": 0,
             "ticks": ""
            },
            "type": "contourcarpet"
           }
          ],
          "heatmap": [
           {
            "colorbar": {
             "outlinewidth": 0,
             "ticks": ""
            },
            "colorscale": [
             [
              0,
              "#0d0887"
             ],
             [
              0.1111111111111111,
              "#46039f"
             ],
             [
              0.2222222222222222,
              "#7201a8"
             ],
             [
              0.3333333333333333,
              "#9c179e"
             ],
             [
              0.4444444444444444,
              "#bd3786"
             ],
             [
              0.5555555555555556,
              "#d8576b"
             ],
             [
              0.6666666666666666,
              "#ed7953"
             ],
             [
              0.7777777777777778,
              "#fb9f3a"
             ],
             [
              0.8888888888888888,
              "#fdca26"
             ],
             [
              1,
              "#f0f921"
             ]
            ],
            "type": "heatmap"
           }
          ],
          "heatmapgl": [
           {
            "colorbar": {
             "outlinewidth": 0,
             "ticks": ""
            },
            "colorscale": [
             [
              0,
              "#0d0887"
             ],
             [
              0.1111111111111111,
              "#46039f"
             ],
             [
              0.2222222222222222,
              "#7201a8"
             ],
             [
              0.3333333333333333,
              "#9c179e"
             ],
             [
              0.4444444444444444,
              "#bd3786"
             ],
             [
              0.5555555555555556,
              "#d8576b"
             ],
             [
              0.6666666666666666,
              "#ed7953"
             ],
             [
              0.7777777777777778,
              "#fb9f3a"
             ],
             [
              0.8888888888888888,
              "#fdca26"
             ],
             [
              1,
              "#f0f921"
             ]
            ],
            "type": "heatmapgl"
           }
          ],
          "histogram": [
           {
            "marker": {
             "pattern": {
              "fillmode": "overlay",
              "size": 10,
              "solidity": 0.2
             }
            },
            "type": "histogram"
           }
          ],
          "histogram2d": [
           {
            "colorbar": {
             "outlinewidth": 0,
             "ticks": ""
            },
            "colorscale": [
             [
              0,
              "#0d0887"
             ],
             [
              0.1111111111111111,
              "#46039f"
             ],
             [
              0.2222222222222222,
              "#7201a8"
             ],
             [
              0.3333333333333333,
              "#9c179e"
             ],
             [
              0.4444444444444444,
              "#bd3786"
             ],
             [
              0.5555555555555556,
              "#d8576b"
             ],
             [
              0.6666666666666666,
              "#ed7953"
             ],
             [
              0.7777777777777778,
              "#fb9f3a"
             ],
             [
              0.8888888888888888,
              "#fdca26"
             ],
             [
              1,
              "#f0f921"
             ]
            ],
            "type": "histogram2d"
           }
          ],
          "histogram2dcontour": [
           {
            "colorbar": {
             "outlinewidth": 0,
             "ticks": ""
            },
            "colorscale": [
             [
              0,
              "#0d0887"
             ],
             [
              0.1111111111111111,
              "#46039f"
             ],
             [
              0.2222222222222222,
              "#7201a8"
             ],
             [
              0.3333333333333333,
              "#9c179e"
             ],
             [
              0.4444444444444444,
              "#bd3786"
             ],
             [
              0.5555555555555556,
              "#d8576b"
             ],
             [
              0.6666666666666666,
              "#ed7953"
             ],
             [
              0.7777777777777778,
              "#fb9f3a"
             ],
             [
              0.8888888888888888,
              "#fdca26"
             ],
             [
              1,
              "#f0f921"
             ]
            ],
            "type": "histogram2dcontour"
           }
          ],
          "mesh3d": [
           {
            "colorbar": {
             "outlinewidth": 0,
             "ticks": ""
            },
            "type": "mesh3d"
           }
          ],
          "parcoords": [
           {
            "line": {
             "colorbar": {
              "outlinewidth": 0,
              "ticks": ""
             }
            },
            "type": "parcoords"
           }
          ],
          "pie": [
           {
            "automargin": true,
            "type": "pie"
           }
          ],
          "scatter": [
           {
            "fillpattern": {
             "fillmode": "overlay",
             "size": 10,
             "solidity": 0.2
            },
            "type": "scatter"
           }
          ],
          "scatter3d": [
           {
            "line": {
             "colorbar": {
              "outlinewidth": 0,
              "ticks": ""
             }
            },
            "marker": {
             "colorbar": {
              "outlinewidth": 0,
              "ticks": ""
             }
            },
            "type": "scatter3d"
           }
          ],
          "scattercarpet": [
           {
            "marker": {
             "colorbar": {
              "outlinewidth": 0,
              "ticks": ""
             }
            },
            "type": "scattercarpet"
           }
          ],
          "scattergeo": [
           {
            "marker": {
             "colorbar": {
              "outlinewidth": 0,
              "ticks": ""
             }
            },
            "type": "scattergeo"
           }
          ],
          "scattergl": [
           {
            "marker": {
             "colorbar": {
              "outlinewidth": 0,
              "ticks": ""
             }
            },
            "type": "scattergl"
           }
          ],
          "scattermapbox": [
           {
            "marker": {
             "colorbar": {
              "outlinewidth": 0,
              "ticks": ""
             }
            },
            "type": "scattermapbox"
           }
          ],
          "scatterpolar": [
           {
            "marker": {
             "colorbar": {
              "outlinewidth": 0,
              "ticks": ""
             }
            },
            "type": "scatterpolar"
           }
          ],
          "scatterpolargl": [
           {
            "marker": {
             "colorbar": {
              "outlinewidth": 0,
              "ticks": ""
             }
            },
            "type": "scatterpolargl"
           }
          ],
          "scatterternary": [
           {
            "marker": {
             "colorbar": {
              "outlinewidth": 0,
              "ticks": ""
             }
            },
            "type": "scatterternary"
           }
          ],
          "surface": [
           {
            "colorbar": {
             "outlinewidth": 0,
             "ticks": ""
            },
            "colorscale": [
             [
              0,
              "#0d0887"
             ],
             [
              0.1111111111111111,
              "#46039f"
             ],
             [
              0.2222222222222222,
              "#7201a8"
             ],
             [
              0.3333333333333333,
              "#9c179e"
             ],
             [
              0.4444444444444444,
              "#bd3786"
             ],
             [
              0.5555555555555556,
              "#d8576b"
             ],
             [
              0.6666666666666666,
              "#ed7953"
             ],
             [
              0.7777777777777778,
              "#fb9f3a"
             ],
             [
              0.8888888888888888,
              "#fdca26"
             ],
             [
              1,
              "#f0f921"
             ]
            ],
            "type": "surface"
           }
          ],
          "table": [
           {
            "cells": {
             "fill": {
              "color": "#EBF0F8"
             },
             "line": {
              "color": "white"
             }
            },
            "header": {
             "fill": {
              "color": "#C8D4E3"
             },
             "line": {
              "color": "white"
             }
            },
            "type": "table"
           }
          ]
         },
         "layout": {
          "annotationdefaults": {
           "arrowcolor": "#2a3f5f",
           "arrowhead": 0,
           "arrowwidth": 1
          },
          "autotypenumbers": "strict",
          "coloraxis": {
           "colorbar": {
            "outlinewidth": 0,
            "ticks": ""
           }
          },
          "colorscale": {
           "diverging": [
            [
             0,
             "#8e0152"
            ],
            [
             0.1,
             "#c51b7d"
            ],
            [
             0.2,
             "#de77ae"
            ],
            [
             0.3,
             "#f1b6da"
            ],
            [
             0.4,
             "#fde0ef"
            ],
            [
             0.5,
             "#f7f7f7"
            ],
            [
             0.6,
             "#e6f5d0"
            ],
            [
             0.7,
             "#b8e186"
            ],
            [
             0.8,
             "#7fbc41"
            ],
            [
             0.9,
             "#4d9221"
            ],
            [
             1,
             "#276419"
            ]
           ],
           "sequential": [
            [
             0,
             "#0d0887"
            ],
            [
             0.1111111111111111,
             "#46039f"
            ],
            [
             0.2222222222222222,
             "#7201a8"
            ],
            [
             0.3333333333333333,
             "#9c179e"
            ],
            [
             0.4444444444444444,
             "#bd3786"
            ],
            [
             0.5555555555555556,
             "#d8576b"
            ],
            [
             0.6666666666666666,
             "#ed7953"
            ],
            [
             0.7777777777777778,
             "#fb9f3a"
            ],
            [
             0.8888888888888888,
             "#fdca26"
            ],
            [
             1,
             "#f0f921"
            ]
           ],
           "sequentialminus": [
            [
             0,
             "#0d0887"
            ],
            [
             0.1111111111111111,
             "#46039f"
            ],
            [
             0.2222222222222222,
             "#7201a8"
            ],
            [
             0.3333333333333333,
             "#9c179e"
            ],
            [
             0.4444444444444444,
             "#bd3786"
            ],
            [
             0.5555555555555556,
             "#d8576b"
            ],
            [
             0.6666666666666666,
             "#ed7953"
            ],
            [
             0.7777777777777778,
             "#fb9f3a"
            ],
            [
             0.8888888888888888,
             "#fdca26"
            ],
            [
             1,
             "#f0f921"
            ]
           ]
          },
          "colorway": [
           "#636efa",
           "#EF553B",
           "#00cc96",
           "#ab63fa",
           "#FFA15A",
           "#19d3f3",
           "#FF6692",
           "#B6E880",
           "#FF97FF",
           "#FECB52"
          ],
          "font": {
           "color": "#2a3f5f"
          },
          "geo": {
           "bgcolor": "white",
           "lakecolor": "white",
           "landcolor": "white",
           "showlakes": true,
           "showland": true,
           "subunitcolor": "#C8D4E3"
          },
          "hoverlabel": {
           "align": "left"
          },
          "hovermode": "closest",
          "mapbox": {
           "style": "light"
          },
          "paper_bgcolor": "white",
          "plot_bgcolor": "white",
          "polar": {
           "angularaxis": {
            "gridcolor": "#EBF0F8",
            "linecolor": "#EBF0F8",
            "ticks": ""
           },
           "bgcolor": "white",
           "radialaxis": {
            "gridcolor": "#EBF0F8",
            "linecolor": "#EBF0F8",
            "ticks": ""
           }
          },
          "scene": {
           "xaxis": {
            "backgroundcolor": "white",
            "gridcolor": "#DFE8F3",
            "gridwidth": 2,
            "linecolor": "#EBF0F8",
            "showbackground": true,
            "ticks": "",
            "zerolinecolor": "#EBF0F8"
           },
           "yaxis": {
            "backgroundcolor": "white",
            "gridcolor": "#DFE8F3",
            "gridwidth": 2,
            "linecolor": "#EBF0F8",
            "showbackground": true,
            "ticks": "",
            "zerolinecolor": "#EBF0F8"
           },
           "zaxis": {
            "backgroundcolor": "white",
            "gridcolor": "#DFE8F3",
            "gridwidth": 2,
            "linecolor": "#EBF0F8",
            "showbackground": true,
            "ticks": "",
            "zerolinecolor": "#EBF0F8"
           }
          },
          "shapedefaults": {
           "line": {
            "color": "#2a3f5f"
           }
          },
          "ternary": {
           "aaxis": {
            "gridcolor": "#DFE8F3",
            "linecolor": "#A2B1C6",
            "ticks": ""
           },
           "baxis": {
            "gridcolor": "#DFE8F3",
            "linecolor": "#A2B1C6",
            "ticks": ""
           },
           "bgcolor": "white",
           "caxis": {
            "gridcolor": "#DFE8F3",
            "linecolor": "#A2B1C6",
            "ticks": ""
           }
          },
          "title": {
           "x": 0.05
          },
          "xaxis": {
           "automargin": true,
           "gridcolor": "#EBF0F8",
           "linecolor": "#EBF0F8",
           "ticks": "",
           "title": {
            "standoff": 15
           },
           "zerolinecolor": "#EBF0F8",
           "zerolinewidth": 2
          },
          "yaxis": {
           "automargin": true,
           "gridcolor": "#EBF0F8",
           "linecolor": "#EBF0F8",
           "ticks": "",
           "title": {
            "standoff": 15
           },
           "zerolinecolor": "#EBF0F8",
           "zerolinewidth": 2
          }
         }
        },
        "title": {
         "text": "Número Médio de Tokens e Types e TTR"
        },
        "xaxis": {
         "color": "white",
         "showgrid": false,
         "title": {
          "text": "Nota"
         }
        },
        "yaxis": {
         "color": "white",
         "title": {
          "text": "Quantidade"
         }
        }
       }
      }
     },
     "metadata": {},
     "output_type": "display_data"
    }
   ],
   "source": [
    "import plotly.graph_objects as go\n",
    "\n",
    "# Create the figure\n",
    "fig = go.Figure()\n",
    "\n",
    "# Add the bars for avg tokens\n",
    "fig.add_trace(go.Bar(\n",
    "    x=df_chart['nota_real'], \n",
    "    y=df_chart['qtde_media_tokens'], \n",
    "    name='Média de tokens', \n",
    "    marker_color='#FF4B4B',  # Streamlit-like red\n",
    "    hovertemplate=(\n",
    "        \"Média de tokens: %{y}<br>\" +\n",
    "        \"TTR: %{customdata:.2f}<extra></extra>%\"       \n",
    "    ),\n",
    "    customdata=df_chart['TTR']\n",
    "))\n",
    "\n",
    "# Add the bars for avg types\n",
    "fig.add_trace(go.Bar(\n",
    "    x=df_chart['nota_real'], \n",
    "    y=df_chart['qtde_media_types'], \n",
    "    name='Média de types', \n",
    "    marker_color='#FF6666',  # Slightly lighter red\n",
    "    hovertemplate=(\n",
    "        \"Média de types: %{y}<br>\" +\n",
    "        \"TTR: %{customdata:.2f}<extra></extra>%\"       \n",
    "    ),\n",
    "    customdata=df_chart['TTR']\n",
    "\n",
    "))\n",
    "\n",
    "# Update layout for better visualization\n",
    "fig.update_layout(\n",
    "    title=\"Número Médio de Tokens e Types e TTR\",\n",
    "    xaxis_title=\"Nota\",\n",
    "    yaxis_title=\"Quantidade\",\n",
    "    barmode='group',  # Grouped bars\n",
    "    legend_title=\"Legenda\",\n",
    "    template='plotly_white',\n",
    "    plot_bgcolor=\"rgba(0, 0, 0, 0)\",  # Transparent plot background\n",
    "    paper_bgcolor=\"rgba(0, 0, 0, 0)\",  # Transparent outer background\n",
    "    font=dict(color=\"white\"),  # White font for titles, labels, and text\n",
    "    xaxis=dict(\n",
    "        showgrid=False,  # Remove vertical gridlines\n",
    "        color=\"white\"    # White font for x-axis labels\n",
    "    ),\n",
    "    yaxis=dict(\n",
    "        #showgrid=False,  # Remove horizontal gridlines\n",
    "        color=\"white\"    # White font for y-axis labels\n",
    "    ),\n",
    "    hoverlabel=dict(\n",
    "        bgcolor=\"#FFE6E6\",  # Light red background for tooltip\n",
    "        font_size=12,       # Tooltip font size\n",
    "        font_color=\"black\"  # Tooltip text color\n",
    "    )\n",
    "\n",
    ")\n",
    "\n",
    "# Show the figure\n",
    "fig.show()"
   ]
  }
 ],
 "metadata": {
  "kernelspec": {
   "display_name": "corpus_celpebras",
   "language": "python",
   "name": "python3"
  },
  "language_info": {
   "codemirror_mode": {
    "name": "ipython",
    "version": 3
   },
   "file_extension": ".py",
   "mimetype": "text/x-python",
   "name": "python",
   "nbconvert_exporter": "python",
   "pygments_lexer": "ipython3",
   "version": "3.11.9"
  }
 },
 "nbformat": 4,
 "nbformat_minor": 2
}
