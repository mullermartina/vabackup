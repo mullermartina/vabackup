{
 "cells": [
  {
   "cell_type": "code",
   "execution_count": 1,
   "metadata": {},
   "outputs": [],
   "source": [
    "import pandas as pd\n",
    "import numpy as np\n",
    "import nltk\n",
    "import seaborn as sns\n",
    "#from spellchecker import SpellChecker\n",
    "import matplotlib.pyplot as plt\n",
    "from collections import Counter #uso para n-gramas\n",
    "#from wordcloud import WordCloud\n",
    "import re # talvez regex vai ajudar na normalizaçao"
   ]
  },
  {
   "cell_type": "markdown",
   "metadata": {},
   "source": [
    "Aqui pretendo verificar a frequência das palavras (devo retirar stopwords) para fazer um heatmap.\n",
    "Desafio extra: subir o texto de insumo, fazer o mesmo pré-processamento e exibir somente heywords que não aparecem no texto de insumo."
   ]
  },
  {
   "cell_type": "code",
   "execution_count": 2,
   "metadata": {},
   "outputs": [],
   "source": [
    "csv_file_path = 'C:/Users/Administrator/Documents/repos/mestrado/visual_analytics/corpus_completo.csv'\n",
    "\n",
    "# Lendo o csv como um df\n",
    "df = pd.read_csv(csv_file_path)\n",
    "\n",
    "#Criando uma cópia\n",
    "df_va = df.copy()"
   ]
  },
  {
   "cell_type": "code",
   "execution_count": 3,
   "metadata": {},
   "outputs": [
    {
     "data": {
      "text/html": [
       "<div>\n",
       "<style scoped>\n",
       "    .dataframe tbody tr th:only-of-type {\n",
       "        vertical-align: middle;\n",
       "    }\n",
       "\n",
       "    .dataframe tbody tr th {\n",
       "        vertical-align: top;\n",
       "    }\n",
       "\n",
       "    .dataframe thead th {\n",
       "        text-align: right;\n",
       "    }\n",
       "</style>\n",
       "<table border=\"1\" class=\"dataframe\">\n",
       "  <thead>\n",
       "    <tr style=\"text-align: right;\">\n",
       "      <th></th>\n",
       "      <th>file_name</th>\n",
       "      <th>content</th>\n",
       "    </tr>\n",
       "    <tr>\n",
       "      <th>nota</th>\n",
       "      <th></th>\n",
       "      <th></th>\n",
       "    </tr>\n",
       "  </thead>\n",
       "  <tbody>\n",
       "    <tr>\n",
       "      <th>0</th>\n",
       "      <td>25</td>\n",
       "      <td>25</td>\n",
       "    </tr>\n",
       "    <tr>\n",
       "      <th>1</th>\n",
       "      <td>211</td>\n",
       "      <td>211</td>\n",
       "    </tr>\n",
       "    <tr>\n",
       "      <th>2</th>\n",
       "      <td>628</td>\n",
       "      <td>628</td>\n",
       "    </tr>\n",
       "    <tr>\n",
       "      <th>3</th>\n",
       "      <td>715</td>\n",
       "      <td>715</td>\n",
       "    </tr>\n",
       "    <tr>\n",
       "      <th>4</th>\n",
       "      <td>477</td>\n",
       "      <td>477</td>\n",
       "    </tr>\n",
       "    <tr>\n",
       "      <th>5</th>\n",
       "      <td>237</td>\n",
       "      <td>237</td>\n",
       "    </tr>\n",
       "  </tbody>\n",
       "</table>\n",
       "</div>"
      ],
      "text/plain": [
       "      file_name  content\n",
       "nota                    \n",
       "0            25       25\n",
       "1           211      211\n",
       "2           628      628\n",
       "3           715      715\n",
       "4           477      477\n",
       "5           237      237"
      ]
     },
     "execution_count": 3,
     "metadata": {},
     "output_type": "execute_result"
    }
   ],
   "source": [
    "df_va.groupby('nota').count()"
   ]
  },
  {
   "cell_type": "code",
   "execution_count": 4,
   "metadata": {},
   "outputs": [
    {
     "name": "stderr",
     "output_type": "stream",
     "text": [
      "[nltk_data] Downloading package stopwords to\n",
      "[nltk_data]     C:\\Users\\Administrator\\AppData\\Roaming\\nltk_data...\n",
      "[nltk_data]   Package stopwords is already up-to-date!\n",
      "[nltk_data] Downloading package punkt to\n",
      "[nltk_data]     C:\\Users\\Administrator\\AppData\\Roaming\\nltk_data...\n",
      "[nltk_data]   Package punkt is already up-to-date!\n",
      "[nltk_data] Downloading package punkt_tab to\n",
      "[nltk_data]     C:\\Users\\Administrator\\AppData\\Roaming\\nltk_data...\n",
      "[nltk_data]   Package punkt_tab is already up-to-date!\n"
     ]
    },
    {
     "data": {
      "text/plain": [
       "True"
      ]
     },
     "execution_count": 4,
     "metadata": {},
     "output_type": "execute_result"
    }
   ],
   "source": [
    "nltk.download('stopwords')\n",
    "nltk.download('punkt') # é um tokenizador, importante para nltk.word_tokenize\n",
    "# nltk.download('rslp') é um stemmer. acho q nao vou usar\n",
    "nltk.download('punkt_tab') # Precisei que devia fazer download desse pacote pq o punkt nao tava funcionando"
   ]
  },
  {
   "cell_type": "code",
   "execution_count": 5,
   "metadata": {},
   "outputs": [],
   "source": [
    "# Pré-processamento\n",
    "\n",
    "# Devo tirar acentos?? Ex: Belém\n",
    "# Retirar números? Na duvida, retirei.\n",
    "# Não fiz stemming visto que poderia perder erros ortográficos\n",
    "\n",
    "#Retirada de sinais gráficos, pontuações e espaços\n",
    "def clean_cp(text):\n",
    "    cleaned = text.lower() #Deixando tudo minúsculo\n",
    "    cleaned = re.sub('[^\\w\\s]', '', cleaned) # Removendo pontuacao\n",
    "    #cleaned = re.sub('[0-9]+', '', cleaned) # Removendo números \n",
    "    cleaned = re.sub('\\d+', '', cleaned) # Removendo números NÃO TÁ FUNCIONANDO AAAAAAAAAAAAAAAAA Começou a funcionar qdo pus o lower como primeiro comando da funçao\n",
    "    cleaned = re.sub('\\s+', ' ', cleaned) # Removendo espaços extras\n",
    "    cleaned = re.sub('\\s+', ' ', cleaned)\n",
    "    return cleaned.strip() # Removendo tabs\n",
    "\n",
    "#Retirada de stopwords.. Essa parte deve ser importante na hora de ver as palavras mais frequentes (heatmap)\n",
    "#def stopwords_cp(text):\n",
    "  #  stopwords = nltk.corpus.stopwords.words('portuguese')\n",
    "   # tokenized = nltk.word_tokenize(text, language='portuguese')\n",
    "   # sem_stopwords = [token for token in tokenized if token not in stopwords]\n",
    "   # return ' '.join(sem_stopwords)\n",
    "\n",
    "df_va['content'] = df_va['content'].apply(clean_cp)\n",
    "#df_va['content'] = df_va['content'].apply(stopwords_cp)"
   ]
  },
  {
   "cell_type": "code",
   "execution_count": 6,
   "metadata": {},
   "outputs": [
    {
     "data": {
      "text/plain": [
       "934     data de bibiana cambará para prefeitura munici...\n",
       "1038    brasilia para prefeitura municipal cidade de b...\n",
       "75      azulejos valiosos os casarões históricos da ci...\n",
       "596     depredaçoes em belem sres prefeitura municipal...\n",
       "1267    remite bibiana cambará moradora belémpara ende...\n",
       "Name: content, dtype: object"
      ]
     },
     "execution_count": 6,
     "metadata": {},
     "output_type": "execute_result"
    }
   ],
   "source": [
    "df_va['content'].sample(5)"
   ]
  },
  {
   "cell_type": "code",
   "execution_count": 7,
   "metadata": {},
   "outputs": [],
   "source": [
    "# Tokenizando e retirando stopwords: importante para ver a frequencia das palavras\n",
    "\n",
    "def tokenized_cp(text):\n",
    "   stopwords = nltk.corpus.stopwords.words('portuguese') # Carregando as stopwords do português\n",
    "   tokenized = nltk.word_tokenize(text, language='portuguese') #Transforma o texto em tokens\n",
    "   text_sem_stopwords = [token for token in tokenized if token not in stopwords] # Deixando somente o que nao é stopword no texto\n",
    "   return text_sem_stopwords\n",
    "\n",
    "df_va['tokenized_content'] = df_va['content'].apply(tokenized_cp)"
   ]
  },
  {
   "cell_type": "code",
   "execution_count": 8,
   "metadata": {},
   "outputs": [
    {
     "data": {
      "text/plain": [
       "222     [outubro, prefeitura, municipal, hoje, quero, ...\n",
       "2274    [belém, outubro, prezado, prefeito, nome, bibi...\n",
       "2178    [carta, leitor, folha, belém, belém, outubro, ...\n",
       "1450    [belém, setembro, senhor, b, morador, cidade, ...\n",
       "1590    [belém, julho, prezados, funcionários, prefeit...\n",
       "Name: tokenized_content, dtype: object"
      ]
     },
     "execution_count": 8,
     "metadata": {},
     "output_type": "execute_result"
    }
   ],
   "source": [
    "df_va['tokenized_content'].sample(5)"
   ]
  },
  {
   "cell_type": "code",
   "execution_count": 9,
   "metadata": {},
   "outputs": [
    {
     "data": {
      "text/plain": [
       "file_name            object\n",
       "content              object\n",
       "nota                  int64\n",
       "tokenized_content    object\n",
       "dtype: object"
      ]
     },
     "execution_count": 9,
     "metadata": {},
     "output_type": "execute_result"
    }
   ],
   "source": [
    "df_va.dtypes"
   ]
  },
  {
   "cell_type": "code",
   "execution_count": 10,
   "metadata": {},
   "outputs": [],
   "source": [
    "# Contando o número de tokens SEM STOPWORDS (diferente do typestokenttr.ipynb) para cada texto: usarei isso para o gráfico 2, que demonstra o número mínimo e número máximo de tokens\n",
    "\n",
    "# Contando tokens sem considerar a nota\n",
    "df_va['num_tokens'] = df_va['tokenized_content'].apply(len)\n",
    "\n",
    "# Agrupando de acordo com cada nota\n",
    "qtde_tokens_nota = df_va.groupby('nota')['num_tokens'].sum()"
   ]
  },
  {
   "cell_type": "code",
   "execution_count": 11,
   "metadata": {},
   "outputs": [
    {
     "data": {
      "text/html": [
       "<div>\n",
       "<style scoped>\n",
       "    .dataframe tbody tr th:only-of-type {\n",
       "        vertical-align: middle;\n",
       "    }\n",
       "\n",
       "    .dataframe tbody tr th {\n",
       "        vertical-align: top;\n",
       "    }\n",
       "\n",
       "    .dataframe thead th {\n",
       "        text-align: right;\n",
       "    }\n",
       "</style>\n",
       "<table border=\"1\" class=\"dataframe\">\n",
       "  <thead>\n",
       "    <tr style=\"text-align: right;\">\n",
       "      <th></th>\n",
       "      <th>file_name</th>\n",
       "      <th>content</th>\n",
       "      <th>nota</th>\n",
       "      <th>tokenized_content</th>\n",
       "      <th>num_tokens</th>\n",
       "    </tr>\n",
       "  </thead>\n",
       "  <tbody>\n",
       "    <tr>\n",
       "      <th>2288</th>\n",
       "      <td>20152t4p936n5r.docx</td>\n",
       "      <td>belem de outubro de senhores prefeitura munici...</td>\n",
       "      <td>5</td>\n",
       "      <td>[belem, outubro, senhores, prefeitura, municip...</td>\n",
       "      <td>100</td>\n",
       "    </tr>\n",
       "    <tr>\n",
       "      <th>2289</th>\n",
       "      <td>20152t4p93r.docx</td>\n",
       "      <td>pará de outubro de ao senhor prefeito municipa...</td>\n",
       "      <td>5</td>\n",
       "      <td>[pará, outubro, senhor, prefeito, municipal, p...</td>\n",
       "      <td>107</td>\n",
       "    </tr>\n",
       "    <tr>\n",
       "      <th>2290</th>\n",
       "      <td>20152t4p953n5r.docx</td>\n",
       "      <td>pilas de outubro de prefeitura municipal de be...</td>\n",
       "      <td>5</td>\n",
       "      <td>[pilas, outubro, prefeitura, municipal, belém,...</td>\n",
       "      <td>94</td>\n",
       "    </tr>\n",
       "    <tr>\n",
       "      <th>2291</th>\n",
       "      <td>20152t4p96r.docx</td>\n",
       "      <td>para a prefeitura municipal de um morador de b...</td>\n",
       "      <td>5</td>\n",
       "      <td>[prefeitura, municipal, morador, belém, senhor...</td>\n",
       "      <td>99</td>\n",
       "    </tr>\n",
       "    <tr>\n",
       "      <th>2292</th>\n",
       "      <td>20152t4p997n5r.docx</td>\n",
       "      <td>cidade do belém dia de outubro de exelentíssim...</td>\n",
       "      <td>5</td>\n",
       "      <td>[cidade, belém, dia, outubro, exelentíssima, p...</td>\n",
       "      <td>145</td>\n",
       "    </tr>\n",
       "  </tbody>\n",
       "</table>\n",
       "</div>"
      ],
      "text/plain": [
       "                file_name                                            content  \\\n",
       "2288  20152t4p936n5r.docx  belem de outubro de senhores prefeitura munici...   \n",
       "2289     20152t4p93r.docx  pará de outubro de ao senhor prefeito municipa...   \n",
       "2290  20152t4p953n5r.docx  pilas de outubro de prefeitura municipal de be...   \n",
       "2291     20152t4p96r.docx  para a prefeitura municipal de um morador de b...   \n",
       "2292  20152t4p997n5r.docx  cidade do belém dia de outubro de exelentíssim...   \n",
       "\n",
       "      nota                                  tokenized_content  num_tokens  \n",
       "2288     5  [belem, outubro, senhores, prefeitura, municip...         100  \n",
       "2289     5  [pará, outubro, senhor, prefeito, municipal, p...         107  \n",
       "2290     5  [pilas, outubro, prefeitura, municipal, belém,...          94  \n",
       "2291     5  [prefeitura, municipal, morador, belém, senhor...          99  \n",
       "2292     5  [cidade, belém, dia, outubro, exelentíssima, p...         145  "
      ]
     },
     "execution_count": 11,
     "metadata": {},
     "output_type": "execute_result"
    }
   ],
   "source": [
    "df_va.tail()"
   ]
  },
  {
   "cell_type": "code",
   "execution_count": 12,
   "metadata": {},
   "outputs": [
    {
     "data": {
      "text/plain": [
       "Counter({'azulejos': 8132,\n",
       "         'cidade': 5561,\n",
       "         'belém': 4062,\n",
       "         'casarões': 4001,\n",
       "         'prefeitura': 2903,\n",
       "         'situação': 2385,\n",
       "         'municipal': 2249,\n",
       "         'roubos': 2057,\n",
       "         'bibiana': 1780,\n",
       "         'patrimônio': 1725,\n",
       "         'vandalismo': 1694,\n",
       "         'cambará': 1646,\n",
       "         'medidas': 1578,\n",
       "         'históricos': 1261,\n",
       "         'proteção': 1239,\n",
       "         'xix': 1227,\n",
       "         'maior': 1226,\n",
       "         'palacete': 1178,\n",
       "         'problema': 1117,\n",
       "         'parte': 1093,\n",
       "         'variedade': 1064,\n",
       "         'alvo': 1049,\n",
       "         'século': 1047,\n",
       "         'valor': 1031,\n",
       "         'desde': 1023,\n",
       "         'maria': 1013,\n",
       "         'mercado': 997,\n",
       "         'histórico': 990,\n",
       "         'cultural': 988,\n",
       "         'valiosos': 957,\n",
       "         'morador': 947,\n",
       "         'ano': 931,\n",
       "         'ter': 902,\n",
       "         'silva': 888,\n",
       "         'vitor': 882,\n",
       "         'atenciosamente': 859,\n",
       "         'carta': 859,\n",
       "         'cidades': 851,\n",
       "         'porque': 847,\n",
       "         'quatro': 827,\n",
       "         'perderam': 826,\n",
       "         'outubro': 823,\n",
       "         'pessoas': 785,\n",
       "         'europa': 777,\n",
       "         'capital': 763,\n",
       "         'ainda': 736,\n",
       "         'senhores': 723,\n",
       "         'imediatas': 719,\n",
       "         'segurança': 702,\n",
       "         'fazer': 692,\n",
       "         'belem': 692,\n",
       "         'cada': 689,\n",
       "         'prefeito': 683,\n",
       "         'fachadas': 676,\n",
       "         'sendo': 643,\n",
       "         'considerada': 637,\n",
       "         'construções': 630,\n",
       "         'história': 630,\n",
       "         'menos': 624,\n",
       "         'brasileiras': 616,\n",
       "         'senhor': 607,\n",
       "         'roubados': 605,\n",
       "         'todos': 603,\n",
       "         'tomar': 602,\n",
       "         'parece': 600,\n",
       "         'xx': 579,\n",
       "         'preocupação': 576,\n",
       "         'restauração': 576,\n",
       "         'residências': 565,\n",
       "         'têm': 560,\n",
       "         'interior': 560,\n",
       "         'importante': 554,\n",
       "         'artístico': 554,\n",
       "         'paraense': 551,\n",
       "         'atenção': 542,\n",
       "         'dia': 527,\n",
       "         'vez': 526,\n",
       "         'fevereiro': 515,\n",
       "         'agora': 511,\n",
       "         'conservação': 507,\n",
       "         'roubo': 494,\n",
       "         'moradores': 491,\n",
       "         'patrimonio': 490,\n",
       "         'encontrados': 484,\n",
       "         'moradora': 481,\n",
       "         'assunto': 469,\n",
       "         'tudo': 469,\n",
       "         'sobre': 468,\n",
       "         'causa': 465,\n",
       "         'década': 452,\n",
       "         'processo': 447,\n",
       "         'outros': 445,\n",
       "         'assim': 441,\n",
       "         'cultura': 421,\n",
       "         'muitos': 420,\n",
       "         'tombamento': 417,\n",
       "         'pode': 417,\n",
       "         'cá': 402,\n",
       "         'historia': 400,\n",
       "         'sido': 397,\n",
       "         'pará': 394,\n",
       "         'solucionar': 386,\n",
       "         'proteger': 385,\n",
       "         'devem': 379,\n",
       "         'furtados': 378,\n",
       "         'exemplares': 378,\n",
       "         'coloriam': 376,\n",
       "         'brasil': 375,\n",
       "         'importados': 374,\n",
       "         'departamento': 366,\n",
       "         'acho': 361,\n",
       "         'ufpa': 358,\n",
       "         'prezados': 357,\n",
       "         'hoje': 353,\n",
       "         'aberta': 350,\n",
       "         'tempo': 349,\n",
       "         'anos': 349,\n",
       "         'grande': 346,\n",
       "         'laboratório': 345,\n",
       "         'depredações': 344,\n",
       "         'agravado': 343,\n",
       "         'poucos': 340,\n",
       "         'casarão': 333,\n",
       "         'desta': 331,\n",
       "         'além': 325,\n",
       "         'dias': 322,\n",
       "         'boa': 320,\n",
       "         'prezado': 318,\n",
       "         'autoridades': 314,\n",
       "         'acontecendo': 311,\n",
       "         'roubar': 310,\n",
       "         'comunidade': 307,\n",
       "         'deve': 303,\n",
       "         'onde': 302,\n",
       "         'terra': 292,\n",
       "         'disso': 289,\n",
       "         'interiores': 287,\n",
       "         'restam': 286,\n",
       "         'indica': 285,\n",
       "         'vai': 277,\n",
       "         'pois': 273,\n",
       "         'três': 272,\n",
       "         'detalhes': 270,\n",
       "         'fragmentos': 266,\n",
       "         'solução': 260,\n",
       "         'aumentam': 260,\n",
       "         'espero': 260,\n",
       "         'cacos': 252,\n",
       "         'então': 251,\n",
       "         'podemos': 247,\n",
       "         'todo': 242,\n",
       "         'necessário': 240,\n",
       "         'evitar': 239,\n",
       "         'tomarem': 238,\n",
       "         'quero': 231,\n",
       "         'propriedade': 228,\n",
       "         'vem': 228,\n",
       "         'dphac': 227,\n",
       "         'faz': 226,\n",
       "         'historicos': 226,\n",
       "         'escrevo': 224,\n",
       "         'bem': 224,\n",
       "         'neste': 221,\n",
       "         'existe': 220,\n",
       "         'construção': 220,\n",
       "         'precisamos': 219,\n",
       "         'necessidade': 218,\n",
       "         'alguns': 217,\n",
       "         'venho': 216,\n",
       "         'meio': 216,\n",
       "         'caso': 214,\n",
       "         'nome': 213,\n",
       "         'historico': 213,\n",
       "         'exemplo': 213,\n",
       "         'dar': 212,\n",
       "         'importada': 212,\n",
       "         'presente': 211,\n",
       "         'podem': 211,\n",
       "         'peço': 210,\n",
       "         'fazem': 209,\n",
       "         'estranhos': 206,\n",
       "         'bonitos': 206,\n",
       "         'desqualificação': 206,\n",
       "         'pontuais': 204,\n",
       "         'segundo': 203,\n",
       "         'virada': 202,\n",
       "         'investigações': 202,\n",
       "         'governo': 201,\n",
       "         'demorado': 201,\n",
       "         'jornal': 201,\n",
       "         'deste': 200,\n",
       "         'entanto': 200,\n",
       "         'iniciou': 198,\n",
       "         'encarregadas': 197,\n",
       "         'cuidar': 196,\n",
       "         'resposta': 194,\n",
       "         'qualquer': 194,\n",
       "         'preciso': 193,\n",
       "         'possível': 192,\n",
       "         'estado': 191,\n",
       "         'possa': 190,\n",
       "         'atos': 188,\n",
       "         'ver': 188,\n",
       "         'depredadas': 188,\n",
       "         'respeito': 187,\n",
       "         'nada': 187,\n",
       "         'encomenda': 186,\n",
       "         'identidade': 185,\n",
       "         'ladrões': 185,\n",
       "         'quais': 181,\n",
       "         'ja': 179,\n",
       "         'bom': 179,\n",
       "         'tentativa': 177,\n",
       "         'perder': 177,\n",
       "         'destes': 173,\n",
       "         'principalmente': 172,\n",
       "         'toda': 172,\n",
       "         'coisa': 171,\n",
       "         'arquitetônicos': 169,\n",
       "         'azulejo': 168,\n",
       "         'algo': 167,\n",
       "         'beleza': 166,\n",
       "         'tão': 166,\n",
       "         'perdendo': 166,\n",
       "         'palacetes': 165,\n",
       "         'invadiram': 165,\n",
       "         'nesta': 165,\n",
       "         'estos': 164,\n",
       "         'fim': 163,\n",
       "         'simples': 163,\n",
       "         'furtos': 163,\n",
       "         'lugares': 163,\n",
       "         'tomem': 162,\n",
       "         'vão': 161,\n",
       "         'tome': 161,\n",
       "         'conta': 161,\n",
       "         'cidadão': 160,\n",
       "         'devemos': 159,\n",
       "         'casas': 159,\n",
       "         'ações': 158,\n",
       "         'muita': 157,\n",
       "         'alguma': 156,\n",
       "         'encaminhada': 155,\n",
       "         'vamos': 155,\n",
       "         'povo': 154,\n",
       "         'seculo': 153,\n",
       "         'quiser': 153,\n",
       "         'falta': 153,\n",
       "         'gente': 152,\n",
       "         'alto': 152,\n",
       "         'últimos': 151,\n",
       "         'lacore': 150,\n",
       "         'arte': 150,\n",
       "         'inconformado': 150,\n",
       "         'preocupante': 149,\n",
       "         'desses': 149,\n",
       "         'preservar': 149,\n",
       "         'melhor': 147,\n",
       "         'motivo': 147,\n",
       "         'maioria': 143,\n",
       "         'áreas': 143,\n",
       "         'inconformidade': 143,\n",
       "         'importantes': 142,\n",
       "         'suspeita': 141,\n",
       "         'procedimento': 141,\n",
       "         'documentar': 140,\n",
       "         'pior': 140,\n",
       "         'lugar': 140,\n",
       "         'muitas': 139,\n",
       "         'antigos': 139,\n",
       "         'solucionálo': 139,\n",
       "         'locais': 138,\n",
       "         'cerca': 138,\n",
       "         'ajuda': 138,\n",
       "         'iphan': 138,\n",
       "         'obrigado': 137,\n",
       "         'precisa': 136,\n",
       "         'preocupado': 136,\n",
       "         'enquanto': 135,\n",
       "         'necessario': 135,\n",
       "         'solicito': 133,\n",
       "         'assinatura': 132,\n",
       "         'importância': 131,\n",
       "         'país': 130,\n",
       "         'obras': 129,\n",
       "         'tombadas': 129,\n",
       "         'algumas': 128,\n",
       "         'patrimônios': 128,\n",
       "         'séculos': 128,\n",
       "         'gostaria': 127,\n",
       "         'propriedades': 127,\n",
       "         'jornais': 126,\n",
       "         'pouco': 125,\n",
       "         'tomadas': 125,\n",
       "         'histórica': 124,\n",
       "         'agradeço': 123,\n",
       "         'laboratorio': 122,\n",
       "         'tanto': 122,\n",
       "         'poder': 121,\n",
       "         'possam': 121,\n",
       "         'forma': 120,\n",
       "         'porém': 120,\n",
       "         'permitir': 118,\n",
       "         'outras': 117,\n",
       "         'aqui': 117,\n",
       "         'favor': 117,\n",
       "         'grave': 117,\n",
       "         'triste': 117,\n",
       "         'atualmente': 116,\n",
       "         'preservação': 115,\n",
       "         'junho': 115,\n",
       "         'ciudade': 115,\n",
       "         'sempre': 114,\n",
       "         'coisas': 113,\n",
       "         'ficam': 113,\n",
       "         'polícia': 113,\n",
       "         'encarregados': 113,\n",
       "         'contra': 112,\n",
       "         'trabalho': 112,\n",
       "         'restaurar': 112,\n",
       "         'arminda': 112,\n",
       "         'cuidado': 111,\n",
       "         'sr': 109,\n",
       "         'perda': 109,\n",
       "         'data': 108,\n",
       "         'painéis': 108,\n",
       "         'cidadãos': 108,\n",
       "         'aumentar': 108,\n",
       "         'embora': 107,\n",
       "         'borracha': 106,\n",
       "         'chama': 106,\n",
       "         'manter': 106,\n",
       "         'históricas': 106,\n",
       "         'peças': 106,\n",
       "         'decada': 105,\n",
       "         'nascimento': 105,\n",
       "         'devido': 105,\n",
       "         'á': 105,\n",
       "         'artistico': 104,\n",
       "         'espalhando': 104,\n",
       "         'arquitetura': 104,\n",
       "         'fico': 103,\n",
       "         'material': 103,\n",
       "         'arquiteta': 102,\n",
       "         'prezada': 102,\n",
       "         'feito': 102,\n",
       "         'problemas': 102,\n",
       "         'passado': 102,\n",
       "         'alvos': 102,\n",
       "         'antes': 102,\n",
       "         'dessa': 101,\n",
       "         'população': 101,\n",
       "         'obrigada': 100,\n",
       "         'futuro': 100,\n",
       "         'deixar': 99,\n",
       "         'saber': 99,\n",
       "         'outro': 99,\n",
       "         'tipo': 98,\n",
       "         'inmediatas': 97,\n",
       "         'existem': 97,\n",
       "         'fazendo': 97,\n",
       "         'ajudar': 96,\n",
       "         'imediata': 96,\n",
       "         'conhecer': 96,\n",
       "         'restaurados': 96,\n",
       "         'atual': 96,\n",
       "         'todas': 95,\n",
       "         'sabem': 95,\n",
       "         'continuar': 95,\n",
       "         'restaurado': 95,\n",
       "         'solicitar': 94,\n",
       "         'conhecimento': 94,\n",
       "         'tambem': 94,\n",
       "         'ficar': 94,\n",
       "         'infelizmente': 94,\n",
       "         'pedir': 93,\n",
       "         'fato': 93,\n",
       "         'breve': 92,\n",
       "         'acontece': 92,\n",
       "         'casos': 91,\n",
       "         'local': 91,\n",
       "         'estam': 90,\n",
       "         'imediatamente': 90,\n",
       "         'acredito': 89,\n",
       "         'pra': 89,\n",
       "         'sabemos': 89,\n",
       "         'roubado': 89,\n",
       "         'turistas': 88,\n",
       "         'fica': 87,\n",
       "         'património': 87,\n",
       "         'ilegal': 87,\n",
       "         'depredação': 87,\n",
       "         'turismo': 86,\n",
       "         'conservar': 86,\n",
       "         'possivel': 86,\n",
       "         'medida': 85,\n",
       "         'esperando': 85,\n",
       "         'rua': 85,\n",
       "         'superintendente': 85,\n",
       "         'prédios': 84,\n",
       "         'sabe': 84,\n",
       "         'parar': 84,\n",
       "         'culturais': 84,\n",
       "         'lima': 84,\n",
       "         'produção': 83,\n",
       "         'cordialmente': 81,\n",
       "         'auge': 81,\n",
       "         'desse': 81,\n",
       "         'momento': 81,\n",
       "         'nível': 81,\n",
       "         'resolver': 80,\n",
       "         'dentro': 80,\n",
       "         'falar': 80,\n",
       "         'vossa': 80,\n",
       "         'preocupada': 80,\n",
       "         'pertencem': 79,\n",
       "         'suspeite': 79,\n",
       "         'dorotéia': 79,\n",
       "         'fatos': 79,\n",
       "         'acabar': 79,\n",
       "         'desqualificar': 79,\n",
       "         'mundo': 78,\n",
       "         'orgulho': 78,\n",
       "         'objetivo': 78,\n",
       "         'vida': 77,\n",
       "         'antigas': 77,\n",
       "         'melhorar': 77,\n",
       "         'precisam': 76,\n",
       "         'destas': 76,\n",
       "         'dinheiro': 75,\n",
       "         'ultimos': 75,\n",
       "         'nenhuma': 74,\n",
       "         'perdidos': 74,\n",
       "         'urgente': 73,\n",
       "         'alem': 73,\n",
       "         'refeito': 73,\n",
       "         'portanto': 72,\n",
       "         'maneira': 72,\n",
       "         'jeito': 72,\n",
       "         'quebracabeça': 71,\n",
       "         'mesmos': 71,\n",
       "         'dizer': 71,\n",
       "         'importancia': 71,\n",
       "         'quase': 71,\n",
       "         'faça': 71,\n",
       "         'ninguém': 71,\n",
       "         'maiores': 71,\n",
       "         'certeza': 70,\n",
       "         'quanto': 70,\n",
       "         'gerações': 70,\n",
       "         'filhos': 70,\n",
       "         'colocar': 70,\n",
       "         'meses': 70,\n",
       "         'tendo': 70,\n",
       "         'risco': 70,\n",
       "         'protegidos': 69,\n",
       "         'responsabilidade': 69,\n",
       "         'organizar': 69,\n",
       "         'sei': 69,\n",
       "         'roubando': 69,\n",
       "         'predios': 68,\n",
       "         'atentamente': 68,\n",
       "         'riqueza': 68,\n",
       "         'agravando': 68,\n",
       "         'artigo': 68,\n",
       "         'opinião': 68,\n",
       "         'poderia': 68,\n",
       "         'pais': 67,\n",
       "         'urbanista': 67,\n",
       "         'sim': 67,\n",
       "         'furto': 67,\n",
       "         'tempos': 67,\n",
       "         'posso': 66,\n",
       "         'depredados': 66,\n",
       "         'ação': 66,\n",
       "         'outra': 66,\n",
       "         'responsáveis': 65,\n",
       "         'pronta': 65,\n",
       "         'caserões': 65,\n",
       "         'durante': 65,\n",
       "         'roubam': 64,\n",
       "         'logo': 64,\n",
       "         'tarde': 64,\n",
       "         'recuperar': 64,\n",
       "         'moro': 64,\n",
       "         'expressar': 64,\n",
       "         'residencias': 63,\n",
       "         'policia': 63,\n",
       "         'patrimonios': 63,\n",
       "         'sociedade': 63,\n",
       "         'queremos': 63,\n",
       "         'representam': 63,\n",
       "         'esto': 63,\n",
       "         'exmo': 63,\n",
       "         'arquitetônico': 63,\n",
       "         'antigo': 62,\n",
       "         'protejer': 62,\n",
       "         'seguridade': 62,\n",
       "         'encontrar': 62,\n",
       "         'perigo': 62,\n",
       "         'aguardo': 61,\n",
       "         'cláudia': 61,\n",
       "         'explicar': 61,\n",
       "         'perfeitura': 61,\n",
       "         'perdido': 61,\n",
       "         'necessárias': 60,\n",
       "         'brasileira': 60,\n",
       "         'investigação': 60,\n",
       "         'quer': 60,\n",
       "         'deveria': 60,\n",
       "         'aumenta': 60,\n",
       "         'inconformada': 59,\n",
       "         'dessas': 59,\n",
       "         'mesma': 58,\n",
       "         'uns': 58,\n",
       "         'somente': 57,\n",
       "         'principal': 57,\n",
       "         'rápido': 57,\n",
       "         'desejo': 57,\n",
       "         'vizinhos': 57,\n",
       "         'último': 57,\n",
       "         'feitos': 56,\n",
       "         'recentemente': 56,\n",
       "         'pessoa': 56,\n",
       "         'disse': 56,\n",
       "         'frente': 56,\n",
       "         'nesse': 56,\n",
       "         'bela': 55,\n",
       "         'soluções': 55,\n",
       "         'vandalismos': 55,\n",
       "         'geral': 55,\n",
       "         'primeiro': 55,\n",
       "         'algum': 54,\n",
       "         'demais': 54,\n",
       "         'procurar': 54,\n",
       "         'valioso': 54,\n",
       "         'sinto': 54,\n",
       "         'diz': 54,\n",
       "         'dever': 54,\n",
       "         'día': 54,\n",
       "         'garantir': 54,\n",
       "         'relação': 54,\n",
       "         'conhecida': 54,\n",
       "         'colaboração': 53,\n",
       "         'chamar': 53,\n",
       "         'tal': 53,\n",
       "         'aumentando': 53,\n",
       "         'especialmente': 53,\n",
       "         'pedimos': 53,\n",
       "         'trazidos': 53,\n",
       "         'tomara': 52,\n",
       "         'superindentende': 52,\n",
       "         'acontecido': 52,\n",
       "         'nestes': 52,\n",
       "         'destruição': 52,\n",
       "         'publicada': 51,\n",
       "         'limpar': 51,\n",
       "         'futuras': 51,\n",
       "         'nacional': 51,\n",
       "         'concluídas': 50,\n",
       "         'montando': 50,\n",
       "         'ruas': 50,\n",
       "         'chamado': 50,\n",
       "         'inconforme': 50,\n",
       "         'diferentes': 50,\n",
       "         'linda': 50,\n",
       "         'importadas': 49,\n",
       "         'diretora': 49,\n",
       "         'parense': 49,\n",
       "         'façam': 49,\n",
       "         'escrever': 49,\n",
       "         'más': 49,\n",
       "         'roubadas': 49,\n",
       "         'razão': 49,\n",
       "         'continue': 49,\n",
       "         'mãos': 49,\n",
       "         'variedades': 48,\n",
       "         'junto': 48,\n",
       "         'aumento': 48,\n",
       "         'tarefa': 47,\n",
       "         'urgentes': 47,\n",
       "         'dirijo': 47,\n",
       "         'região': 47,\n",
       "         'salvar': 47,\n",
       "         'conhecido': 47,\n",
       "         'perdida': 47,\n",
       "         'acontecimentos': 47,\n",
       "         'serem': 47,\n",
       "         'atuar': 47,\n",
       "         'necessarias': 47,\n",
       "         'considero': 47,\n",
       "         'tentar': 46,\n",
       "         'terminar': 46,\n",
       "         'valiosas': 46,\n",
       "         'mostrar': 46,\n",
       "         'interesse': 46,\n",
       "         'sofrendo': 46,\n",
       "         'vendidos': 46,\n",
       "         'ate': 46,\n",
       "         'trabalhar': 46,\n",
       "         'difícil': 46,\n",
       "         'depredado': 46,\n",
       "         'vigilância': 46,\n",
       "         'ultimamente': 45,\n",
       "         'victor': 45,\n",
       "         'acontecer': 45,\n",
       "         'tema': 45,\n",
       "         'policiais': 45,\n",
       "         'funcionários': 45,\n",
       "         'caro': 45,\n",
       "         'excelência': 45,\n",
       "         'escrevendo': 44,\n",
       "         'melhores': 44,\n",
       "         'verdade': 44,\n",
       "         'destrução': 44,\n",
       "         'formam': 44,\n",
       "         'obrigação': 44,\n",
       "         'municipio': 44,\n",
       "         'indignação': 44,\n",
       "         'tristeza': 44,\n",
       "         'feitas': 44,\n",
       "         'c': 43,\n",
       "         'elaborados': 43,\n",
       "         'objetos': 43,\n",
       "         'paulo': 43,\n",
       "         'robos': 43,\n",
       "         'esperamos': 43,\n",
       "         'lado': 43,\n",
       "         'pôr': 43,\n",
       "         'apresentar': 43,\n",
       "         'materiais': 43,\n",
       "         'encomendados': 43,\n",
       "         'reconhecida': 43,\n",
       "         'oportunidade': 43,\n",
       "         'encontram': 42,\n",
       "         'época': 42,\n",
       "         'seguir': 42,\n",
       "         'thaís': 42,\n",
       "         'pensar': 42,\n",
       "         'quebrados': 42,\n",
       "         'continua': 42,\n",
       "         'apoio': 42,\n",
       "         'ponto': 42,\n",
       "         'nenhum': 42,\n",
       "         'imóveis': 42,\n",
       "         'faço': 42,\n",
       "         'manifestar': 42,\n",
       "         'intervenção': 42,\n",
       "         'continuem': 42,\n",
       "         'principais': 42,\n",
       "         'venda': 41,\n",
       "         'tentando': 41,\n",
       "         'dado': 41,\n",
       "         'bonito': 41,\n",
       "         'vários': 41,\n",
       "         'pessoal': 41,\n",
       "         'penso': 41,\n",
       "         'feita': 41,\n",
       "         'protegido': 41,\n",
       "         'cidadã': 41,\n",
       "         'público': 40,\n",
       "         'grandes': 40,\n",
       "         'informar': 40,\n",
       "         'continuam': 40,\n",
       "         'tudos': 40,\n",
       "         'querida': 40,\n",
       "         'questão': 40,\n",
       "         'dificil': 40,\n",
       "         'preocupados': 39,\n",
       "         'talvez': 39,\n",
       "         'visto': 39,\n",
       "         'maravilhosa': 39,\n",
       "         'situações': 39,\n",
       "         'fiquei': 39,\n",
       "         'sentido': 39,\n",
       "         'vandalos': 39,\n",
       "         'so': 39,\n",
       "         'parecem': 39,\n",
       "         'deveriam': 39,\n",
       "         'vitimas': 39,\n",
       "         'vítimas': 39,\n",
       "         'metade': 39,\n",
       "         'lembrar': 39,\n",
       "         'matéria': 38,\n",
       "         'concluidas': 38,\n",
       "         'casa': 38,\n",
       "         'asunto': 38,\n",
       "         'herança': 38,\n",
       "         'caros': 38,\n",
       "         'ha': 38,\n",
       "         'criar': 38,\n",
       "         'especial': 38,\n",
       "         'depredada': 38,\n",
       "         'fundamental': 38,\n",
       "         'istos': 38,\n",
       "         'contar': 38,\n",
       "         'refeitos': 38,\n",
       "         'espera': 38,\n",
       "         'agir': 38,\n",
       "         'dono': 37,\n",
       "         'atrás': 37,\n",
       "         'vêm': 37,\n",
       "         'através': 37,\n",
       "         'roubada': 37,\n",
       "         'datam': 37,\n",
       "         'acordo': 37,\n",
       "         'municipais': 37,\n",
       "         'elementos': 37,\n",
       "         'bairro': 36,\n",
       "         'mim': 36,\n",
       "         'montar': 36,\n",
       "         'novo': 36,\n",
       "         'autoridade': 36,\n",
       "         'excelentíssimo': 36,\n",
       "         'claro': 36,\n",
       "         'começar': 36,\n",
       "         'destruidos': 36,\n",
       "         'pido': 36,\n",
       "         'janeiro': 36,\n",
       "         'vista': 36,\n",
       "         'bonita': 36,\n",
       "         'estranho': 36,\n",
       "         'atrativo': 36,\n",
       "         'umas': 36,\n",
       "         'realmente': 36,\n",
       "         'número': 36,\n",
       "         'vejo': 36,\n",
       "         'disposição': 35,\n",
       "         'danos': 35,\n",
       "         'perto': 35,\n",
       "         'levar': 35,\n",
       "         'realidade': 35,\n",
       "         'interditado': 35,\n",
       "         'decidir': 35,\n",
       "         'considerados': 35,\n",
       "         'partir': 35,\n",
       "         'perfeito': 35,\n",
       "         'coordenadora': 35,\n",
       "         'queria': 35,\n",
       "         'mediante': 35,\n",
       "         'décadas': 35,\n",
       "         'ruim': 35,\n",
       "         'senão': 35,\n",
       "         'problemática': 35,\n",
       "         'suficiente': 35,\n",
       "         'poderiam': 35,\n",
       "         'ante': 35,\n",
       "         'preocupa': 35,\n",
       "         'suspeitas': 35,\n",
       "         'claudia': 34,\n",
       "         'vivendo': 34,\n",
       "         'projeto': 34,\n",
       "         'investigar': 34,\n",
       "         'cumprimentos': 34,\n",
       "         'ato': 34,\n",
       "         'en': 34,\n",
       "         'considerado': 34,\n",
       "         'novas': 34,\n",
       "         'fizeram': 34,\n",
       "         'protecção': 34,\n",
       "         'agravou': 34,\n",
       "         'toma': 34,\n",
       "         'nessa': 34,\n",
       "         'esperar': 34,\n",
       "         'rapidamente': 34,\n",
       "         'instituições': 34,\n",
       "         'dão': 34,\n",
       "         'espaços': 34,\n",
       "         'furtado': 33,\n",
       "         'thais': 33,\n",
       "         'ref': 33,\n",
       "         'ninguem': 33,\n",
       "         't': 33,\n",
       "         'insegurança': 33,\n",
       "         'roubaram': 33,\n",
       "         'levados': 33,\n",
       "         'passar': 33,\n",
       "         'casaroes': 33,\n",
       "         'criminosos': 33,\n",
       "         'motivos': 33,\n",
       "         'perde': 33,\n",
       "         'sindo': 33,\n",
       "         'consideração': 33,\n",
       "         'augusto': 32,\n",
       "         'azuleijos': 32,\n",
       "         'controle': 32,\n",
       "         'preciosos': 32,\n",
       "         'conhecem': 32,\n",
       "         'existência': 32,\n",
       "         'chamam': 32,\n",
       "         'solicitamos': 32,\n",
       "         'panéis': 32,\n",
       "         'centro': 32,\n",
       "         'brasileiro': 32,\n",
       "         'destos': 32,\n",
       "         'coloridas': 32,\n",
       "         'quantidade': 32,\n",
       "         'rápida': 32,\n",
       "         'município': 32,\n",
       "         'respeitosamente': 32,\n",
       "         'recursos': 32,\n",
       "         'montenegro': 31,\n",
       "         'despido': 31,\n",
       "         'rapido': 31,\n",
       "         'leitores': 31,\n",
       "         'começou': 31,\n",
       "         'senhora': 31,\n",
       "         'vezes': 31,\n",
       "         'reconstrução': 31,\n",
       "         'iniciar': 31,\n",
       "         'belos': 31,\n",
       "         'nunca': 31,\n",
       "         'vigilancia': 31,\n",
       "         'construçoes': 31,\n",
       "         'membros': 31,\n",
       "         'final': 31,\n",
       "         'horas': 31,\n",
       "         'vergonha': 31,\n",
       "         'negro': 31,\n",
       "         'deixando': 31,\n",
       "         'nivel': 30,\n",
       "         'concorda': 30,\n",
       "         'importado': 30,\n",
       "         'valores': 30,\n",
       "         'restantes': 30,\n",
       "         'pedido': 30,\n",
       "         'passa': 30,\n",
       "         'ficando': 30,\n",
       "         'bonitas': 30,\n",
       "         'lei': 30,\n",
       "         'últimas': 30,\n",
       "         'historica': 30,\n",
       "         'perdeu': 30,\n",
       "         'dois': 30,\n",
       "         'belen': 30,\n",
       "         'rio': 30,\n",
       "         'turístico': 30,\n",
       "         'paraná': 30,\n",
       "         'afeta': 30,\n",
       "         'finalidade': 30,\n",
       "         'varios': 30,\n",
       "         'saudações': 30,\n",
       "         'juntos': 30,\n",
       "         'preço': 30,\n",
       "         'finalmente': 30,\n",
       "         'arquitetônica': 30,\n",
       "         'aliás': 30,\n",
       "         'certo': 29,\n",
       "         'medo': 29,\n",
       "         'pa': 29,\n",
       "         'publicado': 29,\n",
       "         'base': 29,\n",
       "         'julho': 29,\n",
       "         'estimado': 29,\n",
       "         'situaçao': 29,\n",
       "         'proteçao': 29,\n",
       "         'maravilhosos': 29,\n",
       "         'orgulhoso': 29,\n",
       "         'aconteceu': 29,\n",
       "         'demora': 29,\n",
       "         'toscado': 29,\n",
       "         'informação': 29,\n",
       "         'proceso': 29,\n",
       "         'policial': 29,\n",
       "         'documentação': 29,\n",
       "         'artística': 29,\n",
       "         'netos': 29,\n",
       "         'responsável': 29,\n",
       "         'providências': 29,\n",
       "         'batizado': 28,\n",
       "         'fique': 28,\n",
       "         'sanjad': 28,\n",
       "         'querem': 28,\n",
       "         'robo': 28,\n",
       "         'la': 28,\n",
       "         'puntuais': 28,\n",
       "         'bastante': 28,\n",
       "         'lá': 28,\n",
       "         'legado': 28,\n",
       "         'forte': 28,\n",
       "         'graças': 28,\n",
       "         'antigamente': 27,\n",
       "         'destruindo': 27,\n",
       "         'desenvolvimento': 27,\n",
       "         'debem': 27,\n",
       "         'pronto': 27,\n",
       "         'trabalhando': 27,\n",
       "         'possibilidade': 27,\n",
       "         'agravada': 27,\n",
       "         'li': 27,\n",
       "         'hora': 27,\n",
       "         'ler': 27,\n",
       "         'cores': 27,\n",
       "         'perdemos': 27,\n",
       "         'existir': 27,\n",
       "         'con': 27,\n",
       "         'vandalizados': 27,\n",
       "         'pena': 27,\n",
       "         'y': 27,\n",
       "         'impedir': 27,\n",
       "         'edifícios': 27,\n",
       "         'chegar': 26,\n",
       "         'b': 26,\n",
       "         'acabando': 26,\n",
       "         'bélem': 26,\n",
       "         'preto': 26,\n",
       "         'grupos': 26,\n",
       "         'inconformados': 26,\n",
       "         'direito': 26,\n",
       "         'cor': 26,\n",
       "         'razões': 26,\n",
       "         'debe': 26,\n",
       "         'condições': 26,\n",
       "         'partes': 26,\n",
       "         'vizinho': 26,\n",
       "         'belas': 26,\n",
       "         'comunicar': 26,\n",
       "         'actos': 26,\n",
       "         'paranaense': 26,\n",
       "         'entretanto': 26,\n",
       "         'parecer': 26,\n",
       "         'falando': 26,\n",
       "         'tais': 26,\n",
       "         'ideia': 26,\n",
       "         'morar': 26,\n",
       "         'desaparecendo': 26,\n",
       "         'habitantes': 26,\n",
       "         'sabendo': 26,\n",
       "         'provavelmente': 26,\n",
       "         'tomando': 25,\n",
       "         'antiga': 25,\n",
       "         'tomada': 25,\n",
       "         'igual': 25,\n",
       "         'resumo': 25,\n",
       "         'historicas': 25,\n",
       "         'resto': 25,\n",
       "         'organizados': 25,\n",
       "         'recuperados': 25,\n",
       "         'atte': 25,\n",
       "         'piorando': 25,\n",
       "         'simple': 25,\n",
       "         'mercados': 25,\n",
       "         'prevenir': 25,\n",
       "         'pouca': 25,\n",
       "         'encontrado': 25,\n",
       "         'exijo': 25,\n",
       "         'decidido': 25,\n",
       "         'aconteça': 25,\n",
       "         'brasileiros': 25,\n",
       "         'atividades': 25,\n",
       "         'octubro': 25,\n",
       "         'patrimonial': 25,\n",
       "         'total': 25,\n",
       "         'econômico': 25,\n",
       "         'artísticos': 25,\n",
       "         'enorme': 25,\n",
       "         'representa': 25,\n",
       "         'paraenses': 25,\n",
       "         'vou': 24,\n",
       "         'sabido': 24,\n",
       "         'tornam': 24,\n",
       "         'bandidos': 24,\n",
       "         'ficamos': 24,\n",
       "         'boas': 24,\n",
       "         'è': 24,\n",
       "         'srs': 24,\n",
       "         'argumentar': 24,\n",
       "         'mal': 24,\n",
       "         'noite': 24,\n",
       "         'setembro': 24,\n",
       "         'essos': 24,\n",
       "         'leis': 24,\n",
       "         'prevenção': 24,\n",
       "         'x': 24,\n",
       "         'palavras': 24,\n",
       "         'suspeitos': 24,\n",
       "         'refazer': 24,\n",
       "         'si': 24,\n",
       "         'totalmente': 24,\n",
       "         'leva': 24,\n",
       "         'exemplos': 24,\n",
       "         'acontecidos': 24,\n",
       "         'monumentos': 24,\n",
       "         'informações': 23,\n",
       "         'paineis': 23,\n",
       "         'uso': 23,\n",
       "         'diante': 23,\n",
       "         'titulo': 23,\n",
       "         'trabalhadores': 23,\n",
       "         'após': 23,\n",
       "         'constantes': 23,\n",
       "         'achamos': 23,\n",
       "         'achar': 23,\n",
       "         'lindos': 23,\n",
       "         'pretendemos': 23,\n",
       "         'responsaveis': 23,\n",
       "         'fala': 23,\n",
       "         'residência': 23,\n",
       "         'esforços': 23,\n",
       "         'otubro': 23,\n",
       "         ...})"
      ]
     },
     "execution_count": 12,
     "metadata": {},
     "output_type": "execute_result"
    }
   ],
   "source": [
    "# Verificando a ocorrência dos tokens\n",
    "\n",
    "# Criando uma lista só com todos os tokens (?)\n",
    "all_tokens = [token for tokens in df_va['tokenized_content'] for token in tokens]\n",
    "\n",
    "# Contando a ocorrencia de cada token\n",
    "token_counts = Counter(all_tokens)\n",
    "token_counts\n",
    "\n",
    "# Convertendo para um df para ficar melhor de visualizar\n",
    "# token_counts_df = pd.DataFrame(token_counts.items(), columns=['token', 'count']).sort_values(by='count', ascending=False)"
   ]
  },
  {
   "cell_type": "code",
   "execution_count": 27,
   "metadata": {},
   "outputs": [
    {
     "data": {
      "text/html": [
       "<div>\n",
       "<style scoped>\n",
       "    .dataframe tbody tr th:only-of-type {\n",
       "        vertical-align: middle;\n",
       "    }\n",
       "\n",
       "    .dataframe tbody tr th {\n",
       "        vertical-align: top;\n",
       "    }\n",
       "\n",
       "    .dataframe thead th {\n",
       "        text-align: right;\n",
       "    }\n",
       "</style>\n",
       "<table border=\"1\" class=\"dataframe\">\n",
       "  <thead>\n",
       "    <tr style=\"text-align: right;\">\n",
       "      <th></th>\n",
       "      <th>nota</th>\n",
       "      <th>token</th>\n",
       "      <th>token_frequency</th>\n",
       "    </tr>\n",
       "  </thead>\n",
       "  <tbody>\n",
       "    <tr>\n",
       "      <th>44443</th>\n",
       "      <td>3</td>\n",
       "      <td>azulejos</td>\n",
       "      <td>2531.0</td>\n",
       "    </tr>\n",
       "    <tr>\n",
       "      <th>29648</th>\n",
       "      <td>2</td>\n",
       "      <td>azulejos</td>\n",
       "      <td>2173.0</td>\n",
       "    </tr>\n",
       "    <tr>\n",
       "      <th>44465</th>\n",
       "      <td>3</td>\n",
       "      <td>cidade</td>\n",
       "      <td>1838.0</td>\n",
       "    </tr>\n",
       "    <tr>\n",
       "      <th>59238</th>\n",
       "      <td>4</td>\n",
       "      <td>azulejos</td>\n",
       "      <td>1810.0</td>\n",
       "    </tr>\n",
       "    <tr>\n",
       "      <th>29670</th>\n",
       "      <td>2</td>\n",
       "      <td>cidade</td>\n",
       "      <td>1383.0</td>\n",
       "    </tr>\n",
       "    <tr>\n",
       "      <th>...</th>\n",
       "      <td>...</td>\n",
       "      <td>...</td>\n",
       "      <td>...</td>\n",
       "    </tr>\n",
       "    <tr>\n",
       "      <th>87640</th>\n",
       "      <td>5</td>\n",
       "      <td>vendeuse</td>\n",
       "      <td>NaN</td>\n",
       "    </tr>\n",
       "    <tr>\n",
       "      <th>87642</th>\n",
       "      <td>5</td>\n",
       "      <td>comunico</td>\n",
       "      <td>NaN</td>\n",
       "    </tr>\n",
       "    <tr>\n",
       "      <th>87644</th>\n",
       "      <td>5</td>\n",
       "      <td>roubáos</td>\n",
       "      <td>NaN</td>\n",
       "    </tr>\n",
       "    <tr>\n",
       "      <th>87645</th>\n",
       "      <td>5</td>\n",
       "      <td>impeder</td>\n",
       "      <td>NaN</td>\n",
       "    </tr>\n",
       "    <tr>\n",
       "      <th>87646</th>\n",
       "      <td>5</td>\n",
       "      <td>tumbada</td>\n",
       "      <td>NaN</td>\n",
       "    </tr>\n",
       "  </tbody>\n",
       "</table>\n",
       "<p>88770 rows × 3 columns</p>\n",
       "</div>"
      ],
      "text/plain": [
       "       nota     token  token_frequency\n",
       "44443     3  azulejos           2531.0\n",
       "29648     2  azulejos           2173.0\n",
       "44465     3    cidade           1838.0\n",
       "59238     4  azulejos           1810.0\n",
       "29670     2    cidade           1383.0\n",
       "...     ...       ...              ...\n",
       "87640     5  vendeuse              NaN\n",
       "87642     5  comunico              NaN\n",
       "87644     5   roubáos              NaN\n",
       "87645     5   impeder              NaN\n",
       "87646     5   tumbada              NaN\n",
       "\n",
       "[88770 rows x 3 columns]"
      ]
     },
     "execution_count": 27,
     "metadata": {},
     "output_type": "execute_result"
    }
   ],
   "source": [
    "# Agrupando a contagem de tokens de acordo com cada nota\n",
    "nota_token_counts = (\n",
    "    df_va.groupby('nota')['tokenized_content']\n",
    "    .apply(lambda texts: Counter([token for text in texts for token in text]))\n",
    ")\n",
    "\n",
    "# Convertendo cada token e contagem em um dataframe\n",
    "df_frequency = nota_token_counts.reset_index()\n",
    "df_frequency.columns = ['nota', 'token', 'token_frequency']\n",
    "sorted_tokens = df_frequency.sort_values('token_frequency', ascending=False)\n",
    "sorted_tokens"
   ]
  },
  {
   "cell_type": "code",
   "execution_count": 28,
   "metadata": {},
   "outputs": [],
   "source": [
    "df_words = pd.DataFrame()"
   ]
  },
  {
   "cell_type": "code",
   "execution_count": 29,
   "metadata": {},
   "outputs": [],
   "source": [
    "# Agrupando a contagem de tokens por nota de forma a mostrar os 15 mais comuns para cada nota ( 15 * 6 = 90 linhas portanto )\n",
    "df_words = top_tokens_per_grade\n",
    "top_tokens_per_grade = (\n",
    "    sorted_tokens.groupby('nota')\n",
    "    .head(5)  # Select the top 15 tokens per grade\n",
    "    .reset_index(drop=True)\n",
    ")"
   ]
  },
  {
   "cell_type": "code",
   "execution_count": 40,
   "metadata": {},
   "outputs": [
    {
     "data": {
      "text/html": [
       "<div>\n",
       "<style scoped>\n",
       "    .dataframe tbody tr th:only-of-type {\n",
       "        vertical-align: middle;\n",
       "    }\n",
       "\n",
       "    .dataframe tbody tr th {\n",
       "        vertical-align: top;\n",
       "    }\n",
       "\n",
       "    .dataframe thead th {\n",
       "        text-align: right;\n",
       "    }\n",
       "</style>\n",
       "<table border=\"1\" class=\"dataframe\">\n",
       "  <thead>\n",
       "    <tr style=\"text-align: right;\">\n",
       "      <th></th>\n",
       "      <th>nota</th>\n",
       "      <th>token</th>\n",
       "      <th>token_frequency</th>\n",
       "    </tr>\n",
       "  </thead>\n",
       "  <tbody>\n",
       "    <tr>\n",
       "      <th>0</th>\n",
       "      <td>3</td>\n",
       "      <td>azulejos</td>\n",
       "      <td>2531.0</td>\n",
       "    </tr>\n",
       "    <tr>\n",
       "      <th>1</th>\n",
       "      <td>2</td>\n",
       "      <td>azulejos</td>\n",
       "      <td>2173.0</td>\n",
       "    </tr>\n",
       "    <tr>\n",
       "      <th>2</th>\n",
       "      <td>3</td>\n",
       "      <td>cidade</td>\n",
       "      <td>1838.0</td>\n",
       "    </tr>\n",
       "    <tr>\n",
       "      <th>3</th>\n",
       "      <td>4</td>\n",
       "      <td>azulejos</td>\n",
       "      <td>1810.0</td>\n",
       "    </tr>\n",
       "    <tr>\n",
       "      <th>4</th>\n",
       "      <td>2</td>\n",
       "      <td>cidade</td>\n",
       "      <td>1383.0</td>\n",
       "    </tr>\n",
       "    <tr>\n",
       "      <th>...</th>\n",
       "      <td>...</td>\n",
       "      <td>...</td>\n",
       "      <td>...</td>\n",
       "    </tr>\n",
       "    <tr>\n",
       "      <th>115</th>\n",
       "      <td>0</td>\n",
       "      <td>fazer</td>\n",
       "      <td>8.0</td>\n",
       "    </tr>\n",
       "    <tr>\n",
       "      <th>116</th>\n",
       "      <td>0</td>\n",
       "      <td>problema</td>\n",
       "      <td>8.0</td>\n",
       "    </tr>\n",
       "    <tr>\n",
       "      <th>117</th>\n",
       "      <td>0</td>\n",
       "      <td>ano</td>\n",
       "      <td>8.0</td>\n",
       "    </tr>\n",
       "    <tr>\n",
       "      <th>118</th>\n",
       "      <td>0</td>\n",
       "      <td>parte</td>\n",
       "      <td>8.0</td>\n",
       "    </tr>\n",
       "    <tr>\n",
       "      <th>119</th>\n",
       "      <td>0</td>\n",
       "      <td>ter</td>\n",
       "      <td>8.0</td>\n",
       "    </tr>\n",
       "  </tbody>\n",
       "</table>\n",
       "<p>120 rows × 3 columns</p>\n",
       "</div>"
      ],
      "text/plain": [
       "     nota     token  token_frequency\n",
       "0       3  azulejos           2531.0\n",
       "1       2  azulejos           2173.0\n",
       "2       3    cidade           1838.0\n",
       "3       4  azulejos           1810.0\n",
       "4       2    cidade           1383.0\n",
       "..    ...       ...              ...\n",
       "115     0     fazer              8.0\n",
       "116     0  problema              8.0\n",
       "117     0       ano              8.0\n",
       "118     0     parte              8.0\n",
       "119     0       ter              8.0\n",
       "\n",
       "[120 rows x 3 columns]"
      ]
     },
     "execution_count": 40,
     "metadata": {},
     "output_type": "execute_result"
    }
   ],
   "source": [
    "df_words"
   ]
  },
  {
   "cell_type": "code",
   "execution_count": 51,
   "metadata": {},
   "outputs": [
    {
     "data": {
      "text/html": [
       "<div>\n",
       "<style scoped>\n",
       "    .dataframe tbody tr th:only-of-type {\n",
       "        vertical-align: middle;\n",
       "    }\n",
       "\n",
       "    .dataframe tbody tr th {\n",
       "        vertical-align: top;\n",
       "    }\n",
       "\n",
       "    .dataframe thead th {\n",
       "        text-align: right;\n",
       "    }\n",
       "</style>\n",
       "<table border=\"1\" class=\"dataframe\">\n",
       "  <thead>\n",
       "    <tr style=\"text-align: right;\">\n",
       "      <th></th>\n",
       "      <th>nota</th>\n",
       "      <th>token</th>\n",
       "      <th>token_frequency</th>\n",
       "    </tr>\n",
       "  </thead>\n",
       "  <tbody>\n",
       "    <tr>\n",
       "      <th>100</th>\n",
       "      <td>0</td>\n",
       "      <td>azulejos</td>\n",
       "      <td>49.0</td>\n",
       "    </tr>\n",
       "    <tr>\n",
       "      <th>101</th>\n",
       "      <td>0</td>\n",
       "      <td>cidade</td>\n",
       "      <td>21.0</td>\n",
       "    </tr>\n",
       "    <tr>\n",
       "      <th>102</th>\n",
       "      <td>0</td>\n",
       "      <td>prefeitura</td>\n",
       "      <td>18.0</td>\n",
       "    </tr>\n",
       "    <tr>\n",
       "      <th>103</th>\n",
       "      <td>0</td>\n",
       "      <td>valiosos</td>\n",
       "      <td>13.0</td>\n",
       "    </tr>\n",
       "    <tr>\n",
       "      <th>104</th>\n",
       "      <td>0</td>\n",
       "      <td>casarões</td>\n",
       "      <td>13.0</td>\n",
       "    </tr>\n",
       "    <tr>\n",
       "      <th>105</th>\n",
       "      <td>0</td>\n",
       "      <td>situação</td>\n",
       "      <td>12.0</td>\n",
       "    </tr>\n",
       "    <tr>\n",
       "      <th>106</th>\n",
       "      <td>0</td>\n",
       "      <td>municipal</td>\n",
       "      <td>11.0</td>\n",
       "    </tr>\n",
       "    <tr>\n",
       "      <th>107</th>\n",
       "      <td>0</td>\n",
       "      <td>capital</td>\n",
       "      <td>10.0</td>\n",
       "    </tr>\n",
       "    <tr>\n",
       "      <th>108</th>\n",
       "      <td>0</td>\n",
       "      <td>pessoas</td>\n",
       "      <td>10.0</td>\n",
       "    </tr>\n",
       "    <tr>\n",
       "      <th>109</th>\n",
       "      <td>0</td>\n",
       "      <td>xix</td>\n",
       "      <td>10.0</td>\n",
       "    </tr>\n",
       "    <tr>\n",
       "      <th>110</th>\n",
       "      <td>0</td>\n",
       "      <td>europa</td>\n",
       "      <td>9.0</td>\n",
       "    </tr>\n",
       "    <tr>\n",
       "      <th>111</th>\n",
       "      <td>0</td>\n",
       "      <td>porque</td>\n",
       "      <td>9.0</td>\n",
       "    </tr>\n",
       "    <tr>\n",
       "      <th>112</th>\n",
       "      <td>0</td>\n",
       "      <td>então</td>\n",
       "      <td>8.0</td>\n",
       "    </tr>\n",
       "    <tr>\n",
       "      <th>113</th>\n",
       "      <td>0</td>\n",
       "      <td>século</td>\n",
       "      <td>8.0</td>\n",
       "    </tr>\n",
       "    <tr>\n",
       "      <th>114</th>\n",
       "      <td>0</td>\n",
       "      <td>belém</td>\n",
       "      <td>8.0</td>\n",
       "    </tr>\n",
       "    <tr>\n",
       "      <th>115</th>\n",
       "      <td>0</td>\n",
       "      <td>fazer</td>\n",
       "      <td>8.0</td>\n",
       "    </tr>\n",
       "    <tr>\n",
       "      <th>116</th>\n",
       "      <td>0</td>\n",
       "      <td>problema</td>\n",
       "      <td>8.0</td>\n",
       "    </tr>\n",
       "    <tr>\n",
       "      <th>117</th>\n",
       "      <td>0</td>\n",
       "      <td>ano</td>\n",
       "      <td>8.0</td>\n",
       "    </tr>\n",
       "    <tr>\n",
       "      <th>118</th>\n",
       "      <td>0</td>\n",
       "      <td>parte</td>\n",
       "      <td>8.0</td>\n",
       "    </tr>\n",
       "    <tr>\n",
       "      <th>119</th>\n",
       "      <td>0</td>\n",
       "      <td>ter</td>\n",
       "      <td>8.0</td>\n",
       "    </tr>\n",
       "  </tbody>\n",
       "</table>\n",
       "</div>"
      ],
      "text/plain": [
       "     nota       token  token_frequency\n",
       "100     0    azulejos             49.0\n",
       "101     0      cidade             21.0\n",
       "102     0  prefeitura             18.0\n",
       "103     0    valiosos             13.0\n",
       "104     0    casarões             13.0\n",
       "105     0    situação             12.0\n",
       "106     0   municipal             11.0\n",
       "107     0     capital             10.0\n",
       "108     0     pessoas             10.0\n",
       "109     0         xix             10.0\n",
       "110     0      europa              9.0\n",
       "111     0      porque              9.0\n",
       "112     0       então              8.0\n",
       "113     0      século              8.0\n",
       "114     0       belém              8.0\n",
       "115     0       fazer              8.0\n",
       "116     0    problema              8.0\n",
       "117     0         ano              8.0\n",
       "118     0       parte              8.0\n",
       "119     0         ter              8.0"
      ]
     },
     "execution_count": 51,
     "metadata": {},
     "output_type": "execute_result"
    }
   ],
   "source": [
    "df_words_sorted = (df_words.sort_values(by=['nota', 'token_frequency'], ascending=[True, False]))\n",
    "df_words_0 = df_words_sorted.loc[df_words_sorted['nota'] == 0, :]\n",
    "df_words_1 = df_words_sorted.loc[df_words_sorted['nota'] == 1, :]\n",
    "df_words_2 = df_words_sorted.loc[df_words_sorted['nota'] == 2, :]\n",
    "df_words_3 = df_words_sorted.loc[df_words_sorted['nota'] == 3, :]\n",
    "df_words_4 = df_words_sorted.loc[df_words_sorted['nota'] == 4, :]\n",
    "df_words_5 = df_words_sorted.loc[df_words_sorted['nota'] == 5, :]\n",
    "df_words_0 "
   ]
  },
  {
   "cell_type": "code",
   "execution_count": 58,
   "metadata": {},
   "outputs": [
    {
     "data": {
      "application/vnd.plotly.v1+json": {
       "config": {
        "plotlyServerURL": "https://plot.ly"
       },
       "data": [
        {
         "colorbar": {
          "title": {
           "text": "Frequência"
          }
         },
         "colorscale": [
          [
           0,
           "rgb(255,245,240)"
          ],
          [
           0.125,
           "rgb(254,224,210)"
          ],
          [
           0.25,
           "rgb(252,187,161)"
          ],
          [
           0.375,
           "rgb(252,146,114)"
          ],
          [
           0.5,
           "rgb(251,106,74)"
          ],
          [
           0.625,
           "rgb(239,59,44)"
          ],
          [
           0.75,
           "rgb(203,24,29)"
          ],
          [
           0.875,
           "rgb(165,15,21)"
          ],
          [
           1,
           "rgb(103,0,13)"
          ]
         ],
         "hoverongaps": false,
         "hovertemplate": "Token: %{y}<br>Frequência: %{z}<extra></extra>",
         "type": "heatmap",
         "x": [
          0
         ],
         "y": [
          "ano",
          "azulejos",
          "belém",
          "capital",
          "casarões",
          "cidade",
          "então",
          "europa",
          "fazer",
          "municipal",
          "parte",
          "pessoas",
          "porque",
          "prefeitura",
          "problema",
          "situação",
          "século",
          "ter",
          "valiosos",
          "xix"
         ],
         "z": [
          [
           8
          ],
          [
           49
          ],
          [
           8
          ],
          [
           10
          ],
          [
           13
          ],
          [
           21
          ],
          [
           8
          ],
          [
           9
          ],
          [
           8
          ],
          [
           11
          ],
          [
           8
          ],
          [
           10
          ],
          [
           9
          ],
          [
           18
          ],
          [
           8
          ],
          [
           12
          ],
          [
           8
          ],
          [
           8
          ],
          [
           13
          ],
          [
           10
          ]
         ]
        }
       ],
       "layout": {
        "font": {
         "color": "white"
        },
        "height": 500,
        "paper_bgcolor": "rgba(0, 0, 0, 0)",
        "plot_bgcolor": "rgba(0, 0, 0, 0)",
        "template": {
         "data": {
          "bar": [
           {
            "error_x": {
             "color": "#2a3f5f"
            },
            "error_y": {
             "color": "#2a3f5f"
            },
            "marker": {
             "line": {
              "color": "white",
              "width": 0.5
             },
             "pattern": {
              "fillmode": "overlay",
              "size": 10,
              "solidity": 0.2
             }
            },
            "type": "bar"
           }
          ],
          "barpolar": [
           {
            "marker": {
             "line": {
              "color": "white",
              "width": 0.5
             },
             "pattern": {
              "fillmode": "overlay",
              "size": 10,
              "solidity": 0.2
             }
            },
            "type": "barpolar"
           }
          ],
          "carpet": [
           {
            "aaxis": {
             "endlinecolor": "#2a3f5f",
             "gridcolor": "#C8D4E3",
             "linecolor": "#C8D4E3",
             "minorgridcolor": "#C8D4E3",
             "startlinecolor": "#2a3f5f"
            },
            "baxis": {
             "endlinecolor": "#2a3f5f",
             "gridcolor": "#C8D4E3",
             "linecolor": "#C8D4E3",
             "minorgridcolor": "#C8D4E3",
             "startlinecolor": "#2a3f5f"
            },
            "type": "carpet"
           }
          ],
          "choropleth": [
           {
            "colorbar": {
             "outlinewidth": 0,
             "ticks": ""
            },
            "type": "choropleth"
           }
          ],
          "contour": [
           {
            "colorbar": {
             "outlinewidth": 0,
             "ticks": ""
            },
            "colorscale": [
             [
              0,
              "#0d0887"
             ],
             [
              0.1111111111111111,
              "#46039f"
             ],
             [
              0.2222222222222222,
              "#7201a8"
             ],
             [
              0.3333333333333333,
              "#9c179e"
             ],
             [
              0.4444444444444444,
              "#bd3786"
             ],
             [
              0.5555555555555556,
              "#d8576b"
             ],
             [
              0.6666666666666666,
              "#ed7953"
             ],
             [
              0.7777777777777778,
              "#fb9f3a"
             ],
             [
              0.8888888888888888,
              "#fdca26"
             ],
             [
              1,
              "#f0f921"
             ]
            ],
            "type": "contour"
           }
          ],
          "contourcarpet": [
           {
            "colorbar": {
             "outlinewidth": 0,
             "ticks": ""
            },
            "type": "contourcarpet"
           }
          ],
          "heatmap": [
           {
            "colorbar": {
             "outlinewidth": 0,
             "ticks": ""
            },
            "colorscale": [
             [
              0,
              "#0d0887"
             ],
             [
              0.1111111111111111,
              "#46039f"
             ],
             [
              0.2222222222222222,
              "#7201a8"
             ],
             [
              0.3333333333333333,
              "#9c179e"
             ],
             [
              0.4444444444444444,
              "#bd3786"
             ],
             [
              0.5555555555555556,
              "#d8576b"
             ],
             [
              0.6666666666666666,
              "#ed7953"
             ],
             [
              0.7777777777777778,
              "#fb9f3a"
             ],
             [
              0.8888888888888888,
              "#fdca26"
             ],
             [
              1,
              "#f0f921"
             ]
            ],
            "type": "heatmap"
           }
          ],
          "heatmapgl": [
           {
            "colorbar": {
             "outlinewidth": 0,
             "ticks": ""
            },
            "colorscale": [
             [
              0,
              "#0d0887"
             ],
             [
              0.1111111111111111,
              "#46039f"
             ],
             [
              0.2222222222222222,
              "#7201a8"
             ],
             [
              0.3333333333333333,
              "#9c179e"
             ],
             [
              0.4444444444444444,
              "#bd3786"
             ],
             [
              0.5555555555555556,
              "#d8576b"
             ],
             [
              0.6666666666666666,
              "#ed7953"
             ],
             [
              0.7777777777777778,
              "#fb9f3a"
             ],
             [
              0.8888888888888888,
              "#fdca26"
             ],
             [
              1,
              "#f0f921"
             ]
            ],
            "type": "heatmapgl"
           }
          ],
          "histogram": [
           {
            "marker": {
             "pattern": {
              "fillmode": "overlay",
              "size": 10,
              "solidity": 0.2
             }
            },
            "type": "histogram"
           }
          ],
          "histogram2d": [
           {
            "colorbar": {
             "outlinewidth": 0,
             "ticks": ""
            },
            "colorscale": [
             [
              0,
              "#0d0887"
             ],
             [
              0.1111111111111111,
              "#46039f"
             ],
             [
              0.2222222222222222,
              "#7201a8"
             ],
             [
              0.3333333333333333,
              "#9c179e"
             ],
             [
              0.4444444444444444,
              "#bd3786"
             ],
             [
              0.5555555555555556,
              "#d8576b"
             ],
             [
              0.6666666666666666,
              "#ed7953"
             ],
             [
              0.7777777777777778,
              "#fb9f3a"
             ],
             [
              0.8888888888888888,
              "#fdca26"
             ],
             [
              1,
              "#f0f921"
             ]
            ],
            "type": "histogram2d"
           }
          ],
          "histogram2dcontour": [
           {
            "colorbar": {
             "outlinewidth": 0,
             "ticks": ""
            },
            "colorscale": [
             [
              0,
              "#0d0887"
             ],
             [
              0.1111111111111111,
              "#46039f"
             ],
             [
              0.2222222222222222,
              "#7201a8"
             ],
             [
              0.3333333333333333,
              "#9c179e"
             ],
             [
              0.4444444444444444,
              "#bd3786"
             ],
             [
              0.5555555555555556,
              "#d8576b"
             ],
             [
              0.6666666666666666,
              "#ed7953"
             ],
             [
              0.7777777777777778,
              "#fb9f3a"
             ],
             [
              0.8888888888888888,
              "#fdca26"
             ],
             [
              1,
              "#f0f921"
             ]
            ],
            "type": "histogram2dcontour"
           }
          ],
          "mesh3d": [
           {
            "colorbar": {
             "outlinewidth": 0,
             "ticks": ""
            },
            "type": "mesh3d"
           }
          ],
          "parcoords": [
           {
            "line": {
             "colorbar": {
              "outlinewidth": 0,
              "ticks": ""
             }
            },
            "type": "parcoords"
           }
          ],
          "pie": [
           {
            "automargin": true,
            "type": "pie"
           }
          ],
          "scatter": [
           {
            "fillpattern": {
             "fillmode": "overlay",
             "size": 10,
             "solidity": 0.2
            },
            "type": "scatter"
           }
          ],
          "scatter3d": [
           {
            "line": {
             "colorbar": {
              "outlinewidth": 0,
              "ticks": ""
             }
            },
            "marker": {
             "colorbar": {
              "outlinewidth": 0,
              "ticks": ""
             }
            },
            "type": "scatter3d"
           }
          ],
          "scattercarpet": [
           {
            "marker": {
             "colorbar": {
              "outlinewidth": 0,
              "ticks": ""
             }
            },
            "type": "scattercarpet"
           }
          ],
          "scattergeo": [
           {
            "marker": {
             "colorbar": {
              "outlinewidth": 0,
              "ticks": ""
             }
            },
            "type": "scattergeo"
           }
          ],
          "scattergl": [
           {
            "marker": {
             "colorbar": {
              "outlinewidth": 0,
              "ticks": ""
             }
            },
            "type": "scattergl"
           }
          ],
          "scattermapbox": [
           {
            "marker": {
             "colorbar": {
              "outlinewidth": 0,
              "ticks": ""
             }
            },
            "type": "scattermapbox"
           }
          ],
          "scatterpolar": [
           {
            "marker": {
             "colorbar": {
              "outlinewidth": 0,
              "ticks": ""
             }
            },
            "type": "scatterpolar"
           }
          ],
          "scatterpolargl": [
           {
            "marker": {
             "colorbar": {
              "outlinewidth": 0,
              "ticks": ""
             }
            },
            "type": "scatterpolargl"
           }
          ],
          "scatterternary": [
           {
            "marker": {
             "colorbar": {
              "outlinewidth": 0,
              "ticks": ""
             }
            },
            "type": "scatterternary"
           }
          ],
          "surface": [
           {
            "colorbar": {
             "outlinewidth": 0,
             "ticks": ""
            },
            "colorscale": [
             [
              0,
              "#0d0887"
             ],
             [
              0.1111111111111111,
              "#46039f"
             ],
             [
              0.2222222222222222,
              "#7201a8"
             ],
             [
              0.3333333333333333,
              "#9c179e"
             ],
             [
              0.4444444444444444,
              "#bd3786"
             ],
             [
              0.5555555555555556,
              "#d8576b"
             ],
             [
              0.6666666666666666,
              "#ed7953"
             ],
             [
              0.7777777777777778,
              "#fb9f3a"
             ],
             [
              0.8888888888888888,
              "#fdca26"
             ],
             [
              1,
              "#f0f921"
             ]
            ],
            "type": "surface"
           }
          ],
          "table": [
           {
            "cells": {
             "fill": {
              "color": "#EBF0F8"
             },
             "line": {
              "color": "white"
             }
            },
            "header": {
             "fill": {
              "color": "#C8D4E3"
             },
             "line": {
              "color": "white"
             }
            },
            "type": "table"
           }
          ]
         },
         "layout": {
          "annotationdefaults": {
           "arrowcolor": "#2a3f5f",
           "arrowhead": 0,
           "arrowwidth": 1
          },
          "autotypenumbers": "strict",
          "coloraxis": {
           "colorbar": {
            "outlinewidth": 0,
            "ticks": ""
           }
          },
          "colorscale": {
           "diverging": [
            [
             0,
             "#8e0152"
            ],
            [
             0.1,
             "#c51b7d"
            ],
            [
             0.2,
             "#de77ae"
            ],
            [
             0.3,
             "#f1b6da"
            ],
            [
             0.4,
             "#fde0ef"
            ],
            [
             0.5,
             "#f7f7f7"
            ],
            [
             0.6,
             "#e6f5d0"
            ],
            [
             0.7,
             "#b8e186"
            ],
            [
             0.8,
             "#7fbc41"
            ],
            [
             0.9,
             "#4d9221"
            ],
            [
             1,
             "#276419"
            ]
           ],
           "sequential": [
            [
             0,
             "#0d0887"
            ],
            [
             0.1111111111111111,
             "#46039f"
            ],
            [
             0.2222222222222222,
             "#7201a8"
            ],
            [
             0.3333333333333333,
             "#9c179e"
            ],
            [
             0.4444444444444444,
             "#bd3786"
            ],
            [
             0.5555555555555556,
             "#d8576b"
            ],
            [
             0.6666666666666666,
             "#ed7953"
            ],
            [
             0.7777777777777778,
             "#fb9f3a"
            ],
            [
             0.8888888888888888,
             "#fdca26"
            ],
            [
             1,
             "#f0f921"
            ]
           ],
           "sequentialminus": [
            [
             0,
             "#0d0887"
            ],
            [
             0.1111111111111111,
             "#46039f"
            ],
            [
             0.2222222222222222,
             "#7201a8"
            ],
            [
             0.3333333333333333,
             "#9c179e"
            ],
            [
             0.4444444444444444,
             "#bd3786"
            ],
            [
             0.5555555555555556,
             "#d8576b"
            ],
            [
             0.6666666666666666,
             "#ed7953"
            ],
            [
             0.7777777777777778,
             "#fb9f3a"
            ],
            [
             0.8888888888888888,
             "#fdca26"
            ],
            [
             1,
             "#f0f921"
            ]
           ]
          },
          "colorway": [
           "#636efa",
           "#EF553B",
           "#00cc96",
           "#ab63fa",
           "#FFA15A",
           "#19d3f3",
           "#FF6692",
           "#B6E880",
           "#FF97FF",
           "#FECB52"
          ],
          "font": {
           "color": "#2a3f5f"
          },
          "geo": {
           "bgcolor": "white",
           "lakecolor": "white",
           "landcolor": "white",
           "showlakes": true,
           "showland": true,
           "subunitcolor": "#C8D4E3"
          },
          "hoverlabel": {
           "align": "left"
          },
          "hovermode": "closest",
          "mapbox": {
           "style": "light"
          },
          "paper_bgcolor": "white",
          "plot_bgcolor": "white",
          "polar": {
           "angularaxis": {
            "gridcolor": "#EBF0F8",
            "linecolor": "#EBF0F8",
            "ticks": ""
           },
           "bgcolor": "white",
           "radialaxis": {
            "gridcolor": "#EBF0F8",
            "linecolor": "#EBF0F8",
            "ticks": ""
           }
          },
          "scene": {
           "xaxis": {
            "backgroundcolor": "white",
            "gridcolor": "#DFE8F3",
            "gridwidth": 2,
            "linecolor": "#EBF0F8",
            "showbackground": true,
            "ticks": "",
            "zerolinecolor": "#EBF0F8"
           },
           "yaxis": {
            "backgroundcolor": "white",
            "gridcolor": "#DFE8F3",
            "gridwidth": 2,
            "linecolor": "#EBF0F8",
            "showbackground": true,
            "ticks": "",
            "zerolinecolor": "#EBF0F8"
           },
           "zaxis": {
            "backgroundcolor": "white",
            "gridcolor": "#DFE8F3",
            "gridwidth": 2,
            "linecolor": "#EBF0F8",
            "showbackground": true,
            "ticks": "",
            "zerolinecolor": "#EBF0F8"
           }
          },
          "shapedefaults": {
           "line": {
            "color": "#2a3f5f"
           }
          },
          "ternary": {
           "aaxis": {
            "gridcolor": "#DFE8F3",
            "linecolor": "#A2B1C6",
            "ticks": ""
           },
           "baxis": {
            "gridcolor": "#DFE8F3",
            "linecolor": "#A2B1C6",
            "ticks": ""
           },
           "bgcolor": "white",
           "caxis": {
            "gridcolor": "#DFE8F3",
            "linecolor": "#A2B1C6",
            "ticks": ""
           }
          },
          "title": {
           "x": 0.05
          },
          "xaxis": {
           "automargin": true,
           "gridcolor": "#EBF0F8",
           "linecolor": "#EBF0F8",
           "ticks": "",
           "title": {
            "standoff": 15
           },
           "zerolinecolor": "#EBF0F8",
           "zerolinewidth": 2
          },
          "yaxis": {
           "automargin": true,
           "gridcolor": "#EBF0F8",
           "linecolor": "#EBF0F8",
           "ticks": "",
           "title": {
            "standoff": 15
           },
           "zerolinecolor": "#EBF0F8",
           "zerolinewidth": 2
          }
         }
        },
        "width": 300
       }
      }
     },
     "metadata": {},
     "output_type": "display_data"
    }
   ],
   "source": [
    "# Nota 0  >>>>> QUEM SABE USAR plotly.subplots SEJA UMA BOAAA <<<<<< \n",
    "import plotly.graph_objects as go\n",
    "import pandas as pd\n",
    "\n",
    "\n",
    "# Pivot the data for heatmap\n",
    "heatmap_data = df_words_0.pivot(index='token', columns='nota', values='token_frequency').fillna(0)\n",
    "\n",
    "# Create the heatmap\n",
    "fig = go.Figure(data=go.Heatmap(\n",
    "    z=heatmap_data.values,  # Frequency matrix\n",
    "    x=heatmap_data.columns,  # Grades (x-axis)\n",
    "    y=heatmap_data.index,    # Tokens (y-axis)\n",
    "    colorscale='Reds',       # Heatmap color scale\n",
    "    colorbar=dict(title=\"Frequência\"),  # Colorbar title\n",
    "    hoverongaps=False,       # Ensure no gaps show on hover\n",
    "    hovertemplate=(\n",
    "        \"Token: %{y}<br>\" + #Exibir título pelo Streamlit, q aí fica título pra cada coluna\n",
    "        \"Frequência: %{z}<extra></extra>\"\n",
    "    )\n",
    "))\n",
    "\n",
    "# Update layout for better visualization\n",
    "fig.update_layout(\n",
    "   # title=\"20 Tokens Mais Frequentes\", >> Por título no streamlit\n",
    "    height=500,  # Adjust height to make the heatmaps narrow\n",
    "    width=300,  # Adjust width for each heatmap ....  * len(grades)\n",
    "    template=\"plotly_white\",\n",
    "    plot_bgcolor=\"rgba(0, 0, 0, 0)\",  # Transparent plot background\n",
    "    paper_bgcolor=\"rgba(0, 0, 0, 0)\",  # Transparent outer background\n",
    "    font=dict(color=\"white\")  # White font for all text\n",
    ")\n",
    "#fig.update_yaxes(title=\"Tokens\", automargin=True)\n",
    "#fig.update_xaxes(title=\"\", showticklabels=False)\n",
    "\n",
    "# Show the figure\n",
    "fig.show()"
   ]
  },
  {
   "cell_type": "code",
   "execution_count": 59,
   "metadata": {},
   "outputs": [
    {
     "data": {
      "application/vnd.plotly.v1+json": {
       "config": {
        "plotlyServerURL": "https://plot.ly"
       },
       "data": [
        {
         "colorscale": [
          [
           0,
           "rgb(255,245,240)"
          ],
          [
           0.125,
           "rgb(254,224,210)"
          ],
          [
           0.25,
           "rgb(252,187,161)"
          ],
          [
           0.375,
           "rgb(252,146,114)"
          ],
          [
           0.5,
           "rgb(251,106,74)"
          ],
          [
           0.625,
           "rgb(239,59,44)"
          ],
          [
           0.75,
           "rgb(203,24,29)"
          ],
          [
           0.875,
           "rgb(165,15,21)"
          ],
          [
           1,
           "rgb(103,0,13)"
          ]
         ],
         "hovertemplate": "Nota: %{x}<br>Token: %{y}<br>Frequência: %{z}<extra></extra>",
         "showscale": false,
         "type": "heatmap",
         "x": [
          0
         ],
         "y": [
          "azulejos",
          "cidade",
          "prefeitura",
          "valiosos",
          "casarões",
          "situação",
          "municipal",
          "capital",
          "pessoas",
          "xix",
          "europa",
          "porque",
          "então",
          "século",
          "belém",
          "fazer",
          "problema",
          "ano",
          "parte",
          "ter"
         ],
         "z": [
          [
           49,
           21,
           18,
           13,
           13,
           12,
           11,
           10,
           10,
           10,
           9,
           9,
           8,
           8,
           8,
           8,
           8,
           8,
           8,
           8
          ]
         ]
        }
       ],
       "layout": {
        "font": {
         "color": "black"
        },
        "height": 500,
        "paper_bgcolor": "rgba(0, 0, 0, 0)",
        "plot_bgcolor": "rgba(0, 0, 0, 0)",
        "template": {
         "data": {
          "bar": [
           {
            "error_x": {
             "color": "#2a3f5f"
            },
            "error_y": {
             "color": "#2a3f5f"
            },
            "marker": {
             "line": {
              "color": "white",
              "width": 0.5
             },
             "pattern": {
              "fillmode": "overlay",
              "size": 10,
              "solidity": 0.2
             }
            },
            "type": "bar"
           }
          ],
          "barpolar": [
           {
            "marker": {
             "line": {
              "color": "white",
              "width": 0.5
             },
             "pattern": {
              "fillmode": "overlay",
              "size": 10,
              "solidity": 0.2
             }
            },
            "type": "barpolar"
           }
          ],
          "carpet": [
           {
            "aaxis": {
             "endlinecolor": "#2a3f5f",
             "gridcolor": "#C8D4E3",
             "linecolor": "#C8D4E3",
             "minorgridcolor": "#C8D4E3",
             "startlinecolor": "#2a3f5f"
            },
            "baxis": {
             "endlinecolor": "#2a3f5f",
             "gridcolor": "#C8D4E3",
             "linecolor": "#C8D4E3",
             "minorgridcolor": "#C8D4E3",
             "startlinecolor": "#2a3f5f"
            },
            "type": "carpet"
           }
          ],
          "choropleth": [
           {
            "colorbar": {
             "outlinewidth": 0,
             "ticks": ""
            },
            "type": "choropleth"
           }
          ],
          "contour": [
           {
            "colorbar": {
             "outlinewidth": 0,
             "ticks": ""
            },
            "colorscale": [
             [
              0,
              "#0d0887"
             ],
             [
              0.1111111111111111,
              "#46039f"
             ],
             [
              0.2222222222222222,
              "#7201a8"
             ],
             [
              0.3333333333333333,
              "#9c179e"
             ],
             [
              0.4444444444444444,
              "#bd3786"
             ],
             [
              0.5555555555555556,
              "#d8576b"
             ],
             [
              0.6666666666666666,
              "#ed7953"
             ],
             [
              0.7777777777777778,
              "#fb9f3a"
             ],
             [
              0.8888888888888888,
              "#fdca26"
             ],
             [
              1,
              "#f0f921"
             ]
            ],
            "type": "contour"
           }
          ],
          "contourcarpet": [
           {
            "colorbar": {
             "outlinewidth": 0,
             "ticks": ""
            },
            "type": "contourcarpet"
           }
          ],
          "heatmap": [
           {
            "colorbar": {
             "outlinewidth": 0,
             "ticks": ""
            },
            "colorscale": [
             [
              0,
              "#0d0887"
             ],
             [
              0.1111111111111111,
              "#46039f"
             ],
             [
              0.2222222222222222,
              "#7201a8"
             ],
             [
              0.3333333333333333,
              "#9c179e"
             ],
             [
              0.4444444444444444,
              "#bd3786"
             ],
             [
              0.5555555555555556,
              "#d8576b"
             ],
             [
              0.6666666666666666,
              "#ed7953"
             ],
             [
              0.7777777777777778,
              "#fb9f3a"
             ],
             [
              0.8888888888888888,
              "#fdca26"
             ],
             [
              1,
              "#f0f921"
             ]
            ],
            "type": "heatmap"
           }
          ],
          "heatmapgl": [
           {
            "colorbar": {
             "outlinewidth": 0,
             "ticks": ""
            },
            "colorscale": [
             [
              0,
              "#0d0887"
             ],
             [
              0.1111111111111111,
              "#46039f"
             ],
             [
              0.2222222222222222,
              "#7201a8"
             ],
             [
              0.3333333333333333,
              "#9c179e"
             ],
             [
              0.4444444444444444,
              "#bd3786"
             ],
             [
              0.5555555555555556,
              "#d8576b"
             ],
             [
              0.6666666666666666,
              "#ed7953"
             ],
             [
              0.7777777777777778,
              "#fb9f3a"
             ],
             [
              0.8888888888888888,
              "#fdca26"
             ],
             [
              1,
              "#f0f921"
             ]
            ],
            "type": "heatmapgl"
           }
          ],
          "histogram": [
           {
            "marker": {
             "pattern": {
              "fillmode": "overlay",
              "size": 10,
              "solidity": 0.2
             }
            },
            "type": "histogram"
           }
          ],
          "histogram2d": [
           {
            "colorbar": {
             "outlinewidth": 0,
             "ticks": ""
            },
            "colorscale": [
             [
              0,
              "#0d0887"
             ],
             [
              0.1111111111111111,
              "#46039f"
             ],
             [
              0.2222222222222222,
              "#7201a8"
             ],
             [
              0.3333333333333333,
              "#9c179e"
             ],
             [
              0.4444444444444444,
              "#bd3786"
             ],
             [
              0.5555555555555556,
              "#d8576b"
             ],
             [
              0.6666666666666666,
              "#ed7953"
             ],
             [
              0.7777777777777778,
              "#fb9f3a"
             ],
             [
              0.8888888888888888,
              "#fdca26"
             ],
             [
              1,
              "#f0f921"
             ]
            ],
            "type": "histogram2d"
           }
          ],
          "histogram2dcontour": [
           {
            "colorbar": {
             "outlinewidth": 0,
             "ticks": ""
            },
            "colorscale": [
             [
              0,
              "#0d0887"
             ],
             [
              0.1111111111111111,
              "#46039f"
             ],
             [
              0.2222222222222222,
              "#7201a8"
             ],
             [
              0.3333333333333333,
              "#9c179e"
             ],
             [
              0.4444444444444444,
              "#bd3786"
             ],
             [
              0.5555555555555556,
              "#d8576b"
             ],
             [
              0.6666666666666666,
              "#ed7953"
             ],
             [
              0.7777777777777778,
              "#fb9f3a"
             ],
             [
              0.8888888888888888,
              "#fdca26"
             ],
             [
              1,
              "#f0f921"
             ]
            ],
            "type": "histogram2dcontour"
           }
          ],
          "mesh3d": [
           {
            "colorbar": {
             "outlinewidth": 0,
             "ticks": ""
            },
            "type": "mesh3d"
           }
          ],
          "parcoords": [
           {
            "line": {
             "colorbar": {
              "outlinewidth": 0,
              "ticks": ""
             }
            },
            "type": "parcoords"
           }
          ],
          "pie": [
           {
            "automargin": true,
            "type": "pie"
           }
          ],
          "scatter": [
           {
            "fillpattern": {
             "fillmode": "overlay",
             "size": 10,
             "solidity": 0.2
            },
            "type": "scatter"
           }
          ],
          "scatter3d": [
           {
            "line": {
             "colorbar": {
              "outlinewidth": 0,
              "ticks": ""
             }
            },
            "marker": {
             "colorbar": {
              "outlinewidth": 0,
              "ticks": ""
             }
            },
            "type": "scatter3d"
           }
          ],
          "scattercarpet": [
           {
            "marker": {
             "colorbar": {
              "outlinewidth": 0,
              "ticks": ""
             }
            },
            "type": "scattercarpet"
           }
          ],
          "scattergeo": [
           {
            "marker": {
             "colorbar": {
              "outlinewidth": 0,
              "ticks": ""
             }
            },
            "type": "scattergeo"
           }
          ],
          "scattergl": [
           {
            "marker": {
             "colorbar": {
              "outlinewidth": 0,
              "ticks": ""
             }
            },
            "type": "scattergl"
           }
          ],
          "scattermapbox": [
           {
            "marker": {
             "colorbar": {
              "outlinewidth": 0,
              "ticks": ""
             }
            },
            "type": "scattermapbox"
           }
          ],
          "scatterpolar": [
           {
            "marker": {
             "colorbar": {
              "outlinewidth": 0,
              "ticks": ""
             }
            },
            "type": "scatterpolar"
           }
          ],
          "scatterpolargl": [
           {
            "marker": {
             "colorbar": {
              "outlinewidth": 0,
              "ticks": ""
             }
            },
            "type": "scatterpolargl"
           }
          ],
          "scatterternary": [
           {
            "marker": {
             "colorbar": {
              "outlinewidth": 0,
              "ticks": ""
             }
            },
            "type": "scatterternary"
           }
          ],
          "surface": [
           {
            "colorbar": {
             "outlinewidth": 0,
             "ticks": ""
            },
            "colorscale": [
             [
              0,
              "#0d0887"
             ],
             [
              0.1111111111111111,
              "#46039f"
             ],
             [
              0.2222222222222222,
              "#7201a8"
             ],
             [
              0.3333333333333333,
              "#9c179e"
             ],
             [
              0.4444444444444444,
              "#bd3786"
             ],
             [
              0.5555555555555556,
              "#d8576b"
             ],
             [
              0.6666666666666666,
              "#ed7953"
             ],
             [
              0.7777777777777778,
              "#fb9f3a"
             ],
             [
              0.8888888888888888,
              "#fdca26"
             ],
             [
              1,
              "#f0f921"
             ]
            ],
            "type": "surface"
           }
          ],
          "table": [
           {
            "cells": {
             "fill": {
              "color": "#EBF0F8"
             },
             "line": {
              "color": "white"
             }
            },
            "header": {
             "fill": {
              "color": "#C8D4E3"
             },
             "line": {
              "color": "white"
             }
            },
            "type": "table"
           }
          ]
         },
         "layout": {
          "annotationdefaults": {
           "arrowcolor": "#2a3f5f",
           "arrowhead": 0,
           "arrowwidth": 1
          },
          "autotypenumbers": "strict",
          "coloraxis": {
           "colorbar": {
            "outlinewidth": 0,
            "ticks": ""
           }
          },
          "colorscale": {
           "diverging": [
            [
             0,
             "#8e0152"
            ],
            [
             0.1,
             "#c51b7d"
            ],
            [
             0.2,
             "#de77ae"
            ],
            [
             0.3,
             "#f1b6da"
            ],
            [
             0.4,
             "#fde0ef"
            ],
            [
             0.5,
             "#f7f7f7"
            ],
            [
             0.6,
             "#e6f5d0"
            ],
            [
             0.7,
             "#b8e186"
            ],
            [
             0.8,
             "#7fbc41"
            ],
            [
             0.9,
             "#4d9221"
            ],
            [
             1,
             "#276419"
            ]
           ],
           "sequential": [
            [
             0,
             "#0d0887"
            ],
            [
             0.1111111111111111,
             "#46039f"
            ],
            [
             0.2222222222222222,
             "#7201a8"
            ],
            [
             0.3333333333333333,
             "#9c179e"
            ],
            [
             0.4444444444444444,
             "#bd3786"
            ],
            [
             0.5555555555555556,
             "#d8576b"
            ],
            [
             0.6666666666666666,
             "#ed7953"
            ],
            [
             0.7777777777777778,
             "#fb9f3a"
            ],
            [
             0.8888888888888888,
             "#fdca26"
            ],
            [
             1,
             "#f0f921"
            ]
           ],
           "sequentialminus": [
            [
             0,
             "#0d0887"
            ],
            [
             0.1111111111111111,
             "#46039f"
            ],
            [
             0.2222222222222222,
             "#7201a8"
            ],
            [
             0.3333333333333333,
             "#9c179e"
            ],
            [
             0.4444444444444444,
             "#bd3786"
            ],
            [
             0.5555555555555556,
             "#d8576b"
            ],
            [
             0.6666666666666666,
             "#ed7953"
            ],
            [
             0.7777777777777778,
             "#fb9f3a"
            ],
            [
             0.8888888888888888,
             "#fdca26"
            ],
            [
             1,
             "#f0f921"
            ]
           ]
          },
          "colorway": [
           "#636efa",
           "#EF553B",
           "#00cc96",
           "#ab63fa",
           "#FFA15A",
           "#19d3f3",
           "#FF6692",
           "#B6E880",
           "#FF97FF",
           "#FECB52"
          ],
          "font": {
           "color": "#2a3f5f"
          },
          "geo": {
           "bgcolor": "white",
           "lakecolor": "white",
           "landcolor": "white",
           "showlakes": true,
           "showland": true,
           "subunitcolor": "#C8D4E3"
          },
          "hoverlabel": {
           "align": "left"
          },
          "hovermode": "closest",
          "mapbox": {
           "style": "light"
          },
          "paper_bgcolor": "white",
          "plot_bgcolor": "white",
          "polar": {
           "angularaxis": {
            "gridcolor": "#EBF0F8",
            "linecolor": "#EBF0F8",
            "ticks": ""
           },
           "bgcolor": "white",
           "radialaxis": {
            "gridcolor": "#EBF0F8",
            "linecolor": "#EBF0F8",
            "ticks": ""
           }
          },
          "scene": {
           "xaxis": {
            "backgroundcolor": "white",
            "gridcolor": "#DFE8F3",
            "gridwidth": 2,
            "linecolor": "#EBF0F8",
            "showbackground": true,
            "ticks": "",
            "zerolinecolor": "#EBF0F8"
           },
           "yaxis": {
            "backgroundcolor": "white",
            "gridcolor": "#DFE8F3",
            "gridwidth": 2,
            "linecolor": "#EBF0F8",
            "showbackground": true,
            "ticks": "",
            "zerolinecolor": "#EBF0F8"
           },
           "zaxis": {
            "backgroundcolor": "white",
            "gridcolor": "#DFE8F3",
            "gridwidth": 2,
            "linecolor": "#EBF0F8",
            "showbackground": true,
            "ticks": "",
            "zerolinecolor": "#EBF0F8"
           }
          },
          "shapedefaults": {
           "line": {
            "color": "#2a3f5f"
           }
          },
          "ternary": {
           "aaxis": {
            "gridcolor": "#DFE8F3",
            "linecolor": "#A2B1C6",
            "ticks": ""
           },
           "baxis": {
            "gridcolor": "#DFE8F3",
            "linecolor": "#A2B1C6",
            "ticks": ""
           },
           "bgcolor": "white",
           "caxis": {
            "gridcolor": "#DFE8F3",
            "linecolor": "#A2B1C6",
            "ticks": ""
           }
          },
          "title": {
           "x": 0.05
          },
          "xaxis": {
           "automargin": true,
           "gridcolor": "#EBF0F8",
           "linecolor": "#EBF0F8",
           "ticks": "",
           "title": {
            "standoff": 15
           },
           "zerolinecolor": "#EBF0F8",
           "zerolinewidth": 2
          },
          "yaxis": {
           "automargin": true,
           "gridcolor": "#EBF0F8",
           "linecolor": "#EBF0F8",
           "ticks": "",
           "title": {
            "standoff": 15
           },
           "zerolinecolor": "#EBF0F8",
           "zerolinewidth": 2
          }
         }
        },
        "title": {
         "text": "Tokens Mais Frequentes para Nota 0"
        },
        "width": 300,
        "xaxis": {
         "showticklabels": false,
         "title": {
          "text": ""
         }
        },
        "yaxis": {
         "automargin": true,
         "title": {
          "text": "Tokens"
         }
        }
       }
      }
     },
     "metadata": {},
     "output_type": "display_data"
    },
    {
     "data": {
      "application/vnd.plotly.v1+json": {
       "config": {
        "plotlyServerURL": "https://plot.ly"
       },
       "data": [
        {
         "colorscale": [
          [
           0,
           "rgb(255,245,240)"
          ],
          [
           0.125,
           "rgb(254,224,210)"
          ],
          [
           0.25,
           "rgb(252,187,161)"
          ],
          [
           0.375,
           "rgb(252,146,114)"
          ],
          [
           0.5,
           "rgb(251,106,74)"
          ],
          [
           0.625,
           "rgb(239,59,44)"
          ],
          [
           0.75,
           "rgb(203,24,29)"
          ],
          [
           0.875,
           "rgb(165,15,21)"
          ],
          [
           1,
           "rgb(103,0,13)"
          ]
         ],
         "hovertemplate": "Nota: %{x}<br>Token: %{y}<br>Frequência: %{z}<extra></extra>",
         "showscale": false,
         "type": "heatmap",
         "x": [
          1
         ],
         "y": [
          "azulejos",
          "cidade",
          "casarões",
          "belém",
          "situação",
          "prefeitura",
          "municipal",
          "bibiana",
          "roubos",
          "cambará",
          "palacete",
          "valiosos",
          "proteção",
          "patrimônio",
          "vandalismo",
          "xix",
          "medidas",
          "perderam",
          "ter",
          "maior"
         ],
         "z": [
          [
           739,
           369,
           271,
           249,
           215,
           204,
           163,
           132,
           119,
           115,
           111,
           110,
           110,
           107,
           101,
           97,
           97,
           96,
           96,
           91
          ]
         ]
        }
       ],
       "layout": {
        "font": {
         "color": "black"
        },
        "height": 500,
        "paper_bgcolor": "rgba(0, 0, 0, 0)",
        "plot_bgcolor": "rgba(0, 0, 0, 0)",
        "template": {
         "data": {
          "bar": [
           {
            "error_x": {
             "color": "#2a3f5f"
            },
            "error_y": {
             "color": "#2a3f5f"
            },
            "marker": {
             "line": {
              "color": "white",
              "width": 0.5
             },
             "pattern": {
              "fillmode": "overlay",
              "size": 10,
              "solidity": 0.2
             }
            },
            "type": "bar"
           }
          ],
          "barpolar": [
           {
            "marker": {
             "line": {
              "color": "white",
              "width": 0.5
             },
             "pattern": {
              "fillmode": "overlay",
              "size": 10,
              "solidity": 0.2
             }
            },
            "type": "barpolar"
           }
          ],
          "carpet": [
           {
            "aaxis": {
             "endlinecolor": "#2a3f5f",
             "gridcolor": "#C8D4E3",
             "linecolor": "#C8D4E3",
             "minorgridcolor": "#C8D4E3",
             "startlinecolor": "#2a3f5f"
            },
            "baxis": {
             "endlinecolor": "#2a3f5f",
             "gridcolor": "#C8D4E3",
             "linecolor": "#C8D4E3",
             "minorgridcolor": "#C8D4E3",
             "startlinecolor": "#2a3f5f"
            },
            "type": "carpet"
           }
          ],
          "choropleth": [
           {
            "colorbar": {
             "outlinewidth": 0,
             "ticks": ""
            },
            "type": "choropleth"
           }
          ],
          "contour": [
           {
            "colorbar": {
             "outlinewidth": 0,
             "ticks": ""
            },
            "colorscale": [
             [
              0,
              "#0d0887"
             ],
             [
              0.1111111111111111,
              "#46039f"
             ],
             [
              0.2222222222222222,
              "#7201a8"
             ],
             [
              0.3333333333333333,
              "#9c179e"
             ],
             [
              0.4444444444444444,
              "#bd3786"
             ],
             [
              0.5555555555555556,
              "#d8576b"
             ],
             [
              0.6666666666666666,
              "#ed7953"
             ],
             [
              0.7777777777777778,
              "#fb9f3a"
             ],
             [
              0.8888888888888888,
              "#fdca26"
             ],
             [
              1,
              "#f0f921"
             ]
            ],
            "type": "contour"
           }
          ],
          "contourcarpet": [
           {
            "colorbar": {
             "outlinewidth": 0,
             "ticks": ""
            },
            "type": "contourcarpet"
           }
          ],
          "heatmap": [
           {
            "colorbar": {
             "outlinewidth": 0,
             "ticks": ""
            },
            "colorscale": [
             [
              0,
              "#0d0887"
             ],
             [
              0.1111111111111111,
              "#46039f"
             ],
             [
              0.2222222222222222,
              "#7201a8"
             ],
             [
              0.3333333333333333,
              "#9c179e"
             ],
             [
              0.4444444444444444,
              "#bd3786"
             ],
             [
              0.5555555555555556,
              "#d8576b"
             ],
             [
              0.6666666666666666,
              "#ed7953"
             ],
             [
              0.7777777777777778,
              "#fb9f3a"
             ],
             [
              0.8888888888888888,
              "#fdca26"
             ],
             [
              1,
              "#f0f921"
             ]
            ],
            "type": "heatmap"
           }
          ],
          "heatmapgl": [
           {
            "colorbar": {
             "outlinewidth": 0,
             "ticks": ""
            },
            "colorscale": [
             [
              0,
              "#0d0887"
             ],
             [
              0.1111111111111111,
              "#46039f"
             ],
             [
              0.2222222222222222,
              "#7201a8"
             ],
             [
              0.3333333333333333,
              "#9c179e"
             ],
             [
              0.4444444444444444,
              "#bd3786"
             ],
             [
              0.5555555555555556,
              "#d8576b"
             ],
             [
              0.6666666666666666,
              "#ed7953"
             ],
             [
              0.7777777777777778,
              "#fb9f3a"
             ],
             [
              0.8888888888888888,
              "#fdca26"
             ],
             [
              1,
              "#f0f921"
             ]
            ],
            "type": "heatmapgl"
           }
          ],
          "histogram": [
           {
            "marker": {
             "pattern": {
              "fillmode": "overlay",
              "size": 10,
              "solidity": 0.2
             }
            },
            "type": "histogram"
           }
          ],
          "histogram2d": [
           {
            "colorbar": {
             "outlinewidth": 0,
             "ticks": ""
            },
            "colorscale": [
             [
              0,
              "#0d0887"
             ],
             [
              0.1111111111111111,
              "#46039f"
             ],
             [
              0.2222222222222222,
              "#7201a8"
             ],
             [
              0.3333333333333333,
              "#9c179e"
             ],
             [
              0.4444444444444444,
              "#bd3786"
             ],
             [
              0.5555555555555556,
              "#d8576b"
             ],
             [
              0.6666666666666666,
              "#ed7953"
             ],
             [
              0.7777777777777778,
              "#fb9f3a"
             ],
             [
              0.8888888888888888,
              "#fdca26"
             ],
             [
              1,
              "#f0f921"
             ]
            ],
            "type": "histogram2d"
           }
          ],
          "histogram2dcontour": [
           {
            "colorbar": {
             "outlinewidth": 0,
             "ticks": ""
            },
            "colorscale": [
             [
              0,
              "#0d0887"
             ],
             [
              0.1111111111111111,
              "#46039f"
             ],
             [
              0.2222222222222222,
              "#7201a8"
             ],
             [
              0.3333333333333333,
              "#9c179e"
             ],
             [
              0.4444444444444444,
              "#bd3786"
             ],
             [
              0.5555555555555556,
              "#d8576b"
             ],
             [
              0.6666666666666666,
              "#ed7953"
             ],
             [
              0.7777777777777778,
              "#fb9f3a"
             ],
             [
              0.8888888888888888,
              "#fdca26"
             ],
             [
              1,
              "#f0f921"
             ]
            ],
            "type": "histogram2dcontour"
           }
          ],
          "mesh3d": [
           {
            "colorbar": {
             "outlinewidth": 0,
             "ticks": ""
            },
            "type": "mesh3d"
           }
          ],
          "parcoords": [
           {
            "line": {
             "colorbar": {
              "outlinewidth": 0,
              "ticks": ""
             }
            },
            "type": "parcoords"
           }
          ],
          "pie": [
           {
            "automargin": true,
            "type": "pie"
           }
          ],
          "scatter": [
           {
            "fillpattern": {
             "fillmode": "overlay",
             "size": 10,
             "solidity": 0.2
            },
            "type": "scatter"
           }
          ],
          "scatter3d": [
           {
            "line": {
             "colorbar": {
              "outlinewidth": 0,
              "ticks": ""
             }
            },
            "marker": {
             "colorbar": {
              "outlinewidth": 0,
              "ticks": ""
             }
            },
            "type": "scatter3d"
           }
          ],
          "scattercarpet": [
           {
            "marker": {
             "colorbar": {
              "outlinewidth": 0,
              "ticks": ""
             }
            },
            "type": "scattercarpet"
           }
          ],
          "scattergeo": [
           {
            "marker": {
             "colorbar": {
              "outlinewidth": 0,
              "ticks": ""
             }
            },
            "type": "scattergeo"
           }
          ],
          "scattergl": [
           {
            "marker": {
             "colorbar": {
              "outlinewidth": 0,
              "ticks": ""
             }
            },
            "type": "scattergl"
           }
          ],
          "scattermapbox": [
           {
            "marker": {
             "colorbar": {
              "outlinewidth": 0,
              "ticks": ""
             }
            },
            "type": "scattermapbox"
           }
          ],
          "scatterpolar": [
           {
            "marker": {
             "colorbar": {
              "outlinewidth": 0,
              "ticks": ""
             }
            },
            "type": "scatterpolar"
           }
          ],
          "scatterpolargl": [
           {
            "marker": {
             "colorbar": {
              "outlinewidth": 0,
              "ticks": ""
             }
            },
            "type": "scatterpolargl"
           }
          ],
          "scatterternary": [
           {
            "marker": {
             "colorbar": {
              "outlinewidth": 0,
              "ticks": ""
             }
            },
            "type": "scatterternary"
           }
          ],
          "surface": [
           {
            "colorbar": {
             "outlinewidth": 0,
             "ticks": ""
            },
            "colorscale": [
             [
              0,
              "#0d0887"
             ],
             [
              0.1111111111111111,
              "#46039f"
             ],
             [
              0.2222222222222222,
              "#7201a8"
             ],
             [
              0.3333333333333333,
              "#9c179e"
             ],
             [
              0.4444444444444444,
              "#bd3786"
             ],
             [
              0.5555555555555556,
              "#d8576b"
             ],
             [
              0.6666666666666666,
              "#ed7953"
             ],
             [
              0.7777777777777778,
              "#fb9f3a"
             ],
             [
              0.8888888888888888,
              "#fdca26"
             ],
             [
              1,
              "#f0f921"
             ]
            ],
            "type": "surface"
           }
          ],
          "table": [
           {
            "cells": {
             "fill": {
              "color": "#EBF0F8"
             },
             "line": {
              "color": "white"
             }
            },
            "header": {
             "fill": {
              "color": "#C8D4E3"
             },
             "line": {
              "color": "white"
             }
            },
            "type": "table"
           }
          ]
         },
         "layout": {
          "annotationdefaults": {
           "arrowcolor": "#2a3f5f",
           "arrowhead": 0,
           "arrowwidth": 1
          },
          "autotypenumbers": "strict",
          "coloraxis": {
           "colorbar": {
            "outlinewidth": 0,
            "ticks": ""
           }
          },
          "colorscale": {
           "diverging": [
            [
             0,
             "#8e0152"
            ],
            [
             0.1,
             "#c51b7d"
            ],
            [
             0.2,
             "#de77ae"
            ],
            [
             0.3,
             "#f1b6da"
            ],
            [
             0.4,
             "#fde0ef"
            ],
            [
             0.5,
             "#f7f7f7"
            ],
            [
             0.6,
             "#e6f5d0"
            ],
            [
             0.7,
             "#b8e186"
            ],
            [
             0.8,
             "#7fbc41"
            ],
            [
             0.9,
             "#4d9221"
            ],
            [
             1,
             "#276419"
            ]
           ],
           "sequential": [
            [
             0,
             "#0d0887"
            ],
            [
             0.1111111111111111,
             "#46039f"
            ],
            [
             0.2222222222222222,
             "#7201a8"
            ],
            [
             0.3333333333333333,
             "#9c179e"
            ],
            [
             0.4444444444444444,
             "#bd3786"
            ],
            [
             0.5555555555555556,
             "#d8576b"
            ],
            [
             0.6666666666666666,
             "#ed7953"
            ],
            [
             0.7777777777777778,
             "#fb9f3a"
            ],
            [
             0.8888888888888888,
             "#fdca26"
            ],
            [
             1,
             "#f0f921"
            ]
           ],
           "sequentialminus": [
            [
             0,
             "#0d0887"
            ],
            [
             0.1111111111111111,
             "#46039f"
            ],
            [
             0.2222222222222222,
             "#7201a8"
            ],
            [
             0.3333333333333333,
             "#9c179e"
            ],
            [
             0.4444444444444444,
             "#bd3786"
            ],
            [
             0.5555555555555556,
             "#d8576b"
            ],
            [
             0.6666666666666666,
             "#ed7953"
            ],
            [
             0.7777777777777778,
             "#fb9f3a"
            ],
            [
             0.8888888888888888,
             "#fdca26"
            ],
            [
             1,
             "#f0f921"
            ]
           ]
          },
          "colorway": [
           "#636efa",
           "#EF553B",
           "#00cc96",
           "#ab63fa",
           "#FFA15A",
           "#19d3f3",
           "#FF6692",
           "#B6E880",
           "#FF97FF",
           "#FECB52"
          ],
          "font": {
           "color": "#2a3f5f"
          },
          "geo": {
           "bgcolor": "white",
           "lakecolor": "white",
           "landcolor": "white",
           "showlakes": true,
           "showland": true,
           "subunitcolor": "#C8D4E3"
          },
          "hoverlabel": {
           "align": "left"
          },
          "hovermode": "closest",
          "mapbox": {
           "style": "light"
          },
          "paper_bgcolor": "white",
          "plot_bgcolor": "white",
          "polar": {
           "angularaxis": {
            "gridcolor": "#EBF0F8",
            "linecolor": "#EBF0F8",
            "ticks": ""
           },
           "bgcolor": "white",
           "radialaxis": {
            "gridcolor": "#EBF0F8",
            "linecolor": "#EBF0F8",
            "ticks": ""
           }
          },
          "scene": {
           "xaxis": {
            "backgroundcolor": "white",
            "gridcolor": "#DFE8F3",
            "gridwidth": 2,
            "linecolor": "#EBF0F8",
            "showbackground": true,
            "ticks": "",
            "zerolinecolor": "#EBF0F8"
           },
           "yaxis": {
            "backgroundcolor": "white",
            "gridcolor": "#DFE8F3",
            "gridwidth": 2,
            "linecolor": "#EBF0F8",
            "showbackground": true,
            "ticks": "",
            "zerolinecolor": "#EBF0F8"
           },
           "zaxis": {
            "backgroundcolor": "white",
            "gridcolor": "#DFE8F3",
            "gridwidth": 2,
            "linecolor": "#EBF0F8",
            "showbackground": true,
            "ticks": "",
            "zerolinecolor": "#EBF0F8"
           }
          },
          "shapedefaults": {
           "line": {
            "color": "#2a3f5f"
           }
          },
          "ternary": {
           "aaxis": {
            "gridcolor": "#DFE8F3",
            "linecolor": "#A2B1C6",
            "ticks": ""
           },
           "baxis": {
            "gridcolor": "#DFE8F3",
            "linecolor": "#A2B1C6",
            "ticks": ""
           },
           "bgcolor": "white",
           "caxis": {
            "gridcolor": "#DFE8F3",
            "linecolor": "#A2B1C6",
            "ticks": ""
           }
          },
          "title": {
           "x": 0.05
          },
          "xaxis": {
           "automargin": true,
           "gridcolor": "#EBF0F8",
           "linecolor": "#EBF0F8",
           "ticks": "",
           "title": {
            "standoff": 15
           },
           "zerolinecolor": "#EBF0F8",
           "zerolinewidth": 2
          },
          "yaxis": {
           "automargin": true,
           "gridcolor": "#EBF0F8",
           "linecolor": "#EBF0F8",
           "ticks": "",
           "title": {
            "standoff": 15
           },
           "zerolinecolor": "#EBF0F8",
           "zerolinewidth": 2
          }
         }
        },
        "title": {
         "text": "Tokens Mais Frequentes para Nota 1"
        },
        "width": 300,
        "xaxis": {
         "showticklabels": false,
         "title": {
          "text": ""
         }
        },
        "yaxis": {
         "automargin": true,
         "title": {
          "text": "Tokens"
         }
        }
       }
      }
     },
     "metadata": {},
     "output_type": "display_data"
    },
    {
     "data": {
      "application/vnd.plotly.v1+json": {
       "config": {
        "plotlyServerURL": "https://plot.ly"
       },
       "data": [
        {
         "colorscale": [
          [
           0,
           "rgb(255,245,240)"
          ],
          [
           0.125,
           "rgb(254,224,210)"
          ],
          [
           0.25,
           "rgb(252,187,161)"
          ],
          [
           0.375,
           "rgb(252,146,114)"
          ],
          [
           0.5,
           "rgb(251,106,74)"
          ],
          [
           0.625,
           "rgb(239,59,44)"
          ],
          [
           0.75,
           "rgb(203,24,29)"
          ],
          [
           0.875,
           "rgb(165,15,21)"
          ],
          [
           1,
           "rgb(103,0,13)"
          ]
         ],
         "hovertemplate": "Nota: %{x}<br>Token: %{y}<br>Frequência: %{z}<extra></extra>",
         "showscale": false,
         "type": "heatmap",
         "x": [
          2
         ],
         "y": [
          "azulejos",
          "cidade",
          "casarões",
          "belém",
          "prefeitura",
          "municipal",
          "situação",
          "roubos",
          "bibiana",
          "vandalismo",
          "cambará",
          "medidas",
          "proteção",
          "maior",
          "patrimônio",
          "xix",
          "palacete",
          "valiosos",
          "históricos",
          "alvo"
         ],
         "z": [
          [
           2173,
           1383,
           993,
           937,
           729,
           623,
           619,
           550,
           476,
           442,
           434,
           365,
           336,
           331,
           323,
           321,
           315,
           311,
           291,
           289
          ]
         ]
        }
       ],
       "layout": {
        "font": {
         "color": "black"
        },
        "height": 500,
        "paper_bgcolor": "rgba(0, 0, 0, 0)",
        "plot_bgcolor": "rgba(0, 0, 0, 0)",
        "template": {
         "data": {
          "bar": [
           {
            "error_x": {
             "color": "#2a3f5f"
            },
            "error_y": {
             "color": "#2a3f5f"
            },
            "marker": {
             "line": {
              "color": "white",
              "width": 0.5
             },
             "pattern": {
              "fillmode": "overlay",
              "size": 10,
              "solidity": 0.2
             }
            },
            "type": "bar"
           }
          ],
          "barpolar": [
           {
            "marker": {
             "line": {
              "color": "white",
              "width": 0.5
             },
             "pattern": {
              "fillmode": "overlay",
              "size": 10,
              "solidity": 0.2
             }
            },
            "type": "barpolar"
           }
          ],
          "carpet": [
           {
            "aaxis": {
             "endlinecolor": "#2a3f5f",
             "gridcolor": "#C8D4E3",
             "linecolor": "#C8D4E3",
             "minorgridcolor": "#C8D4E3",
             "startlinecolor": "#2a3f5f"
            },
            "baxis": {
             "endlinecolor": "#2a3f5f",
             "gridcolor": "#C8D4E3",
             "linecolor": "#C8D4E3",
             "minorgridcolor": "#C8D4E3",
             "startlinecolor": "#2a3f5f"
            },
            "type": "carpet"
           }
          ],
          "choropleth": [
           {
            "colorbar": {
             "outlinewidth": 0,
             "ticks": ""
            },
            "type": "choropleth"
           }
          ],
          "contour": [
           {
            "colorbar": {
             "outlinewidth": 0,
             "ticks": ""
            },
            "colorscale": [
             [
              0,
              "#0d0887"
             ],
             [
              0.1111111111111111,
              "#46039f"
             ],
             [
              0.2222222222222222,
              "#7201a8"
             ],
             [
              0.3333333333333333,
              "#9c179e"
             ],
             [
              0.4444444444444444,
              "#bd3786"
             ],
             [
              0.5555555555555556,
              "#d8576b"
             ],
             [
              0.6666666666666666,
              "#ed7953"
             ],
             [
              0.7777777777777778,
              "#fb9f3a"
             ],
             [
              0.8888888888888888,
              "#fdca26"
             ],
             [
              1,
              "#f0f921"
             ]
            ],
            "type": "contour"
           }
          ],
          "contourcarpet": [
           {
            "colorbar": {
             "outlinewidth": 0,
             "ticks": ""
            },
            "type": "contourcarpet"
           }
          ],
          "heatmap": [
           {
            "colorbar": {
             "outlinewidth": 0,
             "ticks": ""
            },
            "colorscale": [
             [
              0,
              "#0d0887"
             ],
             [
              0.1111111111111111,
              "#46039f"
             ],
             [
              0.2222222222222222,
              "#7201a8"
             ],
             [
              0.3333333333333333,
              "#9c179e"
             ],
             [
              0.4444444444444444,
              "#bd3786"
             ],
             [
              0.5555555555555556,
              "#d8576b"
             ],
             [
              0.6666666666666666,
              "#ed7953"
             ],
             [
              0.7777777777777778,
              "#fb9f3a"
             ],
             [
              0.8888888888888888,
              "#fdca26"
             ],
             [
              1,
              "#f0f921"
             ]
            ],
            "type": "heatmap"
           }
          ],
          "heatmapgl": [
           {
            "colorbar": {
             "outlinewidth": 0,
             "ticks": ""
            },
            "colorscale": [
             [
              0,
              "#0d0887"
             ],
             [
              0.1111111111111111,
              "#46039f"
             ],
             [
              0.2222222222222222,
              "#7201a8"
             ],
             [
              0.3333333333333333,
              "#9c179e"
             ],
             [
              0.4444444444444444,
              "#bd3786"
             ],
             [
              0.5555555555555556,
              "#d8576b"
             ],
             [
              0.6666666666666666,
              "#ed7953"
             ],
             [
              0.7777777777777778,
              "#fb9f3a"
             ],
             [
              0.8888888888888888,
              "#fdca26"
             ],
             [
              1,
              "#f0f921"
             ]
            ],
            "type": "heatmapgl"
           }
          ],
          "histogram": [
           {
            "marker": {
             "pattern": {
              "fillmode": "overlay",
              "size": 10,
              "solidity": 0.2
             }
            },
            "type": "histogram"
           }
          ],
          "histogram2d": [
           {
            "colorbar": {
             "outlinewidth": 0,
             "ticks": ""
            },
            "colorscale": [
             [
              0,
              "#0d0887"
             ],
             [
              0.1111111111111111,
              "#46039f"
             ],
             [
              0.2222222222222222,
              "#7201a8"
             ],
             [
              0.3333333333333333,
              "#9c179e"
             ],
             [
              0.4444444444444444,
              "#bd3786"
             ],
             [
              0.5555555555555556,
              "#d8576b"
             ],
             [
              0.6666666666666666,
              "#ed7953"
             ],
             [
              0.7777777777777778,
              "#fb9f3a"
             ],
             [
              0.8888888888888888,
              "#fdca26"
             ],
             [
              1,
              "#f0f921"
             ]
            ],
            "type": "histogram2d"
           }
          ],
          "histogram2dcontour": [
           {
            "colorbar": {
             "outlinewidth": 0,
             "ticks": ""
            },
            "colorscale": [
             [
              0,
              "#0d0887"
             ],
             [
              0.1111111111111111,
              "#46039f"
             ],
             [
              0.2222222222222222,
              "#7201a8"
             ],
             [
              0.3333333333333333,
              "#9c179e"
             ],
             [
              0.4444444444444444,
              "#bd3786"
             ],
             [
              0.5555555555555556,
              "#d8576b"
             ],
             [
              0.6666666666666666,
              "#ed7953"
             ],
             [
              0.7777777777777778,
              "#fb9f3a"
             ],
             [
              0.8888888888888888,
              "#fdca26"
             ],
             [
              1,
              "#f0f921"
             ]
            ],
            "type": "histogram2dcontour"
           }
          ],
          "mesh3d": [
           {
            "colorbar": {
             "outlinewidth": 0,
             "ticks": ""
            },
            "type": "mesh3d"
           }
          ],
          "parcoords": [
           {
            "line": {
             "colorbar": {
              "outlinewidth": 0,
              "ticks": ""
             }
            },
            "type": "parcoords"
           }
          ],
          "pie": [
           {
            "automargin": true,
            "type": "pie"
           }
          ],
          "scatter": [
           {
            "fillpattern": {
             "fillmode": "overlay",
             "size": 10,
             "solidity": 0.2
            },
            "type": "scatter"
           }
          ],
          "scatter3d": [
           {
            "line": {
             "colorbar": {
              "outlinewidth": 0,
              "ticks": ""
             }
            },
            "marker": {
             "colorbar": {
              "outlinewidth": 0,
              "ticks": ""
             }
            },
            "type": "scatter3d"
           }
          ],
          "scattercarpet": [
           {
            "marker": {
             "colorbar": {
              "outlinewidth": 0,
              "ticks": ""
             }
            },
            "type": "scattercarpet"
           }
          ],
          "scattergeo": [
           {
            "marker": {
             "colorbar": {
              "outlinewidth": 0,
              "ticks": ""
             }
            },
            "type": "scattergeo"
           }
          ],
          "scattergl": [
           {
            "marker": {
             "colorbar": {
              "outlinewidth": 0,
              "ticks": ""
             }
            },
            "type": "scattergl"
           }
          ],
          "scattermapbox": [
           {
            "marker": {
             "colorbar": {
              "outlinewidth": 0,
              "ticks": ""
             }
            },
            "type": "scattermapbox"
           }
          ],
          "scatterpolar": [
           {
            "marker": {
             "colorbar": {
              "outlinewidth": 0,
              "ticks": ""
             }
            },
            "type": "scatterpolar"
           }
          ],
          "scatterpolargl": [
           {
            "marker": {
             "colorbar": {
              "outlinewidth": 0,
              "ticks": ""
             }
            },
            "type": "scatterpolargl"
           }
          ],
          "scatterternary": [
           {
            "marker": {
             "colorbar": {
              "outlinewidth": 0,
              "ticks": ""
             }
            },
            "type": "scatterternary"
           }
          ],
          "surface": [
           {
            "colorbar": {
             "outlinewidth": 0,
             "ticks": ""
            },
            "colorscale": [
             [
              0,
              "#0d0887"
             ],
             [
              0.1111111111111111,
              "#46039f"
             ],
             [
              0.2222222222222222,
              "#7201a8"
             ],
             [
              0.3333333333333333,
              "#9c179e"
             ],
             [
              0.4444444444444444,
              "#bd3786"
             ],
             [
              0.5555555555555556,
              "#d8576b"
             ],
             [
              0.6666666666666666,
              "#ed7953"
             ],
             [
              0.7777777777777778,
              "#fb9f3a"
             ],
             [
              0.8888888888888888,
              "#fdca26"
             ],
             [
              1,
              "#f0f921"
             ]
            ],
            "type": "surface"
           }
          ],
          "table": [
           {
            "cells": {
             "fill": {
              "color": "#EBF0F8"
             },
             "line": {
              "color": "white"
             }
            },
            "header": {
             "fill": {
              "color": "#C8D4E3"
             },
             "line": {
              "color": "white"
             }
            },
            "type": "table"
           }
          ]
         },
         "layout": {
          "annotationdefaults": {
           "arrowcolor": "#2a3f5f",
           "arrowhead": 0,
           "arrowwidth": 1
          },
          "autotypenumbers": "strict",
          "coloraxis": {
           "colorbar": {
            "outlinewidth": 0,
            "ticks": ""
           }
          },
          "colorscale": {
           "diverging": [
            [
             0,
             "#8e0152"
            ],
            [
             0.1,
             "#c51b7d"
            ],
            [
             0.2,
             "#de77ae"
            ],
            [
             0.3,
             "#f1b6da"
            ],
            [
             0.4,
             "#fde0ef"
            ],
            [
             0.5,
             "#f7f7f7"
            ],
            [
             0.6,
             "#e6f5d0"
            ],
            [
             0.7,
             "#b8e186"
            ],
            [
             0.8,
             "#7fbc41"
            ],
            [
             0.9,
             "#4d9221"
            ],
            [
             1,
             "#276419"
            ]
           ],
           "sequential": [
            [
             0,
             "#0d0887"
            ],
            [
             0.1111111111111111,
             "#46039f"
            ],
            [
             0.2222222222222222,
             "#7201a8"
            ],
            [
             0.3333333333333333,
             "#9c179e"
            ],
            [
             0.4444444444444444,
             "#bd3786"
            ],
            [
             0.5555555555555556,
             "#d8576b"
            ],
            [
             0.6666666666666666,
             "#ed7953"
            ],
            [
             0.7777777777777778,
             "#fb9f3a"
            ],
            [
             0.8888888888888888,
             "#fdca26"
            ],
            [
             1,
             "#f0f921"
            ]
           ],
           "sequentialminus": [
            [
             0,
             "#0d0887"
            ],
            [
             0.1111111111111111,
             "#46039f"
            ],
            [
             0.2222222222222222,
             "#7201a8"
            ],
            [
             0.3333333333333333,
             "#9c179e"
            ],
            [
             0.4444444444444444,
             "#bd3786"
            ],
            [
             0.5555555555555556,
             "#d8576b"
            ],
            [
             0.6666666666666666,
             "#ed7953"
            ],
            [
             0.7777777777777778,
             "#fb9f3a"
            ],
            [
             0.8888888888888888,
             "#fdca26"
            ],
            [
             1,
             "#f0f921"
            ]
           ]
          },
          "colorway": [
           "#636efa",
           "#EF553B",
           "#00cc96",
           "#ab63fa",
           "#FFA15A",
           "#19d3f3",
           "#FF6692",
           "#B6E880",
           "#FF97FF",
           "#FECB52"
          ],
          "font": {
           "color": "#2a3f5f"
          },
          "geo": {
           "bgcolor": "white",
           "lakecolor": "white",
           "landcolor": "white",
           "showlakes": true,
           "showland": true,
           "subunitcolor": "#C8D4E3"
          },
          "hoverlabel": {
           "align": "left"
          },
          "hovermode": "closest",
          "mapbox": {
           "style": "light"
          },
          "paper_bgcolor": "white",
          "plot_bgcolor": "white",
          "polar": {
           "angularaxis": {
            "gridcolor": "#EBF0F8",
            "linecolor": "#EBF0F8",
            "ticks": ""
           },
           "bgcolor": "white",
           "radialaxis": {
            "gridcolor": "#EBF0F8",
            "linecolor": "#EBF0F8",
            "ticks": ""
           }
          },
          "scene": {
           "xaxis": {
            "backgroundcolor": "white",
            "gridcolor": "#DFE8F3",
            "gridwidth": 2,
            "linecolor": "#EBF0F8",
            "showbackground": true,
            "ticks": "",
            "zerolinecolor": "#EBF0F8"
           },
           "yaxis": {
            "backgroundcolor": "white",
            "gridcolor": "#DFE8F3",
            "gridwidth": 2,
            "linecolor": "#EBF0F8",
            "showbackground": true,
            "ticks": "",
            "zerolinecolor": "#EBF0F8"
           },
           "zaxis": {
            "backgroundcolor": "white",
            "gridcolor": "#DFE8F3",
            "gridwidth": 2,
            "linecolor": "#EBF0F8",
            "showbackground": true,
            "ticks": "",
            "zerolinecolor": "#EBF0F8"
           }
          },
          "shapedefaults": {
           "line": {
            "color": "#2a3f5f"
           }
          },
          "ternary": {
           "aaxis": {
            "gridcolor": "#DFE8F3",
            "linecolor": "#A2B1C6",
            "ticks": ""
           },
           "baxis": {
            "gridcolor": "#DFE8F3",
            "linecolor": "#A2B1C6",
            "ticks": ""
           },
           "bgcolor": "white",
           "caxis": {
            "gridcolor": "#DFE8F3",
            "linecolor": "#A2B1C6",
            "ticks": ""
           }
          },
          "title": {
           "x": 0.05
          },
          "xaxis": {
           "automargin": true,
           "gridcolor": "#EBF0F8",
           "linecolor": "#EBF0F8",
           "ticks": "",
           "title": {
            "standoff": 15
           },
           "zerolinecolor": "#EBF0F8",
           "zerolinewidth": 2
          },
          "yaxis": {
           "automargin": true,
           "gridcolor": "#EBF0F8",
           "linecolor": "#EBF0F8",
           "ticks": "",
           "title": {
            "standoff": 15
           },
           "zerolinecolor": "#EBF0F8",
           "zerolinewidth": 2
          }
         }
        },
        "title": {
         "text": "Tokens Mais Frequentes para Nota 2"
        },
        "width": 300,
        "xaxis": {
         "showticklabels": false,
         "title": {
          "text": ""
         }
        },
        "yaxis": {
         "automargin": true,
         "title": {
          "text": "Tokens"
         }
        }
       }
      }
     },
     "metadata": {},
     "output_type": "display_data"
    },
    {
     "data": {
      "application/vnd.plotly.v1+json": {
       "config": {
        "plotlyServerURL": "https://plot.ly"
       },
       "data": [
        {
         "colorscale": [
          [
           0,
           "rgb(255,245,240)"
          ],
          [
           0.125,
           "rgb(254,224,210)"
          ],
          [
           0.25,
           "rgb(252,187,161)"
          ],
          [
           0.375,
           "rgb(252,146,114)"
          ],
          [
           0.5,
           "rgb(251,106,74)"
          ],
          [
           0.625,
           "rgb(239,59,44)"
          ],
          [
           0.75,
           "rgb(203,24,29)"
          ],
          [
           0.875,
           "rgb(165,15,21)"
          ],
          [
           1,
           "rgb(103,0,13)"
          ]
         ],
         "hovertemplate": "Nota: %{x}<br>Token: %{y}<br>Frequência: %{z}<extra></extra>",
         "showscale": false,
         "type": "heatmap",
         "x": [
          3
         ],
         "y": [
          "azulejos",
          "cidade",
          "casarões",
          "belém",
          "prefeitura",
          "situação",
          "municipal",
          "roubos",
          "bibiana",
          "vandalismo",
          "patrimônio",
          "cambará",
          "medidas",
          "históricos",
          "maior",
          "xix",
          "palacete",
          "proteção",
          "valor",
          "problema"
         ],
         "z": [
          [
           2531,
           1838,
           1298,
           1297,
           912,
           782,
           742,
           672,
           581,
           571,
           537,
           536,
           520,
           409,
           400,
           396,
           379,
           376,
           361,
           358
          ]
         ]
        }
       ],
       "layout": {
        "font": {
         "color": "black"
        },
        "height": 500,
        "paper_bgcolor": "rgba(0, 0, 0, 0)",
        "plot_bgcolor": "rgba(0, 0, 0, 0)",
        "template": {
         "data": {
          "bar": [
           {
            "error_x": {
             "color": "#2a3f5f"
            },
            "error_y": {
             "color": "#2a3f5f"
            },
            "marker": {
             "line": {
              "color": "white",
              "width": 0.5
             },
             "pattern": {
              "fillmode": "overlay",
              "size": 10,
              "solidity": 0.2
             }
            },
            "type": "bar"
           }
          ],
          "barpolar": [
           {
            "marker": {
             "line": {
              "color": "white",
              "width": 0.5
             },
             "pattern": {
              "fillmode": "overlay",
              "size": 10,
              "solidity": 0.2
             }
            },
            "type": "barpolar"
           }
          ],
          "carpet": [
           {
            "aaxis": {
             "endlinecolor": "#2a3f5f",
             "gridcolor": "#C8D4E3",
             "linecolor": "#C8D4E3",
             "minorgridcolor": "#C8D4E3",
             "startlinecolor": "#2a3f5f"
            },
            "baxis": {
             "endlinecolor": "#2a3f5f",
             "gridcolor": "#C8D4E3",
             "linecolor": "#C8D4E3",
             "minorgridcolor": "#C8D4E3",
             "startlinecolor": "#2a3f5f"
            },
            "type": "carpet"
           }
          ],
          "choropleth": [
           {
            "colorbar": {
             "outlinewidth": 0,
             "ticks": ""
            },
            "type": "choropleth"
           }
          ],
          "contour": [
           {
            "colorbar": {
             "outlinewidth": 0,
             "ticks": ""
            },
            "colorscale": [
             [
              0,
              "#0d0887"
             ],
             [
              0.1111111111111111,
              "#46039f"
             ],
             [
              0.2222222222222222,
              "#7201a8"
             ],
             [
              0.3333333333333333,
              "#9c179e"
             ],
             [
              0.4444444444444444,
              "#bd3786"
             ],
             [
              0.5555555555555556,
              "#d8576b"
             ],
             [
              0.6666666666666666,
              "#ed7953"
             ],
             [
              0.7777777777777778,
              "#fb9f3a"
             ],
             [
              0.8888888888888888,
              "#fdca26"
             ],
             [
              1,
              "#f0f921"
             ]
            ],
            "type": "contour"
           }
          ],
          "contourcarpet": [
           {
            "colorbar": {
             "outlinewidth": 0,
             "ticks": ""
            },
            "type": "contourcarpet"
           }
          ],
          "heatmap": [
           {
            "colorbar": {
             "outlinewidth": 0,
             "ticks": ""
            },
            "colorscale": [
             [
              0,
              "#0d0887"
             ],
             [
              0.1111111111111111,
              "#46039f"
             ],
             [
              0.2222222222222222,
              "#7201a8"
             ],
             [
              0.3333333333333333,
              "#9c179e"
             ],
             [
              0.4444444444444444,
              "#bd3786"
             ],
             [
              0.5555555555555556,
              "#d8576b"
             ],
             [
              0.6666666666666666,
              "#ed7953"
             ],
             [
              0.7777777777777778,
              "#fb9f3a"
             ],
             [
              0.8888888888888888,
              "#fdca26"
             ],
             [
              1,
              "#f0f921"
             ]
            ],
            "type": "heatmap"
           }
          ],
          "heatmapgl": [
           {
            "colorbar": {
             "outlinewidth": 0,
             "ticks": ""
            },
            "colorscale": [
             [
              0,
              "#0d0887"
             ],
             [
              0.1111111111111111,
              "#46039f"
             ],
             [
              0.2222222222222222,
              "#7201a8"
             ],
             [
              0.3333333333333333,
              "#9c179e"
             ],
             [
              0.4444444444444444,
              "#bd3786"
             ],
             [
              0.5555555555555556,
              "#d8576b"
             ],
             [
              0.6666666666666666,
              "#ed7953"
             ],
             [
              0.7777777777777778,
              "#fb9f3a"
             ],
             [
              0.8888888888888888,
              "#fdca26"
             ],
             [
              1,
              "#f0f921"
             ]
            ],
            "type": "heatmapgl"
           }
          ],
          "histogram": [
           {
            "marker": {
             "pattern": {
              "fillmode": "overlay",
              "size": 10,
              "solidity": 0.2
             }
            },
            "type": "histogram"
           }
          ],
          "histogram2d": [
           {
            "colorbar": {
             "outlinewidth": 0,
             "ticks": ""
            },
            "colorscale": [
             [
              0,
              "#0d0887"
             ],
             [
              0.1111111111111111,
              "#46039f"
             ],
             [
              0.2222222222222222,
              "#7201a8"
             ],
             [
              0.3333333333333333,
              "#9c179e"
             ],
             [
              0.4444444444444444,
              "#bd3786"
             ],
             [
              0.5555555555555556,
              "#d8576b"
             ],
             [
              0.6666666666666666,
              "#ed7953"
             ],
             [
              0.7777777777777778,
              "#fb9f3a"
             ],
             [
              0.8888888888888888,
              "#fdca26"
             ],
             [
              1,
              "#f0f921"
             ]
            ],
            "type": "histogram2d"
           }
          ],
          "histogram2dcontour": [
           {
            "colorbar": {
             "outlinewidth": 0,
             "ticks": ""
            },
            "colorscale": [
             [
              0,
              "#0d0887"
             ],
             [
              0.1111111111111111,
              "#46039f"
             ],
             [
              0.2222222222222222,
              "#7201a8"
             ],
             [
              0.3333333333333333,
              "#9c179e"
             ],
             [
              0.4444444444444444,
              "#bd3786"
             ],
             [
              0.5555555555555556,
              "#d8576b"
             ],
             [
              0.6666666666666666,
              "#ed7953"
             ],
             [
              0.7777777777777778,
              "#fb9f3a"
             ],
             [
              0.8888888888888888,
              "#fdca26"
             ],
             [
              1,
              "#f0f921"
             ]
            ],
            "type": "histogram2dcontour"
           }
          ],
          "mesh3d": [
           {
            "colorbar": {
             "outlinewidth": 0,
             "ticks": ""
            },
            "type": "mesh3d"
           }
          ],
          "parcoords": [
           {
            "line": {
             "colorbar": {
              "outlinewidth": 0,
              "ticks": ""
             }
            },
            "type": "parcoords"
           }
          ],
          "pie": [
           {
            "automargin": true,
            "type": "pie"
           }
          ],
          "scatter": [
           {
            "fillpattern": {
             "fillmode": "overlay",
             "size": 10,
             "solidity": 0.2
            },
            "type": "scatter"
           }
          ],
          "scatter3d": [
           {
            "line": {
             "colorbar": {
              "outlinewidth": 0,
              "ticks": ""
             }
            },
            "marker": {
             "colorbar": {
              "outlinewidth": 0,
              "ticks": ""
             }
            },
            "type": "scatter3d"
           }
          ],
          "scattercarpet": [
           {
            "marker": {
             "colorbar": {
              "outlinewidth": 0,
              "ticks": ""
             }
            },
            "type": "scattercarpet"
           }
          ],
          "scattergeo": [
           {
            "marker": {
             "colorbar": {
              "outlinewidth": 0,
              "ticks": ""
             }
            },
            "type": "scattergeo"
           }
          ],
          "scattergl": [
           {
            "marker": {
             "colorbar": {
              "outlinewidth": 0,
              "ticks": ""
             }
            },
            "type": "scattergl"
           }
          ],
          "scattermapbox": [
           {
            "marker": {
             "colorbar": {
              "outlinewidth": 0,
              "ticks": ""
             }
            },
            "type": "scattermapbox"
           }
          ],
          "scatterpolar": [
           {
            "marker": {
             "colorbar": {
              "outlinewidth": 0,
              "ticks": ""
             }
            },
            "type": "scatterpolar"
           }
          ],
          "scatterpolargl": [
           {
            "marker": {
             "colorbar": {
              "outlinewidth": 0,
              "ticks": ""
             }
            },
            "type": "scatterpolargl"
           }
          ],
          "scatterternary": [
           {
            "marker": {
             "colorbar": {
              "outlinewidth": 0,
              "ticks": ""
             }
            },
            "type": "scatterternary"
           }
          ],
          "surface": [
           {
            "colorbar": {
             "outlinewidth": 0,
             "ticks": ""
            },
            "colorscale": [
             [
              0,
              "#0d0887"
             ],
             [
              0.1111111111111111,
              "#46039f"
             ],
             [
              0.2222222222222222,
              "#7201a8"
             ],
             [
              0.3333333333333333,
              "#9c179e"
             ],
             [
              0.4444444444444444,
              "#bd3786"
             ],
             [
              0.5555555555555556,
              "#d8576b"
             ],
             [
              0.6666666666666666,
              "#ed7953"
             ],
             [
              0.7777777777777778,
              "#fb9f3a"
             ],
             [
              0.8888888888888888,
              "#fdca26"
             ],
             [
              1,
              "#f0f921"
             ]
            ],
            "type": "surface"
           }
          ],
          "table": [
           {
            "cells": {
             "fill": {
              "color": "#EBF0F8"
             },
             "line": {
              "color": "white"
             }
            },
            "header": {
             "fill": {
              "color": "#C8D4E3"
             },
             "line": {
              "color": "white"
             }
            },
            "type": "table"
           }
          ]
         },
         "layout": {
          "annotationdefaults": {
           "arrowcolor": "#2a3f5f",
           "arrowhead": 0,
           "arrowwidth": 1
          },
          "autotypenumbers": "strict",
          "coloraxis": {
           "colorbar": {
            "outlinewidth": 0,
            "ticks": ""
           }
          },
          "colorscale": {
           "diverging": [
            [
             0,
             "#8e0152"
            ],
            [
             0.1,
             "#c51b7d"
            ],
            [
             0.2,
             "#de77ae"
            ],
            [
             0.3,
             "#f1b6da"
            ],
            [
             0.4,
             "#fde0ef"
            ],
            [
             0.5,
             "#f7f7f7"
            ],
            [
             0.6,
             "#e6f5d0"
            ],
            [
             0.7,
             "#b8e186"
            ],
            [
             0.8,
             "#7fbc41"
            ],
            [
             0.9,
             "#4d9221"
            ],
            [
             1,
             "#276419"
            ]
           ],
           "sequential": [
            [
             0,
             "#0d0887"
            ],
            [
             0.1111111111111111,
             "#46039f"
            ],
            [
             0.2222222222222222,
             "#7201a8"
            ],
            [
             0.3333333333333333,
             "#9c179e"
            ],
            [
             0.4444444444444444,
             "#bd3786"
            ],
            [
             0.5555555555555556,
             "#d8576b"
            ],
            [
             0.6666666666666666,
             "#ed7953"
            ],
            [
             0.7777777777777778,
             "#fb9f3a"
            ],
            [
             0.8888888888888888,
             "#fdca26"
            ],
            [
             1,
             "#f0f921"
            ]
           ],
           "sequentialminus": [
            [
             0,
             "#0d0887"
            ],
            [
             0.1111111111111111,
             "#46039f"
            ],
            [
             0.2222222222222222,
             "#7201a8"
            ],
            [
             0.3333333333333333,
             "#9c179e"
            ],
            [
             0.4444444444444444,
             "#bd3786"
            ],
            [
             0.5555555555555556,
             "#d8576b"
            ],
            [
             0.6666666666666666,
             "#ed7953"
            ],
            [
             0.7777777777777778,
             "#fb9f3a"
            ],
            [
             0.8888888888888888,
             "#fdca26"
            ],
            [
             1,
             "#f0f921"
            ]
           ]
          },
          "colorway": [
           "#636efa",
           "#EF553B",
           "#00cc96",
           "#ab63fa",
           "#FFA15A",
           "#19d3f3",
           "#FF6692",
           "#B6E880",
           "#FF97FF",
           "#FECB52"
          ],
          "font": {
           "color": "#2a3f5f"
          },
          "geo": {
           "bgcolor": "white",
           "lakecolor": "white",
           "landcolor": "white",
           "showlakes": true,
           "showland": true,
           "subunitcolor": "#C8D4E3"
          },
          "hoverlabel": {
           "align": "left"
          },
          "hovermode": "closest",
          "mapbox": {
           "style": "light"
          },
          "paper_bgcolor": "white",
          "plot_bgcolor": "white",
          "polar": {
           "angularaxis": {
            "gridcolor": "#EBF0F8",
            "linecolor": "#EBF0F8",
            "ticks": ""
           },
           "bgcolor": "white",
           "radialaxis": {
            "gridcolor": "#EBF0F8",
            "linecolor": "#EBF0F8",
            "ticks": ""
           }
          },
          "scene": {
           "xaxis": {
            "backgroundcolor": "white",
            "gridcolor": "#DFE8F3",
            "gridwidth": 2,
            "linecolor": "#EBF0F8",
            "showbackground": true,
            "ticks": "",
            "zerolinecolor": "#EBF0F8"
           },
           "yaxis": {
            "backgroundcolor": "white",
            "gridcolor": "#DFE8F3",
            "gridwidth": 2,
            "linecolor": "#EBF0F8",
            "showbackground": true,
            "ticks": "",
            "zerolinecolor": "#EBF0F8"
           },
           "zaxis": {
            "backgroundcolor": "white",
            "gridcolor": "#DFE8F3",
            "gridwidth": 2,
            "linecolor": "#EBF0F8",
            "showbackground": true,
            "ticks": "",
            "zerolinecolor": "#EBF0F8"
           }
          },
          "shapedefaults": {
           "line": {
            "color": "#2a3f5f"
           }
          },
          "ternary": {
           "aaxis": {
            "gridcolor": "#DFE8F3",
            "linecolor": "#A2B1C6",
            "ticks": ""
           },
           "baxis": {
            "gridcolor": "#DFE8F3",
            "linecolor": "#A2B1C6",
            "ticks": ""
           },
           "bgcolor": "white",
           "caxis": {
            "gridcolor": "#DFE8F3",
            "linecolor": "#A2B1C6",
            "ticks": ""
           }
          },
          "title": {
           "x": 0.05
          },
          "xaxis": {
           "automargin": true,
           "gridcolor": "#EBF0F8",
           "linecolor": "#EBF0F8",
           "ticks": "",
           "title": {
            "standoff": 15
           },
           "zerolinecolor": "#EBF0F8",
           "zerolinewidth": 2
          },
          "yaxis": {
           "automargin": true,
           "gridcolor": "#EBF0F8",
           "linecolor": "#EBF0F8",
           "ticks": "",
           "title": {
            "standoff": 15
           },
           "zerolinecolor": "#EBF0F8",
           "zerolinewidth": 2
          }
         }
        },
        "title": {
         "text": "Tokens Mais Frequentes para Nota 3"
        },
        "width": 300,
        "xaxis": {
         "showticklabels": false,
         "title": {
          "text": ""
         }
        },
        "yaxis": {
         "automargin": true,
         "title": {
          "text": "Tokens"
         }
        }
       }
      }
     },
     "metadata": {},
     "output_type": "display_data"
    },
    {
     "data": {
      "application/vnd.plotly.v1+json": {
       "config": {
        "plotlyServerURL": "https://plot.ly"
       },
       "data": [
        {
         "colorscale": [
          [
           0,
           "rgb(255,245,240)"
          ],
          [
           0.125,
           "rgb(254,224,210)"
          ],
          [
           0.25,
           "rgb(252,187,161)"
          ],
          [
           0.375,
           "rgb(252,146,114)"
          ],
          [
           0.5,
           "rgb(251,106,74)"
          ],
          [
           0.625,
           "rgb(239,59,44)"
          ],
          [
           0.75,
           "rgb(203,24,29)"
          ],
          [
           0.875,
           "rgb(165,15,21)"
          ],
          [
           1,
           "rgb(103,0,13)"
          ]
         ],
         "hovertemplate": "Nota: %{x}<br>Token: %{y}<br>Frequência: %{z}<extra></extra>",
         "showscale": false,
         "type": "heatmap",
         "x": [
          4
         ],
         "y": [
          "azulejos",
          "cidade",
          "belém",
          "casarões",
          "prefeitura",
          "situação",
          "roubos",
          "municipal",
          "patrimônio",
          "medidas",
          "vandalismo",
          "bibiana",
          "cambará",
          "históricos",
          "maior",
          "xix",
          "proteção",
          "problema",
          "variedade",
          "parte"
         ],
         "z": [
          [
           1810,
           1310,
           1009,
           946,
           664,
           532,
           492,
           485,
           440,
           400,
           386,
           382,
           365,
           313,
           285,
           278,
           272,
           261,
           251,
           250
          ]
         ]
        }
       ],
       "layout": {
        "font": {
         "color": "black"
        },
        "height": 500,
        "paper_bgcolor": "rgba(0, 0, 0, 0)",
        "plot_bgcolor": "rgba(0, 0, 0, 0)",
        "template": {
         "data": {
          "bar": [
           {
            "error_x": {
             "color": "#2a3f5f"
            },
            "error_y": {
             "color": "#2a3f5f"
            },
            "marker": {
             "line": {
              "color": "white",
              "width": 0.5
             },
             "pattern": {
              "fillmode": "overlay",
              "size": 10,
              "solidity": 0.2
             }
            },
            "type": "bar"
           }
          ],
          "barpolar": [
           {
            "marker": {
             "line": {
              "color": "white",
              "width": 0.5
             },
             "pattern": {
              "fillmode": "overlay",
              "size": 10,
              "solidity": 0.2
             }
            },
            "type": "barpolar"
           }
          ],
          "carpet": [
           {
            "aaxis": {
             "endlinecolor": "#2a3f5f",
             "gridcolor": "#C8D4E3",
             "linecolor": "#C8D4E3",
             "minorgridcolor": "#C8D4E3",
             "startlinecolor": "#2a3f5f"
            },
            "baxis": {
             "endlinecolor": "#2a3f5f",
             "gridcolor": "#C8D4E3",
             "linecolor": "#C8D4E3",
             "minorgridcolor": "#C8D4E3",
             "startlinecolor": "#2a3f5f"
            },
            "type": "carpet"
           }
          ],
          "choropleth": [
           {
            "colorbar": {
             "outlinewidth": 0,
             "ticks": ""
            },
            "type": "choropleth"
           }
          ],
          "contour": [
           {
            "colorbar": {
             "outlinewidth": 0,
             "ticks": ""
            },
            "colorscale": [
             [
              0,
              "#0d0887"
             ],
             [
              0.1111111111111111,
              "#46039f"
             ],
             [
              0.2222222222222222,
              "#7201a8"
             ],
             [
              0.3333333333333333,
              "#9c179e"
             ],
             [
              0.4444444444444444,
              "#bd3786"
             ],
             [
              0.5555555555555556,
              "#d8576b"
             ],
             [
              0.6666666666666666,
              "#ed7953"
             ],
             [
              0.7777777777777778,
              "#fb9f3a"
             ],
             [
              0.8888888888888888,
              "#fdca26"
             ],
             [
              1,
              "#f0f921"
             ]
            ],
            "type": "contour"
           }
          ],
          "contourcarpet": [
           {
            "colorbar": {
             "outlinewidth": 0,
             "ticks": ""
            },
            "type": "contourcarpet"
           }
          ],
          "heatmap": [
           {
            "colorbar": {
             "outlinewidth": 0,
             "ticks": ""
            },
            "colorscale": [
             [
              0,
              "#0d0887"
             ],
             [
              0.1111111111111111,
              "#46039f"
             ],
             [
              0.2222222222222222,
              "#7201a8"
             ],
             [
              0.3333333333333333,
              "#9c179e"
             ],
             [
              0.4444444444444444,
              "#bd3786"
             ],
             [
              0.5555555555555556,
              "#d8576b"
             ],
             [
              0.6666666666666666,
              "#ed7953"
             ],
             [
              0.7777777777777778,
              "#fb9f3a"
             ],
             [
              0.8888888888888888,
              "#fdca26"
             ],
             [
              1,
              "#f0f921"
             ]
            ],
            "type": "heatmap"
           }
          ],
          "heatmapgl": [
           {
            "colorbar": {
             "outlinewidth": 0,
             "ticks": ""
            },
            "colorscale": [
             [
              0,
              "#0d0887"
             ],
             [
              0.1111111111111111,
              "#46039f"
             ],
             [
              0.2222222222222222,
              "#7201a8"
             ],
             [
              0.3333333333333333,
              "#9c179e"
             ],
             [
              0.4444444444444444,
              "#bd3786"
             ],
             [
              0.5555555555555556,
              "#d8576b"
             ],
             [
              0.6666666666666666,
              "#ed7953"
             ],
             [
              0.7777777777777778,
              "#fb9f3a"
             ],
             [
              0.8888888888888888,
              "#fdca26"
             ],
             [
              1,
              "#f0f921"
             ]
            ],
            "type": "heatmapgl"
           }
          ],
          "histogram": [
           {
            "marker": {
             "pattern": {
              "fillmode": "overlay",
              "size": 10,
              "solidity": 0.2
             }
            },
            "type": "histogram"
           }
          ],
          "histogram2d": [
           {
            "colorbar": {
             "outlinewidth": 0,
             "ticks": ""
            },
            "colorscale": [
             [
              0,
              "#0d0887"
             ],
             [
              0.1111111111111111,
              "#46039f"
             ],
             [
              0.2222222222222222,
              "#7201a8"
             ],
             [
              0.3333333333333333,
              "#9c179e"
             ],
             [
              0.4444444444444444,
              "#bd3786"
             ],
             [
              0.5555555555555556,
              "#d8576b"
             ],
             [
              0.6666666666666666,
              "#ed7953"
             ],
             [
              0.7777777777777778,
              "#fb9f3a"
             ],
             [
              0.8888888888888888,
              "#fdca26"
             ],
             [
              1,
              "#f0f921"
             ]
            ],
            "type": "histogram2d"
           }
          ],
          "histogram2dcontour": [
           {
            "colorbar": {
             "outlinewidth": 0,
             "ticks": ""
            },
            "colorscale": [
             [
              0,
              "#0d0887"
             ],
             [
              0.1111111111111111,
              "#46039f"
             ],
             [
              0.2222222222222222,
              "#7201a8"
             ],
             [
              0.3333333333333333,
              "#9c179e"
             ],
             [
              0.4444444444444444,
              "#bd3786"
             ],
             [
              0.5555555555555556,
              "#d8576b"
             ],
             [
              0.6666666666666666,
              "#ed7953"
             ],
             [
              0.7777777777777778,
              "#fb9f3a"
             ],
             [
              0.8888888888888888,
              "#fdca26"
             ],
             [
              1,
              "#f0f921"
             ]
            ],
            "type": "histogram2dcontour"
           }
          ],
          "mesh3d": [
           {
            "colorbar": {
             "outlinewidth": 0,
             "ticks": ""
            },
            "type": "mesh3d"
           }
          ],
          "parcoords": [
           {
            "line": {
             "colorbar": {
              "outlinewidth": 0,
              "ticks": ""
             }
            },
            "type": "parcoords"
           }
          ],
          "pie": [
           {
            "automargin": true,
            "type": "pie"
           }
          ],
          "scatter": [
           {
            "fillpattern": {
             "fillmode": "overlay",
             "size": 10,
             "solidity": 0.2
            },
            "type": "scatter"
           }
          ],
          "scatter3d": [
           {
            "line": {
             "colorbar": {
              "outlinewidth": 0,
              "ticks": ""
             }
            },
            "marker": {
             "colorbar": {
              "outlinewidth": 0,
              "ticks": ""
             }
            },
            "type": "scatter3d"
           }
          ],
          "scattercarpet": [
           {
            "marker": {
             "colorbar": {
              "outlinewidth": 0,
              "ticks": ""
             }
            },
            "type": "scattercarpet"
           }
          ],
          "scattergeo": [
           {
            "marker": {
             "colorbar": {
              "outlinewidth": 0,
              "ticks": ""
             }
            },
            "type": "scattergeo"
           }
          ],
          "scattergl": [
           {
            "marker": {
             "colorbar": {
              "outlinewidth": 0,
              "ticks": ""
             }
            },
            "type": "scattergl"
           }
          ],
          "scattermapbox": [
           {
            "marker": {
             "colorbar": {
              "outlinewidth": 0,
              "ticks": ""
             }
            },
            "type": "scattermapbox"
           }
          ],
          "scatterpolar": [
           {
            "marker": {
             "colorbar": {
              "outlinewidth": 0,
              "ticks": ""
             }
            },
            "type": "scatterpolar"
           }
          ],
          "scatterpolargl": [
           {
            "marker": {
             "colorbar": {
              "outlinewidth": 0,
              "ticks": ""
             }
            },
            "type": "scatterpolargl"
           }
          ],
          "scatterternary": [
           {
            "marker": {
             "colorbar": {
              "outlinewidth": 0,
              "ticks": ""
             }
            },
            "type": "scatterternary"
           }
          ],
          "surface": [
           {
            "colorbar": {
             "outlinewidth": 0,
             "ticks": ""
            },
            "colorscale": [
             [
              0,
              "#0d0887"
             ],
             [
              0.1111111111111111,
              "#46039f"
             ],
             [
              0.2222222222222222,
              "#7201a8"
             ],
             [
              0.3333333333333333,
              "#9c179e"
             ],
             [
              0.4444444444444444,
              "#bd3786"
             ],
             [
              0.5555555555555556,
              "#d8576b"
             ],
             [
              0.6666666666666666,
              "#ed7953"
             ],
             [
              0.7777777777777778,
              "#fb9f3a"
             ],
             [
              0.8888888888888888,
              "#fdca26"
             ],
             [
              1,
              "#f0f921"
             ]
            ],
            "type": "surface"
           }
          ],
          "table": [
           {
            "cells": {
             "fill": {
              "color": "#EBF0F8"
             },
             "line": {
              "color": "white"
             }
            },
            "header": {
             "fill": {
              "color": "#C8D4E3"
             },
             "line": {
              "color": "white"
             }
            },
            "type": "table"
           }
          ]
         },
         "layout": {
          "annotationdefaults": {
           "arrowcolor": "#2a3f5f",
           "arrowhead": 0,
           "arrowwidth": 1
          },
          "autotypenumbers": "strict",
          "coloraxis": {
           "colorbar": {
            "outlinewidth": 0,
            "ticks": ""
           }
          },
          "colorscale": {
           "diverging": [
            [
             0,
             "#8e0152"
            ],
            [
             0.1,
             "#c51b7d"
            ],
            [
             0.2,
             "#de77ae"
            ],
            [
             0.3,
             "#f1b6da"
            ],
            [
             0.4,
             "#fde0ef"
            ],
            [
             0.5,
             "#f7f7f7"
            ],
            [
             0.6,
             "#e6f5d0"
            ],
            [
             0.7,
             "#b8e186"
            ],
            [
             0.8,
             "#7fbc41"
            ],
            [
             0.9,
             "#4d9221"
            ],
            [
             1,
             "#276419"
            ]
           ],
           "sequential": [
            [
             0,
             "#0d0887"
            ],
            [
             0.1111111111111111,
             "#46039f"
            ],
            [
             0.2222222222222222,
             "#7201a8"
            ],
            [
             0.3333333333333333,
             "#9c179e"
            ],
            [
             0.4444444444444444,
             "#bd3786"
            ],
            [
             0.5555555555555556,
             "#d8576b"
            ],
            [
             0.6666666666666666,
             "#ed7953"
            ],
            [
             0.7777777777777778,
             "#fb9f3a"
            ],
            [
             0.8888888888888888,
             "#fdca26"
            ],
            [
             1,
             "#f0f921"
            ]
           ],
           "sequentialminus": [
            [
             0,
             "#0d0887"
            ],
            [
             0.1111111111111111,
             "#46039f"
            ],
            [
             0.2222222222222222,
             "#7201a8"
            ],
            [
             0.3333333333333333,
             "#9c179e"
            ],
            [
             0.4444444444444444,
             "#bd3786"
            ],
            [
             0.5555555555555556,
             "#d8576b"
            ],
            [
             0.6666666666666666,
             "#ed7953"
            ],
            [
             0.7777777777777778,
             "#fb9f3a"
            ],
            [
             0.8888888888888888,
             "#fdca26"
            ],
            [
             1,
             "#f0f921"
            ]
           ]
          },
          "colorway": [
           "#636efa",
           "#EF553B",
           "#00cc96",
           "#ab63fa",
           "#FFA15A",
           "#19d3f3",
           "#FF6692",
           "#B6E880",
           "#FF97FF",
           "#FECB52"
          ],
          "font": {
           "color": "#2a3f5f"
          },
          "geo": {
           "bgcolor": "white",
           "lakecolor": "white",
           "landcolor": "white",
           "showlakes": true,
           "showland": true,
           "subunitcolor": "#C8D4E3"
          },
          "hoverlabel": {
           "align": "left"
          },
          "hovermode": "closest",
          "mapbox": {
           "style": "light"
          },
          "paper_bgcolor": "white",
          "plot_bgcolor": "white",
          "polar": {
           "angularaxis": {
            "gridcolor": "#EBF0F8",
            "linecolor": "#EBF0F8",
            "ticks": ""
           },
           "bgcolor": "white",
           "radialaxis": {
            "gridcolor": "#EBF0F8",
            "linecolor": "#EBF0F8",
            "ticks": ""
           }
          },
          "scene": {
           "xaxis": {
            "backgroundcolor": "white",
            "gridcolor": "#DFE8F3",
            "gridwidth": 2,
            "linecolor": "#EBF0F8",
            "showbackground": true,
            "ticks": "",
            "zerolinecolor": "#EBF0F8"
           },
           "yaxis": {
            "backgroundcolor": "white",
            "gridcolor": "#DFE8F3",
            "gridwidth": 2,
            "linecolor": "#EBF0F8",
            "showbackground": true,
            "ticks": "",
            "zerolinecolor": "#EBF0F8"
           },
           "zaxis": {
            "backgroundcolor": "white",
            "gridcolor": "#DFE8F3",
            "gridwidth": 2,
            "linecolor": "#EBF0F8",
            "showbackground": true,
            "ticks": "",
            "zerolinecolor": "#EBF0F8"
           }
          },
          "shapedefaults": {
           "line": {
            "color": "#2a3f5f"
           }
          },
          "ternary": {
           "aaxis": {
            "gridcolor": "#DFE8F3",
            "linecolor": "#A2B1C6",
            "ticks": ""
           },
           "baxis": {
            "gridcolor": "#DFE8F3",
            "linecolor": "#A2B1C6",
            "ticks": ""
           },
           "bgcolor": "white",
           "caxis": {
            "gridcolor": "#DFE8F3",
            "linecolor": "#A2B1C6",
            "ticks": ""
           }
          },
          "title": {
           "x": 0.05
          },
          "xaxis": {
           "automargin": true,
           "gridcolor": "#EBF0F8",
           "linecolor": "#EBF0F8",
           "ticks": "",
           "title": {
            "standoff": 15
           },
           "zerolinecolor": "#EBF0F8",
           "zerolinewidth": 2
          },
          "yaxis": {
           "automargin": true,
           "gridcolor": "#EBF0F8",
           "linecolor": "#EBF0F8",
           "ticks": "",
           "title": {
            "standoff": 15
           },
           "zerolinecolor": "#EBF0F8",
           "zerolinewidth": 2
          }
         }
        },
        "title": {
         "text": "Tokens Mais Frequentes para Nota 4"
        },
        "width": 300,
        "xaxis": {
         "showticklabels": false,
         "title": {
          "text": ""
         }
        },
        "yaxis": {
         "automargin": true,
         "title": {
          "text": "Tokens"
         }
        }
       }
      }
     },
     "metadata": {},
     "output_type": "display_data"
    },
    {
     "data": {
      "application/vnd.plotly.v1+json": {
       "config": {
        "plotlyServerURL": "https://plot.ly"
       },
       "data": [
        {
         "colorscale": [
          [
           0,
           "rgb(255,245,240)"
          ],
          [
           0.125,
           "rgb(254,224,210)"
          ],
          [
           0.25,
           "rgb(252,187,161)"
          ],
          [
           0.375,
           "rgb(252,146,114)"
          ],
          [
           0.5,
           "rgb(251,106,74)"
          ],
          [
           0.625,
           "rgb(239,59,44)"
          ],
          [
           0.75,
           "rgb(203,24,29)"
          ],
          [
           0.875,
           "rgb(165,15,21)"
          ],
          [
           1,
           "rgb(103,0,13)"
          ]
         ],
         "hovertemplate": "Nota: %{x}<br>Token: %{y}<br>Frequência: %{z}<extra></extra>",
         "showscale": false,
         "type": "heatmap",
         "x": [
          5
         ],
         "y": [
          "azulejos",
          "cidade",
          "belém",
          "casarões",
          "prefeitura",
          "patrimônio",
          "municipal",
          "situação",
          "roubos",
          "bibiana",
          "cambará",
          "vandalismo",
          "medidas",
          "histórico",
          "históricos",
          "parte",
          "cultural",
          "mercado",
          "proteção",
          "história"
         ],
         "z": [
          [
           830,
           640,
           562,
           480,
           376,
           313,
           225,
           225,
           220,
           205,
           194,
           191,
           189,
           175,
           157,
           153,
           145,
           141,
           140,
           136
          ]
         ]
        }
       ],
       "layout": {
        "font": {
         "color": "black"
        },
        "height": 500,
        "paper_bgcolor": "rgba(0, 0, 0, 0)",
        "plot_bgcolor": "rgba(0, 0, 0, 0)",
        "template": {
         "data": {
          "bar": [
           {
            "error_x": {
             "color": "#2a3f5f"
            },
            "error_y": {
             "color": "#2a3f5f"
            },
            "marker": {
             "line": {
              "color": "white",
              "width": 0.5
             },
             "pattern": {
              "fillmode": "overlay",
              "size": 10,
              "solidity": 0.2
             }
            },
            "type": "bar"
           }
          ],
          "barpolar": [
           {
            "marker": {
             "line": {
              "color": "white",
              "width": 0.5
             },
             "pattern": {
              "fillmode": "overlay",
              "size": 10,
              "solidity": 0.2
             }
            },
            "type": "barpolar"
           }
          ],
          "carpet": [
           {
            "aaxis": {
             "endlinecolor": "#2a3f5f",
             "gridcolor": "#C8D4E3",
             "linecolor": "#C8D4E3",
             "minorgridcolor": "#C8D4E3",
             "startlinecolor": "#2a3f5f"
            },
            "baxis": {
             "endlinecolor": "#2a3f5f",
             "gridcolor": "#C8D4E3",
             "linecolor": "#C8D4E3",
             "minorgridcolor": "#C8D4E3",
             "startlinecolor": "#2a3f5f"
            },
            "type": "carpet"
           }
          ],
          "choropleth": [
           {
            "colorbar": {
             "outlinewidth": 0,
             "ticks": ""
            },
            "type": "choropleth"
           }
          ],
          "contour": [
           {
            "colorbar": {
             "outlinewidth": 0,
             "ticks": ""
            },
            "colorscale": [
             [
              0,
              "#0d0887"
             ],
             [
              0.1111111111111111,
              "#46039f"
             ],
             [
              0.2222222222222222,
              "#7201a8"
             ],
             [
              0.3333333333333333,
              "#9c179e"
             ],
             [
              0.4444444444444444,
              "#bd3786"
             ],
             [
              0.5555555555555556,
              "#d8576b"
             ],
             [
              0.6666666666666666,
              "#ed7953"
             ],
             [
              0.7777777777777778,
              "#fb9f3a"
             ],
             [
              0.8888888888888888,
              "#fdca26"
             ],
             [
              1,
              "#f0f921"
             ]
            ],
            "type": "contour"
           }
          ],
          "contourcarpet": [
           {
            "colorbar": {
             "outlinewidth": 0,
             "ticks": ""
            },
            "type": "contourcarpet"
           }
          ],
          "heatmap": [
           {
            "colorbar": {
             "outlinewidth": 0,
             "ticks": ""
            },
            "colorscale": [
             [
              0,
              "#0d0887"
             ],
             [
              0.1111111111111111,
              "#46039f"
             ],
             [
              0.2222222222222222,
              "#7201a8"
             ],
             [
              0.3333333333333333,
              "#9c179e"
             ],
             [
              0.4444444444444444,
              "#bd3786"
             ],
             [
              0.5555555555555556,
              "#d8576b"
             ],
             [
              0.6666666666666666,
              "#ed7953"
             ],
             [
              0.7777777777777778,
              "#fb9f3a"
             ],
             [
              0.8888888888888888,
              "#fdca26"
             ],
             [
              1,
              "#f0f921"
             ]
            ],
            "type": "heatmap"
           }
          ],
          "heatmapgl": [
           {
            "colorbar": {
             "outlinewidth": 0,
             "ticks": ""
            },
            "colorscale": [
             [
              0,
              "#0d0887"
             ],
             [
              0.1111111111111111,
              "#46039f"
             ],
             [
              0.2222222222222222,
              "#7201a8"
             ],
             [
              0.3333333333333333,
              "#9c179e"
             ],
             [
              0.4444444444444444,
              "#bd3786"
             ],
             [
              0.5555555555555556,
              "#d8576b"
             ],
             [
              0.6666666666666666,
              "#ed7953"
             ],
             [
              0.7777777777777778,
              "#fb9f3a"
             ],
             [
              0.8888888888888888,
              "#fdca26"
             ],
             [
              1,
              "#f0f921"
             ]
            ],
            "type": "heatmapgl"
           }
          ],
          "histogram": [
           {
            "marker": {
             "pattern": {
              "fillmode": "overlay",
              "size": 10,
              "solidity": 0.2
             }
            },
            "type": "histogram"
           }
          ],
          "histogram2d": [
           {
            "colorbar": {
             "outlinewidth": 0,
             "ticks": ""
            },
            "colorscale": [
             [
              0,
              "#0d0887"
             ],
             [
              0.1111111111111111,
              "#46039f"
             ],
             [
              0.2222222222222222,
              "#7201a8"
             ],
             [
              0.3333333333333333,
              "#9c179e"
             ],
             [
              0.4444444444444444,
              "#bd3786"
             ],
             [
              0.5555555555555556,
              "#d8576b"
             ],
             [
              0.6666666666666666,
              "#ed7953"
             ],
             [
              0.7777777777777778,
              "#fb9f3a"
             ],
             [
              0.8888888888888888,
              "#fdca26"
             ],
             [
              1,
              "#f0f921"
             ]
            ],
            "type": "histogram2d"
           }
          ],
          "histogram2dcontour": [
           {
            "colorbar": {
             "outlinewidth": 0,
             "ticks": ""
            },
            "colorscale": [
             [
              0,
              "#0d0887"
             ],
             [
              0.1111111111111111,
              "#46039f"
             ],
             [
              0.2222222222222222,
              "#7201a8"
             ],
             [
              0.3333333333333333,
              "#9c179e"
             ],
             [
              0.4444444444444444,
              "#bd3786"
             ],
             [
              0.5555555555555556,
              "#d8576b"
             ],
             [
              0.6666666666666666,
              "#ed7953"
             ],
             [
              0.7777777777777778,
              "#fb9f3a"
             ],
             [
              0.8888888888888888,
              "#fdca26"
             ],
             [
              1,
              "#f0f921"
             ]
            ],
            "type": "histogram2dcontour"
           }
          ],
          "mesh3d": [
           {
            "colorbar": {
             "outlinewidth": 0,
             "ticks": ""
            },
            "type": "mesh3d"
           }
          ],
          "parcoords": [
           {
            "line": {
             "colorbar": {
              "outlinewidth": 0,
              "ticks": ""
             }
            },
            "type": "parcoords"
           }
          ],
          "pie": [
           {
            "automargin": true,
            "type": "pie"
           }
          ],
          "scatter": [
           {
            "fillpattern": {
             "fillmode": "overlay",
             "size": 10,
             "solidity": 0.2
            },
            "type": "scatter"
           }
          ],
          "scatter3d": [
           {
            "line": {
             "colorbar": {
              "outlinewidth": 0,
              "ticks": ""
             }
            },
            "marker": {
             "colorbar": {
              "outlinewidth": 0,
              "ticks": ""
             }
            },
            "type": "scatter3d"
           }
          ],
          "scattercarpet": [
           {
            "marker": {
             "colorbar": {
              "outlinewidth": 0,
              "ticks": ""
             }
            },
            "type": "scattercarpet"
           }
          ],
          "scattergeo": [
           {
            "marker": {
             "colorbar": {
              "outlinewidth": 0,
              "ticks": ""
             }
            },
            "type": "scattergeo"
           }
          ],
          "scattergl": [
           {
            "marker": {
             "colorbar": {
              "outlinewidth": 0,
              "ticks": ""
             }
            },
            "type": "scattergl"
           }
          ],
          "scattermapbox": [
           {
            "marker": {
             "colorbar": {
              "outlinewidth": 0,
              "ticks": ""
             }
            },
            "type": "scattermapbox"
           }
          ],
          "scatterpolar": [
           {
            "marker": {
             "colorbar": {
              "outlinewidth": 0,
              "ticks": ""
             }
            },
            "type": "scatterpolar"
           }
          ],
          "scatterpolargl": [
           {
            "marker": {
             "colorbar": {
              "outlinewidth": 0,
              "ticks": ""
             }
            },
            "type": "scatterpolargl"
           }
          ],
          "scatterternary": [
           {
            "marker": {
             "colorbar": {
              "outlinewidth": 0,
              "ticks": ""
             }
            },
            "type": "scatterternary"
           }
          ],
          "surface": [
           {
            "colorbar": {
             "outlinewidth": 0,
             "ticks": ""
            },
            "colorscale": [
             [
              0,
              "#0d0887"
             ],
             [
              0.1111111111111111,
              "#46039f"
             ],
             [
              0.2222222222222222,
              "#7201a8"
             ],
             [
              0.3333333333333333,
              "#9c179e"
             ],
             [
              0.4444444444444444,
              "#bd3786"
             ],
             [
              0.5555555555555556,
              "#d8576b"
             ],
             [
              0.6666666666666666,
              "#ed7953"
             ],
             [
              0.7777777777777778,
              "#fb9f3a"
             ],
             [
              0.8888888888888888,
              "#fdca26"
             ],
             [
              1,
              "#f0f921"
             ]
            ],
            "type": "surface"
           }
          ],
          "table": [
           {
            "cells": {
             "fill": {
              "color": "#EBF0F8"
             },
             "line": {
              "color": "white"
             }
            },
            "header": {
             "fill": {
              "color": "#C8D4E3"
             },
             "line": {
              "color": "white"
             }
            },
            "type": "table"
           }
          ]
         },
         "layout": {
          "annotationdefaults": {
           "arrowcolor": "#2a3f5f",
           "arrowhead": 0,
           "arrowwidth": 1
          },
          "autotypenumbers": "strict",
          "coloraxis": {
           "colorbar": {
            "outlinewidth": 0,
            "ticks": ""
           }
          },
          "colorscale": {
           "diverging": [
            [
             0,
             "#8e0152"
            ],
            [
             0.1,
             "#c51b7d"
            ],
            [
             0.2,
             "#de77ae"
            ],
            [
             0.3,
             "#f1b6da"
            ],
            [
             0.4,
             "#fde0ef"
            ],
            [
             0.5,
             "#f7f7f7"
            ],
            [
             0.6,
             "#e6f5d0"
            ],
            [
             0.7,
             "#b8e186"
            ],
            [
             0.8,
             "#7fbc41"
            ],
            [
             0.9,
             "#4d9221"
            ],
            [
             1,
             "#276419"
            ]
           ],
           "sequential": [
            [
             0,
             "#0d0887"
            ],
            [
             0.1111111111111111,
             "#46039f"
            ],
            [
             0.2222222222222222,
             "#7201a8"
            ],
            [
             0.3333333333333333,
             "#9c179e"
            ],
            [
             0.4444444444444444,
             "#bd3786"
            ],
            [
             0.5555555555555556,
             "#d8576b"
            ],
            [
             0.6666666666666666,
             "#ed7953"
            ],
            [
             0.7777777777777778,
             "#fb9f3a"
            ],
            [
             0.8888888888888888,
             "#fdca26"
            ],
            [
             1,
             "#f0f921"
            ]
           ],
           "sequentialminus": [
            [
             0,
             "#0d0887"
            ],
            [
             0.1111111111111111,
             "#46039f"
            ],
            [
             0.2222222222222222,
             "#7201a8"
            ],
            [
             0.3333333333333333,
             "#9c179e"
            ],
            [
             0.4444444444444444,
             "#bd3786"
            ],
            [
             0.5555555555555556,
             "#d8576b"
            ],
            [
             0.6666666666666666,
             "#ed7953"
            ],
            [
             0.7777777777777778,
             "#fb9f3a"
            ],
            [
             0.8888888888888888,
             "#fdca26"
            ],
            [
             1,
             "#f0f921"
            ]
           ]
          },
          "colorway": [
           "#636efa",
           "#EF553B",
           "#00cc96",
           "#ab63fa",
           "#FFA15A",
           "#19d3f3",
           "#FF6692",
           "#B6E880",
           "#FF97FF",
           "#FECB52"
          ],
          "font": {
           "color": "#2a3f5f"
          },
          "geo": {
           "bgcolor": "white",
           "lakecolor": "white",
           "landcolor": "white",
           "showlakes": true,
           "showland": true,
           "subunitcolor": "#C8D4E3"
          },
          "hoverlabel": {
           "align": "left"
          },
          "hovermode": "closest",
          "mapbox": {
           "style": "light"
          },
          "paper_bgcolor": "white",
          "plot_bgcolor": "white",
          "polar": {
           "angularaxis": {
            "gridcolor": "#EBF0F8",
            "linecolor": "#EBF0F8",
            "ticks": ""
           },
           "bgcolor": "white",
           "radialaxis": {
            "gridcolor": "#EBF0F8",
            "linecolor": "#EBF0F8",
            "ticks": ""
           }
          },
          "scene": {
           "xaxis": {
            "backgroundcolor": "white",
            "gridcolor": "#DFE8F3",
            "gridwidth": 2,
            "linecolor": "#EBF0F8",
            "showbackground": true,
            "ticks": "",
            "zerolinecolor": "#EBF0F8"
           },
           "yaxis": {
            "backgroundcolor": "white",
            "gridcolor": "#DFE8F3",
            "gridwidth": 2,
            "linecolor": "#EBF0F8",
            "showbackground": true,
            "ticks": "",
            "zerolinecolor": "#EBF0F8"
           },
           "zaxis": {
            "backgroundcolor": "white",
            "gridcolor": "#DFE8F3",
            "gridwidth": 2,
            "linecolor": "#EBF0F8",
            "showbackground": true,
            "ticks": "",
            "zerolinecolor": "#EBF0F8"
           }
          },
          "shapedefaults": {
           "line": {
            "color": "#2a3f5f"
           }
          },
          "ternary": {
           "aaxis": {
            "gridcolor": "#DFE8F3",
            "linecolor": "#A2B1C6",
            "ticks": ""
           },
           "baxis": {
            "gridcolor": "#DFE8F3",
            "linecolor": "#A2B1C6",
            "ticks": ""
           },
           "bgcolor": "white",
           "caxis": {
            "gridcolor": "#DFE8F3",
            "linecolor": "#A2B1C6",
            "ticks": ""
           }
          },
          "title": {
           "x": 0.05
          },
          "xaxis": {
           "automargin": true,
           "gridcolor": "#EBF0F8",
           "linecolor": "#EBF0F8",
           "ticks": "",
           "title": {
            "standoff": 15
           },
           "zerolinecolor": "#EBF0F8",
           "zerolinewidth": 2
          },
          "yaxis": {
           "automargin": true,
           "gridcolor": "#EBF0F8",
           "linecolor": "#EBF0F8",
           "ticks": "",
           "title": {
            "standoff": 15
           },
           "zerolinecolor": "#EBF0F8",
           "zerolinewidth": 2
          }
         }
        },
        "title": {
         "text": "Tokens Mais Frequentes para Nota 5"
        },
        "width": 300,
        "xaxis": {
         "showticklabels": false,
         "title": {
          "text": ""
         }
        },
        "yaxis": {
         "automargin": true,
         "title": {
          "text": "Tokens"
         }
        }
       }
      }
     },
     "metadata": {},
     "output_type": "display_data"
    }
   ],
   "source": [
    "import plotly.graph_objects as go\n",
    "import pandas as pd\n",
    "\n",
    "# Example structure for df_words (replace with your actual data)\n",
    "# df_words = pd.DataFrame({\n",
    "#     'nota': [0, 0, 0, 1, 1, 1, 2, 2, 2],\n",
    "#     'token': ['word1', 'word2', 'word3', 'word4', 'word5', 'word6', 'word7', 'word8', 'word9'],\n",
    "#     'token_frequency': [50, 40, 30, 45, 35, 25, 60, 50, 40]\n",
    "# })\n",
    "\n",
    "# Sort tokens within each grade based on frequency\n",
    "df_words_sorted = (\n",
    "    df_words\n",
    "    .sort_values(by=['nota', 'token_frequency'], ascending=[True, False])\n",
    ")\n",
    "\n",
    "# List of unique grades\n",
    "grades = df_words_sorted['nota'].unique()\n",
    "\n",
    "# Generate a heatmap for each grade\n",
    "for grade in grades:\n",
    "    # Filter data for the specific grade\n",
    "    grade_data = df_words_sorted[df_words_sorted['nota'] == grade]\n",
    "    \n",
    "    # Tokens and frequencies\n",
    "    tokens = grade_data['token']\n",
    "    frequencies = grade_data['token_frequency']\n",
    "    \n",
    "    # Create the heatmap\n",
    "    fig = go.Figure(data=go.Heatmap(\n",
    "        z=[frequencies],  # Heatmap values\n",
    "        x=[grade],        # Grade label as a single column\n",
    "        y=tokens,         # Tokens for the y-axis\n",
    "        colorscale='Reds',\n",
    "        showscale=False,  # Remove the colorbar\n",
    "        hovertemplate=(\n",
    "            \"Nota: %{x}<br>\" +\n",
    "            \"Token: %{y}<br>\" +\n",
    "            \"Frequência: %{z}<extra></extra>\"\n",
    "        )\n",
    "    ))\n",
    "\n",
    "    # Update layout for better visualization\n",
    "    fig.update_layout(\n",
    "        title=f\"Tokens Mais Frequentes para Nota {grade}\",\n",
    "        height=500,  # Adjust height to make the heatmap narrow\n",
    "        width=300,   # Adjust width for each heatmap\n",
    "        template=\"plotly_white\",\n",
    "        font=dict(color=\"black\"),\n",
    "        plot_bgcolor=\"rgba(0, 0, 0, 0)\",  # Transparent plot background\n",
    "        paper_bgcolor=\"rgba(0, 0, 0, 0)\",  # Transparent outer background\n",
    "    )\n",
    "    fig.update_yaxes(title=\"Tokens\", automargin=True)\n",
    "    fig.update_xaxes(title=\"\", showticklabels=False)\n",
    "\n",
    "    # Show the figure\n",
    "    fig.show()\n"
   ]
  },
  {
   "cell_type": "code",
   "execution_count": null,
   "metadata": {},
   "outputs": [],
   "source": [
    "# Nota 0  >>>>> QUEM SABE USAR plotly.subplots SEJA UMA BOAAA <<<<<< BACKUP\n",
    "import plotly.graph_objects as go\n",
    "import pandas as pd\n",
    "\n",
    "\n",
    "# Pivot the data for heatmap\n",
    "heatmap_data = df_words_0.pivot(index='token', columns='nota', values='token_frequency').fillna(0)\n",
    "\n",
    "# Create the heatmap\n",
    "fig = go.Figure(data=go.Heatmap(\n",
    "    z=heatmap_data.values,  # Frequency matrix\n",
    "    x=heatmap_data.columns,  # Grades (x-axis)\n",
    "    y=heatmap_data.index,    # Tokens (y-axis)\n",
    "    colorscale='Reds',       # Heatmap color scale\n",
    "    colorbar=dict(title=\"Frequência\"),  # Colorbar title\n",
    "    hoverongaps=False,       # Ensure no gaps show on hover\n",
    "    hovertemplate=(\n",
    "        \"Nota: %{x}<br>\" +\n",
    "        \"Token: %{y}<br>\" +\n",
    "        \"Frequência: %{z}<extra></extra>\"\n",
    "    )\n",
    "))\n",
    "\n",
    "# Update layout for better visualization\n",
    "fig.update_layout(\n",
    "   # title=\"20 Tokens Mais Frequentes\", >> Por título no streamlit\n",
    "    height=500,  # Adjust height to make the heatmaps narrow\n",
    "    width=300,  # Adjust width for each heatmap ....  * len(grades)\n",
    "    template=\"plotly_white\",\n",
    "    plot_bgcolor=\"rgba(0, 0, 0, 0)\",  # Transparent plot background\n",
    "    paper_bgcolor=\"rgba(0, 0, 0, 0)\",  # Transparent outer background\n",
    "    font=dict(color=\"white\")  # White font for all text\n",
    ")\n",
    "\n",
    "# Show the figure\n",
    "fig.show()"
   ]
  },
  {
   "cell_type": "code",
   "execution_count": 52,
   "metadata": {},
   "outputs": [
    {
     "data": {
      "application/vnd.plotly.v1+json": {
       "config": {
        "plotlyServerURL": "https://plot.ly"
       },
       "data": [
        {
         "colorbar": {
          "title": {
           "text": "Frequência"
          }
         },
         "colorscale": [
          [
           0,
           "rgb(255,245,240)"
          ],
          [
           0.125,
           "rgb(254,224,210)"
          ],
          [
           0.25,
           "rgb(252,187,161)"
          ],
          [
           0.375,
           "rgb(252,146,114)"
          ],
          [
           0.5,
           "rgb(251,106,74)"
          ],
          [
           0.625,
           "rgb(239,59,44)"
          ],
          [
           0.75,
           "rgb(203,24,29)"
          ],
          [
           0.875,
           "rgb(165,15,21)"
          ],
          [
           1,
           "rgb(103,0,13)"
          ]
         ],
         "hovertemplate": "Nota: %{x}<br>Token: %{y}<br>Frequência: %{z}<extra></extra>",
         "type": "heatmap",
         "x": [
          0
         ],
         "xaxis": "x",
         "y": [
          "azulejos",
          "cidade",
          "prefeitura",
          "valiosos",
          "casarões",
          "situação",
          "municipal",
          "capital",
          "pessoas",
          "xix",
          "europa",
          "porque",
          "então",
          "século",
          "belém",
          "fazer",
          "problema",
          "ano",
          "parte",
          "ter"
         ],
         "yaxis": "y",
         "z": [
          [
           49,
           21,
           18,
           13,
           13,
           12,
           11,
           10,
           10,
           10,
           9,
           9,
           8,
           8,
           8,
           8,
           8,
           8,
           8,
           8
          ]
         ]
        }
       ],
       "layout": {
        "annotations": [
         {
          "font": {
           "size": 16
          },
          "showarrow": false,
          "text": "Nota 0",
          "x": 0.5,
          "xanchor": "center",
          "xref": "paper",
          "y": 1,
          "yanchor": "bottom",
          "yref": "paper"
         }
        ],
        "font": {
         "color": "black"
        },
        "height": 500,
        "paper_bgcolor": "rgba(0, 0, 0, 0)",
        "plot_bgcolor": "rgba(0, 0, 0, 0)",
        "template": {
         "data": {
          "bar": [
           {
            "error_x": {
             "color": "#2a3f5f"
            },
            "error_y": {
             "color": "#2a3f5f"
            },
            "marker": {
             "line": {
              "color": "white",
              "width": 0.5
             },
             "pattern": {
              "fillmode": "overlay",
              "size": 10,
              "solidity": 0.2
             }
            },
            "type": "bar"
           }
          ],
          "barpolar": [
           {
            "marker": {
             "line": {
              "color": "white",
              "width": 0.5
             },
             "pattern": {
              "fillmode": "overlay",
              "size": 10,
              "solidity": 0.2
             }
            },
            "type": "barpolar"
           }
          ],
          "carpet": [
           {
            "aaxis": {
             "endlinecolor": "#2a3f5f",
             "gridcolor": "#C8D4E3",
             "linecolor": "#C8D4E3",
             "minorgridcolor": "#C8D4E3",
             "startlinecolor": "#2a3f5f"
            },
            "baxis": {
             "endlinecolor": "#2a3f5f",
             "gridcolor": "#C8D4E3",
             "linecolor": "#C8D4E3",
             "minorgridcolor": "#C8D4E3",
             "startlinecolor": "#2a3f5f"
            },
            "type": "carpet"
           }
          ],
          "choropleth": [
           {
            "colorbar": {
             "outlinewidth": 0,
             "ticks": ""
            },
            "type": "choropleth"
           }
          ],
          "contour": [
           {
            "colorbar": {
             "outlinewidth": 0,
             "ticks": ""
            },
            "colorscale": [
             [
              0,
              "#0d0887"
             ],
             [
              0.1111111111111111,
              "#46039f"
             ],
             [
              0.2222222222222222,
              "#7201a8"
             ],
             [
              0.3333333333333333,
              "#9c179e"
             ],
             [
              0.4444444444444444,
              "#bd3786"
             ],
             [
              0.5555555555555556,
              "#d8576b"
             ],
             [
              0.6666666666666666,
              "#ed7953"
             ],
             [
              0.7777777777777778,
              "#fb9f3a"
             ],
             [
              0.8888888888888888,
              "#fdca26"
             ],
             [
              1,
              "#f0f921"
             ]
            ],
            "type": "contour"
           }
          ],
          "contourcarpet": [
           {
            "colorbar": {
             "outlinewidth": 0,
             "ticks": ""
            },
            "type": "contourcarpet"
           }
          ],
          "heatmap": [
           {
            "colorbar": {
             "outlinewidth": 0,
             "ticks": ""
            },
            "colorscale": [
             [
              0,
              "#0d0887"
             ],
             [
              0.1111111111111111,
              "#46039f"
             ],
             [
              0.2222222222222222,
              "#7201a8"
             ],
             [
              0.3333333333333333,
              "#9c179e"
             ],
             [
              0.4444444444444444,
              "#bd3786"
             ],
             [
              0.5555555555555556,
              "#d8576b"
             ],
             [
              0.6666666666666666,
              "#ed7953"
             ],
             [
              0.7777777777777778,
              "#fb9f3a"
             ],
             [
              0.8888888888888888,
              "#fdca26"
             ],
             [
              1,
              "#f0f921"
             ]
            ],
            "type": "heatmap"
           }
          ],
          "heatmapgl": [
           {
            "colorbar": {
             "outlinewidth": 0,
             "ticks": ""
            },
            "colorscale": [
             [
              0,
              "#0d0887"
             ],
             [
              0.1111111111111111,
              "#46039f"
             ],
             [
              0.2222222222222222,
              "#7201a8"
             ],
             [
              0.3333333333333333,
              "#9c179e"
             ],
             [
              0.4444444444444444,
              "#bd3786"
             ],
             [
              0.5555555555555556,
              "#d8576b"
             ],
             [
              0.6666666666666666,
              "#ed7953"
             ],
             [
              0.7777777777777778,
              "#fb9f3a"
             ],
             [
              0.8888888888888888,
              "#fdca26"
             ],
             [
              1,
              "#f0f921"
             ]
            ],
            "type": "heatmapgl"
           }
          ],
          "histogram": [
           {
            "marker": {
             "pattern": {
              "fillmode": "overlay",
              "size": 10,
              "solidity": 0.2
             }
            },
            "type": "histogram"
           }
          ],
          "histogram2d": [
           {
            "colorbar": {
             "outlinewidth": 0,
             "ticks": ""
            },
            "colorscale": [
             [
              0,
              "#0d0887"
             ],
             [
              0.1111111111111111,
              "#46039f"
             ],
             [
              0.2222222222222222,
              "#7201a8"
             ],
             [
              0.3333333333333333,
              "#9c179e"
             ],
             [
              0.4444444444444444,
              "#bd3786"
             ],
             [
              0.5555555555555556,
              "#d8576b"
             ],
             [
              0.6666666666666666,
              "#ed7953"
             ],
             [
              0.7777777777777778,
              "#fb9f3a"
             ],
             [
              0.8888888888888888,
              "#fdca26"
             ],
             [
              1,
              "#f0f921"
             ]
            ],
            "type": "histogram2d"
           }
          ],
          "histogram2dcontour": [
           {
            "colorbar": {
             "outlinewidth": 0,
             "ticks": ""
            },
            "colorscale": [
             [
              0,
              "#0d0887"
             ],
             [
              0.1111111111111111,
              "#46039f"
             ],
             [
              0.2222222222222222,
              "#7201a8"
             ],
             [
              0.3333333333333333,
              "#9c179e"
             ],
             [
              0.4444444444444444,
              "#bd3786"
             ],
             [
              0.5555555555555556,
              "#d8576b"
             ],
             [
              0.6666666666666666,
              "#ed7953"
             ],
             [
              0.7777777777777778,
              "#fb9f3a"
             ],
             [
              0.8888888888888888,
              "#fdca26"
             ],
             [
              1,
              "#f0f921"
             ]
            ],
            "type": "histogram2dcontour"
           }
          ],
          "mesh3d": [
           {
            "colorbar": {
             "outlinewidth": 0,
             "ticks": ""
            },
            "type": "mesh3d"
           }
          ],
          "parcoords": [
           {
            "line": {
             "colorbar": {
              "outlinewidth": 0,
              "ticks": ""
             }
            },
            "type": "parcoords"
           }
          ],
          "pie": [
           {
            "automargin": true,
            "type": "pie"
           }
          ],
          "scatter": [
           {
            "fillpattern": {
             "fillmode": "overlay",
             "size": 10,
             "solidity": 0.2
            },
            "type": "scatter"
           }
          ],
          "scatter3d": [
           {
            "line": {
             "colorbar": {
              "outlinewidth": 0,
              "ticks": ""
             }
            },
            "marker": {
             "colorbar": {
              "outlinewidth": 0,
              "ticks": ""
             }
            },
            "type": "scatter3d"
           }
          ],
          "scattercarpet": [
           {
            "marker": {
             "colorbar": {
              "outlinewidth": 0,
              "ticks": ""
             }
            },
            "type": "scattercarpet"
           }
          ],
          "scattergeo": [
           {
            "marker": {
             "colorbar": {
              "outlinewidth": 0,
              "ticks": ""
             }
            },
            "type": "scattergeo"
           }
          ],
          "scattergl": [
           {
            "marker": {
             "colorbar": {
              "outlinewidth": 0,
              "ticks": ""
             }
            },
            "type": "scattergl"
           }
          ],
          "scattermapbox": [
           {
            "marker": {
             "colorbar": {
              "outlinewidth": 0,
              "ticks": ""
             }
            },
            "type": "scattermapbox"
           }
          ],
          "scatterpolar": [
           {
            "marker": {
             "colorbar": {
              "outlinewidth": 0,
              "ticks": ""
             }
            },
            "type": "scatterpolar"
           }
          ],
          "scatterpolargl": [
           {
            "marker": {
             "colorbar": {
              "outlinewidth": 0,
              "ticks": ""
             }
            },
            "type": "scatterpolargl"
           }
          ],
          "scatterternary": [
           {
            "marker": {
             "colorbar": {
              "outlinewidth": 0,
              "ticks": ""
             }
            },
            "type": "scatterternary"
           }
          ],
          "surface": [
           {
            "colorbar": {
             "outlinewidth": 0,
             "ticks": ""
            },
            "colorscale": [
             [
              0,
              "#0d0887"
             ],
             [
              0.1111111111111111,
              "#46039f"
             ],
             [
              0.2222222222222222,
              "#7201a8"
             ],
             [
              0.3333333333333333,
              "#9c179e"
             ],
             [
              0.4444444444444444,
              "#bd3786"
             ],
             [
              0.5555555555555556,
              "#d8576b"
             ],
             [
              0.6666666666666666,
              "#ed7953"
             ],
             [
              0.7777777777777778,
              "#fb9f3a"
             ],
             [
              0.8888888888888888,
              "#fdca26"
             ],
             [
              1,
              "#f0f921"
             ]
            ],
            "type": "surface"
           }
          ],
          "table": [
           {
            "cells": {
             "fill": {
              "color": "#EBF0F8"
             },
             "line": {
              "color": "white"
             }
            },
            "header": {
             "fill": {
              "color": "#C8D4E3"
             },
             "line": {
              "color": "white"
             }
            },
            "type": "table"
           }
          ]
         },
         "layout": {
          "annotationdefaults": {
           "arrowcolor": "#2a3f5f",
           "arrowhead": 0,
           "arrowwidth": 1
          },
          "autotypenumbers": "strict",
          "coloraxis": {
           "colorbar": {
            "outlinewidth": 0,
            "ticks": ""
           }
          },
          "colorscale": {
           "diverging": [
            [
             0,
             "#8e0152"
            ],
            [
             0.1,
             "#c51b7d"
            ],
            [
             0.2,
             "#de77ae"
            ],
            [
             0.3,
             "#f1b6da"
            ],
            [
             0.4,
             "#fde0ef"
            ],
            [
             0.5,
             "#f7f7f7"
            ],
            [
             0.6,
             "#e6f5d0"
            ],
            [
             0.7,
             "#b8e186"
            ],
            [
             0.8,
             "#7fbc41"
            ],
            [
             0.9,
             "#4d9221"
            ],
            [
             1,
             "#276419"
            ]
           ],
           "sequential": [
            [
             0,
             "#0d0887"
            ],
            [
             0.1111111111111111,
             "#46039f"
            ],
            [
             0.2222222222222222,
             "#7201a8"
            ],
            [
             0.3333333333333333,
             "#9c179e"
            ],
            [
             0.4444444444444444,
             "#bd3786"
            ],
            [
             0.5555555555555556,
             "#d8576b"
            ],
            [
             0.6666666666666666,
             "#ed7953"
            ],
            [
             0.7777777777777778,
             "#fb9f3a"
            ],
            [
             0.8888888888888888,
             "#fdca26"
            ],
            [
             1,
             "#f0f921"
            ]
           ],
           "sequentialminus": [
            [
             0,
             "#0d0887"
            ],
            [
             0.1111111111111111,
             "#46039f"
            ],
            [
             0.2222222222222222,
             "#7201a8"
            ],
            [
             0.3333333333333333,
             "#9c179e"
            ],
            [
             0.4444444444444444,
             "#bd3786"
            ],
            [
             0.5555555555555556,
             "#d8576b"
            ],
            [
             0.6666666666666666,
             "#ed7953"
            ],
            [
             0.7777777777777778,
             "#fb9f3a"
            ],
            [
             0.8888888888888888,
             "#fdca26"
            ],
            [
             1,
             "#f0f921"
            ]
           ]
          },
          "colorway": [
           "#636efa",
           "#EF553B",
           "#00cc96",
           "#ab63fa",
           "#FFA15A",
           "#19d3f3",
           "#FF6692",
           "#B6E880",
           "#FF97FF",
           "#FECB52"
          ],
          "font": {
           "color": "#2a3f5f"
          },
          "geo": {
           "bgcolor": "white",
           "lakecolor": "white",
           "landcolor": "white",
           "showlakes": true,
           "showland": true,
           "subunitcolor": "#C8D4E3"
          },
          "hoverlabel": {
           "align": "left"
          },
          "hovermode": "closest",
          "mapbox": {
           "style": "light"
          },
          "paper_bgcolor": "white",
          "plot_bgcolor": "white",
          "polar": {
           "angularaxis": {
            "gridcolor": "#EBF0F8",
            "linecolor": "#EBF0F8",
            "ticks": ""
           },
           "bgcolor": "white",
           "radialaxis": {
            "gridcolor": "#EBF0F8",
            "linecolor": "#EBF0F8",
            "ticks": ""
           }
          },
          "scene": {
           "xaxis": {
            "backgroundcolor": "white",
            "gridcolor": "#DFE8F3",
            "gridwidth": 2,
            "linecolor": "#EBF0F8",
            "showbackground": true,
            "ticks": "",
            "zerolinecolor": "#EBF0F8"
           },
           "yaxis": {
            "backgroundcolor": "white",
            "gridcolor": "#DFE8F3",
            "gridwidth": 2,
            "linecolor": "#EBF0F8",
            "showbackground": true,
            "ticks": "",
            "zerolinecolor": "#EBF0F8"
           },
           "zaxis": {
            "backgroundcolor": "white",
            "gridcolor": "#DFE8F3",
            "gridwidth": 2,
            "linecolor": "#EBF0F8",
            "showbackground": true,
            "ticks": "",
            "zerolinecolor": "#EBF0F8"
           }
          },
          "shapedefaults": {
           "line": {
            "color": "#2a3f5f"
           }
          },
          "ternary": {
           "aaxis": {
            "gridcolor": "#DFE8F3",
            "linecolor": "#A2B1C6",
            "ticks": ""
           },
           "baxis": {
            "gridcolor": "#DFE8F3",
            "linecolor": "#A2B1C6",
            "ticks": ""
           },
           "bgcolor": "white",
           "caxis": {
            "gridcolor": "#DFE8F3",
            "linecolor": "#A2B1C6",
            "ticks": ""
           }
          },
          "title": {
           "x": 0.05
          },
          "xaxis": {
           "automargin": true,
           "gridcolor": "#EBF0F8",
           "linecolor": "#EBF0F8",
           "ticks": "",
           "title": {
            "standoff": 15
           },
           "zerolinecolor": "#EBF0F8",
           "zerolinewidth": 2
          },
          "yaxis": {
           "automargin": true,
           "gridcolor": "#EBF0F8",
           "linecolor": "#EBF0F8",
           "ticks": "",
           "title": {
            "standoff": 15
           },
           "zerolinecolor": "#EBF0F8",
           "zerolinewidth": 2
          }
         }
        },
        "title": {
         "text": "Tokens Mais Frequentes por Nota"
        },
        "width": 300,
        "xaxis": {
         "anchor": "y",
         "domain": [
          0,
          1
         ],
         "showticklabels": false,
         "title": {
          "text": ""
         }
        },
        "yaxis": {
         "anchor": "x",
         "automargin": true,
         "domain": [
          0,
          1
         ],
         "title": {
          "text": "Tokens"
         }
        }
       }
      }
     },
     "metadata": {},
     "output_type": "display_data"
    }
   ],
   "source": [
    "import plotly.graph_objects as go # QUEM SABE ISSO SEJA UTIL SEI LAAAAA\n",
    "from plotly.subplots import make_subplots\n",
    "import pandas as pd\n",
    "\n",
    "# Example structure for df_words (replace with your actual data)\n",
    "# df_words = pd.DataFrame({\n",
    "#     'nota': [0, 0, 0, 1, 1, 1, 2, 2, 2],\n",
    "#     'token': ['word1', 'word2', 'word3', 'word4', 'word5', 'word6', 'word7', 'word8', 'word9'],\n",
    "#     'token_frequency': [50, 40, 30, 45, 35, 25, 60, 50, 40]\n",
    "# })\n",
    "\n",
    "# Sort tokens within each grade based on frequency\n",
    "df_words_sorted = (\n",
    "    df_words_0\n",
    "    .sort_values(by=['nota', 'token_frequency'], ascending=[True, False])\n",
    ")\n",
    "\n",
    "# List of unique grades\n",
    "grades = df_words_sorted['nota'].unique()\n",
    "\n",
    "# Create subplots with one row and as many columns as there are grades\n",
    "fig = make_subplots(\n",
    "    rows=1,\n",
    "    cols=len(grades),\n",
    "    subplot_titles=[f\"Nota {grade}\" for grade in grades],\n",
    "    shared_yaxes=True  # Share y-axis for consistent token display\n",
    ")\n",
    "\n",
    "# Loop through each grade to create individual heatmaps\n",
    "for i, grade in enumerate(grades, start=1):\n",
    "    # Filter data for the specific grade\n",
    "    grade_data = df_words_sorted[df_words_sorted['nota'] == grade]\n",
    "    \n",
    "    # Tokens and frequencies\n",
    "    tokens = grade_data['token']\n",
    "    frequencies = grade_data['token_frequency']\n",
    "    \n",
    "    # Add a heatmap for the grade\n",
    "    fig.add_trace(\n",
    "        go.Heatmap(\n",
    "            z=[frequencies],  # Heatmap values\n",
    "            x=[grade],        # Grade label as a single column\n",
    "            y=tokens,         # Tokens for the y-axis\n",
    "            colorscale='Reds',\n",
    "            colorbar=dict(title=\"Frequência\") if i == len(grades) else None,  # Single colorbar for the last subplot\n",
    "            hovertemplate=(\n",
    "                \"Nota: %{x}<br>\" +\n",
    "                \"Token: %{y}<br>\" +\n",
    "                \"Frequência: %{z}<extra></extra>\"\n",
    "            )\n",
    "        ),\n",
    "        row=1, col=i\n",
    "    )\n",
    "\n",
    "# Update layout for better visualization\n",
    "fig.update_layout(\n",
    "    title=\"Tokens Mais Frequentes por Nota\",\n",
    "    height=500,  # Adjust height to make the heatmaps narrow\n",
    "    width=300 * len(grades),  # Adjust width for each heatmap\n",
    "    template=\"plotly_white\",\n",
    "    font=dict(color=\"black\"),\n",
    "    plot_bgcolor=\"rgba(0, 0, 0, 0)\",  # Transparent plot background\n",
    "    paper_bgcolor=\"rgba(0, 0, 0, 0)\",  # Transparent outer background\n",
    ")\n",
    "\n",
    "# Adjust individual subplot properties\n",
    "fig.update_yaxes(title=\"Tokens\", automargin=True)\n",
    "fig.update_xaxes(title=\"\", showticklabels=False)\n",
    "\n",
    "# Show the figure\n",
    "fig.show()\n"
   ]
  },
  {
   "cell_type": "code",
   "execution_count": 36,
   "metadata": {},
   "outputs": [
    {
     "data": {
      "application/vnd.plotly.v1+json": {
       "config": {
        "plotlyServerURL": "https://plot.ly"
       },
       "data": [
        {
         "colorbar": {
          "title": {
           "text": "Frequência"
          }
         },
         "colorscale": [
          [
           0,
           "rgb(255,245,240)"
          ],
          [
           0.125,
           "rgb(254,224,210)"
          ],
          [
           0.25,
           "rgb(252,187,161)"
          ],
          [
           0.375,
           "rgb(252,146,114)"
          ],
          [
           0.5,
           "rgb(251,106,74)"
          ],
          [
           0.625,
           "rgb(239,59,44)"
          ],
          [
           0.75,
           "rgb(203,24,29)"
          ],
          [
           0.875,
           "rgb(165,15,21)"
          ],
          [
           1,
           "rgb(103,0,13)"
          ]
         ],
         "hoverongaps": false,
         "hovertemplate": "Nota: %{x}<br>Token: %{y}<br>Frequência: %{z}<extra></extra>",
         "type": "heatmap",
         "x": [
          0,
          1,
          2,
          3,
          4,
          5
         ],
         "y": [
          "alvo",
          "ano",
          "azulejos",
          "belém",
          "bibiana",
          "cambará",
          "capital",
          "casarões",
          "cidade",
          "cultural",
          "então",
          "europa",
          "fazer",
          "história",
          "histórico",
          "históricos",
          "maior",
          "medidas",
          "mercado",
          "municipal",
          "palacete",
          "parte",
          "patrimônio",
          "perderam",
          "pessoas",
          "porque",
          "prefeitura",
          "problema",
          "proteção",
          "roubos",
          "situação",
          "século",
          "ter",
          "valiosos",
          "valor",
          "vandalismo",
          "variedade",
          "xix"
         ],
         "z": [
          [
           0,
           0,
           289,
           0,
           0,
           0
          ],
          [
           8,
           0,
           0,
           0,
           0,
           0
          ],
          [
           49,
           739,
           2173,
           2531,
           1810,
           830
          ],
          [
           8,
           249,
           937,
           1297,
           1009,
           562
          ],
          [
           0,
           132,
           476,
           581,
           382,
           205
          ],
          [
           0,
           115,
           434,
           536,
           365,
           194
          ],
          [
           10,
           0,
           0,
           0,
           0,
           0
          ],
          [
           13,
           271,
           993,
           1298,
           946,
           480
          ],
          [
           21,
           369,
           1383,
           1838,
           1310,
           640
          ],
          [
           0,
           0,
           0,
           0,
           0,
           145
          ],
          [
           8,
           0,
           0,
           0,
           0,
           0
          ],
          [
           9,
           0,
           0,
           0,
           0,
           0
          ],
          [
           8,
           0,
           0,
           0,
           0,
           0
          ],
          [
           0,
           0,
           0,
           0,
           0,
           136
          ],
          [
           0,
           0,
           0,
           0,
           0,
           175
          ],
          [
           0,
           0,
           291,
           409,
           313,
           157
          ],
          [
           0,
           91,
           331,
           400,
           285,
           0
          ],
          [
           0,
           97,
           365,
           520,
           400,
           189
          ],
          [
           0,
           0,
           0,
           0,
           0,
           141
          ],
          [
           11,
           163,
           623,
           742,
           485,
           225
          ],
          [
           0,
           111,
           315,
           379,
           0,
           0
          ],
          [
           8,
           0,
           0,
           0,
           250,
           153
          ],
          [
           0,
           107,
           323,
           537,
           440,
           313
          ],
          [
           0,
           96,
           0,
           0,
           0,
           0
          ],
          [
           10,
           0,
           0,
           0,
           0,
           0
          ],
          [
           9,
           0,
           0,
           0,
           0,
           0
          ],
          [
           18,
           204,
           729,
           912,
           664,
           376
          ],
          [
           8,
           0,
           0,
           358,
           261,
           0
          ],
          [
           0,
           110,
           336,
           376,
           272,
           140
          ],
          [
           0,
           119,
           550,
           672,
           492,
           220
          ],
          [
           12,
           215,
           619,
           782,
           532,
           225
          ],
          [
           8,
           0,
           0,
           0,
           0,
           0
          ],
          [
           8,
           96,
           0,
           0,
           0,
           0
          ],
          [
           13,
           110,
           311,
           0,
           0,
           0
          ],
          [
           0,
           0,
           0,
           361,
           0,
           0
          ],
          [
           0,
           101,
           442,
           571,
           386,
           191
          ],
          [
           0,
           0,
           0,
           0,
           251,
           0
          ],
          [
           10,
           97,
           321,
           396,
           278,
           0
          ]
         ]
        }
       ],
       "layout": {
        "font": {
         "color": "white"
        },
        "paper_bgcolor": "rgba(0, 0, 0, 0)",
        "plot_bgcolor": "rgba(0, 0, 0, 0)",
        "template": {
         "data": {
          "bar": [
           {
            "error_x": {
             "color": "#2a3f5f"
            },
            "error_y": {
             "color": "#2a3f5f"
            },
            "marker": {
             "line": {
              "color": "white",
              "width": 0.5
             },
             "pattern": {
              "fillmode": "overlay",
              "size": 10,
              "solidity": 0.2
             }
            },
            "type": "bar"
           }
          ],
          "barpolar": [
           {
            "marker": {
             "line": {
              "color": "white",
              "width": 0.5
             },
             "pattern": {
              "fillmode": "overlay",
              "size": 10,
              "solidity": 0.2
             }
            },
            "type": "barpolar"
           }
          ],
          "carpet": [
           {
            "aaxis": {
             "endlinecolor": "#2a3f5f",
             "gridcolor": "#C8D4E3",
             "linecolor": "#C8D4E3",
             "minorgridcolor": "#C8D4E3",
             "startlinecolor": "#2a3f5f"
            },
            "baxis": {
             "endlinecolor": "#2a3f5f",
             "gridcolor": "#C8D4E3",
             "linecolor": "#C8D4E3",
             "minorgridcolor": "#C8D4E3",
             "startlinecolor": "#2a3f5f"
            },
            "type": "carpet"
           }
          ],
          "choropleth": [
           {
            "colorbar": {
             "outlinewidth": 0,
             "ticks": ""
            },
            "type": "choropleth"
           }
          ],
          "contour": [
           {
            "colorbar": {
             "outlinewidth": 0,
             "ticks": ""
            },
            "colorscale": [
             [
              0,
              "#0d0887"
             ],
             [
              0.1111111111111111,
              "#46039f"
             ],
             [
              0.2222222222222222,
              "#7201a8"
             ],
             [
              0.3333333333333333,
              "#9c179e"
             ],
             [
              0.4444444444444444,
              "#bd3786"
             ],
             [
              0.5555555555555556,
              "#d8576b"
             ],
             [
              0.6666666666666666,
              "#ed7953"
             ],
             [
              0.7777777777777778,
              "#fb9f3a"
             ],
             [
              0.8888888888888888,
              "#fdca26"
             ],
             [
              1,
              "#f0f921"
             ]
            ],
            "type": "contour"
           }
          ],
          "contourcarpet": [
           {
            "colorbar": {
             "outlinewidth": 0,
             "ticks": ""
            },
            "type": "contourcarpet"
           }
          ],
          "heatmap": [
           {
            "colorbar": {
             "outlinewidth": 0,
             "ticks": ""
            },
            "colorscale": [
             [
              0,
              "#0d0887"
             ],
             [
              0.1111111111111111,
              "#46039f"
             ],
             [
              0.2222222222222222,
              "#7201a8"
             ],
             [
              0.3333333333333333,
              "#9c179e"
             ],
             [
              0.4444444444444444,
              "#bd3786"
             ],
             [
              0.5555555555555556,
              "#d8576b"
             ],
             [
              0.6666666666666666,
              "#ed7953"
             ],
             [
              0.7777777777777778,
              "#fb9f3a"
             ],
             [
              0.8888888888888888,
              "#fdca26"
             ],
             [
              1,
              "#f0f921"
             ]
            ],
            "type": "heatmap"
           }
          ],
          "heatmapgl": [
           {
            "colorbar": {
             "outlinewidth": 0,
             "ticks": ""
            },
            "colorscale": [
             [
              0,
              "#0d0887"
             ],
             [
              0.1111111111111111,
              "#46039f"
             ],
             [
              0.2222222222222222,
              "#7201a8"
             ],
             [
              0.3333333333333333,
              "#9c179e"
             ],
             [
              0.4444444444444444,
              "#bd3786"
             ],
             [
              0.5555555555555556,
              "#d8576b"
             ],
             [
              0.6666666666666666,
              "#ed7953"
             ],
             [
              0.7777777777777778,
              "#fb9f3a"
             ],
             [
              0.8888888888888888,
              "#fdca26"
             ],
             [
              1,
              "#f0f921"
             ]
            ],
            "type": "heatmapgl"
           }
          ],
          "histogram": [
           {
            "marker": {
             "pattern": {
              "fillmode": "overlay",
              "size": 10,
              "solidity": 0.2
             }
            },
            "type": "histogram"
           }
          ],
          "histogram2d": [
           {
            "colorbar": {
             "outlinewidth": 0,
             "ticks": ""
            },
            "colorscale": [
             [
              0,
              "#0d0887"
             ],
             [
              0.1111111111111111,
              "#46039f"
             ],
             [
              0.2222222222222222,
              "#7201a8"
             ],
             [
              0.3333333333333333,
              "#9c179e"
             ],
             [
              0.4444444444444444,
              "#bd3786"
             ],
             [
              0.5555555555555556,
              "#d8576b"
             ],
             [
              0.6666666666666666,
              "#ed7953"
             ],
             [
              0.7777777777777778,
              "#fb9f3a"
             ],
             [
              0.8888888888888888,
              "#fdca26"
             ],
             [
              1,
              "#f0f921"
             ]
            ],
            "type": "histogram2d"
           }
          ],
          "histogram2dcontour": [
           {
            "colorbar": {
             "outlinewidth": 0,
             "ticks": ""
            },
            "colorscale": [
             [
              0,
              "#0d0887"
             ],
             [
              0.1111111111111111,
              "#46039f"
             ],
             [
              0.2222222222222222,
              "#7201a8"
             ],
             [
              0.3333333333333333,
              "#9c179e"
             ],
             [
              0.4444444444444444,
              "#bd3786"
             ],
             [
              0.5555555555555556,
              "#d8576b"
             ],
             [
              0.6666666666666666,
              "#ed7953"
             ],
             [
              0.7777777777777778,
              "#fb9f3a"
             ],
             [
              0.8888888888888888,
              "#fdca26"
             ],
             [
              1,
              "#f0f921"
             ]
            ],
            "type": "histogram2dcontour"
           }
          ],
          "mesh3d": [
           {
            "colorbar": {
             "outlinewidth": 0,
             "ticks": ""
            },
            "type": "mesh3d"
           }
          ],
          "parcoords": [
           {
            "line": {
             "colorbar": {
              "outlinewidth": 0,
              "ticks": ""
             }
            },
            "type": "parcoords"
           }
          ],
          "pie": [
           {
            "automargin": true,
            "type": "pie"
           }
          ],
          "scatter": [
           {
            "fillpattern": {
             "fillmode": "overlay",
             "size": 10,
             "solidity": 0.2
            },
            "type": "scatter"
           }
          ],
          "scatter3d": [
           {
            "line": {
             "colorbar": {
              "outlinewidth": 0,
              "ticks": ""
             }
            },
            "marker": {
             "colorbar": {
              "outlinewidth": 0,
              "ticks": ""
             }
            },
            "type": "scatter3d"
           }
          ],
          "scattercarpet": [
           {
            "marker": {
             "colorbar": {
              "outlinewidth": 0,
              "ticks": ""
             }
            },
            "type": "scattercarpet"
           }
          ],
          "scattergeo": [
           {
            "marker": {
             "colorbar": {
              "outlinewidth": 0,
              "ticks": ""
             }
            },
            "type": "scattergeo"
           }
          ],
          "scattergl": [
           {
            "marker": {
             "colorbar": {
              "outlinewidth": 0,
              "ticks": ""
             }
            },
            "type": "scattergl"
           }
          ],
          "scattermapbox": [
           {
            "marker": {
             "colorbar": {
              "outlinewidth": 0,
              "ticks": ""
             }
            },
            "type": "scattermapbox"
           }
          ],
          "scatterpolar": [
           {
            "marker": {
             "colorbar": {
              "outlinewidth": 0,
              "ticks": ""
             }
            },
            "type": "scatterpolar"
           }
          ],
          "scatterpolargl": [
           {
            "marker": {
             "colorbar": {
              "outlinewidth": 0,
              "ticks": ""
             }
            },
            "type": "scatterpolargl"
           }
          ],
          "scatterternary": [
           {
            "marker": {
             "colorbar": {
              "outlinewidth": 0,
              "ticks": ""
             }
            },
            "type": "scatterternary"
           }
          ],
          "surface": [
           {
            "colorbar": {
             "outlinewidth": 0,
             "ticks": ""
            },
            "colorscale": [
             [
              0,
              "#0d0887"
             ],
             [
              0.1111111111111111,
              "#46039f"
             ],
             [
              0.2222222222222222,
              "#7201a8"
             ],
             [
              0.3333333333333333,
              "#9c179e"
             ],
             [
              0.4444444444444444,
              "#bd3786"
             ],
             [
              0.5555555555555556,
              "#d8576b"
             ],
             [
              0.6666666666666666,
              "#ed7953"
             ],
             [
              0.7777777777777778,
              "#fb9f3a"
             ],
             [
              0.8888888888888888,
              "#fdca26"
             ],
             [
              1,
              "#f0f921"
             ]
            ],
            "type": "surface"
           }
          ],
          "table": [
           {
            "cells": {
             "fill": {
              "color": "#EBF0F8"
             },
             "line": {
              "color": "white"
             }
            },
            "header": {
             "fill": {
              "color": "#C8D4E3"
             },
             "line": {
              "color": "white"
             }
            },
            "type": "table"
           }
          ]
         },
         "layout": {
          "annotationdefaults": {
           "arrowcolor": "#2a3f5f",
           "arrowhead": 0,
           "arrowwidth": 1
          },
          "autotypenumbers": "strict",
          "coloraxis": {
           "colorbar": {
            "outlinewidth": 0,
            "ticks": ""
           }
          },
          "colorscale": {
           "diverging": [
            [
             0,
             "#8e0152"
            ],
            [
             0.1,
             "#c51b7d"
            ],
            [
             0.2,
             "#de77ae"
            ],
            [
             0.3,
             "#f1b6da"
            ],
            [
             0.4,
             "#fde0ef"
            ],
            [
             0.5,
             "#f7f7f7"
            ],
            [
             0.6,
             "#e6f5d0"
            ],
            [
             0.7,
             "#b8e186"
            ],
            [
             0.8,
             "#7fbc41"
            ],
            [
             0.9,
             "#4d9221"
            ],
            [
             1,
             "#276419"
            ]
           ],
           "sequential": [
            [
             0,
             "#0d0887"
            ],
            [
             0.1111111111111111,
             "#46039f"
            ],
            [
             0.2222222222222222,
             "#7201a8"
            ],
            [
             0.3333333333333333,
             "#9c179e"
            ],
            [
             0.4444444444444444,
             "#bd3786"
            ],
            [
             0.5555555555555556,
             "#d8576b"
            ],
            [
             0.6666666666666666,
             "#ed7953"
            ],
            [
             0.7777777777777778,
             "#fb9f3a"
            ],
            [
             0.8888888888888888,
             "#fdca26"
            ],
            [
             1,
             "#f0f921"
            ]
           ],
           "sequentialminus": [
            [
             0,
             "#0d0887"
            ],
            [
             0.1111111111111111,
             "#46039f"
            ],
            [
             0.2222222222222222,
             "#7201a8"
            ],
            [
             0.3333333333333333,
             "#9c179e"
            ],
            [
             0.4444444444444444,
             "#bd3786"
            ],
            [
             0.5555555555555556,
             "#d8576b"
            ],
            [
             0.6666666666666666,
             "#ed7953"
            ],
            [
             0.7777777777777778,
             "#fb9f3a"
            ],
            [
             0.8888888888888888,
             "#fdca26"
            ],
            [
             1,
             "#f0f921"
            ]
           ]
          },
          "colorway": [
           "#636efa",
           "#EF553B",
           "#00cc96",
           "#ab63fa",
           "#FFA15A",
           "#19d3f3",
           "#FF6692",
           "#B6E880",
           "#FF97FF",
           "#FECB52"
          ],
          "font": {
           "color": "#2a3f5f"
          },
          "geo": {
           "bgcolor": "white",
           "lakecolor": "white",
           "landcolor": "white",
           "showlakes": true,
           "showland": true,
           "subunitcolor": "#C8D4E3"
          },
          "hoverlabel": {
           "align": "left"
          },
          "hovermode": "closest",
          "mapbox": {
           "style": "light"
          },
          "paper_bgcolor": "white",
          "plot_bgcolor": "white",
          "polar": {
           "angularaxis": {
            "gridcolor": "#EBF0F8",
            "linecolor": "#EBF0F8",
            "ticks": ""
           },
           "bgcolor": "white",
           "radialaxis": {
            "gridcolor": "#EBF0F8",
            "linecolor": "#EBF0F8",
            "ticks": ""
           }
          },
          "scene": {
           "xaxis": {
            "backgroundcolor": "white",
            "gridcolor": "#DFE8F3",
            "gridwidth": 2,
            "linecolor": "#EBF0F8",
            "showbackground": true,
            "ticks": "",
            "zerolinecolor": "#EBF0F8"
           },
           "yaxis": {
            "backgroundcolor": "white",
            "gridcolor": "#DFE8F3",
            "gridwidth": 2,
            "linecolor": "#EBF0F8",
            "showbackground": true,
            "ticks": "",
            "zerolinecolor": "#EBF0F8"
           },
           "zaxis": {
            "backgroundcolor": "white",
            "gridcolor": "#DFE8F3",
            "gridwidth": 2,
            "linecolor": "#EBF0F8",
            "showbackground": true,
            "ticks": "",
            "zerolinecolor": "#EBF0F8"
           }
          },
          "shapedefaults": {
           "line": {
            "color": "#2a3f5f"
           }
          },
          "ternary": {
           "aaxis": {
            "gridcolor": "#DFE8F3",
            "linecolor": "#A2B1C6",
            "ticks": ""
           },
           "baxis": {
            "gridcolor": "#DFE8F3",
            "linecolor": "#A2B1C6",
            "ticks": ""
           },
           "bgcolor": "white",
           "caxis": {
            "gridcolor": "#DFE8F3",
            "linecolor": "#A2B1C6",
            "ticks": ""
           }
          },
          "title": {
           "x": 0.05
          },
          "xaxis": {
           "automargin": true,
           "gridcolor": "#EBF0F8",
           "linecolor": "#EBF0F8",
           "ticks": "",
           "title": {
            "standoff": 15
           },
           "zerolinecolor": "#EBF0F8",
           "zerolinewidth": 2
          },
          "yaxis": {
           "automargin": true,
           "gridcolor": "#EBF0F8",
           "linecolor": "#EBF0F8",
           "ticks": "",
           "title": {
            "standoff": 15
           },
           "zerolinecolor": "#EBF0F8",
           "zerolinewidth": 2
          }
         }
        },
        "title": {
         "text": "20 Tokens Mais Frequentes por Nota"
        },
        "xaxis": {
         "tickfont": {
          "color": "white"
         },
         "tickvals": [
          0,
          1,
          2,
          3,
          4,
          5
         ],
         "title": {
          "font": {
           "color": "white",
           "size": 14
          },
          "text": "Nota"
         }
        },
        "yaxis": {
         "automargin": true,
         "tickfont": {
          "color": "white"
         },
         "title": {
          "font": {
           "color": "white",
           "size": 14
          },
          "text": "Tokens"
         }
        }
       }
      }
     },
     "metadata": {},
     "output_type": "display_data"
    }
   ],
   "source": [
    "import plotly.graph_objects as go\n",
    "import pandas as pd\n",
    "\n",
    "# Example structure for df_words (replace with your actual data)\n",
    "# df_words = pd.DataFrame({\n",
    "#     'nota': [0, 0, 0, 1, 1, 1, 2, 2, 2],\n",
    "#     'token': ['word1', 'word2', 'word3', 'word4', 'word5', 'word6', 'word7', 'word8', 'word9'],\n",
    "#     'token_frequency': [50, 40, 30, 45, 35, 25, 60, 50, 40]\n",
    "# })\n",
    "\n",
    "# Pivot the data for heatmap\n",
    "heatmap_data = df_words.pivot(index='token', columns='nota', values='token_frequency').fillna(0)\n",
    "\n",
    "# Create the heatmap\n",
    "fig = go.Figure(data=go.Heatmap(\n",
    "    z=heatmap_data.values,  # Frequency matrix\n",
    "    x=heatmap_data.columns,  # Grades (x-axis)\n",
    "    y=heatmap_data.index,    # Tokens (y-axis)\n",
    "    colorscale='Reds',       # Heatmap color scale\n",
    "    colorbar=dict(title=\"Frequência\"),  # Colorbar title\n",
    "    hoverongaps=False,       # Ensure no gaps show on hover\n",
    "    hovertemplate=(\n",
    "        \"Nota: %{x}<br>\" +\n",
    "        \"Token: %{y}<br>\" +\n",
    "        \"Frequência: %{z}<extra></extra>\"\n",
    "    )\n",
    "))\n",
    "\n",
    "# Update layout for better visualization\n",
    "fig.update_layout(\n",
    "    title=\"20 Tokens Mais Frequentes por Nota\",\n",
    "    xaxis_title=\"Nota\",\n",
    "    yaxis_title=\"Tokens\",\n",
    "    xaxis=dict(\n",
    "        tickvals=heatmap_data.columns,  # Ensure separation between grades\n",
    "        title_font=dict(size=14, color=\"white\"),\n",
    "        tickfont=dict(color=\"white\")\n",
    "    ),\n",
    "    yaxis=dict(\n",
    "        title_font=dict(size=14, color=\"white\"),\n",
    "        tickfont=dict(color=\"white\"),\n",
    "        automargin=True\n",
    "    ),\n",
    "    template=\"plotly_white\",\n",
    "    plot_bgcolor=\"rgba(0, 0, 0, 0)\",  # Transparent plot background\n",
    "    paper_bgcolor=\"rgba(0, 0, 0, 0)\",  # Transparent outer background\n",
    "    font=dict(color=\"white\")  # White font for all text\n",
    ")\n",
    "\n",
    "# Show the figure\n",
    "fig.show()\n"
   ]
  },
  {
   "cell_type": "code",
   "execution_count": 38,
   "metadata": {},
   "outputs": [
    {
     "data": {
      "application/vnd.plotly.v1+json": {
       "config": {
        "plotlyServerURL": "https://plot.ly"
       },
       "data": [
        {
         "colorbar": {
          "title": {
           "text": "Frequência"
          }
         },
         "colorscale": [
          [
           0,
           "rgb(255,245,240)"
          ],
          [
           0.125,
           "rgb(254,224,210)"
          ],
          [
           0.25,
           "rgb(252,187,161)"
          ],
          [
           0.375,
           "rgb(252,146,114)"
          ],
          [
           0.5,
           "rgb(251,106,74)"
          ],
          [
           0.625,
           "rgb(239,59,44)"
          ],
          [
           0.75,
           "rgb(203,24,29)"
          ],
          [
           0.875,
           "rgb(165,15,21)"
          ],
          [
           1,
           "rgb(103,0,13)"
          ]
         ],
         "hovertemplate": "Nota: %{x}<br>Token: %{y}<br>Frequência: %{z}<extra></extra>",
         "type": "heatmap",
         "x": [
          0,
          1,
          2,
          3,
          4,
          5
         ],
         "y": [
          "ano",
          "azulejos",
          "belém",
          "capital",
          "casarões",
          "cidade",
          "então",
          "europa",
          "fazer",
          "municipal",
          "parte",
          "pessoas",
          "porque",
          "prefeitura",
          "problema",
          "situação",
          "século",
          "ter",
          "valiosos",
          "xix",
          "azulejos",
          "belém",
          "bibiana",
          "cambará",
          "casarões",
          "cidade",
          "maior",
          "medidas",
          "municipal",
          "palacete",
          "patrimônio",
          "perderam",
          "prefeitura",
          "proteção",
          "roubos",
          "situação",
          "ter",
          "valiosos",
          "vandalismo",
          "xix",
          "alvo",
          "azulejos",
          "belém",
          "bibiana",
          "cambará",
          "casarões",
          "cidade",
          "históricos",
          "maior",
          "medidas",
          "municipal",
          "palacete",
          "patrimônio",
          "prefeitura",
          "proteção",
          "roubos",
          "situação",
          "valiosos",
          "vandalismo",
          "xix",
          "azulejos",
          "belém",
          "bibiana",
          "cambará",
          "casarões",
          "cidade",
          "históricos",
          "maior",
          "medidas",
          "municipal",
          "palacete",
          "patrimônio",
          "prefeitura",
          "problema",
          "proteção",
          "roubos",
          "situação",
          "valor",
          "vandalismo",
          "xix",
          "azulejos",
          "belém",
          "bibiana",
          "cambará",
          "casarões",
          "cidade",
          "históricos",
          "maior",
          "medidas",
          "municipal",
          "parte",
          "patrimônio",
          "prefeitura",
          "problema",
          "proteção",
          "roubos",
          "situação",
          "vandalismo",
          "variedade",
          "xix",
          "azulejos",
          "belém",
          "bibiana",
          "cambará",
          "casarões",
          "cidade",
          "cultural",
          "história",
          "histórico",
          "históricos",
          "medidas",
          "mercado",
          "municipal",
          "parte",
          "patrimônio",
          "prefeitura",
          "proteção",
          "roubos",
          "situação",
          "vandalismo"
         ],
         "z": [
          [
           8,
           0,
           0,
           0,
           0,
           0
          ],
          [
           49,
           0,
           0,
           0,
           0,
           0
          ],
          [
           8,
           0,
           0,
           0,
           0,
           0
          ],
          [
           10,
           0,
           0,
           0,
           0,
           0
          ],
          [
           13,
           0,
           0,
           0,
           0,
           0
          ],
          [
           21,
           0,
           0,
           0,
           0,
           0
          ],
          [
           8,
           0,
           0,
           0,
           0,
           0
          ],
          [
           9,
           0,
           0,
           0,
           0,
           0
          ],
          [
           8,
           0,
           0,
           0,
           0,
           0
          ],
          [
           11,
           0,
           0,
           0,
           0,
           0
          ],
          [
           8,
           0,
           0,
           0,
           0,
           0
          ],
          [
           10,
           0,
           0,
           0,
           0,
           0
          ],
          [
           9,
           0,
           0,
           0,
           0,
           0
          ],
          [
           18,
           0,
           0,
           0,
           0,
           0
          ],
          [
           8,
           0,
           0,
           0,
           0,
           0
          ],
          [
           12,
           0,
           0,
           0,
           0,
           0
          ],
          [
           8,
           0,
           0,
           0,
           0,
           0
          ],
          [
           8,
           0,
           0,
           0,
           0,
           0
          ],
          [
           13,
           0,
           0,
           0,
           0,
           0
          ],
          [
           10,
           0,
           0,
           0,
           0,
           0
          ],
          [
           0,
           739,
           0,
           0,
           0,
           0
          ],
          [
           0,
           249,
           0,
           0,
           0,
           0
          ],
          [
           0,
           132,
           0,
           0,
           0,
           0
          ],
          [
           0,
           115,
           0,
           0,
           0,
           0
          ],
          [
           0,
           271,
           0,
           0,
           0,
           0
          ],
          [
           0,
           369,
           0,
           0,
           0,
           0
          ],
          [
           0,
           91,
           0,
           0,
           0,
           0
          ],
          [
           0,
           97,
           0,
           0,
           0,
           0
          ],
          [
           0,
           163,
           0,
           0,
           0,
           0
          ],
          [
           0,
           111,
           0,
           0,
           0,
           0
          ],
          [
           0,
           107,
           0,
           0,
           0,
           0
          ],
          [
           0,
           96,
           0,
           0,
           0,
           0
          ],
          [
           0,
           204,
           0,
           0,
           0,
           0
          ],
          [
           0,
           110,
           0,
           0,
           0,
           0
          ],
          [
           0,
           119,
           0,
           0,
           0,
           0
          ],
          [
           0,
           215,
           0,
           0,
           0,
           0
          ],
          [
           0,
           96,
           0,
           0,
           0,
           0
          ],
          [
           0,
           110,
           0,
           0,
           0,
           0
          ],
          [
           0,
           101,
           0,
           0,
           0,
           0
          ],
          [
           0,
           97,
           0,
           0,
           0,
           0
          ],
          [
           0,
           0,
           289,
           0,
           0,
           0
          ],
          [
           0,
           0,
           2173,
           0,
           0,
           0
          ],
          [
           0,
           0,
           937,
           0,
           0,
           0
          ],
          [
           0,
           0,
           476,
           0,
           0,
           0
          ],
          [
           0,
           0,
           434,
           0,
           0,
           0
          ],
          [
           0,
           0,
           993,
           0,
           0,
           0
          ],
          [
           0,
           0,
           1383,
           0,
           0,
           0
          ],
          [
           0,
           0,
           291,
           0,
           0,
           0
          ],
          [
           0,
           0,
           331,
           0,
           0,
           0
          ],
          [
           0,
           0,
           365,
           0,
           0,
           0
          ],
          [
           0,
           0,
           623,
           0,
           0,
           0
          ],
          [
           0,
           0,
           315,
           0,
           0,
           0
          ],
          [
           0,
           0,
           323,
           0,
           0,
           0
          ],
          [
           0,
           0,
           729,
           0,
           0,
           0
          ],
          [
           0,
           0,
           336,
           0,
           0,
           0
          ],
          [
           0,
           0,
           550,
           0,
           0,
           0
          ],
          [
           0,
           0,
           619,
           0,
           0,
           0
          ],
          [
           0,
           0,
           311,
           0,
           0,
           0
          ],
          [
           0,
           0,
           442,
           0,
           0,
           0
          ],
          [
           0,
           0,
           321,
           0,
           0,
           0
          ],
          [
           0,
           0,
           0,
           2531,
           0,
           0
          ],
          [
           0,
           0,
           0,
           1297,
           0,
           0
          ],
          [
           0,
           0,
           0,
           581,
           0,
           0
          ],
          [
           0,
           0,
           0,
           536,
           0,
           0
          ],
          [
           0,
           0,
           0,
           1298,
           0,
           0
          ],
          [
           0,
           0,
           0,
           1838,
           0,
           0
          ],
          [
           0,
           0,
           0,
           409,
           0,
           0
          ],
          [
           0,
           0,
           0,
           400,
           0,
           0
          ],
          [
           0,
           0,
           0,
           520,
           0,
           0
          ],
          [
           0,
           0,
           0,
           742,
           0,
           0
          ],
          [
           0,
           0,
           0,
           379,
           0,
           0
          ],
          [
           0,
           0,
           0,
           537,
           0,
           0
          ],
          [
           0,
           0,
           0,
           912,
           0,
           0
          ],
          [
           0,
           0,
           0,
           358,
           0,
           0
          ],
          [
           0,
           0,
           0,
           376,
           0,
           0
          ],
          [
           0,
           0,
           0,
           672,
           0,
           0
          ],
          [
           0,
           0,
           0,
           782,
           0,
           0
          ],
          [
           0,
           0,
           0,
           361,
           0,
           0
          ],
          [
           0,
           0,
           0,
           571,
           0,
           0
          ],
          [
           0,
           0,
           0,
           396,
           0,
           0
          ],
          [
           0,
           0,
           0,
           0,
           1810,
           0
          ],
          [
           0,
           0,
           0,
           0,
           1009,
           0
          ],
          [
           0,
           0,
           0,
           0,
           382,
           0
          ],
          [
           0,
           0,
           0,
           0,
           365,
           0
          ],
          [
           0,
           0,
           0,
           0,
           946,
           0
          ],
          [
           0,
           0,
           0,
           0,
           1310,
           0
          ],
          [
           0,
           0,
           0,
           0,
           313,
           0
          ],
          [
           0,
           0,
           0,
           0,
           285,
           0
          ],
          [
           0,
           0,
           0,
           0,
           400,
           0
          ],
          [
           0,
           0,
           0,
           0,
           485,
           0
          ],
          [
           0,
           0,
           0,
           0,
           250,
           0
          ],
          [
           0,
           0,
           0,
           0,
           440,
           0
          ],
          [
           0,
           0,
           0,
           0,
           664,
           0
          ],
          [
           0,
           0,
           0,
           0,
           261,
           0
          ],
          [
           0,
           0,
           0,
           0,
           272,
           0
          ],
          [
           0,
           0,
           0,
           0,
           492,
           0
          ],
          [
           0,
           0,
           0,
           0,
           532,
           0
          ],
          [
           0,
           0,
           0,
           0,
           386,
           0
          ],
          [
           0,
           0,
           0,
           0,
           251,
           0
          ],
          [
           0,
           0,
           0,
           0,
           278,
           0
          ],
          [
           0,
           0,
           0,
           0,
           0,
           830
          ],
          [
           0,
           0,
           0,
           0,
           0,
           562
          ],
          [
           0,
           0,
           0,
           0,
           0,
           205
          ],
          [
           0,
           0,
           0,
           0,
           0,
           194
          ],
          [
           0,
           0,
           0,
           0,
           0,
           480
          ],
          [
           0,
           0,
           0,
           0,
           0,
           640
          ],
          [
           0,
           0,
           0,
           0,
           0,
           145
          ],
          [
           0,
           0,
           0,
           0,
           0,
           136
          ],
          [
           0,
           0,
           0,
           0,
           0,
           175
          ],
          [
           0,
           0,
           0,
           0,
           0,
           157
          ],
          [
           0,
           0,
           0,
           0,
           0,
           189
          ],
          [
           0,
           0,
           0,
           0,
           0,
           141
          ],
          [
           0,
           0,
           0,
           0,
           0,
           225
          ],
          [
           0,
           0,
           0,
           0,
           0,
           153
          ],
          [
           0,
           0,
           0,
           0,
           0,
           313
          ],
          [
           0,
           0,
           0,
           0,
           0,
           376
          ],
          [
           0,
           0,
           0,
           0,
           0,
           140
          ],
          [
           0,
           0,
           0,
           0,
           0,
           220
          ],
          [
           0,
           0,
           0,
           0,
           0,
           225
          ],
          [
           0,
           0,
           0,
           0,
           0,
           191
          ]
         ]
        }
       ],
       "layout": {
        "font": {
         "color": "white"
        },
        "paper_bgcolor": "rgba(0, 0, 0, 0)",
        "plot_bgcolor": "rgba(0, 0, 0, 0)",
        "template": {
         "data": {
          "bar": [
           {
            "error_x": {
             "color": "#2a3f5f"
            },
            "error_y": {
             "color": "#2a3f5f"
            },
            "marker": {
             "line": {
              "color": "white",
              "width": 0.5
             },
             "pattern": {
              "fillmode": "overlay",
              "size": 10,
              "solidity": 0.2
             }
            },
            "type": "bar"
           }
          ],
          "barpolar": [
           {
            "marker": {
             "line": {
              "color": "white",
              "width": 0.5
             },
             "pattern": {
              "fillmode": "overlay",
              "size": 10,
              "solidity": 0.2
             }
            },
            "type": "barpolar"
           }
          ],
          "carpet": [
           {
            "aaxis": {
             "endlinecolor": "#2a3f5f",
             "gridcolor": "#C8D4E3",
             "linecolor": "#C8D4E3",
             "minorgridcolor": "#C8D4E3",
             "startlinecolor": "#2a3f5f"
            },
            "baxis": {
             "endlinecolor": "#2a3f5f",
             "gridcolor": "#C8D4E3",
             "linecolor": "#C8D4E3",
             "minorgridcolor": "#C8D4E3",
             "startlinecolor": "#2a3f5f"
            },
            "type": "carpet"
           }
          ],
          "choropleth": [
           {
            "colorbar": {
             "outlinewidth": 0,
             "ticks": ""
            },
            "type": "choropleth"
           }
          ],
          "contour": [
           {
            "colorbar": {
             "outlinewidth": 0,
             "ticks": ""
            },
            "colorscale": [
             [
              0,
              "#0d0887"
             ],
             [
              0.1111111111111111,
              "#46039f"
             ],
             [
              0.2222222222222222,
              "#7201a8"
             ],
             [
              0.3333333333333333,
              "#9c179e"
             ],
             [
              0.4444444444444444,
              "#bd3786"
             ],
             [
              0.5555555555555556,
              "#d8576b"
             ],
             [
              0.6666666666666666,
              "#ed7953"
             ],
             [
              0.7777777777777778,
              "#fb9f3a"
             ],
             [
              0.8888888888888888,
              "#fdca26"
             ],
             [
              1,
              "#f0f921"
             ]
            ],
            "type": "contour"
           }
          ],
          "contourcarpet": [
           {
            "colorbar": {
             "outlinewidth": 0,
             "ticks": ""
            },
            "type": "contourcarpet"
           }
          ],
          "heatmap": [
           {
            "colorbar": {
             "outlinewidth": 0,
             "ticks": ""
            },
            "colorscale": [
             [
              0,
              "#0d0887"
             ],
             [
              0.1111111111111111,
              "#46039f"
             ],
             [
              0.2222222222222222,
              "#7201a8"
             ],
             [
              0.3333333333333333,
              "#9c179e"
             ],
             [
              0.4444444444444444,
              "#bd3786"
             ],
             [
              0.5555555555555556,
              "#d8576b"
             ],
             [
              0.6666666666666666,
              "#ed7953"
             ],
             [
              0.7777777777777778,
              "#fb9f3a"
             ],
             [
              0.8888888888888888,
              "#fdca26"
             ],
             [
              1,
              "#f0f921"
             ]
            ],
            "type": "heatmap"
           }
          ],
          "heatmapgl": [
           {
            "colorbar": {
             "outlinewidth": 0,
             "ticks": ""
            },
            "colorscale": [
             [
              0,
              "#0d0887"
             ],
             [
              0.1111111111111111,
              "#46039f"
             ],
             [
              0.2222222222222222,
              "#7201a8"
             ],
             [
              0.3333333333333333,
              "#9c179e"
             ],
             [
              0.4444444444444444,
              "#bd3786"
             ],
             [
              0.5555555555555556,
              "#d8576b"
             ],
             [
              0.6666666666666666,
              "#ed7953"
             ],
             [
              0.7777777777777778,
              "#fb9f3a"
             ],
             [
              0.8888888888888888,
              "#fdca26"
             ],
             [
              1,
              "#f0f921"
             ]
            ],
            "type": "heatmapgl"
           }
          ],
          "histogram": [
           {
            "marker": {
             "pattern": {
              "fillmode": "overlay",
              "size": 10,
              "solidity": 0.2
             }
            },
            "type": "histogram"
           }
          ],
          "histogram2d": [
           {
            "colorbar": {
             "outlinewidth": 0,
             "ticks": ""
            },
            "colorscale": [
             [
              0,
              "#0d0887"
             ],
             [
              0.1111111111111111,
              "#46039f"
             ],
             [
              0.2222222222222222,
              "#7201a8"
             ],
             [
              0.3333333333333333,
              "#9c179e"
             ],
             [
              0.4444444444444444,
              "#bd3786"
             ],
             [
              0.5555555555555556,
              "#d8576b"
             ],
             [
              0.6666666666666666,
              "#ed7953"
             ],
             [
              0.7777777777777778,
              "#fb9f3a"
             ],
             [
              0.8888888888888888,
              "#fdca26"
             ],
             [
              1,
              "#f0f921"
             ]
            ],
            "type": "histogram2d"
           }
          ],
          "histogram2dcontour": [
           {
            "colorbar": {
             "outlinewidth": 0,
             "ticks": ""
            },
            "colorscale": [
             [
              0,
              "#0d0887"
             ],
             [
              0.1111111111111111,
              "#46039f"
             ],
             [
              0.2222222222222222,
              "#7201a8"
             ],
             [
              0.3333333333333333,
              "#9c179e"
             ],
             [
              0.4444444444444444,
              "#bd3786"
             ],
             [
              0.5555555555555556,
              "#d8576b"
             ],
             [
              0.6666666666666666,
              "#ed7953"
             ],
             [
              0.7777777777777778,
              "#fb9f3a"
             ],
             [
              0.8888888888888888,
              "#fdca26"
             ],
             [
              1,
              "#f0f921"
             ]
            ],
            "type": "histogram2dcontour"
           }
          ],
          "mesh3d": [
           {
            "colorbar": {
             "outlinewidth": 0,
             "ticks": ""
            },
            "type": "mesh3d"
           }
          ],
          "parcoords": [
           {
            "line": {
             "colorbar": {
              "outlinewidth": 0,
              "ticks": ""
             }
            },
            "type": "parcoords"
           }
          ],
          "pie": [
           {
            "automargin": true,
            "type": "pie"
           }
          ],
          "scatter": [
           {
            "fillpattern": {
             "fillmode": "overlay",
             "size": 10,
             "solidity": 0.2
            },
            "type": "scatter"
           }
          ],
          "scatter3d": [
           {
            "line": {
             "colorbar": {
              "outlinewidth": 0,
              "ticks": ""
             }
            },
            "marker": {
             "colorbar": {
              "outlinewidth": 0,
              "ticks": ""
             }
            },
            "type": "scatter3d"
           }
          ],
          "scattercarpet": [
           {
            "marker": {
             "colorbar": {
              "outlinewidth": 0,
              "ticks": ""
             }
            },
            "type": "scattercarpet"
           }
          ],
          "scattergeo": [
           {
            "marker": {
             "colorbar": {
              "outlinewidth": 0,
              "ticks": ""
             }
            },
            "type": "scattergeo"
           }
          ],
          "scattergl": [
           {
            "marker": {
             "colorbar": {
              "outlinewidth": 0,
              "ticks": ""
             }
            },
            "type": "scattergl"
           }
          ],
          "scattermapbox": [
           {
            "marker": {
             "colorbar": {
              "outlinewidth": 0,
              "ticks": ""
             }
            },
            "type": "scattermapbox"
           }
          ],
          "scatterpolar": [
           {
            "marker": {
             "colorbar": {
              "outlinewidth": 0,
              "ticks": ""
             }
            },
            "type": "scatterpolar"
           }
          ],
          "scatterpolargl": [
           {
            "marker": {
             "colorbar": {
              "outlinewidth": 0,
              "ticks": ""
             }
            },
            "type": "scatterpolargl"
           }
          ],
          "scatterternary": [
           {
            "marker": {
             "colorbar": {
              "outlinewidth": 0,
              "ticks": ""
             }
            },
            "type": "scatterternary"
           }
          ],
          "surface": [
           {
            "colorbar": {
             "outlinewidth": 0,
             "ticks": ""
            },
            "colorscale": [
             [
              0,
              "#0d0887"
             ],
             [
              0.1111111111111111,
              "#46039f"
             ],
             [
              0.2222222222222222,
              "#7201a8"
             ],
             [
              0.3333333333333333,
              "#9c179e"
             ],
             [
              0.4444444444444444,
              "#bd3786"
             ],
             [
              0.5555555555555556,
              "#d8576b"
             ],
             [
              0.6666666666666666,
              "#ed7953"
             ],
             [
              0.7777777777777778,
              "#fb9f3a"
             ],
             [
              0.8888888888888888,
              "#fdca26"
             ],
             [
              1,
              "#f0f921"
             ]
            ],
            "type": "surface"
           }
          ],
          "table": [
           {
            "cells": {
             "fill": {
              "color": "#EBF0F8"
             },
             "line": {
              "color": "white"
             }
            },
            "header": {
             "fill": {
              "color": "#C8D4E3"
             },
             "line": {
              "color": "white"
             }
            },
            "type": "table"
           }
          ]
         },
         "layout": {
          "annotationdefaults": {
           "arrowcolor": "#2a3f5f",
           "arrowhead": 0,
           "arrowwidth": 1
          },
          "autotypenumbers": "strict",
          "coloraxis": {
           "colorbar": {
            "outlinewidth": 0,
            "ticks": ""
           }
          },
          "colorscale": {
           "diverging": [
            [
             0,
             "#8e0152"
            ],
            [
             0.1,
             "#c51b7d"
            ],
            [
             0.2,
             "#de77ae"
            ],
            [
             0.3,
             "#f1b6da"
            ],
            [
             0.4,
             "#fde0ef"
            ],
            [
             0.5,
             "#f7f7f7"
            ],
            [
             0.6,
             "#e6f5d0"
            ],
            [
             0.7,
             "#b8e186"
            ],
            [
             0.8,
             "#7fbc41"
            ],
            [
             0.9,
             "#4d9221"
            ],
            [
             1,
             "#276419"
            ]
           ],
           "sequential": [
            [
             0,
             "#0d0887"
            ],
            [
             0.1111111111111111,
             "#46039f"
            ],
            [
             0.2222222222222222,
             "#7201a8"
            ],
            [
             0.3333333333333333,
             "#9c179e"
            ],
            [
             0.4444444444444444,
             "#bd3786"
            ],
            [
             0.5555555555555556,
             "#d8576b"
            ],
            [
             0.6666666666666666,
             "#ed7953"
            ],
            [
             0.7777777777777778,
             "#fb9f3a"
            ],
            [
             0.8888888888888888,
             "#fdca26"
            ],
            [
             1,
             "#f0f921"
            ]
           ],
           "sequentialminus": [
            [
             0,
             "#0d0887"
            ],
            [
             0.1111111111111111,
             "#46039f"
            ],
            [
             0.2222222222222222,
             "#7201a8"
            ],
            [
             0.3333333333333333,
             "#9c179e"
            ],
            [
             0.4444444444444444,
             "#bd3786"
            ],
            [
             0.5555555555555556,
             "#d8576b"
            ],
            [
             0.6666666666666666,
             "#ed7953"
            ],
            [
             0.7777777777777778,
             "#fb9f3a"
            ],
            [
             0.8888888888888888,
             "#fdca26"
            ],
            [
             1,
             "#f0f921"
            ]
           ]
          },
          "colorway": [
           "#636efa",
           "#EF553B",
           "#00cc96",
           "#ab63fa",
           "#FFA15A",
           "#19d3f3",
           "#FF6692",
           "#B6E880",
           "#FF97FF",
           "#FECB52"
          ],
          "font": {
           "color": "#2a3f5f"
          },
          "geo": {
           "bgcolor": "white",
           "lakecolor": "white",
           "landcolor": "white",
           "showlakes": true,
           "showland": true,
           "subunitcolor": "#C8D4E3"
          },
          "hoverlabel": {
           "align": "left"
          },
          "hovermode": "closest",
          "mapbox": {
           "style": "light"
          },
          "paper_bgcolor": "white",
          "plot_bgcolor": "white",
          "polar": {
           "angularaxis": {
            "gridcolor": "#EBF0F8",
            "linecolor": "#EBF0F8",
            "ticks": ""
           },
           "bgcolor": "white",
           "radialaxis": {
            "gridcolor": "#EBF0F8",
            "linecolor": "#EBF0F8",
            "ticks": ""
           }
          },
          "scene": {
           "xaxis": {
            "backgroundcolor": "white",
            "gridcolor": "#DFE8F3",
            "gridwidth": 2,
            "linecolor": "#EBF0F8",
            "showbackground": true,
            "ticks": "",
            "zerolinecolor": "#EBF0F8"
           },
           "yaxis": {
            "backgroundcolor": "white",
            "gridcolor": "#DFE8F3",
            "gridwidth": 2,
            "linecolor": "#EBF0F8",
            "showbackground": true,
            "ticks": "",
            "zerolinecolor": "#EBF0F8"
           },
           "zaxis": {
            "backgroundcolor": "white",
            "gridcolor": "#DFE8F3",
            "gridwidth": 2,
            "linecolor": "#EBF0F8",
            "showbackground": true,
            "ticks": "",
            "zerolinecolor": "#EBF0F8"
           }
          },
          "shapedefaults": {
           "line": {
            "color": "#2a3f5f"
           }
          },
          "ternary": {
           "aaxis": {
            "gridcolor": "#DFE8F3",
            "linecolor": "#A2B1C6",
            "ticks": ""
           },
           "baxis": {
            "gridcolor": "#DFE8F3",
            "linecolor": "#A2B1C6",
            "ticks": ""
           },
           "bgcolor": "white",
           "caxis": {
            "gridcolor": "#DFE8F3",
            "linecolor": "#A2B1C6",
            "ticks": ""
           }
          },
          "title": {
           "x": 0.05
          },
          "xaxis": {
           "automargin": true,
           "gridcolor": "#EBF0F8",
           "linecolor": "#EBF0F8",
           "ticks": "",
           "title": {
            "standoff": 15
           },
           "zerolinecolor": "#EBF0F8",
           "zerolinewidth": 2
          },
          "yaxis": {
           "automargin": true,
           "gridcolor": "#EBF0F8",
           "linecolor": "#EBF0F8",
           "ticks": "",
           "title": {
            "standoff": 15
           },
           "zerolinecolor": "#EBF0F8",
           "zerolinewidth": 2
          }
         }
        },
        "title": {
         "text": "20 Tokens Mais Frequentes por Nota (Ordenados)"
        },
        "xaxis": {
         "tickfont": {
          "color": "white"
         },
         "tickvals": [
          0,
          1,
          2,
          3,
          4,
          5
         ],
         "title": {
          "font": {
           "color": "white",
           "size": 14
          },
          "text": "Nota"
         }
        },
        "yaxis": {
         "automargin": true,
         "tickfont": {
          "color": "white"
         },
         "title": {
          "font": {
           "color": "white",
           "size": 14
          },
          "text": "Tokens (Ordenados por Frequência)"
         }
        }
       }
      }
     },
     "metadata": {},
     "output_type": "display_data"
    }
   ],
   "source": [
    "import plotly.graph_objects as go\n",
    "import pandas as pd\n",
    "\n",
    "# Example structure for df_words (replace with your actual data)\n",
    "# df_words = pd.DataFrame({\n",
    "#     'nota': [0, 0, 0, 1, 1, 1, 2, 2, 2],\n",
    "#     'token': ['word1', 'word2', 'word3', 'word4', 'word5', 'word6', 'word7', 'word8', 'word9'],\n",
    "#     'token_frequency': [50, 40, 30, 45, 35, 25, 60, 50, 40]\n",
    "# })\n",
    "\n",
    "# Sort tokens by frequency within each grade\n",
    "df_words_sorted = (\n",
    "    df_words\n",
    "    .sort_values(by=['nota', 'token_frequency'], ascending=[True, False])\n",
    ")\n",
    "\n",
    "# Create a composite column to ensure distinct tokens per grade\n",
    "df_words_sorted['token_nota'] = df_words_sorted['nota'].astype(str) + '|' + df_words_sorted['token']\n",
    "\n",
    "# Pivot the data for heatmap\n",
    "heatmap_data = df_words_sorted.pivot(index='token_nota', columns='nota', values='token_frequency').fillna(0)\n",
    "\n",
    "# Update y-axis tokens for better display (show only token in hover)\n",
    "heatmap_data.index = heatmap_data.index.str.split('|').str[1]\n",
    "\n",
    "# Create the heatmap\n",
    "fig = go.Figure(data=go.Heatmap(\n",
    "    z=heatmap_data.values,  # Frequency matrix\n",
    "    x=heatmap_data.columns,  # Grades (x-axis)\n",
    "    y=heatmap_data.index,    # Tokens (y-axis)\n",
    "    colorscale='Reds',       # Heatmap color scale\n",
    "    colorbar=dict(title=\"Frequência\"),  # Colorbar title\n",
    "    hovertemplate=(\n",
    "        \"Nota: %{x}<br>\" +\n",
    "        \"Token: %{y}<br>\" +\n",
    "        \"Frequência: %{z}<extra></extra>\"\n",
    "    )\n",
    "))\n",
    "\n",
    "# Update layout for better visualization\n",
    "fig.update_layout(\n",
    "    title=\"20 Tokens Mais Frequentes por Nota (Ordenados)\",\n",
    "    xaxis_title=\"Nota\",\n",
    "    yaxis_title=\"Tokens (Ordenados por Frequência)\",\n",
    "    xaxis=dict(\n",
    "        tickvals=heatmap_data.columns,  # Ensure separation between grades\n",
    "        title_font=dict(size=14, color=\"white\"),\n",
    "        tickfont=dict(color=\"white\")\n",
    "    ),\n",
    "    yaxis=dict(\n",
    "        title_font=dict(size=14, color=\"white\"),\n",
    "        tickfont=dict(color=\"white\"),\n",
    "        automargin=True\n",
    "    ),\n",
    "    template=\"plotly_white\",\n",
    "    plot_bgcolor=\"rgba(0, 0, 0, 0)\",  # Transparent plot background\n",
    "    paper_bgcolor=\"rgba(0, 0, 0, 0)\",  # Transparent outer background\n",
    "    font=dict(color=\"white\")  # White font for all text\n",
    ")\n",
    "\n",
    "# Show the figure\n",
    "fig.show()\n"
   ]
  },
  {
   "cell_type": "code",
   "execution_count": 54,
   "metadata": {},
   "outputs": [
    {
     "data": {
      "application/vnd.plotly.v1+json": {
       "config": {
        "plotlyServerURL": "https://plot.ly"
       },
       "data": [
        {
         "colorscale": [
          [
           0,
           "rgb(255,245,240)"
          ],
          [
           0.125,
           "rgb(254,224,210)"
          ],
          [
           0.25,
           "rgb(252,187,161)"
          ],
          [
           0.375,
           "rgb(252,146,114)"
          ],
          [
           0.5,
           "rgb(251,106,74)"
          ],
          [
           0.625,
           "rgb(239,59,44)"
          ],
          [
           0.75,
           "rgb(203,24,29)"
          ],
          [
           0.875,
           "rgb(165,15,21)"
          ],
          [
           1,
           "rgb(103,0,13)"
          ]
         ],
         "hovertemplate": "Nota: %{x}<br>Token: %{y}<br>Frequência: %{z}<extra></extra>",
         "type": "heatmap",
         "x": [
          0
         ],
         "xaxis": "x",
         "y": [
          "azulejos",
          "cidade",
          "prefeitura",
          "valiosos",
          "casarões",
          "situação",
          "municipal",
          "capital",
          "pessoas",
          "xix",
          "europa",
          "porque",
          "então",
          "século",
          "belém",
          "fazer",
          "problema",
          "ano",
          "parte",
          "ter"
         ],
         "yaxis": "y",
         "z": [
          [
           49,
           21,
           18,
           13,
           13,
           12,
           11,
           10,
           10,
           10,
           9,
           9,
           8,
           8,
           8,
           8,
           8,
           8,
           8,
           8
          ]
         ]
        },
        {
         "colorscale": [
          [
           0,
           "rgb(255,245,240)"
          ],
          [
           0.125,
           "rgb(254,224,210)"
          ],
          [
           0.25,
           "rgb(252,187,161)"
          ],
          [
           0.375,
           "rgb(252,146,114)"
          ],
          [
           0.5,
           "rgb(251,106,74)"
          ],
          [
           0.625,
           "rgb(239,59,44)"
          ],
          [
           0.75,
           "rgb(203,24,29)"
          ],
          [
           0.875,
           "rgb(165,15,21)"
          ],
          [
           1,
           "rgb(103,0,13)"
          ]
         ],
         "hovertemplate": "Nota: %{x}<br>Token: %{y}<br>Frequência: %{z}<extra></extra>",
         "type": "heatmap",
         "x": [
          1
         ],
         "xaxis": "x2",
         "y": [
          "azulejos",
          "cidade",
          "casarões",
          "belém",
          "situação",
          "prefeitura",
          "municipal",
          "bibiana",
          "roubos",
          "cambará",
          "palacete",
          "valiosos",
          "proteção",
          "patrimônio",
          "vandalismo",
          "xix",
          "medidas",
          "perderam",
          "ter",
          "maior"
         ],
         "yaxis": "y2",
         "z": [
          [
           739,
           369,
           271,
           249,
           215,
           204,
           163,
           132,
           119,
           115,
           111,
           110,
           110,
           107,
           101,
           97,
           97,
           96,
           96,
           91
          ]
         ]
        },
        {
         "colorscale": [
          [
           0,
           "rgb(255,245,240)"
          ],
          [
           0.125,
           "rgb(254,224,210)"
          ],
          [
           0.25,
           "rgb(252,187,161)"
          ],
          [
           0.375,
           "rgb(252,146,114)"
          ],
          [
           0.5,
           "rgb(251,106,74)"
          ],
          [
           0.625,
           "rgb(239,59,44)"
          ],
          [
           0.75,
           "rgb(203,24,29)"
          ],
          [
           0.875,
           "rgb(165,15,21)"
          ],
          [
           1,
           "rgb(103,0,13)"
          ]
         ],
         "hovertemplate": "Nota: %{x}<br>Token: %{y}<br>Frequência: %{z}<extra></extra>",
         "type": "heatmap",
         "x": [
          2
         ],
         "xaxis": "x3",
         "y": [
          "azulejos",
          "cidade",
          "casarões",
          "belém",
          "prefeitura",
          "municipal",
          "situação",
          "roubos",
          "bibiana",
          "vandalismo",
          "cambará",
          "medidas",
          "proteção",
          "maior",
          "patrimônio",
          "xix",
          "palacete",
          "valiosos",
          "históricos",
          "alvo"
         ],
         "yaxis": "y3",
         "z": [
          [
           2173,
           1383,
           993,
           937,
           729,
           623,
           619,
           550,
           476,
           442,
           434,
           365,
           336,
           331,
           323,
           321,
           315,
           311,
           291,
           289
          ]
         ]
        },
        {
         "colorscale": [
          [
           0,
           "rgb(255,245,240)"
          ],
          [
           0.125,
           "rgb(254,224,210)"
          ],
          [
           0.25,
           "rgb(252,187,161)"
          ],
          [
           0.375,
           "rgb(252,146,114)"
          ],
          [
           0.5,
           "rgb(251,106,74)"
          ],
          [
           0.625,
           "rgb(239,59,44)"
          ],
          [
           0.75,
           "rgb(203,24,29)"
          ],
          [
           0.875,
           "rgb(165,15,21)"
          ],
          [
           1,
           "rgb(103,0,13)"
          ]
         ],
         "hovertemplate": "Nota: %{x}<br>Token: %{y}<br>Frequência: %{z}<extra></extra>",
         "type": "heatmap",
         "x": [
          3
         ],
         "xaxis": "x4",
         "y": [
          "azulejos",
          "cidade",
          "casarões",
          "belém",
          "prefeitura",
          "situação",
          "municipal",
          "roubos",
          "bibiana",
          "vandalismo",
          "patrimônio",
          "cambará",
          "medidas",
          "históricos",
          "maior",
          "xix",
          "palacete",
          "proteção",
          "valor",
          "problema"
         ],
         "yaxis": "y4",
         "z": [
          [
           2531,
           1838,
           1298,
           1297,
           912,
           782,
           742,
           672,
           581,
           571,
           537,
           536,
           520,
           409,
           400,
           396,
           379,
           376,
           361,
           358
          ]
         ]
        },
        {
         "colorscale": [
          [
           0,
           "rgb(255,245,240)"
          ],
          [
           0.125,
           "rgb(254,224,210)"
          ],
          [
           0.25,
           "rgb(252,187,161)"
          ],
          [
           0.375,
           "rgb(252,146,114)"
          ],
          [
           0.5,
           "rgb(251,106,74)"
          ],
          [
           0.625,
           "rgb(239,59,44)"
          ],
          [
           0.75,
           "rgb(203,24,29)"
          ],
          [
           0.875,
           "rgb(165,15,21)"
          ],
          [
           1,
           "rgb(103,0,13)"
          ]
         ],
         "hovertemplate": "Nota: %{x}<br>Token: %{y}<br>Frequência: %{z}<extra></extra>",
         "type": "heatmap",
         "x": [
          4
         ],
         "xaxis": "x5",
         "y": [
          "azulejos",
          "cidade",
          "belém",
          "casarões",
          "prefeitura",
          "situação",
          "roubos",
          "municipal",
          "patrimônio",
          "medidas",
          "vandalismo",
          "bibiana",
          "cambará",
          "históricos",
          "maior",
          "xix",
          "proteção",
          "problema",
          "variedade",
          "parte"
         ],
         "yaxis": "y5",
         "z": [
          [
           1810,
           1310,
           1009,
           946,
           664,
           532,
           492,
           485,
           440,
           400,
           386,
           382,
           365,
           313,
           285,
           278,
           272,
           261,
           251,
           250
          ]
         ]
        },
        {
         "colorbar": {
          "title": {
           "text": "Frequência"
          }
         },
         "colorscale": [
          [
           0,
           "rgb(255,245,240)"
          ],
          [
           0.125,
           "rgb(254,224,210)"
          ],
          [
           0.25,
           "rgb(252,187,161)"
          ],
          [
           0.375,
           "rgb(252,146,114)"
          ],
          [
           0.5,
           "rgb(251,106,74)"
          ],
          [
           0.625,
           "rgb(239,59,44)"
          ],
          [
           0.75,
           "rgb(203,24,29)"
          ],
          [
           0.875,
           "rgb(165,15,21)"
          ],
          [
           1,
           "rgb(103,0,13)"
          ]
         ],
         "hovertemplate": "Nota: %{x}<br>Token: %{y}<br>Frequência: %{z}<extra></extra>",
         "type": "heatmap",
         "x": [
          5
         ],
         "xaxis": "x6",
         "y": [
          "azulejos",
          "cidade",
          "belém",
          "casarões",
          "prefeitura",
          "patrimônio",
          "municipal",
          "situação",
          "roubos",
          "bibiana",
          "cambará",
          "vandalismo",
          "medidas",
          "histórico",
          "históricos",
          "parte",
          "cultural",
          "mercado",
          "proteção",
          "história"
         ],
         "yaxis": "y6",
         "z": [
          [
           830,
           640,
           562,
           480,
           376,
           313,
           225,
           225,
           220,
           205,
           194,
           191,
           189,
           175,
           157,
           153,
           145,
           141,
           140,
           136
          ]
         ]
        }
       ],
       "layout": {
        "annotations": [
         {
          "font": {
           "size": 16
          },
          "showarrow": false,
          "text": "Nota 0",
          "x": 0.06944444444444445,
          "xanchor": "center",
          "xref": "paper",
          "y": 1,
          "yanchor": "bottom",
          "yref": "paper"
         },
         {
          "font": {
           "size": 16
          },
          "showarrow": false,
          "text": "Nota 1",
          "x": 0.24166666666666667,
          "xanchor": "center",
          "xref": "paper",
          "y": 1,
          "yanchor": "bottom",
          "yref": "paper"
         },
         {
          "font": {
           "size": 16
          },
          "showarrow": false,
          "text": "Nota 2",
          "x": 0.41388888888888886,
          "xanchor": "center",
          "xref": "paper",
          "y": 1,
          "yanchor": "bottom",
          "yref": "paper"
         },
         {
          "font": {
           "size": 16
          },
          "showarrow": false,
          "text": "Nota 3",
          "x": 0.5861111111111112,
          "xanchor": "center",
          "xref": "paper",
          "y": 1,
          "yanchor": "bottom",
          "yref": "paper"
         },
         {
          "font": {
           "size": 16
          },
          "showarrow": false,
          "text": "Nota 4",
          "x": 0.7583333333333333,
          "xanchor": "center",
          "xref": "paper",
          "y": 1,
          "yanchor": "bottom",
          "yref": "paper"
         },
         {
          "font": {
           "size": 16
          },
          "showarrow": false,
          "text": "Nota 5",
          "x": 0.9305555555555556,
          "xanchor": "center",
          "xref": "paper",
          "y": 1,
          "yanchor": "bottom",
          "yref": "paper"
         }
        ],
        "font": {
         "color": "black"
        },
        "height": 500,
        "paper_bgcolor": "rgba(0, 0, 0, 0)",
        "plot_bgcolor": "rgba(0, 0, 0, 0)",
        "template": {
         "data": {
          "bar": [
           {
            "error_x": {
             "color": "#2a3f5f"
            },
            "error_y": {
             "color": "#2a3f5f"
            },
            "marker": {
             "line": {
              "color": "white",
              "width": 0.5
             },
             "pattern": {
              "fillmode": "overlay",
              "size": 10,
              "solidity": 0.2
             }
            },
            "type": "bar"
           }
          ],
          "barpolar": [
           {
            "marker": {
             "line": {
              "color": "white",
              "width": 0.5
             },
             "pattern": {
              "fillmode": "overlay",
              "size": 10,
              "solidity": 0.2
             }
            },
            "type": "barpolar"
           }
          ],
          "carpet": [
           {
            "aaxis": {
             "endlinecolor": "#2a3f5f",
             "gridcolor": "#C8D4E3",
             "linecolor": "#C8D4E3",
             "minorgridcolor": "#C8D4E3",
             "startlinecolor": "#2a3f5f"
            },
            "baxis": {
             "endlinecolor": "#2a3f5f",
             "gridcolor": "#C8D4E3",
             "linecolor": "#C8D4E3",
             "minorgridcolor": "#C8D4E3",
             "startlinecolor": "#2a3f5f"
            },
            "type": "carpet"
           }
          ],
          "choropleth": [
           {
            "colorbar": {
             "outlinewidth": 0,
             "ticks": ""
            },
            "type": "choropleth"
           }
          ],
          "contour": [
           {
            "colorbar": {
             "outlinewidth": 0,
             "ticks": ""
            },
            "colorscale": [
             [
              0,
              "#0d0887"
             ],
             [
              0.1111111111111111,
              "#46039f"
             ],
             [
              0.2222222222222222,
              "#7201a8"
             ],
             [
              0.3333333333333333,
              "#9c179e"
             ],
             [
              0.4444444444444444,
              "#bd3786"
             ],
             [
              0.5555555555555556,
              "#d8576b"
             ],
             [
              0.6666666666666666,
              "#ed7953"
             ],
             [
              0.7777777777777778,
              "#fb9f3a"
             ],
             [
              0.8888888888888888,
              "#fdca26"
             ],
             [
              1,
              "#f0f921"
             ]
            ],
            "type": "contour"
           }
          ],
          "contourcarpet": [
           {
            "colorbar": {
             "outlinewidth": 0,
             "ticks": ""
            },
            "type": "contourcarpet"
           }
          ],
          "heatmap": [
           {
            "colorbar": {
             "outlinewidth": 0,
             "ticks": ""
            },
            "colorscale": [
             [
              0,
              "#0d0887"
             ],
             [
              0.1111111111111111,
              "#46039f"
             ],
             [
              0.2222222222222222,
              "#7201a8"
             ],
             [
              0.3333333333333333,
              "#9c179e"
             ],
             [
              0.4444444444444444,
              "#bd3786"
             ],
             [
              0.5555555555555556,
              "#d8576b"
             ],
             [
              0.6666666666666666,
              "#ed7953"
             ],
             [
              0.7777777777777778,
              "#fb9f3a"
             ],
             [
              0.8888888888888888,
              "#fdca26"
             ],
             [
              1,
              "#f0f921"
             ]
            ],
            "type": "heatmap"
           }
          ],
          "heatmapgl": [
           {
            "colorbar": {
             "outlinewidth": 0,
             "ticks": ""
            },
            "colorscale": [
             [
              0,
              "#0d0887"
             ],
             [
              0.1111111111111111,
              "#46039f"
             ],
             [
              0.2222222222222222,
              "#7201a8"
             ],
             [
              0.3333333333333333,
              "#9c179e"
             ],
             [
              0.4444444444444444,
              "#bd3786"
             ],
             [
              0.5555555555555556,
              "#d8576b"
             ],
             [
              0.6666666666666666,
              "#ed7953"
             ],
             [
              0.7777777777777778,
              "#fb9f3a"
             ],
             [
              0.8888888888888888,
              "#fdca26"
             ],
             [
              1,
              "#f0f921"
             ]
            ],
            "type": "heatmapgl"
           }
          ],
          "histogram": [
           {
            "marker": {
             "pattern": {
              "fillmode": "overlay",
              "size": 10,
              "solidity": 0.2
             }
            },
            "type": "histogram"
           }
          ],
          "histogram2d": [
           {
            "colorbar": {
             "outlinewidth": 0,
             "ticks": ""
            },
            "colorscale": [
             [
              0,
              "#0d0887"
             ],
             [
              0.1111111111111111,
              "#46039f"
             ],
             [
              0.2222222222222222,
              "#7201a8"
             ],
             [
              0.3333333333333333,
              "#9c179e"
             ],
             [
              0.4444444444444444,
              "#bd3786"
             ],
             [
              0.5555555555555556,
              "#d8576b"
             ],
             [
              0.6666666666666666,
              "#ed7953"
             ],
             [
              0.7777777777777778,
              "#fb9f3a"
             ],
             [
              0.8888888888888888,
              "#fdca26"
             ],
             [
              1,
              "#f0f921"
             ]
            ],
            "type": "histogram2d"
           }
          ],
          "histogram2dcontour": [
           {
            "colorbar": {
             "outlinewidth": 0,
             "ticks": ""
            },
            "colorscale": [
             [
              0,
              "#0d0887"
             ],
             [
              0.1111111111111111,
              "#46039f"
             ],
             [
              0.2222222222222222,
              "#7201a8"
             ],
             [
              0.3333333333333333,
              "#9c179e"
             ],
             [
              0.4444444444444444,
              "#bd3786"
             ],
             [
              0.5555555555555556,
              "#d8576b"
             ],
             [
              0.6666666666666666,
              "#ed7953"
             ],
             [
              0.7777777777777778,
              "#fb9f3a"
             ],
             [
              0.8888888888888888,
              "#fdca26"
             ],
             [
              1,
              "#f0f921"
             ]
            ],
            "type": "histogram2dcontour"
           }
          ],
          "mesh3d": [
           {
            "colorbar": {
             "outlinewidth": 0,
             "ticks": ""
            },
            "type": "mesh3d"
           }
          ],
          "parcoords": [
           {
            "line": {
             "colorbar": {
              "outlinewidth": 0,
              "ticks": ""
             }
            },
            "type": "parcoords"
           }
          ],
          "pie": [
           {
            "automargin": true,
            "type": "pie"
           }
          ],
          "scatter": [
           {
            "fillpattern": {
             "fillmode": "overlay",
             "size": 10,
             "solidity": 0.2
            },
            "type": "scatter"
           }
          ],
          "scatter3d": [
           {
            "line": {
             "colorbar": {
              "outlinewidth": 0,
              "ticks": ""
             }
            },
            "marker": {
             "colorbar": {
              "outlinewidth": 0,
              "ticks": ""
             }
            },
            "type": "scatter3d"
           }
          ],
          "scattercarpet": [
           {
            "marker": {
             "colorbar": {
              "outlinewidth": 0,
              "ticks": ""
             }
            },
            "type": "scattercarpet"
           }
          ],
          "scattergeo": [
           {
            "marker": {
             "colorbar": {
              "outlinewidth": 0,
              "ticks": ""
             }
            },
            "type": "scattergeo"
           }
          ],
          "scattergl": [
           {
            "marker": {
             "colorbar": {
              "outlinewidth": 0,
              "ticks": ""
             }
            },
            "type": "scattergl"
           }
          ],
          "scattermapbox": [
           {
            "marker": {
             "colorbar": {
              "outlinewidth": 0,
              "ticks": ""
             }
            },
            "type": "scattermapbox"
           }
          ],
          "scatterpolar": [
           {
            "marker": {
             "colorbar": {
              "outlinewidth": 0,
              "ticks": ""
             }
            },
            "type": "scatterpolar"
           }
          ],
          "scatterpolargl": [
           {
            "marker": {
             "colorbar": {
              "outlinewidth": 0,
              "ticks": ""
             }
            },
            "type": "scatterpolargl"
           }
          ],
          "scatterternary": [
           {
            "marker": {
             "colorbar": {
              "outlinewidth": 0,
              "ticks": ""
             }
            },
            "type": "scatterternary"
           }
          ],
          "surface": [
           {
            "colorbar": {
             "outlinewidth": 0,
             "ticks": ""
            },
            "colorscale": [
             [
              0,
              "#0d0887"
             ],
             [
              0.1111111111111111,
              "#46039f"
             ],
             [
              0.2222222222222222,
              "#7201a8"
             ],
             [
              0.3333333333333333,
              "#9c179e"
             ],
             [
              0.4444444444444444,
              "#bd3786"
             ],
             [
              0.5555555555555556,
              "#d8576b"
             ],
             [
              0.6666666666666666,
              "#ed7953"
             ],
             [
              0.7777777777777778,
              "#fb9f3a"
             ],
             [
              0.8888888888888888,
              "#fdca26"
             ],
             [
              1,
              "#f0f921"
             ]
            ],
            "type": "surface"
           }
          ],
          "table": [
           {
            "cells": {
             "fill": {
              "color": "#EBF0F8"
             },
             "line": {
              "color": "white"
             }
            },
            "header": {
             "fill": {
              "color": "#C8D4E3"
             },
             "line": {
              "color": "white"
             }
            },
            "type": "table"
           }
          ]
         },
         "layout": {
          "annotationdefaults": {
           "arrowcolor": "#2a3f5f",
           "arrowhead": 0,
           "arrowwidth": 1
          },
          "autotypenumbers": "strict",
          "coloraxis": {
           "colorbar": {
            "outlinewidth": 0,
            "ticks": ""
           }
          },
          "colorscale": {
           "diverging": [
            [
             0,
             "#8e0152"
            ],
            [
             0.1,
             "#c51b7d"
            ],
            [
             0.2,
             "#de77ae"
            ],
            [
             0.3,
             "#f1b6da"
            ],
            [
             0.4,
             "#fde0ef"
            ],
            [
             0.5,
             "#f7f7f7"
            ],
            [
             0.6,
             "#e6f5d0"
            ],
            [
             0.7,
             "#b8e186"
            ],
            [
             0.8,
             "#7fbc41"
            ],
            [
             0.9,
             "#4d9221"
            ],
            [
             1,
             "#276419"
            ]
           ],
           "sequential": [
            [
             0,
             "#0d0887"
            ],
            [
             0.1111111111111111,
             "#46039f"
            ],
            [
             0.2222222222222222,
             "#7201a8"
            ],
            [
             0.3333333333333333,
             "#9c179e"
            ],
            [
             0.4444444444444444,
             "#bd3786"
            ],
            [
             0.5555555555555556,
             "#d8576b"
            ],
            [
             0.6666666666666666,
             "#ed7953"
            ],
            [
             0.7777777777777778,
             "#fb9f3a"
            ],
            [
             0.8888888888888888,
             "#fdca26"
            ],
            [
             1,
             "#f0f921"
            ]
           ],
           "sequentialminus": [
            [
             0,
             "#0d0887"
            ],
            [
             0.1111111111111111,
             "#46039f"
            ],
            [
             0.2222222222222222,
             "#7201a8"
            ],
            [
             0.3333333333333333,
             "#9c179e"
            ],
            [
             0.4444444444444444,
             "#bd3786"
            ],
            [
             0.5555555555555556,
             "#d8576b"
            ],
            [
             0.6666666666666666,
             "#ed7953"
            ],
            [
             0.7777777777777778,
             "#fb9f3a"
            ],
            [
             0.8888888888888888,
             "#fdca26"
            ],
            [
             1,
             "#f0f921"
            ]
           ]
          },
          "colorway": [
           "#636efa",
           "#EF553B",
           "#00cc96",
           "#ab63fa",
           "#FFA15A",
           "#19d3f3",
           "#FF6692",
           "#B6E880",
           "#FF97FF",
           "#FECB52"
          ],
          "font": {
           "color": "#2a3f5f"
          },
          "geo": {
           "bgcolor": "white",
           "lakecolor": "white",
           "landcolor": "white",
           "showlakes": true,
           "showland": true,
           "subunitcolor": "#C8D4E3"
          },
          "hoverlabel": {
           "align": "left"
          },
          "hovermode": "closest",
          "mapbox": {
           "style": "light"
          },
          "paper_bgcolor": "white",
          "plot_bgcolor": "white",
          "polar": {
           "angularaxis": {
            "gridcolor": "#EBF0F8",
            "linecolor": "#EBF0F8",
            "ticks": ""
           },
           "bgcolor": "white",
           "radialaxis": {
            "gridcolor": "#EBF0F8",
            "linecolor": "#EBF0F8",
            "ticks": ""
           }
          },
          "scene": {
           "xaxis": {
            "backgroundcolor": "white",
            "gridcolor": "#DFE8F3",
            "gridwidth": 2,
            "linecolor": "#EBF0F8",
            "showbackground": true,
            "ticks": "",
            "zerolinecolor": "#EBF0F8"
           },
           "yaxis": {
            "backgroundcolor": "white",
            "gridcolor": "#DFE8F3",
            "gridwidth": 2,
            "linecolor": "#EBF0F8",
            "showbackground": true,
            "ticks": "",
            "zerolinecolor": "#EBF0F8"
           },
           "zaxis": {
            "backgroundcolor": "white",
            "gridcolor": "#DFE8F3",
            "gridwidth": 2,
            "linecolor": "#EBF0F8",
            "showbackground": true,
            "ticks": "",
            "zerolinecolor": "#EBF0F8"
           }
          },
          "shapedefaults": {
           "line": {
            "color": "#2a3f5f"
           }
          },
          "ternary": {
           "aaxis": {
            "gridcolor": "#DFE8F3",
            "linecolor": "#A2B1C6",
            "ticks": ""
           },
           "baxis": {
            "gridcolor": "#DFE8F3",
            "linecolor": "#A2B1C6",
            "ticks": ""
           },
           "bgcolor": "white",
           "caxis": {
            "gridcolor": "#DFE8F3",
            "linecolor": "#A2B1C6",
            "ticks": ""
           }
          },
          "title": {
           "x": 0.05
          },
          "xaxis": {
           "automargin": true,
           "gridcolor": "#EBF0F8",
           "linecolor": "#EBF0F8",
           "ticks": "",
           "title": {
            "standoff": 15
           },
           "zerolinecolor": "#EBF0F8",
           "zerolinewidth": 2
          },
          "yaxis": {
           "automargin": true,
           "gridcolor": "#EBF0F8",
           "linecolor": "#EBF0F8",
           "ticks": "",
           "title": {
            "standoff": 15
           },
           "zerolinecolor": "#EBF0F8",
           "zerolinewidth": 2
          }
         }
        },
        "title": {
         "text": "Tokens Mais Frequentes por Nota"
        },
        "width": 1800,
        "xaxis": {
         "anchor": "y",
         "domain": [
          0,
          0.1388888888888889
         ],
         "showticklabels": false,
         "title": {
          "text": ""
         }
        },
        "xaxis2": {
         "anchor": "y2",
         "domain": [
          0.17222222222222222,
          0.3111111111111111
         ],
         "showticklabels": false,
         "title": {
          "text": ""
         }
        },
        "xaxis3": {
         "anchor": "y3",
         "domain": [
          0.34444444444444444,
          0.48333333333333334
         ],
         "showticklabels": false,
         "title": {
          "text": ""
         }
        },
        "xaxis4": {
         "anchor": "y4",
         "domain": [
          0.5166666666666667,
          0.6555555555555557
         ],
         "showticklabels": false,
         "title": {
          "text": ""
         }
        },
        "xaxis5": {
         "anchor": "y5",
         "domain": [
          0.6888888888888889,
          0.8277777777777777
         ],
         "showticklabels": false,
         "title": {
          "text": ""
         }
        },
        "xaxis6": {
         "anchor": "y6",
         "domain": [
          0.861111111111111,
          1
         ],
         "showticklabels": false,
         "title": {
          "text": ""
         }
        },
        "yaxis": {
         "anchor": "x",
         "automargin": true,
         "domain": [
          0,
          1
         ],
         "title": {
          "text": "Tokens"
         }
        },
        "yaxis2": {
         "anchor": "x2",
         "automargin": true,
         "domain": [
          0,
          1
         ],
         "matches": "y",
         "showticklabels": false,
         "title": {
          "text": "Tokens"
         }
        },
        "yaxis3": {
         "anchor": "x3",
         "automargin": true,
         "domain": [
          0,
          1
         ],
         "matches": "y",
         "showticklabels": false,
         "title": {
          "text": "Tokens"
         }
        },
        "yaxis4": {
         "anchor": "x4",
         "automargin": true,
         "domain": [
          0,
          1
         ],
         "matches": "y",
         "showticklabels": false,
         "title": {
          "text": "Tokens"
         }
        },
        "yaxis5": {
         "anchor": "x5",
         "automargin": true,
         "domain": [
          0,
          1
         ],
         "matches": "y",
         "showticklabels": false,
         "title": {
          "text": "Tokens"
         }
        },
        "yaxis6": {
         "anchor": "x6",
         "automargin": true,
         "domain": [
          0,
          1
         ],
         "matches": "y",
         "showticklabels": false,
         "title": {
          "text": "Tokens"
         }
        }
       }
      }
     },
     "metadata": {},
     "output_type": "display_data"
    }
   ],
   "source": [
    "# ISSO NAO TÁ EXIBINDO NADA MAS QUEM SABE É UMA BOA IDÉIA PRA JANEIRO\n",
    "\n",
    "import plotly.graph_objects as go\n",
    "from plotly.subplots import make_subplots\n",
    "import pandas as pd\n",
    "\n",
    "# Example structure for df_words (replace with your actual data)\n",
    "# df_words = pd.DataFrame({\n",
    "#     'nota': [0, 0, 0, 1, 1, 1, 2, 2, 2],\n",
    "#     'token': ['word1', 'word2', 'word3', 'word4', 'word5', 'word6', 'word7', 'word8', 'word9'],\n",
    "#     'token_frequency': [50, 40, 30, 45, 35, 25, 60, 50, 40]\n",
    "# })\n",
    "\n",
    "# Sort tokens within each grade based on frequency\n",
    "df_words_sorted = (\n",
    "    df_words\n",
    "    .sort_values(by=['nota', 'token_frequency'], ascending=[True, False])\n",
    ")\n",
    "\n",
    "# List of unique grades\n",
    "grades = df_words_sorted['nota'].unique()\n",
    "\n",
    "# Create subplots with one row and as many columns as there are grades\n",
    "fig = make_subplots(\n",
    "    rows=1,\n",
    "    cols=len(grades),\n",
    "    subplot_titles=[f\"Nota {grade}\" for grade in grades],\n",
    "    shared_yaxes=True  # Share y-axis for consistent token display\n",
    ")\n",
    "\n",
    "# Loop through each grade to create individual heatmaps\n",
    "for i, grade in enumerate(grades, start=1):\n",
    "    # Filter data for the specific grade\n",
    "    grade_data = df_words_sorted[df_words_sorted['nota'] == grade]\n",
    "    \n",
    "    # Tokens and frequencies\n",
    "    tokens = grade_data['token']\n",
    "    frequencies = grade_data['token_frequency']\n",
    "    \n",
    "    # Add a heatmap for the grade\n",
    "    fig.add_trace(\n",
    "        go.Heatmap(\n",
    "            z=[frequencies],  # Heatmap values\n",
    "            x=[grade],        # Grade label as a single column\n",
    "            y=tokens,         # Tokens for the y-axis\n",
    "            colorscale='Reds',\n",
    "            colorbar=dict(title=\"Frequência\") if i == len(grades) else None,  # Single colorbar for the last subplot\n",
    "            hovertemplate=(\n",
    "                \"Nota: %{x}<br>\" +\n",
    "                \"Token: %{y}<br>\" +\n",
    "                \"Frequência: %{z}<extra></extra>\"\n",
    "            )\n",
    "        ),\n",
    "        row=1, col=i\n",
    "    )\n",
    "\n",
    "# Update layout for better visualization\n",
    "fig.update_layout(\n",
    "    title=\"Tokens Mais Frequentes por Nota\",\n",
    "    height=500,  # Adjust height to make the heatmaps narrow\n",
    "    width=300 * len(grades),  # Adjust width for each heatmap\n",
    "    template=\"plotly_white\",\n",
    "    font=dict(color=\"black\"),\n",
    "    plot_bgcolor=\"rgba(0, 0, 0, 0)\",  # Transparent plot background\n",
    "    paper_bgcolor=\"rgba(0, 0, 0, 0)\",  # Transparent outer background\n",
    ")\n",
    "\n",
    "# Adjust individual subplot properties\n",
    "fig.update_yaxes(title=\"Tokens\", automargin=True)\n",
    "fig.update_xaxes(title=\"\", showticklabels=False)\n",
    "\n",
    "# Show the figure\n",
    "fig.show()\n"
   ]
  }
 ],
 "metadata": {
  "kernelspec": {
   "display_name": "corpus_celpebras",
   "language": "python",
   "name": "python3"
  },
  "language_info": {
   "codemirror_mode": {
    "name": "ipython",
    "version": 3
   },
   "file_extension": ".py",
   "mimetype": "text/x-python",
   "name": "python",
   "nbconvert_exporter": "python",
   "pygments_lexer": "ipython3",
   "version": "3.11.9"
  }
 },
 "nbformat": 4,
 "nbformat_minor": 2
}
