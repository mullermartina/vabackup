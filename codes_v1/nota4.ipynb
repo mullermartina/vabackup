{
 "cells": [
  {
   "cell_type": "code",
   "execution_count": 1,
   "metadata": {},
   "outputs": [],
   "source": [
    "import os\n",
    "import pandas as pd\n",
    "from docx import Document"
   ]
  },
  {
   "cell_type": "code",
   "execution_count": 2,
   "metadata": {},
   "outputs": [],
   "source": [
    "folder_path = 'C:/Users/Administrator/Documents/repos/mestrado/visual_analytics/NOTA 4 - Revisado'\n",
    "\n",
    "# Iniciando uma lista para guardar nomes e conteudo\n",
    "data_nota4 = []\n",
    "\n",
    "# Percorrendo todos os arquivos .docx na pasta\n",
    "for file_name in os.listdir(folder_path):\n",
    "    if file_name.endswith('.docx'):  # Process only .docx files\n",
    "        file_path = os.path.join(folder_path, file_name)\n",
    "        \n",
    "        # Read the .docx file\n",
    "        doc = Document(file_path)\n",
    "        text = []\n",
    "        for paragraph in doc.paragraphs:\n",
    "            text.append(paragraph.text.strip())  # Strip leading/trailing spaces\n",
    "        \n",
    "        # Combine paragraphs into a single string\n",
    "        document_text = '\\n'.join(text)\n",
    "        \n",
    "        # Append to the data list\n",
    "        data_nota4.append({'file_name': file_name, 'content': document_text})"
   ]
  },
  {
   "cell_type": "code",
   "execution_count": 3,
   "metadata": {},
   "outputs": [],
   "source": [
    "# Convert the data to a DataFrame\n",
    "df_nota4 = pd.DataFrame(data_nota4)"
   ]
  },
  {
   "cell_type": "code",
   "execution_count": 4,
   "metadata": {},
   "outputs": [],
   "source": [
    "# Save the DataFrame to a CSV file\n",
    "#output_csv_path = 'C:/Users/Administrator/Documents/repos/mestrado/visual_analytics/NOTA 0 - Revisado/nota0.csv'\n",
    "output_csv_path = 'C:/Users/Administrator/Documents/repos/mestrado/visual_analytics/corpus/nota4.csv'\n",
    "df_nota4.to_csv(output_csv_path, index=False)"
   ]
  },
  {
   "cell_type": "code",
   "execution_count": 5,
   "metadata": {},
   "outputs": [],
   "source": [
    "# Criando coluna com a nota\n",
    "df_nota4['nota'] = 4\n",
    "\n",
    "# Save the updated DataFrame to a CSV file\n",
    "output_csv_path = 'C:/Users/Administrator/Documents/repos/mestrado/visual_analytics/corpus/nota4.csv'\n",
    "df_nota4.to_csv(output_csv_path, index=False)"
   ]
  },
  {
   "cell_type": "code",
   "execution_count": 6,
   "metadata": {},
   "outputs": [
    {
     "name": "stdout",
     "output_type": "stream",
     "text": [
      "              file_name                                            content  \\\n",
      "0  20152t4p1014n4r.docx  Belém, 20 de Outubro de 2015\\nAo Prefeito da C...   \n",
      "1  20152t4p1030n4r.docx  Senhores da Prefeitura Municipal.\\nPresente.\\n...   \n",
      "2  20152t4p1032n4r.docx  Belém, 20 de Outubro de 2015\\n\\nPrezado Senhor...   \n",
      "3  20152t4p1042n4r.docx  À\\nPrefeitura\\n\\nTem-se registrado desde Fever...   \n",
      "4   20152t4p104n4r.docx  Madri, 20 de Outubro de 2015\\nPrezado Prefeito...   \n",
      "\n",
      "   nota  \n",
      "0     4  \n",
      "1     4  \n",
      "2     4  \n",
      "3     4  \n",
      "4     4  \n"
     ]
    }
   ],
   "source": [
    "# [EXTRA] Abrindo e lendo o csv pra ver que tudo está lindo amem amem\n",
    "csv_file_path = 'C:/Users/Administrator/Documents/repos/mestrado/visual_analytics/corpus/nota4.csv'\n",
    "\n",
    "# Read the CSV file into a DataFrame\n",
    "df = pd.read_csv(csv_file_path)\n",
    "\n",
    "# Display the first few rows of the DataFrame\n",
    "print(df.head())"
   ]
  }
 ],
 "metadata": {
  "kernelspec": {
   "display_name": "Python 3",
   "language": "python",
   "name": "python3"
  },
  "language_info": {
   "codemirror_mode": {
    "name": "ipython",
    "version": 3
   },
   "file_extension": ".py",
   "mimetype": "text/x-python",
   "name": "python",
   "nbconvert_exporter": "python",
   "pygments_lexer": "ipython3",
   "version": "3.11.9"
  }
 },
 "nbformat": 4,
 "nbformat_minor": 2
}
