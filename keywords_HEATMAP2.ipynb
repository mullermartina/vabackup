{
 "cells": [
  {
   "cell_type": "code",
   "execution_count": 1,
   "metadata": {},
   "outputs": [],
   "source": [
    "import pandas as pd\n",
    "import numpy as np\n",
    "import nltk\n",
    "import seaborn as sns\n",
    "#from spellchecker import SpellChecker\n",
    "#import matplotlib.pyplot as plt\n",
    "from collections import Counter #uso para n-gramas\n",
    "#from wordcloud import WordCloud\n",
    "import re # talvez regex vai ajudar na normalizaçao"
   ]
  },
  {
   "cell_type": "markdown",
   "metadata": {},
   "source": [
    "1o heatmap já feito e no 2_keywords. O problema agora é o heatmap excluindo palavras do texto de apoio, que é o que farei aqui. SOMENTE o segundo heatmap!"
   ]
  },
  {
   "cell_type": "code",
   "execution_count": 2,
   "metadata": {},
   "outputs": [],
   "source": [
    "csv_file_path = 'corpus_completo.csv'\n",
    "\n",
    "# Lendo o csv como um df\n",
    "df = pd.read_csv(csv_file_path)\n",
    "\n",
    "#Criando uma cópia\n",
    "df_va = df.copy()"
   ]
  },
  {
   "cell_type": "code",
   "execution_count": 3,
   "metadata": {},
   "outputs": [
    {
     "data": {
      "text/html": [
       "<div>\n",
       "<style scoped>\n",
       "    .dataframe tbody tr th:only-of-type {\n",
       "        vertical-align: middle;\n",
       "    }\n",
       "\n",
       "    .dataframe tbody tr th {\n",
       "        vertical-align: top;\n",
       "    }\n",
       "\n",
       "    .dataframe thead th {\n",
       "        text-align: right;\n",
       "    }\n",
       "</style>\n",
       "<table border=\"1\" class=\"dataframe\">\n",
       "  <thead>\n",
       "    <tr style=\"text-align: right;\">\n",
       "      <th></th>\n",
       "      <th>file_name</th>\n",
       "      <th>content</th>\n",
       "    </tr>\n",
       "    <tr>\n",
       "      <th>nota</th>\n",
       "      <th></th>\n",
       "      <th></th>\n",
       "    </tr>\n",
       "  </thead>\n",
       "  <tbody>\n",
       "    <tr>\n",
       "      <th>0</th>\n",
       "      <td>25</td>\n",
       "      <td>25</td>\n",
       "    </tr>\n",
       "    <tr>\n",
       "      <th>1</th>\n",
       "      <td>211</td>\n",
       "      <td>211</td>\n",
       "    </tr>\n",
       "    <tr>\n",
       "      <th>2</th>\n",
       "      <td>628</td>\n",
       "      <td>628</td>\n",
       "    </tr>\n",
       "    <tr>\n",
       "      <th>3</th>\n",
       "      <td>715</td>\n",
       "      <td>715</td>\n",
       "    </tr>\n",
       "    <tr>\n",
       "      <th>4</th>\n",
       "      <td>477</td>\n",
       "      <td>477</td>\n",
       "    </tr>\n",
       "    <tr>\n",
       "      <th>5</th>\n",
       "      <td>237</td>\n",
       "      <td>237</td>\n",
       "    </tr>\n",
       "  </tbody>\n",
       "</table>\n",
       "</div>"
      ],
      "text/plain": [
       "      file_name  content\n",
       "nota                    \n",
       "0            25       25\n",
       "1           211      211\n",
       "2           628      628\n",
       "3           715      715\n",
       "4           477      477\n",
       "5           237      237"
      ]
     },
     "execution_count": 3,
     "metadata": {},
     "output_type": "execute_result"
    }
   ],
   "source": [
    "df_va.groupby('nota').count()"
   ]
  },
  {
   "cell_type": "code",
   "execution_count": 4,
   "metadata": {},
   "outputs": [
    {
     "name": "stderr",
     "output_type": "stream",
     "text": [
      "[nltk_data] Downloading package stopwords to\n",
      "[nltk_data]     C:\\Users\\Administrator\\AppData\\Roaming\\nltk_data...\n",
      "[nltk_data]   Package stopwords is already up-to-date!\n",
      "[nltk_data] Downloading package punkt to\n",
      "[nltk_data]     C:\\Users\\Administrator\\AppData\\Roaming\\nltk_data...\n",
      "[nltk_data]   Package punkt is already up-to-date!\n",
      "[nltk_data] Downloading package punkt_tab to\n",
      "[nltk_data]     C:\\Users\\Administrator\\AppData\\Roaming\\nltk_data...\n",
      "[nltk_data]   Package punkt_tab is already up-to-date!\n"
     ]
    },
    {
     "data": {
      "text/plain": [
       "True"
      ]
     },
     "execution_count": 4,
     "metadata": {},
     "output_type": "execute_result"
    }
   ],
   "source": [
    "nltk.download('stopwords')\n",
    "nltk.download('punkt') # é um tokenizador, importante para nltk.word_tokenize\n",
    "# nltk.download('rslp') é um stemmer. acho q nao vou usar\n",
    "nltk.download('punkt_tab') # Precisei que devia fazer download desse pacote pq o punkt nao tava funcionando"
   ]
  },
  {
   "cell_type": "code",
   "execution_count": 5,
   "metadata": {},
   "outputs": [],
   "source": [
    "# Pré-processamento\n",
    "\n",
    "# Devo tirar acentos?? Ex: Belém\n",
    "# Retirar números? Na duvida, retirei.\n",
    "# Não fiz stemming visto que poderia perder erros ortográficos\n",
    "\n",
    "#Retirada de sinais gráficos, pontuações e espaços\n",
    "def clean_cp(text):\n",
    "    cleaned = text.lower() #Deixando tudo minúsculo\n",
    "    cleaned = re.sub('[^\\w\\s]', '', cleaned) # Removendo pontuacao\n",
    "    #cleaned = re.sub('[0-9]+', '', cleaned) # Removendo números \n",
    "    cleaned = re.sub('\\d+', '', cleaned) # Removendo números NÃO TÁ FUNCIONANDO AAAAAAAAAAAAAAAAA Começou a funcionar qdo pus o lower como primeiro comando da funçao\n",
    "    cleaned = re.sub('\\s+', ' ', cleaned) # Removendo espaços extras\n",
    "    cleaned = re.sub('\\s+', ' ', cleaned)\n",
    "    return cleaned.strip() # Removendo tabs\n",
    "\n",
    "df_va['content'] = df_va['content'].apply(clean_cp)\n",
    "#df_va['content'] = df_va['content'].apply(stopwords_cp)"
   ]
  },
  {
   "cell_type": "code",
   "execution_count": 6,
   "metadata": {},
   "outputs": [],
   "source": [
    "# Tokenizando e retirando stopwords: importante para ver a frequencia das palavras\n",
    "\n",
    "def tokenized_cp(text):\n",
    "   stopwords = nltk.corpus.stopwords.words('portuguese') # Carregando as stopwords do português\n",
    "   tokenized = nltk.word_tokenize(text, language='portuguese') #Transforma o texto em tokens\n",
    "   text_sem_stopwords = [token for token in tokenized if token not in stopwords] # Deixando somente o que nao é stopword no texto\n",
    "   return text_sem_stopwords\n",
    "\n",
    "df_va['tokenized_content'] = df_va['content'].apply(tokenized_cp)"
   ]
  },
  {
   "cell_type": "code",
   "execution_count": 39,
   "metadata": {},
   "outputs": [
    {
     "data": {
      "text/plain": [
       "1589    [Exmo, Prefeito, prefeitura, municipal, Belém,...\n",
       "688     [Para, Prefeitura, Municipal, A, história, pov...\n",
       "791     [Prezado, prefeito, Belém, ., jornal, “, Em, D...\n",
       "818     [Belém, Junho2012, Srs, ., Jornal, Em, Dia, te...\n",
       "511     [Belem, ,, 17, maio, 2012, ., Estimado, Prefei...\n",
       "Name: tokenized_content, dtype: object"
      ]
     },
     "execution_count": 39,
     "metadata": {},
     "output_type": "execute_result"
    }
   ],
   "source": [
    "df_va['tokenized_content'].sample(5)"
   ]
  },
  {
   "cell_type": "code",
   "execution_count": 40,
   "metadata": {},
   "outputs": [
    {
     "data": {
      "text/plain": [
       "file_name            object\n",
       "content              object\n",
       "nota                  int64\n",
       "tokenized_content    object\n",
       "dtype: object"
      ]
     },
     "execution_count": 40,
     "metadata": {},
     "output_type": "execute_result"
    }
   ],
   "source": [
    "df_va.dtypes"
   ]
  },
  {
   "cell_type": "markdown",
   "metadata": {},
   "source": [
    "Aqui abaixo que começa a parte de excluir o texto de apoio!!"
   ]
  },
  {
   "cell_type": "code",
   "execution_count": 7,
   "metadata": {},
   "outputs": [
    {
     "name": "stdout",
     "output_type": "stream",
     "text": [
      "Você é morador de Belém e está inconformado com a situação dos casarões históricos da cidade. Com base na matéria “Azulejos valiosos”, escreva uma carta aberta endereçada à prefeitura municipal, para ser publicada em jornais locais. Seu texto deverá explicar o problema e argumentar sobre a necessidade de se tomarem medidas imediatas para solucioná-lo.\n",
      "\n",
      "Azulejos valiosos\n",
      "\n",
      "Quatro casarões do século XIX são alvo de roubos e depredações em Belém.\n",
      "\n",
      "A capital paraense já foi considerada uma das cidades brasileiras com maior variedade de azulejos, que coloriam as fachadas e o interior de residências. Boa parte deles foi importada da Europa, principalmente na virada do século XIX para o XX, auge da produção de borracha. Da década de 1970 para cá, no entanto, mais de 50% dos azulejos se perderam. Este ano, a situação parece ter se agravado. Desde fevereiro, pelo menos quatro casarões foram alvo de vandalismo. O assunto vem se espalhando pela capital paraense, e há quem suspeite de encomenda de roubos.\n",
      "Uma das construções depredadas é o Palacete Vitor Maria da Silva, batizado com o nome de seu antigo dono, inspetor de obras do estado do Pará no governo Augusto Montenegro (1901-1909). Os azulejos foram encontrados dias depois, em cacos, e estão no Laboratório de Conservação e Restauração da UFPA (Lacore): “Recebemos aqui no laboratório mais de 1.000 fragmentos de azulejos e estamos montando o quebra-cabeça para ver a que painéis pertencem. Vamos limpar e organizar o material até o fim de junho. Só depois será decidido o que pode ser restaurado ou refeito”, explica Thaís Sanjad, coordenadora do Lacore.\n",
      "Há cerca de um ano, o Departamento do Patrimônio Histórico, Artístico e Cultural (Dphac) iniciou o processo de tombamento do casarão. Segundo a diretora Thaís Tosacado, o procedimento é demorado, por ser necessário documentar detalhes arquitetônicos e históricos da construção. “No caso deste imóvel, os detalhes se tornam mais elaborados, dado o nível artístico dos painéis de azulejo. Mas o local já foi interditado”.\n",
      "A proteção do palacete parece encaminhada, mas a situação na cidade causa preocupação, já que outros três casarões tiveram azulejos do século XIX furtados. “Foram roubos pontuais muito estranhos. O Palacete Vitor Maria da Silva tem um dos interiores mais bonitos da cidade, mas por fora é muito simples, não chama atenção. As pessoas que invadiram devem ter sido encarregadas de roubar azulejos. Ou então foi uma tentativa de desqualificação da propriedade, para que se possa fazer o que quiser com o patrimônio”, suspeita a arquiteta e urbanista Cláudia Nascimento. A superintendente do Iphan no Pará, Maria Dorotéia Lima, concorda: “Tudo indica que há um mercado de azulejos na cidade, até porque os exemplares fora das áreas tombadas não têm qualquer proteção, o que pretendemos fazer em breve”, disse. Enquanto as investigações não forem concluídas, os poucos exemplares de azulejos que ainda restam aumentam cada vez mais de valor.\n",
      "\n",
      "\n"
     ]
    }
   ],
   "source": [
    "# Specify the path to the .txt file\n",
    "file_path = 'texto_tarefa4.txt'\n",
    "\n",
    "# Read the content of the file\n",
    "with open(file_path, \"r\", encoding=\"utf-8\") as file:\n",
    "    given_text = file.read()\n",
    "\n",
    "# Print the content to verify\n",
    "print(given_text)\n"
   ]
  },
  {
   "cell_type": "code",
   "execution_count": 8,
   "metadata": {},
   "outputs": [],
   "source": [
    "# Pré-processamento- Texto de apoio\n",
    "\n",
    "#Retirada de sinais gráficos, pontuações e espaços\n",
    "def clean_cp(text):\n",
    "    cleaned = text.lower() #Deixando tudo minúsculo\n",
    "    cleaned = re.sub('[^\\w\\s]', '', cleaned) # Removendo pontuacao\n",
    "    #cleaned = re.sub('[0-9]+', '', cleaned) # Removendo números \n",
    "    cleaned = re.sub('\\d+', '', cleaned) # Removendo números NÃO TÁ FUNCIONANDO AAAAAAAAAAAAAAAAA Começou a funcionar qdo pus o lower como primeiro comando da funçao\n",
    "    cleaned = re.sub('\\s+', ' ', cleaned) # Removendo espaços extras\n",
    "    cleaned = re.sub('\\s+', ' ', cleaned)\n",
    "    return cleaned.strip() # Removendo tabs\n",
    "\n",
    "# Tokenizando e retirando stopwords: importante para ver a frequencia das palavras\n",
    "def tokenized_cp(text):\n",
    "   stopwords = nltk.corpus.stopwords.words('portuguese') # Carregando as stopwords do português\n",
    "   tokenized = nltk.word_tokenize(text, language='portuguese') #Transforma o texto em tokens\n",
    "   text_sem_stopwords = [token for token in tokenized if token not in stopwords] # Deixando somente o que nao é stopword no texto\n",
    "   return text_sem_stopwords"
   ]
  },
  {
   "cell_type": "code",
   "execution_count": 9,
   "metadata": {},
   "outputs": [
    {
     "data": {
      "text/plain": [
       "['morador',\n",
       " 'belém',\n",
       " 'inconformado',\n",
       " 'situação',\n",
       " 'casarões',\n",
       " 'históricos',\n",
       " 'cidade',\n",
       " 'base',\n",
       " 'matéria',\n",
       " 'azulejos',\n",
       " 'valiosos',\n",
       " 'escreva',\n",
       " 'carta',\n",
       " 'aberta',\n",
       " 'endereçada',\n",
       " 'prefeitura',\n",
       " 'municipal',\n",
       " 'publicada',\n",
       " 'jornais',\n",
       " 'locais',\n",
       " 'texto',\n",
       " 'deverá',\n",
       " 'explicar',\n",
       " 'problema',\n",
       " 'argumentar',\n",
       " 'sobre',\n",
       " 'necessidade',\n",
       " 'tomarem',\n",
       " 'medidas',\n",
       " 'imediatas',\n",
       " 'solucionálo',\n",
       " 'azulejos',\n",
       " 'valiosos',\n",
       " 'quatro',\n",
       " 'casarões',\n",
       " 'século',\n",
       " 'xix',\n",
       " 'alvo',\n",
       " 'roubos',\n",
       " 'depredações',\n",
       " 'belém',\n",
       " 'capital',\n",
       " 'paraense',\n",
       " 'considerada',\n",
       " 'cidades',\n",
       " 'brasileiras',\n",
       " 'maior',\n",
       " 'variedade',\n",
       " 'azulejos',\n",
       " 'coloriam',\n",
       " 'fachadas',\n",
       " 'interior',\n",
       " 'residências',\n",
       " 'boa',\n",
       " 'parte',\n",
       " 'importada',\n",
       " 'europa',\n",
       " 'principalmente',\n",
       " 'virada',\n",
       " 'século',\n",
       " 'xix',\n",
       " 'xx',\n",
       " 'auge',\n",
       " 'produção',\n",
       " 'borracha',\n",
       " 'década',\n",
       " 'cá',\n",
       " 'entanto',\n",
       " 'azulejos',\n",
       " 'perderam',\n",
       " 'ano',\n",
       " 'situação',\n",
       " 'parece',\n",
       " 'ter',\n",
       " 'agravado',\n",
       " 'desde',\n",
       " 'fevereiro',\n",
       " 'menos',\n",
       " 'quatro',\n",
       " 'casarões',\n",
       " 'alvo',\n",
       " 'vandalismo',\n",
       " 'assunto',\n",
       " 'vem',\n",
       " 'espalhando',\n",
       " 'capital',\n",
       " 'paraense',\n",
       " 'suspeite',\n",
       " 'encomenda',\n",
       " 'roubos',\n",
       " 'construções',\n",
       " 'depredadas',\n",
       " 'palacete',\n",
       " 'vitor',\n",
       " 'maria',\n",
       " 'silva',\n",
       " 'batizado',\n",
       " 'nome',\n",
       " 'antigo',\n",
       " 'dono',\n",
       " 'inspetor',\n",
       " 'obras',\n",
       " 'estado',\n",
       " 'pará',\n",
       " 'governo',\n",
       " 'augusto',\n",
       " 'montenegro',\n",
       " 'azulejos',\n",
       " 'encontrados',\n",
       " 'dias',\n",
       " 'cacos',\n",
       " 'laboratório',\n",
       " 'conservação',\n",
       " 'restauração',\n",
       " 'ufpa',\n",
       " 'lacore',\n",
       " 'recebemos',\n",
       " 'aqui',\n",
       " 'laboratório',\n",
       " 'fragmentos',\n",
       " 'azulejos',\n",
       " 'montando',\n",
       " 'quebracabeça',\n",
       " 'ver',\n",
       " 'painéis',\n",
       " 'pertencem',\n",
       " 'vamos',\n",
       " 'limpar',\n",
       " 'organizar',\n",
       " 'material',\n",
       " 'fim',\n",
       " 'junho',\n",
       " 'decidido',\n",
       " 'pode',\n",
       " 'restaurado',\n",
       " 'refeito',\n",
       " 'explica',\n",
       " 'thaís',\n",
       " 'sanjad',\n",
       " 'coordenadora',\n",
       " 'lacore',\n",
       " 'cerca',\n",
       " 'ano',\n",
       " 'departamento',\n",
       " 'patrimônio',\n",
       " 'histórico',\n",
       " 'artístico',\n",
       " 'cultural',\n",
       " 'dphac',\n",
       " 'iniciou',\n",
       " 'processo',\n",
       " 'tombamento',\n",
       " 'casarão',\n",
       " 'segundo',\n",
       " 'diretora',\n",
       " 'thaís',\n",
       " 'tosacado',\n",
       " 'procedimento',\n",
       " 'demorado',\n",
       " 'necessário',\n",
       " 'documentar',\n",
       " 'detalhes',\n",
       " 'arquitetônicos',\n",
       " 'históricos',\n",
       " 'construção',\n",
       " 'caso',\n",
       " 'deste',\n",
       " 'imóvel',\n",
       " 'detalhes',\n",
       " 'tornam',\n",
       " 'elaborados',\n",
       " 'dado',\n",
       " 'nível',\n",
       " 'artístico',\n",
       " 'painéis',\n",
       " 'azulejo',\n",
       " 'local',\n",
       " 'interditado',\n",
       " 'proteção',\n",
       " 'palacete',\n",
       " 'parece',\n",
       " 'encaminhada',\n",
       " 'situação',\n",
       " 'cidade',\n",
       " 'causa',\n",
       " 'preocupação',\n",
       " 'outros',\n",
       " 'três',\n",
       " 'casarões',\n",
       " 'azulejos',\n",
       " 'século',\n",
       " 'xix',\n",
       " 'furtados',\n",
       " 'roubos',\n",
       " 'pontuais',\n",
       " 'estranhos',\n",
       " 'palacete',\n",
       " 'vitor',\n",
       " 'maria',\n",
       " 'silva',\n",
       " 'interiores',\n",
       " 'bonitos',\n",
       " 'cidade',\n",
       " 'simples',\n",
       " 'chama',\n",
       " 'atenção',\n",
       " 'pessoas',\n",
       " 'invadiram',\n",
       " 'devem',\n",
       " 'ter',\n",
       " 'sido',\n",
       " 'encarregadas',\n",
       " 'roubar',\n",
       " 'azulejos',\n",
       " 'então',\n",
       " 'tentativa',\n",
       " 'desqualificação',\n",
       " 'propriedade',\n",
       " 'possa',\n",
       " 'fazer',\n",
       " 'quiser',\n",
       " 'patrimônio',\n",
       " 'suspeita',\n",
       " 'arquiteta',\n",
       " 'urbanista',\n",
       " 'cláudia',\n",
       " 'nascimento',\n",
       " 'superintendente',\n",
       " 'iphan',\n",
       " 'pará',\n",
       " 'maria',\n",
       " 'dorotéia',\n",
       " 'lima',\n",
       " 'concorda',\n",
       " 'tudo',\n",
       " 'indica',\n",
       " 'mercado',\n",
       " 'azulejos',\n",
       " 'cidade',\n",
       " 'porque',\n",
       " 'exemplares',\n",
       " 'áreas',\n",
       " 'tombadas',\n",
       " 'têm',\n",
       " 'qualquer',\n",
       " 'proteção',\n",
       " 'pretendemos',\n",
       " 'fazer',\n",
       " 'breve',\n",
       " 'disse',\n",
       " 'enquanto',\n",
       " 'investigações',\n",
       " 'concluídas',\n",
       " 'poucos',\n",
       " 'exemplares',\n",
       " 'azulejos',\n",
       " 'ainda',\n",
       " 'restam',\n",
       " 'aumentam',\n",
       " 'cada',\n",
       " 'vez',\n",
       " 'valor']"
      ]
     },
     "execution_count": 9,
     "metadata": {},
     "output_type": "execute_result"
    }
   ],
   "source": [
    "cleaned_text = clean_cp(given_text)\n",
    "tokenized_text = tokenized_cp(cleaned_text)\n",
    "tokenized_text"
   ]
  },
  {
   "cell_type": "code",
   "execution_count": 10,
   "metadata": {},
   "outputs": [
    {
     "data": {
      "text/html": [
       "<div>\n",
       "<style scoped>\n",
       "    .dataframe tbody tr th:only-of-type {\n",
       "        vertical-align: middle;\n",
       "    }\n",
       "\n",
       "    .dataframe tbody tr th {\n",
       "        vertical-align: top;\n",
       "    }\n",
       "\n",
       "    .dataframe thead th {\n",
       "        text-align: right;\n",
       "    }\n",
       "</style>\n",
       "<table border=\"1\" class=\"dataframe\">\n",
       "  <thead>\n",
       "    <tr style=\"text-align: right;\">\n",
       "      <th></th>\n",
       "      <th>file_name</th>\n",
       "      <th>content</th>\n",
       "      <th>nota</th>\n",
       "      <th>tokenized_content</th>\n",
       "      <th>filtered_content</th>\n",
       "    </tr>\n",
       "  </thead>\n",
       "  <tbody>\n",
       "    <tr>\n",
       "      <th>0</th>\n",
       "      <td>20152t4p1166n0r.docx</td>\n",
       "      <td>é inaceitável e constrangedor a violência que ...</td>\n",
       "      <td>0</td>\n",
       "      <td>[inaceitável, constrangedor, violência, existe...</td>\n",
       "      <td>[inaceitável, constrangedor, violência, existe...</td>\n",
       "    </tr>\n",
       "    <tr>\n",
       "      <th>1</th>\n",
       "      <td>20152t4p1305n0r.docx</td>\n",
       "      <td>a capital paraense já foi considerada uma das ...</td>\n",
       "      <td>0</td>\n",
       "      <td>[capital, paraense, considerada, cidades, bras...</td>\n",
       "      <td>[enterior, importadas, palacetes, tomem, enqua...</td>\n",
       "    </tr>\n",
       "    <tr>\n",
       "      <th>2</th>\n",
       "      <td>20152t4p1477n0r.docx</td>\n",
       "      <td>a prefeitura municipal respeitosa sou a public...</td>\n",
       "      <td>0</td>\n",
       "      <td>[prefeitura, municipal, respeitosa, publicidad...</td>\n",
       "      <td>[respeitosa, publicidade, vou, explicálo, impo...</td>\n",
       "    </tr>\n",
       "    <tr>\n",
       "      <th>3</th>\n",
       "      <td>20152t4p1506n0r.docx</td>\n",
       "      <td>data de bibiana c terra para prefeitura munici...</td>\n",
       "      <td>0</td>\n",
       "      <td>[data, bibiana, c, terra, prefeitura, municipa...</td>\n",
       "      <td>[data, bibiana, c, terra, gritos, socorro, pre...</td>\n",
       "    </tr>\n",
       "    <tr>\n",
       "      <th>4</th>\n",
       "      <td>20152t4p1512n0r.docx</td>\n",
       "      <td>desculpe eu não conhecome a matéria azulejos v...</td>\n",
       "      <td>0</td>\n",
       "      <td>[desculpe, conhecome, matéria, azulejos, valio...</td>\n",
       "      <td>[desculpe, conhecome, acho]</td>\n",
       "    </tr>\n",
       "  </tbody>\n",
       "</table>\n",
       "</div>"
      ],
      "text/plain": [
       "              file_name                                            content  \\\n",
       "0  20152t4p1166n0r.docx  é inaceitável e constrangedor a violência que ...   \n",
       "1  20152t4p1305n0r.docx  a capital paraense já foi considerada uma das ...   \n",
       "2  20152t4p1477n0r.docx  a prefeitura municipal respeitosa sou a public...   \n",
       "3  20152t4p1506n0r.docx  data de bibiana c terra para prefeitura munici...   \n",
       "4  20152t4p1512n0r.docx  desculpe eu não conhecome a matéria azulejos v...   \n",
       "\n",
       "   nota                                  tokenized_content  \\\n",
       "0     0  [inaceitável, constrangedor, violência, existe...   \n",
       "1     0  [capital, paraense, considerada, cidades, bras...   \n",
       "2     0  [prefeitura, municipal, respeitosa, publicidad...   \n",
       "3     0  [data, bibiana, c, terra, prefeitura, municipa...   \n",
       "4     0  [desculpe, conhecome, matéria, azulejos, valio...   \n",
       "\n",
       "                                    filtered_content  \n",
       "0  [inaceitável, constrangedor, violência, existe...  \n",
       "1  [enterior, importadas, palacetes, tomem, enqua...  \n",
       "2  [respeitosa, publicidade, vou, explicálo, impo...  \n",
       "3  [data, bibiana, c, terra, gritos, socorro, pre...  \n",
       "4                        [desculpe, conhecome, acho]  "
      ]
     },
     "execution_count": 10,
     "metadata": {},
     "output_type": "execute_result"
    }
   ],
   "source": [
    "# Retirando tokens do texto de apoio do conjunto de tokens dos textos dos candidatos\n",
    "\n",
    "# Ensure tokenized_text is a set for efficient subtraction\n",
    "tokenized_text_set = set(tokenized_text) # Using a set for tokenized_text ensures efficient lookups when checking if a token should be excluded.\n",
    "\n",
    "# Subtract tokenized_text from each row in 'tokenized_content'\n",
    "df_va['filtered_content'] = df_va['tokenized_content'].apply(\n",
    "    lambda tokens: [token for token in tokens if token not in tokenized_text_set]\n",
    ")\n",
    "\n",
    "# Display the updated DataFrame\n",
    "df_va.head()\n"
   ]
  },
  {
   "cell_type": "code",
   "execution_count": 11,
   "metadata": {},
   "outputs": [],
   "source": [
    "# Contando o número de tokens SEM STOPWORDS (diferente do typestokenttr.ipynb) para cada texto: usarei isso para o gráfico 2, que demonstra o número mínimo e número máximo de tokens\n",
    "\n",
    "# Contando tokens sem considerar a nota\n",
    "df_va['num_tokens'] = df_va['filtered_content'].apply(len)\n",
    "\n",
    "# Agrupando de acordo com cada nota\n",
    "qtde_tokens_nota = df_va.groupby('nota')['num_tokens'].sum()"
   ]
  },
  {
   "cell_type": "code",
   "execution_count": 12,
   "metadata": {},
   "outputs": [],
   "source": [
    "# Agrupando a contagem de tokens de acordo com cada nota MANTER\n",
    "nota_token_counts = (\n",
    "    df_va.groupby('nota')['filtered_content']\n",
    "    .apply(lambda texts: Counter([token for text in texts for token in text]))\n",
    ")\n",
    "\n",
    "# Convertendo cada token e contagem em um dataframe\n",
    "df_frequency = nota_token_counts.reset_index()\n",
    "df_frequency.columns = ['nota', 'token', 'token_frequency']\n",
    "sorted_tokens = df_frequency.sort_values('token_frequency', ascending=False)"
   ]
  },
  {
   "cell_type": "code",
   "execution_count": 13,
   "metadata": {},
   "outputs": [],
   "source": [
    "df_words_ta = pd.DataFrame()"
   ]
  },
  {
   "cell_type": "code",
   "execution_count": 14,
   "metadata": {},
   "outputs": [],
   "source": [
    "# Agrupando a contagem de tokens por nota de forma a mostrar os 15 mais comuns para cada nota ( 15 * 6 = 90 linhas portanto )\n",
    "top_tokens_per_grade = (\n",
    "    sorted_tokens.groupby('nota')\n",
    "    .head(100)  # Assim mostra os 1000 tokens mais comuns. Já vai ficar péssimo na visualização entao mantenho esse head e insiro outro abaixo.\n",
    "    .reset_index(drop=True)\n",
    ")\n",
    "df_words_ta = top_tokens_per_grade"
   ]
  },
  {
   "cell_type": "code",
   "execution_count": null,
   "metadata": {},
   "outputs": [],
   "source": [
    "# df_words_sorted = (df_words.sort_values(by=['nota', 'token_frequency'], ascending=[True, False]))"
   ]
  },
  {
   "cell_type": "code",
   "execution_count": 15,
   "metadata": {},
   "outputs": [
    {
     "data": {
      "application/vnd.plotly.v1+json": {
       "config": {
        "plotlyServerURL": "https://plot.ly"
       },
       "data": [
        {
         "colorbar": {
          "tickfont": {
           "size": 12
          },
          "title": {
           "font": {
            "size": 14
           },
           "text": "Frequência"
          }
         },
         "colorscale": [
          [
           0,
           "rgb(255,245,240)"
          ],
          [
           0.125,
           "rgb(254,224,210)"
          ],
          [
           0.25,
           "rgb(252,187,161)"
          ],
          [
           0.375,
           "rgb(252,146,114)"
          ],
          [
           0.5,
           "rgb(251,106,74)"
          ],
          [
           0.625,
           "rgb(239,59,44)"
          ],
          [
           0.75,
           "rgb(203,24,29)"
          ],
          [
           0.875,
           "rgb(165,15,21)"
          ],
          [
           1,
           "rgb(103,0,13)"
          ]
         ],
         "hoverongaps": false,
         "hovertemplate": "<span style='font-size:14px'><b>Token</b>: %{y}<br><b>Nota</b>: %{x}<br><b>Frequência</b>: %{z}</span><extra></extra>",
         "type": "heatmap",
         "x": [
          0,
          1,
          2,
          3,
          4,
          5
         ],
         "y": [
          "abolir",
          "acho",
          "acontecendo",
          "agora",
          "ajuda",
          "algo",
          "alguma",
          "algumas",
          "alguns",
          "alto",
          "alvos",
          "além",
          "anos",
          "antigos",
          "arte",
          "artistico",
          "assim",
          "assinatura",
          "asunto",
          "atenciosamente"
         ],
         "z": [
          [
           2,
           0,
           0,
           0,
           0,
           0
          ],
          [
           4,
           29,
           90,
           130,
           77,
           31
          ],
          [
           0,
           14,
           71,
           101,
           90,
           35
          ],
          [
           0,
           46,
           160,
           149,
           111,
           45
          ],
          [
           0,
           15,
           41,
           0,
           0,
           0
          ],
          [
           0,
           0,
           55,
           55,
           0,
           0
          ],
          [
           0,
           0,
           42,
           0,
           46,
           0
          ],
          [
           1,
           18,
           0,
           0,
           0,
           0
          ],
          [
           0,
           16,
           51,
           71,
           51,
           27
          ],
          [
           0,
           0,
           0,
           0,
           0,
           27
          ],
          [
           0,
           0,
           0,
           0,
           0,
           22
          ],
          [
           0,
           27,
           69,
           102,
           84,
           42
          ],
          [
           0,
           26,
           82,
           98,
           84,
           58
          ],
          [
           0,
           0,
           0,
           0,
           41,
           25
          ],
          [
           0,
           0,
           44,
           0,
           42,
           0
          ],
          [
           3,
           16,
           0,
           0,
           0,
           0
          ],
          [
           0,
           29,
           99,
           157,
           91,
           65
          ],
          [
           0,
           15,
           43,
           0,
           0,
           0
          ],
          [
           1,
           0,
           0,
           0,
           0,
           0
          ],
          [
           2,
           60,
           205,
           276,
           201,
           115
          ]
         ]
        }
       ],
       "layout": {
        "font": {
         "color": "white",
         "size": 14
        },
        "height": 800,
        "paper_bgcolor": "rgba(0, 0, 0, 0)",
        "plot_bgcolor": "rgba(0, 0, 0, 0)",
        "template": {
         "data": {
          "bar": [
           {
            "error_x": {
             "color": "#2a3f5f"
            },
            "error_y": {
             "color": "#2a3f5f"
            },
            "marker": {
             "line": {
              "color": "white",
              "width": 0.5
             },
             "pattern": {
              "fillmode": "overlay",
              "size": 10,
              "solidity": 0.2
             }
            },
            "type": "bar"
           }
          ],
          "barpolar": [
           {
            "marker": {
             "line": {
              "color": "white",
              "width": 0.5
             },
             "pattern": {
              "fillmode": "overlay",
              "size": 10,
              "solidity": 0.2
             }
            },
            "type": "barpolar"
           }
          ],
          "carpet": [
           {
            "aaxis": {
             "endlinecolor": "#2a3f5f",
             "gridcolor": "#C8D4E3",
             "linecolor": "#C8D4E3",
             "minorgridcolor": "#C8D4E3",
             "startlinecolor": "#2a3f5f"
            },
            "baxis": {
             "endlinecolor": "#2a3f5f",
             "gridcolor": "#C8D4E3",
             "linecolor": "#C8D4E3",
             "minorgridcolor": "#C8D4E3",
             "startlinecolor": "#2a3f5f"
            },
            "type": "carpet"
           }
          ],
          "choropleth": [
           {
            "colorbar": {
             "outlinewidth": 0,
             "ticks": ""
            },
            "type": "choropleth"
           }
          ],
          "contour": [
           {
            "colorbar": {
             "outlinewidth": 0,
             "ticks": ""
            },
            "colorscale": [
             [
              0,
              "#0d0887"
             ],
             [
              0.1111111111111111,
              "#46039f"
             ],
             [
              0.2222222222222222,
              "#7201a8"
             ],
             [
              0.3333333333333333,
              "#9c179e"
             ],
             [
              0.4444444444444444,
              "#bd3786"
             ],
             [
              0.5555555555555556,
              "#d8576b"
             ],
             [
              0.6666666666666666,
              "#ed7953"
             ],
             [
              0.7777777777777778,
              "#fb9f3a"
             ],
             [
              0.8888888888888888,
              "#fdca26"
             ],
             [
              1,
              "#f0f921"
             ]
            ],
            "type": "contour"
           }
          ],
          "contourcarpet": [
           {
            "colorbar": {
             "outlinewidth": 0,
             "ticks": ""
            },
            "type": "contourcarpet"
           }
          ],
          "heatmap": [
           {
            "colorbar": {
             "outlinewidth": 0,
             "ticks": ""
            },
            "colorscale": [
             [
              0,
              "#0d0887"
             ],
             [
              0.1111111111111111,
              "#46039f"
             ],
             [
              0.2222222222222222,
              "#7201a8"
             ],
             [
              0.3333333333333333,
              "#9c179e"
             ],
             [
              0.4444444444444444,
              "#bd3786"
             ],
             [
              0.5555555555555556,
              "#d8576b"
             ],
             [
              0.6666666666666666,
              "#ed7953"
             ],
             [
              0.7777777777777778,
              "#fb9f3a"
             ],
             [
              0.8888888888888888,
              "#fdca26"
             ],
             [
              1,
              "#f0f921"
             ]
            ],
            "type": "heatmap"
           }
          ],
          "heatmapgl": [
           {
            "colorbar": {
             "outlinewidth": 0,
             "ticks": ""
            },
            "colorscale": [
             [
              0,
              "#0d0887"
             ],
             [
              0.1111111111111111,
              "#46039f"
             ],
             [
              0.2222222222222222,
              "#7201a8"
             ],
             [
              0.3333333333333333,
              "#9c179e"
             ],
             [
              0.4444444444444444,
              "#bd3786"
             ],
             [
              0.5555555555555556,
              "#d8576b"
             ],
             [
              0.6666666666666666,
              "#ed7953"
             ],
             [
              0.7777777777777778,
              "#fb9f3a"
             ],
             [
              0.8888888888888888,
              "#fdca26"
             ],
             [
              1,
              "#f0f921"
             ]
            ],
            "type": "heatmapgl"
           }
          ],
          "histogram": [
           {
            "marker": {
             "pattern": {
              "fillmode": "overlay",
              "size": 10,
              "solidity": 0.2
             }
            },
            "type": "histogram"
           }
          ],
          "histogram2d": [
           {
            "colorbar": {
             "outlinewidth": 0,
             "ticks": ""
            },
            "colorscale": [
             [
              0,
              "#0d0887"
             ],
             [
              0.1111111111111111,
              "#46039f"
             ],
             [
              0.2222222222222222,
              "#7201a8"
             ],
             [
              0.3333333333333333,
              "#9c179e"
             ],
             [
              0.4444444444444444,
              "#bd3786"
             ],
             [
              0.5555555555555556,
              "#d8576b"
             ],
             [
              0.6666666666666666,
              "#ed7953"
             ],
             [
              0.7777777777777778,
              "#fb9f3a"
             ],
             [
              0.8888888888888888,
              "#fdca26"
             ],
             [
              1,
              "#f0f921"
             ]
            ],
            "type": "histogram2d"
           }
          ],
          "histogram2dcontour": [
           {
            "colorbar": {
             "outlinewidth": 0,
             "ticks": ""
            },
            "colorscale": [
             [
              0,
              "#0d0887"
             ],
             [
              0.1111111111111111,
              "#46039f"
             ],
             [
              0.2222222222222222,
              "#7201a8"
             ],
             [
              0.3333333333333333,
              "#9c179e"
             ],
             [
              0.4444444444444444,
              "#bd3786"
             ],
             [
              0.5555555555555556,
              "#d8576b"
             ],
             [
              0.6666666666666666,
              "#ed7953"
             ],
             [
              0.7777777777777778,
              "#fb9f3a"
             ],
             [
              0.8888888888888888,
              "#fdca26"
             ],
             [
              1,
              "#f0f921"
             ]
            ],
            "type": "histogram2dcontour"
           }
          ],
          "mesh3d": [
           {
            "colorbar": {
             "outlinewidth": 0,
             "ticks": ""
            },
            "type": "mesh3d"
           }
          ],
          "parcoords": [
           {
            "line": {
             "colorbar": {
              "outlinewidth": 0,
              "ticks": ""
             }
            },
            "type": "parcoords"
           }
          ],
          "pie": [
           {
            "automargin": true,
            "type": "pie"
           }
          ],
          "scatter": [
           {
            "fillpattern": {
             "fillmode": "overlay",
             "size": 10,
             "solidity": 0.2
            },
            "type": "scatter"
           }
          ],
          "scatter3d": [
           {
            "line": {
             "colorbar": {
              "outlinewidth": 0,
              "ticks": ""
             }
            },
            "marker": {
             "colorbar": {
              "outlinewidth": 0,
              "ticks": ""
             }
            },
            "type": "scatter3d"
           }
          ],
          "scattercarpet": [
           {
            "marker": {
             "colorbar": {
              "outlinewidth": 0,
              "ticks": ""
             }
            },
            "type": "scattercarpet"
           }
          ],
          "scattergeo": [
           {
            "marker": {
             "colorbar": {
              "outlinewidth": 0,
              "ticks": ""
             }
            },
            "type": "scattergeo"
           }
          ],
          "scattergl": [
           {
            "marker": {
             "colorbar": {
              "outlinewidth": 0,
              "ticks": ""
             }
            },
            "type": "scattergl"
           }
          ],
          "scattermapbox": [
           {
            "marker": {
             "colorbar": {
              "outlinewidth": 0,
              "ticks": ""
             }
            },
            "type": "scattermapbox"
           }
          ],
          "scatterpolar": [
           {
            "marker": {
             "colorbar": {
              "outlinewidth": 0,
              "ticks": ""
             }
            },
            "type": "scatterpolar"
           }
          ],
          "scatterpolargl": [
           {
            "marker": {
             "colorbar": {
              "outlinewidth": 0,
              "ticks": ""
             }
            },
            "type": "scatterpolargl"
           }
          ],
          "scatterternary": [
           {
            "marker": {
             "colorbar": {
              "outlinewidth": 0,
              "ticks": ""
             }
            },
            "type": "scatterternary"
           }
          ],
          "surface": [
           {
            "colorbar": {
             "outlinewidth": 0,
             "ticks": ""
            },
            "colorscale": [
             [
              0,
              "#0d0887"
             ],
             [
              0.1111111111111111,
              "#46039f"
             ],
             [
              0.2222222222222222,
              "#7201a8"
             ],
             [
              0.3333333333333333,
              "#9c179e"
             ],
             [
              0.4444444444444444,
              "#bd3786"
             ],
             [
              0.5555555555555556,
              "#d8576b"
             ],
             [
              0.6666666666666666,
              "#ed7953"
             ],
             [
              0.7777777777777778,
              "#fb9f3a"
             ],
             [
              0.8888888888888888,
              "#fdca26"
             ],
             [
              1,
              "#f0f921"
             ]
            ],
            "type": "surface"
           }
          ],
          "table": [
           {
            "cells": {
             "fill": {
              "color": "#EBF0F8"
             },
             "line": {
              "color": "white"
             }
            },
            "header": {
             "fill": {
              "color": "#C8D4E3"
             },
             "line": {
              "color": "white"
             }
            },
            "type": "table"
           }
          ]
         },
         "layout": {
          "annotationdefaults": {
           "arrowcolor": "#2a3f5f",
           "arrowhead": 0,
           "arrowwidth": 1
          },
          "autotypenumbers": "strict",
          "coloraxis": {
           "colorbar": {
            "outlinewidth": 0,
            "ticks": ""
           }
          },
          "colorscale": {
           "diverging": [
            [
             0,
             "#8e0152"
            ],
            [
             0.1,
             "#c51b7d"
            ],
            [
             0.2,
             "#de77ae"
            ],
            [
             0.3,
             "#f1b6da"
            ],
            [
             0.4,
             "#fde0ef"
            ],
            [
             0.5,
             "#f7f7f7"
            ],
            [
             0.6,
             "#e6f5d0"
            ],
            [
             0.7,
             "#b8e186"
            ],
            [
             0.8,
             "#7fbc41"
            ],
            [
             0.9,
             "#4d9221"
            ],
            [
             1,
             "#276419"
            ]
           ],
           "sequential": [
            [
             0,
             "#0d0887"
            ],
            [
             0.1111111111111111,
             "#46039f"
            ],
            [
             0.2222222222222222,
             "#7201a8"
            ],
            [
             0.3333333333333333,
             "#9c179e"
            ],
            [
             0.4444444444444444,
             "#bd3786"
            ],
            [
             0.5555555555555556,
             "#d8576b"
            ],
            [
             0.6666666666666666,
             "#ed7953"
            ],
            [
             0.7777777777777778,
             "#fb9f3a"
            ],
            [
             0.8888888888888888,
             "#fdca26"
            ],
            [
             1,
             "#f0f921"
            ]
           ],
           "sequentialminus": [
            [
             0,
             "#0d0887"
            ],
            [
             0.1111111111111111,
             "#46039f"
            ],
            [
             0.2222222222222222,
             "#7201a8"
            ],
            [
             0.3333333333333333,
             "#9c179e"
            ],
            [
             0.4444444444444444,
             "#bd3786"
            ],
            [
             0.5555555555555556,
             "#d8576b"
            ],
            [
             0.6666666666666666,
             "#ed7953"
            ],
            [
             0.7777777777777778,
             "#fb9f3a"
            ],
            [
             0.8888888888888888,
             "#fdca26"
            ],
            [
             1,
             "#f0f921"
            ]
           ]
          },
          "colorway": [
           "#636efa",
           "#EF553B",
           "#00cc96",
           "#ab63fa",
           "#FFA15A",
           "#19d3f3",
           "#FF6692",
           "#B6E880",
           "#FF97FF",
           "#FECB52"
          ],
          "font": {
           "color": "#2a3f5f"
          },
          "geo": {
           "bgcolor": "white",
           "lakecolor": "white",
           "landcolor": "white",
           "showlakes": true,
           "showland": true,
           "subunitcolor": "#C8D4E3"
          },
          "hoverlabel": {
           "align": "left"
          },
          "hovermode": "closest",
          "mapbox": {
           "style": "light"
          },
          "paper_bgcolor": "white",
          "plot_bgcolor": "white",
          "polar": {
           "angularaxis": {
            "gridcolor": "#EBF0F8",
            "linecolor": "#EBF0F8",
            "ticks": ""
           },
           "bgcolor": "white",
           "radialaxis": {
            "gridcolor": "#EBF0F8",
            "linecolor": "#EBF0F8",
            "ticks": ""
           }
          },
          "scene": {
           "xaxis": {
            "backgroundcolor": "white",
            "gridcolor": "#DFE8F3",
            "gridwidth": 2,
            "linecolor": "#EBF0F8",
            "showbackground": true,
            "ticks": "",
            "zerolinecolor": "#EBF0F8"
           },
           "yaxis": {
            "backgroundcolor": "white",
            "gridcolor": "#DFE8F3",
            "gridwidth": 2,
            "linecolor": "#EBF0F8",
            "showbackground": true,
            "ticks": "",
            "zerolinecolor": "#EBF0F8"
           },
           "zaxis": {
            "backgroundcolor": "white",
            "gridcolor": "#DFE8F3",
            "gridwidth": 2,
            "linecolor": "#EBF0F8",
            "showbackground": true,
            "ticks": "",
            "zerolinecolor": "#EBF0F8"
           }
          },
          "shapedefaults": {
           "line": {
            "color": "#2a3f5f"
           }
          },
          "ternary": {
           "aaxis": {
            "gridcolor": "#DFE8F3",
            "linecolor": "#A2B1C6",
            "ticks": ""
           },
           "baxis": {
            "gridcolor": "#DFE8F3",
            "linecolor": "#A2B1C6",
            "ticks": ""
           },
           "bgcolor": "white",
           "caxis": {
            "gridcolor": "#DFE8F3",
            "linecolor": "#A2B1C6",
            "ticks": ""
           }
          },
          "title": {
           "x": 0.05
          },
          "xaxis": {
           "automargin": true,
           "gridcolor": "#EBF0F8",
           "linecolor": "#EBF0F8",
           "ticks": "",
           "title": {
            "standoff": 15
           },
           "zerolinecolor": "#EBF0F8",
           "zerolinewidth": 2
          },
          "yaxis": {
           "automargin": true,
           "gridcolor": "#EBF0F8",
           "linecolor": "#EBF0F8",
           "ticks": "",
           "title": {
            "standoff": 15
           },
           "zerolinecolor": "#EBF0F8",
           "zerolinewidth": 2
          }
         }
        },
        "width": 1000,
        "xaxis": {
         "showticklabels": false,
         "title": {
          "text": ""
         }
        },
        "yaxis": {
         "showticklabels": false,
         "title": {
          "text": ""
         }
        }
       }
      }
     },
     "metadata": {},
     "output_type": "display_data"
    }
   ],
   "source": [
    "import plotly.graph_objects as go ### ESSE AQUI QUE VOU USAR NO STREAMLIT ###\n",
    "import pandas as pd\n",
    "\n",
    "# Pivot the data for heatmap\n",
    "heatmap_data = df_words_ta.pivot(index='token', columns='nota', values='token_frequency').fillna(0).head(20)\n",
    "\n",
    "# Create the heatmap\n",
    "fig = go.Figure(data=go.Heatmap(\n",
    "    z=heatmap_data.values,  # Frequency matrix\n",
    "    x=heatmap_data.columns,  # Grades (x-axis)\n",
    "    y=heatmap_data.index,    # Tokens (y-axis)\n",
    "    colorscale='Reds',       # Heatmap color scale\n",
    "    colorbar=dict(title=\"Frequência\", titlefont=dict(size=14), tickfont=dict(size=12)),  # Legend title and font size\n",
    "    hoverongaps=False,       # Ensure no gaps show on hover\n",
    "    hovertemplate=(\n",
    "        \"<span style='font-size:14px'><b>Token</b>: %{y}<br>\" +  # Tooltip with larger font\n",
    "        \"<b>Nota</b>: %{x}<br>\" +\n",
    "        \"<b>Frequência</b>: %{z}</span><extra></extra>\"\n",
    "    )\n",
    "))\n",
    "\n",
    "# Update layout for better visualization\n",
    "fig.update_layout(\n",
    "    template=\"plotly_white\",\n",
    "    plot_bgcolor=\"rgba(0, 0, 0, 0)\",  # Transparent plot background\n",
    "    paper_bgcolor=\"rgba(0, 0, 0, 0)\",  # Transparent outer background\n",
    "    font=dict(color=\"white\", size=14),  # Update general font size\n",
    "    height=800,  # Adjust height\n",
    "    width=1000,   # Keep width consistent\n",
    ")\n",
    "\n",
    "# Update y-axis to hide tokens\n",
    "fig.update_yaxes(\n",
    "    title=\"\",  # No y-axis title\n",
    "    showticklabels=False,  # Hide tokens from y-axis\n",
    ")\n",
    "\n",
    "# Update x-axis for better styling\n",
    "fig.update_xaxes(title=\"\", showticklabels=False)\n",
    "\n",
    "# Show the figure\n",
    "fig.show()\n"
   ]
  }
 ],
 "metadata": {
  "kernelspec": {
   "display_name": "corpus_celpebras",
   "language": "python",
   "name": "python3"
  },
  "language_info": {
   "codemirror_mode": {
    "name": "ipython",
    "version": 3
   },
   "file_extension": ".py",
   "mimetype": "text/x-python",
   "name": "python",
   "nbconvert_exporter": "python",
   "pygments_lexer": "ipython3",
   "version": "3.11.9"
  }
 },
 "nbformat": 4,
 "nbformat_minor": 2
}
